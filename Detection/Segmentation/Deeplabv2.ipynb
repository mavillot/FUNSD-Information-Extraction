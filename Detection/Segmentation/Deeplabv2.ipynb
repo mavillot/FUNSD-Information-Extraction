{
  "nbformat": 4,
  "nbformat_minor": 0,
  "metadata": {
    "kernelspec": {
      "display_name": "Python 3",
      "language": "python",
      "name": "python3"
    },
    "language_info": {
      "codemirror_mode": {
        "name": "ipython",
        "version": 3
      },
      "file_extension": ".py",
      "mimetype": "text/x-python",
      "name": "python",
      "nbconvert_exporter": "python",
      "pygments_lexer": "ipython3",
      "version": "3.6.7"
    },
    "colab": {
      "name": "Deeplabv2.ipynb",
      "provenance": [],
      "include_colab_link": true
    },
    "accelerator": "GPU",
    "widgets": {
      "application/vnd.jupyter.widget-state+json": {
        "4d98dd30bcba4a74bdf70572d455db23": {
          "model_module": "@jupyter-widgets/controls",
          "model_name": "HBoxModel",
          "state": {
            "_view_name": "HBoxView",
            "_dom_classes": [],
            "_model_name": "HBoxModel",
            "_view_module": "@jupyter-widgets/controls",
            "_model_module_version": "1.5.0",
            "_view_count": null,
            "_view_module_version": "1.5.0",
            "box_style": "",
            "layout": "IPY_MODEL_29a3d5090ac2409eb95df6fc9bd1c136",
            "_model_module": "@jupyter-widgets/controls",
            "children": [
              "IPY_MODEL_c3250ec186b64ecd9c63903836e75f2f",
              "IPY_MODEL_3b4bf2de42824243ac015e3e4e9c7c0c"
            ]
          }
        },
        "29a3d5090ac2409eb95df6fc9bd1c136": {
          "model_module": "@jupyter-widgets/base",
          "model_name": "LayoutModel",
          "state": {
            "_view_name": "LayoutView",
            "grid_template_rows": null,
            "right": null,
            "justify_content": null,
            "_view_module": "@jupyter-widgets/base",
            "overflow": null,
            "_model_module_version": "1.2.0",
            "_view_count": null,
            "flex_flow": null,
            "width": null,
            "min_width": null,
            "border": null,
            "align_items": null,
            "bottom": null,
            "_model_module": "@jupyter-widgets/base",
            "top": null,
            "grid_column": null,
            "overflow_y": null,
            "overflow_x": null,
            "grid_auto_flow": null,
            "grid_area": null,
            "grid_template_columns": null,
            "flex": null,
            "_model_name": "LayoutModel",
            "justify_items": null,
            "grid_row": null,
            "max_height": null,
            "align_content": null,
            "visibility": null,
            "align_self": null,
            "height": null,
            "min_height": null,
            "padding": null,
            "grid_auto_rows": null,
            "grid_gap": null,
            "max_width": null,
            "order": null,
            "_view_module_version": "1.2.0",
            "grid_template_areas": null,
            "object_position": null,
            "object_fit": null,
            "grid_auto_columns": null,
            "margin": null,
            "display": null,
            "left": null
          }
        },
        "c3250ec186b64ecd9c63903836e75f2f": {
          "model_module": "@jupyter-widgets/controls",
          "model_name": "FloatProgressModel",
          "state": {
            "_view_name": "ProgressView",
            "style": "IPY_MODEL_36e2490a10944ab3b6fc6f6fc1b20754",
            "_dom_classes": [],
            "description": "100%",
            "_model_name": "FloatProgressModel",
            "bar_style": "success",
            "max": 102502400,
            "_view_module": "@jupyter-widgets/controls",
            "_model_module_version": "1.5.0",
            "value": 102502400,
            "_view_count": null,
            "_view_module_version": "1.5.0",
            "orientation": "horizontal",
            "min": 0,
            "description_tooltip": null,
            "_model_module": "@jupyter-widgets/controls",
            "layout": "IPY_MODEL_d9ef0b401db546d9b8353a551dd7b917"
          }
        },
        "3b4bf2de42824243ac015e3e4e9c7c0c": {
          "model_module": "@jupyter-widgets/controls",
          "model_name": "HTMLModel",
          "state": {
            "_view_name": "HTMLView",
            "style": "IPY_MODEL_eeeaf1dc3b994095850066e5a945aee4",
            "_dom_classes": [],
            "description": "",
            "_model_name": "HTMLModel",
            "placeholder": "​",
            "_view_module": "@jupyter-widgets/controls",
            "_model_module_version": "1.5.0",
            "value": " 97.8M/97.8M [00:00&lt;00:00, 176MB/s]",
            "_view_count": null,
            "_view_module_version": "1.5.0",
            "description_tooltip": null,
            "_model_module": "@jupyter-widgets/controls",
            "layout": "IPY_MODEL_8cc1e445587f4a4eacc8a48adee7d75d"
          }
        },
        "36e2490a10944ab3b6fc6f6fc1b20754": {
          "model_module": "@jupyter-widgets/controls",
          "model_name": "ProgressStyleModel",
          "state": {
            "_view_name": "StyleView",
            "_model_name": "ProgressStyleModel",
            "description_width": "initial",
            "_view_module": "@jupyter-widgets/base",
            "_model_module_version": "1.5.0",
            "_view_count": null,
            "_view_module_version": "1.2.0",
            "bar_color": null,
            "_model_module": "@jupyter-widgets/controls"
          }
        },
        "d9ef0b401db546d9b8353a551dd7b917": {
          "model_module": "@jupyter-widgets/base",
          "model_name": "LayoutModel",
          "state": {
            "_view_name": "LayoutView",
            "grid_template_rows": null,
            "right": null,
            "justify_content": null,
            "_view_module": "@jupyter-widgets/base",
            "overflow": null,
            "_model_module_version": "1.2.0",
            "_view_count": null,
            "flex_flow": null,
            "width": null,
            "min_width": null,
            "border": null,
            "align_items": null,
            "bottom": null,
            "_model_module": "@jupyter-widgets/base",
            "top": null,
            "grid_column": null,
            "overflow_y": null,
            "overflow_x": null,
            "grid_auto_flow": null,
            "grid_area": null,
            "grid_template_columns": null,
            "flex": null,
            "_model_name": "LayoutModel",
            "justify_items": null,
            "grid_row": null,
            "max_height": null,
            "align_content": null,
            "visibility": null,
            "align_self": null,
            "height": null,
            "min_height": null,
            "padding": null,
            "grid_auto_rows": null,
            "grid_gap": null,
            "max_width": null,
            "order": null,
            "_view_module_version": "1.2.0",
            "grid_template_areas": null,
            "object_position": null,
            "object_fit": null,
            "grid_auto_columns": null,
            "margin": null,
            "display": null,
            "left": null
          }
        },
        "eeeaf1dc3b994095850066e5a945aee4": {
          "model_module": "@jupyter-widgets/controls",
          "model_name": "DescriptionStyleModel",
          "state": {
            "_view_name": "StyleView",
            "_model_name": "DescriptionStyleModel",
            "description_width": "",
            "_view_module": "@jupyter-widgets/base",
            "_model_module_version": "1.5.0",
            "_view_count": null,
            "_view_module_version": "1.2.0",
            "_model_module": "@jupyter-widgets/controls"
          }
        },
        "8cc1e445587f4a4eacc8a48adee7d75d": {
          "model_module": "@jupyter-widgets/base",
          "model_name": "LayoutModel",
          "state": {
            "_view_name": "LayoutView",
            "grid_template_rows": null,
            "right": null,
            "justify_content": null,
            "_view_module": "@jupyter-widgets/base",
            "overflow": null,
            "_model_module_version": "1.2.0",
            "_view_count": null,
            "flex_flow": null,
            "width": null,
            "min_width": null,
            "border": null,
            "align_items": null,
            "bottom": null,
            "_model_module": "@jupyter-widgets/base",
            "top": null,
            "grid_column": null,
            "overflow_y": null,
            "overflow_x": null,
            "grid_auto_flow": null,
            "grid_area": null,
            "grid_template_columns": null,
            "flex": null,
            "_model_name": "LayoutModel",
            "justify_items": null,
            "grid_row": null,
            "max_height": null,
            "align_content": null,
            "visibility": null,
            "align_self": null,
            "height": null,
            "min_height": null,
            "padding": null,
            "grid_auto_rows": null,
            "grid_gap": null,
            "max_width": null,
            "order": null,
            "_view_module_version": "1.2.0",
            "grid_template_areas": null,
            "object_position": null,
            "object_fit": null,
            "grid_auto_columns": null,
            "margin": null,
            "display": null,
            "left": null
          }
        }
      }
    }
  },
  "cells": [
    {
      "cell_type": "markdown",
      "metadata": {
        "id": "view-in-github",
        "colab_type": "text"
      },
      "source": [
        "<a href=\"https://colab.research.google.com/github/mavillot/FUNSD-Information-Extraction/blob/main/Detection/Segmentation/Deeplabv2.ipynb\" target=\"_parent\"><img src=\"https://colab.research.google.com/assets/colab-badge.svg\" alt=\"Open In Colab\"/></a>"
      ]
    },
    {
      "cell_type": "code",
      "metadata": {
        "id": "IpVR2Ek2JdoC"
      },
      "source": [
        "%%capture\n",
        "!pip install fastai --upgrade\n",
        "!pip install SemTorch"
      ],
      "execution_count": 1,
      "outputs": []
    },
    {
      "cell_type": "code",
      "metadata": {
        "id": "wMmkwWhkgvD7"
      },
      "source": [
        "from fastai.basics import *\n",
        "from fastai.vision import models\n",
        "from fastai.vision.all import *\n",
        "from fastai.metrics import *\n",
        "from fastai.data.all import *\n",
        "from fastai.callback import *"
      ],
      "execution_count": 2,
      "outputs": []
    },
    {
      "cell_type": "code",
      "metadata": {
        "colab": {
          "base_uri": "https://localhost:8080/"
        },
        "id": "8g9FX90Vh48W",
        "outputId": "20f2fd46-9cfe-49f0-b39a-ff68b5f4e74c"
      },
      "source": [
        "from semtorch import get_segmentation_learner\n",
        "\n",
        "from pathlib import Path\n",
        "import random"
      ],
      "execution_count": 3,
      "outputs": [
        {
          "output_type": "stream",
          "text": [
            "/usr/local/lib/python3.7/dist-packages/torch/nn/_reduction.py:42: UserWarning: size_average and reduce args will be deprecated, please use reduction='mean' instead.\n",
            "  warnings.warn(warning.format(ret))\n"
          ],
          "name": "stderr"
        }
      ]
    },
    {
      "cell_type": "code",
      "metadata": {
        "id": "RNhIlFPRgvD9"
      },
      "source": [
        "import torch\n",
        "# torch.cuda.set_device(3)"
      ],
      "execution_count": 4,
      "outputs": []
    },
    {
      "cell_type": "code",
      "metadata": {
        "id": "5Xcr7_r7gvD9"
      },
      "source": [
        "%matplotlib inline\n",
        "import numpy as np"
      ],
      "execution_count": 5,
      "outputs": []
    },
    {
      "cell_type": "markdown",
      "metadata": {
        "id": "M25o9utJgvD-"
      },
      "source": [
        "\n",
        "\n",
        "Function por stablishing the seed for reproducibility\n"
      ]
    },
    {
      "cell_type": "code",
      "metadata": {
        "id": "R90lv4HDgvD-"
      },
      "source": [
        "number_of_the_seed = 2020\n",
        "\n",
        "random.seed(number_of_the_seed)\n",
        "set_seed(number_of_the_seed)\n",
        "torch.backends.cudnn.deterministic = True\n",
        "torch.backends.cudnn.benchmark = False"
      ],
      "execution_count": 6,
      "outputs": []
    },
    {
      "cell_type": "code",
      "metadata": {
        "colab": {
          "base_uri": "https://localhost:8080/"
        },
        "id": "0vBwmk3owHkg",
        "outputId": "159fec8a-5c22-4735-bdf6-b3dc6f8707de"
      },
      "source": [
        "!git clone https://github.com/mavillot/FUNSD-Information-Extraction.git"
      ],
      "execution_count": 7,
      "outputs": [
        {
          "output_type": "stream",
          "text": [
            "Cloning into 'FUNSD-Information-Extraction'...\n",
            "remote: Enumerating objects: 769, done.\u001b[K\n",
            "remote: Counting objects: 100% (244/244), done.\u001b[K\n",
            "remote: Compressing objects: 100% (244/244), done.\u001b[K\n",
            "remote: Total 769 (delta 63), reused 0 (delta 0), pack-reused 525\u001b[K\n",
            "Receiving objects: 100% (769/769), 49.72 MiB | 27.91 MiB/s, done.\n",
            "Resolving deltas: 100% (137/137), done.\n"
          ],
          "name": "stdout"
        }
      ]
    },
    {
      "cell_type": "code",
      "metadata": {
        "colab": {
          "base_uri": "https://localhost:8080/"
        },
        "id": "kMzY0s45wJgS",
        "outputId": "25767da6-b45f-4e0e-ec42-d6dcc5c94a28"
      },
      "source": [
        "%cd '/content/FUNSD-Information-Extraction/Detection/Segmentation'"
      ],
      "execution_count": 8,
      "outputs": [
        {
          "output_type": "stream",
          "text": [
            "/content/FUNSD-Information-Extraction/Detection/Segmentation\n"
          ],
          "name": "stdout"
        }
      ]
    },
    {
      "cell_type": "code",
      "metadata": {
        "id": "wOE06YSygvD_"
      },
      "source": [
        "path = Path(\"dataset/\")\n",
        "path_images = path/\"Images\"\n",
        "path_labels = path/\"Labels\"\n",
        "\n",
        "#test_name = \"test\""
      ],
      "execution_count": 9,
      "outputs": []
    },
    {
      "cell_type": "markdown",
      "metadata": {
        "id": "dAFe_PQwgvD_"
      },
      "source": [
        "Obtaining the label associated with an image, in the case of segmentation it is a mask"
      ]
    },
    {
      "cell_type": "code",
      "metadata": {
        "id": "44uO61XagvEA"
      },
      "source": [
        "get_y_fn = lambda x: Path(str(x).replace(\"Images\",\"Labels\"))"
      ],
      "execution_count": 10,
      "outputs": []
    },
    {
      "cell_type": "markdown",
      "metadata": {
        "id": "EXqq3oWPgvEB"
      },
      "source": [
        "\n",
        "\n",
        "Aux function for splitting between training and testing\n"
      ]
    },
    {
      "cell_type": "code",
      "metadata": {
        "id": "xK5ooZcTgvEB"
      },
      "source": [
        "def ParentSplitter(x):\n",
        "   return Path(x).parent.name==test_name"
      ],
      "execution_count": 11,
      "outputs": []
    },
    {
      "cell_type": "markdown",
      "metadata": {
        "id": "ugBj-S8ggvEC"
      },
      "source": [
        "Loading the codes of the different classes. All the datasets have the same codes."
      ]
    },
    {
      "cell_type": "code",
      "metadata": {
        "id": "W7YR3FTIgvEC"
      },
      "source": [
        "codes = np.loadtxt(path/'codes.txt', dtype=str)"
      ],
      "execution_count": 13,
      "outputs": []
    },
    {
      "cell_type": "markdown",
      "metadata": {
        "id": "9bVqUhIjgvEC"
      },
      "source": [
        "Early Stopping parameters"
      ]
    },
    {
      "cell_type": "code",
      "metadata": {
        "id": "hzKDearNgvED"
      },
      "source": [
        "monitor_training=\"valid_loss\"\n",
        "comp_training=np.less\n",
        "\n",
        "monitor_evaluating=\"dice\"\n",
        "comp_evaluating=np.greater\n",
        "\n",
        "patience=3"
      ],
      "execution_count": 14,
      "outputs": []
    },
    {
      "cell_type": "code",
      "metadata": {
        "id": "saCnZjbGgvED"
      },
      "source": [
        "from albumentations import (\n",
        "    Compose,\n",
        "    OneOf,\n",
        "    ElasticTransform,\n",
        "    GridDistortion, \n",
        "    OpticalDistortion,\n",
        "    Flip,\n",
        "    VerticalFlip,\n",
        "    Rotate,\n",
        "    Transpose,\n",
        "    CLAHE,\n",
        "    ShiftScaleRotate\n",
        ")"
      ],
      "execution_count": 15,
      "outputs": []
    },
    {
      "cell_type": "code",
      "metadata": {
        "id": "ybiuxyFngvEE"
      },
      "source": [
        "class SegmentationAlbumentationsTransform(ItemTransform):\n",
        "    split_idx = 0\n",
        "    def __init__(self, aug): \n",
        "        self.aug = aug\n",
        "    def encodes(self, x):\n",
        "        img,mask = x\n",
        "        aug = self.aug(image=np.array(img), mask=np.array(mask))\n",
        "        return PILImage.create(aug[\"image\"]), PILMask.create(aug[\"mask\"])\n",
        "    \n",
        "transformPipeline=Compose([\n",
        "                        Rotate(p=0.40,limit=10),GridDistortion(),ShiftScaleRotate(), ElasticTransform(),\n",
        "                        OpticalDistortion()\n",
        "                    ],p=1)\n",
        "\n",
        "transformPipeline=SegmentationAlbumentationsTransform(transformPipeline)"
      ],
      "execution_count": 16,
      "outputs": []
    },
    {
      "cell_type": "code",
      "metadata": {
        "id": "ektRkD5BgvEE"
      },
      "source": [
        "class TargetMaskConvertTransform(ItemTransform):\n",
        "    def __init__(self): \n",
        "        pass\n",
        "    def encodes(self, x):\n",
        "        img,mask = x\n",
        "        \n",
        "        #Convert to array\n",
        "        mask = np.array(mask)\n",
        "        \n",
        "        # Change 255 for 4\n",
        "        #mask[mask==40]=2\n",
        "        #mask[mask==20]=1\n",
        "        \n",
        "        # Back to PILMask\n",
        "        mask = PILMask.create(mask)\n",
        "        return img, mask"
      ],
      "execution_count": 17,
      "outputs": []
    },
    {
      "cell_type": "code",
      "metadata": {
        "id": "R4Q-_x0xgvEF"
      },
      "source": [
        "path_manual_img = path_images\n",
        "path_manual_lbl = path_labels"
      ],
      "execution_count": 18,
      "outputs": []
    },
    {
      "cell_type": "code",
      "metadata": {
        "colab": {
          "base_uri": "https://localhost:8080/",
          "height": 338
        },
        "id": "7zXuB4orgvEF",
        "outputId": "121d911f-70bb-427f-9c33-d9ce8b857305"
      },
      "source": [
        "fnames_manual = get_image_files(path_manual_img)\n",
        "lbl_names_manual = get_image_files(path_manual_lbl)\n",
        "\n",
        "# open and show image\n",
        "img_f = fnames_manual[20]\n",
        "print(img_f)\n",
        "img = PILImage.create(img_f)\n",
        "img.show(figsize=(5, 5))"
      ],
      "execution_count": 19,
      "outputs": [
        {
          "output_type": "stream",
          "text": [
            "dataset/Images/test/82562350.png\n"
          ],
          "name": "stdout"
        },
        {
          "output_type": "execute_result",
          "data": {
            "text/plain": [
              "<matplotlib.axes._subplots.AxesSubplot at 0x7fd974aeb850>"
            ]
          },
          "metadata": {
            "tags": []
          },
          "execution_count": 19
        },
        {
          "output_type": "display_data",
          "data": {
            "image/png": "[encoded data removed]",
            "text/plain": [
              "<Figure size 360x360 with 1 Axes>"
            ]
          },
          "metadata": {
            "tags": [],
            "needs_background": "light"
          }
        }
      ]
    },
    {
      "cell_type": "code",
      "metadata": {
        "colab": {
          "base_uri": "https://localhost:8080/"
        },
        "id": "q9hhhzNmgvEF",
        "outputId": "bf0dae25-01ac-4759-aaf8-e5962eab9991"
      },
      "source": [
        "print(get_y_fn(img_f))"
      ],
      "execution_count": 20,
      "outputs": [
        {
          "output_type": "stream",
          "text": [
            "dataset/Labels/test/82562350.png\n"
          ],
          "name": "stdout"
        }
      ]
    },
    {
      "cell_type": "code",
      "metadata": {
        "colab": {
          "base_uri": "https://localhost:8080/",
          "height": 321
        },
        "id": "C5nDj4TjgvEG",
        "outputId": "d5d0d7c3-e588-4aae-d981-c0b3ea66c4f2"
      },
      "source": [
        "mask = PILMask.create(get_y_fn(img_f))\n",
        "mask.show(figsize=(5, 5), alpha=1)"
      ],
      "execution_count": 21,
      "outputs": [
        {
          "output_type": "execute_result",
          "data": {
            "text/plain": [
              "<matplotlib.axes._subplots.AxesSubplot at 0x7fd974a38ed0>"
            ]
          },
          "metadata": {
            "tags": []
          },
          "execution_count": 21
        },
        {
          "output_type": "display_data",
          "data": {
            "image/png": "[encoded data removed]",
            "text/plain": [
              "<Figure size 360x360 with 1 Axes>"
            ]
          },
          "metadata": {
            "tags": [],
            "needs_background": "light"
          }
        }
      ]
    },
    {
      "cell_type": "code",
      "metadata": {
        "colab": {
          "base_uri": "https://localhost:8080/"
        },
        "id": "ijYEkQpRgvEG",
        "outputId": "a94e9c67-49d3-46bb-c4a9-04810713d9f4"
      },
      "source": [
        "np.unique(np.array(mask))"
      ],
      "execution_count": 22,
      "outputs": [
        {
          "output_type": "execute_result",
          "data": {
            "text/plain": [
              "array([0, 1, 2, 3, 4], dtype=uint8)"
            ]
          },
          "metadata": {
            "tags": []
          },
          "execution_count": 22
        }
      ]
    },
    {
      "cell_type": "code",
      "metadata": {
        "id": "qvDQE9CAgvEH"
      },
      "source": [
        "size = (1000,754)\n",
        "bs =  4"
      ],
      "execution_count": 23,
      "outputs": []
    },
    {
      "cell_type": "code",
      "metadata": {
        "colab": {
          "base_uri": "https://localhost:8080/"
        },
        "id": "YoDMTKCBgvEH",
        "outputId": "83a67618-1b05-45b3-bc62-82afe951d772"
      },
      "source": [
        "codes"
      ],
      "execution_count": 24,
      "outputs": [
        {
          "output_type": "execute_result",
          "data": {
            "text/plain": [
              "array(['Background', 'answer', 'question', 'header', 'other'],\n",
              "      dtype='<U10')"
            ]
          },
          "metadata": {
            "tags": []
          },
          "execution_count": 24
        }
      ]
    },
    {
      "cell_type": "code",
      "metadata": {
        "id": "aGATzUO0gvEH"
      },
      "source": [
        "def my_get_items(folders,path):\n",
        "    return (get_image_files(path))"
      ],
      "execution_count": 25,
      "outputs": []
    },
    {
      "cell_type": "code",
      "metadata": {
        "id": "fTSEWEoGgvEH"
      },
      "source": [
        "manual = DataBlock(blocks=(ImageBlock, MaskBlock(codes)),\n",
        "                   get_items=partial(get_image_files,folders=['train']),\n",
        "                   get_y=get_y_fn,\n",
        "                   splitter=RandomSplitter(valid_pct=0.1,seed=2020),\n",
        "                   item_tfms=[Resize(size), TargetMaskConvertTransform(), transformPipeline],\n",
        "                   batch_tfms=Normalize.from_stats(*imagenet_stats)\n",
        "                  )\n",
        "#manual.summary(path_images)\n",
        "dls = manual.dataloaders(path_images,bs=bs)\n",
        "# dls.show_batch(vmin=0,vmax=1,figsize=(12, 9))"
      ],
      "execution_count": 26,
      "outputs": []
    },
    {
      "cell_type": "code",
      "metadata": {
        "id": "kistOZMPgvEI"
      },
      "source": [
        "#x,mask=dls.one_batch()"
      ],
      "execution_count": null,
      "outputs": []
    },
    {
      "cell_type": "markdown",
      "metadata": {
        "id": "erpphr_jgvEI"
      },
      "source": [
        "# Deeplab"
      ]
    },
    {
      "cell_type": "code",
      "metadata": {
        "colab": {
          "base_uri": "https://localhost:8080/",
          "height": 104,
          "referenced_widgets": [
            "4d98dd30bcba4a74bdf70572d455db23",
            "29a3d5090ac2409eb95df6fc9bd1c136",
            "c3250ec186b64ecd9c63903836e75f2f",
            "3b4bf2de42824243ac015e3e4e9c7c0c",
            "36e2490a10944ab3b6fc6f6fc1b20754",
            "d9ef0b401db546d9b8353a551dd7b917",
            "eeeaf1dc3b994095850066e5a945aee4",
            "8cc1e445587f4a4eacc8a48adee7d75d"
          ]
        },
        "id": "KF-95DtdgvEI",
        "outputId": "b2f61bc6-ada4-4cb0-9c47-660c06e3b315"
      },
      "source": [
        "learn = get_segmentation_learner(dls=dls, number_classes=5, segmentation_type=\"Semantic Segmentation\",\n",
        "                                 architecture_name=\"deeplabv3+\", backbone_name=\"resnet50\",\n",
        "                                 metrics=[DiceMulti],wd=1e-2,\n",
        "                                 pretrained=True,normalize=True).to_fp16()"
      ],
      "execution_count": 27,
      "outputs": [
        {
          "output_type": "stream",
          "text": [
            "Downloading: \"https://download.pytorch.org/models/resnet50-19c8e357.pth\" to /root/.cache/torch/hub/checkpoints/resnet50-19c8e357.pth\n"
          ],
          "name": "stderr"
        },
        {
          "output_type": "display_data",
          "data": {
            "application/vnd.jupyter.widget-view+json": {
              "model_id": "4d98dd30bcba4a74bdf70572d455db23",
              "version_minor": 0,
              "version_major": 2
            },
            "text/plain": [
              "HBox(children=(FloatProgress(value=0.0, max=102502400.0), HTML(value='')))"
            ]
          },
          "metadata": {
            "tags": []
          }
        },
        {
          "output_type": "stream",
          "text": [
            "\n"
          ],
          "name": "stdout"
        }
      ]
    },
    {
      "cell_type": "code",
      "metadata": {
        "id": "_nvJnHsxgvEJ",
        "outputId": "0a9d75e0-272b-46d5-a4ca-90863f82b62b"
      },
      "source": [
        "learn.lr_find() # find learning rate\n",
        "learn.recorder # plot learning rate graph"
      ],
      "execution_count": null,
      "outputs": [
        {
          "output_type": "display_data",
          "data": {
            "text/html": [
              ""
            ],
            "text/plain": [
              "<IPython.core.display.HTML object>"
            ]
          },
          "metadata": {
            "tags": []
          }
        },
        {
          "output_type": "execute_result",
          "data": {
            "text/plain": [
              "Recorder"
            ]
          },
          "metadata": {
            "tags": []
          },
          "execution_count": 24
        },
        {
          "output_type": "display_data",
          "data": {
            "image/png": "[encoded data removed]",
            "text/plain": [
              "<Figure size 432x288 with 1 Axes>"
            ]
          },
          "metadata": {
            "tags": [],
            "needs_background": "light"
          }
        }
      ]
    },
    {
      "cell_type": "code",
      "metadata": {
        "id": "rWU6F8r0gvEJ",
        "outputId": "13e94503-c3e4-43e9-8dc8-e9395276741f"
      },
      "source": [
        "fname=\"deeplab-before-unfreeze\"\n",
        "\n",
        "callbacksFitBeforeUnfreeze = [\n",
        "    ShowGraphCallback(),\n",
        "    EarlyStoppingCallback(monitor=monitor_training,comp=comp_training, patience=patience),\n",
        "    SaveModelCallback(monitor=monitor_training,comp=comp_training,every_epoch=False,fname=fname)  \n",
        "]\n",
        "learn.fit_one_cycle(20, slice(1e-4,1e-3),cbs=callbacksFitBeforeUnfreeze)"
      ],
      "execution_count": null,
      "outputs": [
        {
          "output_type": "display_data",
          "data": {
            "text/html": [
              "<table border=\"1\" class=\"dataframe\">\n",
              "  <thead>\n",
              "    <tr style=\"text-align: left;\">\n",
              "      <th>epoch</th>\n",
              "      <th>train_loss</th>\n",
              "      <th>valid_loss</th>\n",
              "      <th>dice_multi</th>\n",
              "      <th>time</th>\n",
              "    </tr>\n",
              "  </thead>\n",
              "  <tbody>\n",
              "    <tr>\n",
              "      <td>0</td>\n",
              "      <td>1.435707</td>\n",
              "      <td>1.341149</td>\n",
              "      <td>0.326982</td>\n",
              "      <td>00:21</td>\n",
              "    </tr>\n",
              "    <tr>\n",
              "      <td>1</td>\n",
              "      <td>0.998091</td>\n",
              "      <td>0.643998</td>\n",
              "      <td>0.471891</td>\n",
              "      <td>00:23</td>\n",
              "    </tr>\n",
              "    <tr>\n",
              "      <td>2</td>\n",
              "      <td>0.665276</td>\n",
              "      <td>0.402264</td>\n",
              "      <td>0.502721</td>\n",
              "      <td>00:23</td>\n",
              "    </tr>\n",
              "    <tr>\n",
              "      <td>3</td>\n",
              "      <td>0.489680</td>\n",
              "      <td>0.399445</td>\n",
              "      <td>0.499525</td>\n",
              "      <td>00:22</td>\n",
              "    </tr>\n",
              "    <tr>\n",
              "      <td>4</td>\n",
              "      <td>0.398268</td>\n",
              "      <td>0.440519</td>\n",
              "      <td>0.505497</td>\n",
              "      <td>00:23</td>\n",
              "    </tr>\n",
              "    <tr>\n",
              "      <td>5</td>\n",
              "      <td>0.348553</td>\n",
              "      <td>0.345728</td>\n",
              "      <td>0.560601</td>\n",
              "      <td>00:23</td>\n",
              "    </tr>\n",
              "    <tr>\n",
              "      <td>6</td>\n",
              "      <td>0.312290</td>\n",
              "      <td>0.337227</td>\n",
              "      <td>0.541965</td>\n",
              "      <td>00:25</td>\n",
              "    </tr>\n",
              "    <tr>\n",
              "      <td>7</td>\n",
              "      <td>0.289185</td>\n",
              "      <td>0.503102</td>\n",
              "      <td>0.432977</td>\n",
              "      <td>00:29</td>\n",
              "    </tr>\n",
              "    <tr>\n",
              "      <td>8</td>\n",
              "      <td>0.281674</td>\n",
              "      <td>0.354249</td>\n",
              "      <td>0.537164</td>\n",
              "      <td>00:23</td>\n",
              "    </tr>\n",
              "    <tr>\n",
              "      <td>9</td>\n",
              "      <td>0.271558</td>\n",
              "      <td>0.353143</td>\n",
              "      <td>0.589348</td>\n",
              "      <td>00:22</td>\n",
              "    </tr>\n",
              "  </tbody>\n",
              "</table>"
            ],
            "text/plain": [
              "<IPython.core.display.HTML object>"
            ]
          },
          "metadata": {
            "tags": []
          }
        },
        {
          "output_type": "stream",
          "text": [
            "Better model found at epoch 0 with valid_loss value: 1.3411486148834229.\n"
          ],
          "name": "stdout"
        },
        {
          "output_type": "display_data",
          "data": {
            "image/png": "[encoded data removed]",
            "text/plain": [
              "<Figure size 432x288 with 1 Axes>"
            ]
          },
          "metadata": {
            "tags": []
          }
        },
        {
          "output_type": "stream",
          "text": [
            "Better model found at epoch 1 with valid_loss value: 0.6439977288246155.\n",
            "Better model found at epoch 2 with valid_loss value: 0.4022638499736786.\n",
            "Better model found at epoch 3 with valid_loss value: 0.3994450271129608.\n",
            "Better model found at epoch 5 with valid_loss value: 0.34572848677635193.\n",
            "Better model found at epoch 6 with valid_loss value: 0.33722659945487976.\n",
            "No improvement since epoch 6: early stopping\n"
          ],
          "name": "stdout"
        }
      ]
    },
    {
      "cell_type": "code",
      "metadata": {
        "id": "mRIc5MVygvEK",
        "outputId": "ea98853c-7001-4fa5-bd54-e05196358607"
      },
      "source": [
        "learn.load(\"deeplab-before-unfreeze\")\n",
        "learn.unfreeze()\n",
        "# learn.lr_find() # find learning rate\n",
        "# learn.recorder # plot learning rate graph"
      ],
      "execution_count": null,
      "outputs": [
        {
          "output_type": "stream",
          "text": [
            "/home/jonathan/.virtualenvs/segmentation/lib/python3.6/site-packages/fastai/learner.py:56: UserWarning: Saved filed doesn't contain an optimizer state.\n",
            "  elif with_opt: warn(\"Saved filed doesn't contain an optimizer state.\")\n"
          ],
          "name": "stderr"
        }
      ]
    },
    {
      "cell_type": "code",
      "metadata": {
        "id": "UzogJ47MgvEK",
        "outputId": "95f3651b-6059-4bc3-c2ca-6493ab54a7f1"
      },
      "source": [
        "fname=\"deeplab-after-unfreeze\"\n",
        "\n",
        "\n",
        "callbacksFitAfterUnfreeze = [\n",
        "    ShowGraphCallback(),\n",
        "    EarlyStoppingCallback(monitor=monitor_training,comp=comp_training, patience=patience),\n",
        "    SaveModelCallback(monitor=monitor_training,comp=comp_training,every_epoch=False,fname=fname)  \n",
        "]\n",
        "learn.fit_one_cycle(20, slice(1e-7,1e-7),cbs=callbacksFitAfterUnfreeze)"
      ],
      "execution_count": null,
      "outputs": [
        {
          "output_type": "display_data",
          "data": {
            "text/html": [
              "<table border=\"1\" class=\"dataframe\">\n",
              "  <thead>\n",
              "    <tr style=\"text-align: left;\">\n",
              "      <th>epoch</th>\n",
              "      <th>train_loss</th>\n",
              "      <th>valid_loss</th>\n",
              "      <th>dice_multi</th>\n",
              "      <th>time</th>\n",
              "    </tr>\n",
              "  </thead>\n",
              "  <tbody>\n",
              "    <tr>\n",
              "      <td>0</td>\n",
              "      <td>0.271770</td>\n",
              "      <td>0.324075</td>\n",
              "      <td>0.553360</td>\n",
              "      <td>00:23</td>\n",
              "    </tr>\n",
              "    <tr>\n",
              "      <td>1</td>\n",
              "      <td>0.266027</td>\n",
              "      <td>0.317127</td>\n",
              "      <td>0.564439</td>\n",
              "      <td>00:24</td>\n",
              "    </tr>\n",
              "    <tr>\n",
              "      <td>2</td>\n",
              "      <td>0.260722</td>\n",
              "      <td>0.321250</td>\n",
              "      <td>0.558757</td>\n",
              "      <td>00:22</td>\n",
              "    </tr>\n",
              "    <tr>\n",
              "      <td>3</td>\n",
              "      <td>0.257369</td>\n",
              "      <td>0.320423</td>\n",
              "      <td>0.558239</td>\n",
              "      <td>00:22</td>\n",
              "    </tr>\n",
              "    <tr>\n",
              "      <td>4</td>\n",
              "      <td>0.263444</td>\n",
              "      <td>0.320427</td>\n",
              "      <td>0.559812</td>\n",
              "      <td>00:23</td>\n",
              "    </tr>\n",
              "  </tbody>\n",
              "</table>"
            ],
            "text/plain": [
              "<IPython.core.display.HTML object>"
            ]
          },
          "metadata": {
            "tags": []
          }
        },
        {
          "output_type": "stream",
          "text": [
            "Better model found at epoch 0 with valid_loss value: 0.32407456636428833.\n"
          ],
          "name": "stdout"
        },
        {
          "output_type": "display_data",
          "data": {
            "image/png": "[encoded data removed]",
            "text/plain": [
              "<Figure size 432x288 with 1 Axes>"
            ]
          },
          "metadata": {
            "tags": []
          }
        },
        {
          "output_type": "stream",
          "text": [
            "Better model found at epoch 1 with valid_loss value: 0.31712719798088074.\n",
            "No improvement since epoch 1: early stopping\n"
          ],
          "name": "stdout"
        }
      ]
    },
    {
      "cell_type": "code",
      "metadata": {
        "id": "BmdPG89WgvEL"
      },
      "source": [
        "aux=learn.model\n",
        "aux=aux.cpu()\n",
        "\n",
        "traced_cell=torch.jit.script(aux)\n",
        "traced_cell.save(\"deeplab.pth\")"
      ],
      "execution_count": null,
      "outputs": []
    },
    {
      "cell_type": "code",
      "metadata": {
        "id": "hskGY5yfgvEL"
      },
      "source": [
        "def ParentSplitter(x):\n",
        "    return Path(x).parent.name=='test'"
      ],
      "execution_count": null,
      "outputs": []
    },
    {
      "cell_type": "code",
      "metadata": {
        "id": "feEEtzzngvEL",
        "outputId": "a2e8cca8-ceab-4944-af6c-96a08cc44e5b"
      },
      "source": [
        "dbtest = DataBlock(blocks=(ImageBlock, MaskBlock(codes)),\n",
        "                   get_items=partial(get_image_files,folders=['train','test']),\n",
        "                   get_y=get_y_fn,\n",
        "                   splitter=FuncSplitter(ParentSplitter),\n",
        "                   item_tfms=[Resize(size), TargetMaskConvertTransform(), transformPipeline],\n",
        "                   batch_tfms=Normalize.from_stats(*imagenet_stats)\n",
        "                  )\n",
        "#manual.summary(path_images)\n",
        "testDLS = dbtest.dataloaders(path_images,bs=bs)\n",
        "\n",
        "learn.dls = testDLS\n",
        "\n",
        "learn.validate()"
      ],
      "execution_count": null,
      "outputs": [
        {
          "output_type": "display_data",
          "data": {
            "text/html": [
              ""
            ],
            "text/plain": [
              "<IPython.core.display.HTML object>"
            ]
          },
          "metadata": {
            "tags": []
          }
        },
        {
          "output_type": "execute_result",
          "data": {
            "text/plain": [
              "(#2) [0.2769782543182373,0.6045280363024486]"
            ]
          },
          "metadata": {
            "tags": []
          },
          "execution_count": 32
        }
      ]
    },
    {
      "cell_type": "code",
      "metadata": {
        "id": "o65ip3eXgvEM"
      },
      "source": [
        "import torchvision.transforms as transforms\n",
        "device = torch.device(\"cuda\" if torch.cuda.is_available() else \"cpu\") \n",
        "\n",
        "def transform_image(image):\n",
        "    my_transforms = transforms.Compose([transforms.ToTensor(),\n",
        "                                        transforms.Normalize(\n",
        "                                            [0.485, 0.456, 0.406],\n",
        "                                            [0.229, 0.224, 0.225])])\n",
        "    image_aux = image\n",
        "    return my_transforms(image_aux).unsqueeze(0).to(device)"
      ],
      "execution_count": null,
      "outputs": []
    },
    {
      "cell_type": "code",
      "metadata": {
        "id": "Qejgk5YwgvEM"
      },
      "source": [
        "import PIL\n",
        "import cv2"
      ],
      "execution_count": null,
      "outputs": []
    },
    {
      "cell_type": "code",
      "metadata": {
        "id": "OQmYLfRegvEN",
        "outputId": "831fabd9-1dd0-4c55-c810-2cbef8d388f6"
      },
      "source": [
        "model = torch.jit.load(\"deeplab.pth\")\n",
        "model = model.cpu()\n",
        "model.eval()"
      ],
      "execution_count": null,
      "outputs": [
        {
          "output_type": "execute_result",
          "data": {
            "text/plain": [
              "RecursiveScriptModule(\n",
              "  original_name=DeepLabV3Plus\n",
              "  (backbone): RecursiveScriptModule(\n",
              "    original_name=ResNetV1\n",
              "    (conv1): RecursiveScriptModule(original_name=Conv2d)\n",
              "    (bn1): RecursiveScriptModule(original_name=BatchNorm2d)\n",
              "    (relu): RecursiveScriptModule(original_name=ReLU)\n",
              "    (maxpool): RecursiveScriptModule(original_name=MaxPool2d)\n",
              "    (layer1): RecursiveScriptModule(\n",
              "      original_name=Sequential\n",
              "      (0): RecursiveScriptModule(\n",
              "        original_name=BottleneckV1b\n",
              "        (conv1): RecursiveScriptModule(original_name=Conv2d)\n",
              "        (bn1): RecursiveScriptModule(original_name=BatchNorm2d)\n",
              "        (conv2): RecursiveScriptModule(original_name=Conv2d)\n",
              "        (bn2): RecursiveScriptModule(original_name=BatchNorm2d)\n",
              "        (conv3): RecursiveScriptModule(original_name=Conv2d)\n",
              "        (bn3): RecursiveScriptModule(original_name=BatchNorm2d)\n",
              "        (relu): RecursiveScriptModule(original_name=ReLU)\n",
              "        (downsample): RecursiveScriptModule(\n",
              "          original_name=Sequential\n",
              "          (0): RecursiveScriptModule(original_name=Conv2d)\n",
              "          (1): RecursiveScriptModule(original_name=BatchNorm2d)\n",
              "        )\n",
              "      )\n",
              "      (1): RecursiveScriptModule(\n",
              "        original_name=BottleneckV1b\n",
              "        (conv1): RecursiveScriptModule(original_name=Conv2d)\n",
              "        (bn1): RecursiveScriptModule(original_name=BatchNorm2d)\n",
              "        (conv2): RecursiveScriptModule(original_name=Conv2d)\n",
              "        (bn2): RecursiveScriptModule(original_name=BatchNorm2d)\n",
              "        (conv3): RecursiveScriptModule(original_name=Conv2d)\n",
              "        (bn3): RecursiveScriptModule(original_name=BatchNorm2d)\n",
              "        (relu): RecursiveScriptModule(original_name=ReLU)\n",
              "      )\n",
              "      (2): RecursiveScriptModule(\n",
              "        original_name=BottleneckV1b\n",
              "        (conv1): RecursiveScriptModule(original_name=Conv2d)\n",
              "        (bn1): RecursiveScriptModule(original_name=BatchNorm2d)\n",
              "        (conv2): RecursiveScriptModule(original_name=Conv2d)\n",
              "        (bn2): RecursiveScriptModule(original_name=BatchNorm2d)\n",
              "        (conv3): RecursiveScriptModule(original_name=Conv2d)\n",
              "        (bn3): RecursiveScriptModule(original_name=BatchNorm2d)\n",
              "        (relu): RecursiveScriptModule(original_name=ReLU)\n",
              "      )\n",
              "    )\n",
              "    (layer2): RecursiveScriptModule(\n",
              "      original_name=Sequential\n",
              "      (0): RecursiveScriptModule(\n",
              "        original_name=BottleneckV1b\n",
              "        (conv1): RecursiveScriptModule(original_name=Conv2d)\n",
              "        (bn1): RecursiveScriptModule(original_name=BatchNorm2d)\n",
              "        (conv2): RecursiveScriptModule(original_name=Conv2d)\n",
              "        (bn2): RecursiveScriptModule(original_name=BatchNorm2d)\n",
              "        (conv3): RecursiveScriptModule(original_name=Conv2d)\n",
              "        (bn3): RecursiveScriptModule(original_name=BatchNorm2d)\n",
              "        (relu): RecursiveScriptModule(original_name=ReLU)\n",
              "        (downsample): RecursiveScriptModule(\n",
              "          original_name=Sequential\n",
              "          (0): RecursiveScriptModule(original_name=Conv2d)\n",
              "          (1): RecursiveScriptModule(original_name=BatchNorm2d)\n",
              "        )\n",
              "      )\n",
              "      (1): RecursiveScriptModule(\n",
              "        original_name=BottleneckV1b\n",
              "        (conv1): RecursiveScriptModule(original_name=Conv2d)\n",
              "        (bn1): RecursiveScriptModule(original_name=BatchNorm2d)\n",
              "        (conv2): RecursiveScriptModule(original_name=Conv2d)\n",
              "        (bn2): RecursiveScriptModule(original_name=BatchNorm2d)\n",
              "        (conv3): RecursiveScriptModule(original_name=Conv2d)\n",
              "        (bn3): RecursiveScriptModule(original_name=BatchNorm2d)\n",
              "        (relu): RecursiveScriptModule(original_name=ReLU)\n",
              "      )\n",
              "      (2): RecursiveScriptModule(\n",
              "        original_name=BottleneckV1b\n",
              "        (conv1): RecursiveScriptModule(original_name=Conv2d)\n",
              "        (bn1): RecursiveScriptModule(original_name=BatchNorm2d)\n",
              "        (conv2): RecursiveScriptModule(original_name=Conv2d)\n",
              "        (bn2): RecursiveScriptModule(original_name=BatchNorm2d)\n",
              "        (conv3): RecursiveScriptModule(original_name=Conv2d)\n",
              "        (bn3): RecursiveScriptModule(original_name=BatchNorm2d)\n",
              "        (relu): RecursiveScriptModule(original_name=ReLU)\n",
              "      )\n",
              "      (3): RecursiveScriptModule(\n",
              "        original_name=BottleneckV1b\n",
              "        (conv1): RecursiveScriptModule(original_name=Conv2d)\n",
              "        (bn1): RecursiveScriptModule(original_name=BatchNorm2d)\n",
              "        (conv2): RecursiveScriptModule(original_name=Conv2d)\n",
              "        (bn2): RecursiveScriptModule(original_name=BatchNorm2d)\n",
              "        (conv3): RecursiveScriptModule(original_name=Conv2d)\n",
              "        (bn3): RecursiveScriptModule(original_name=BatchNorm2d)\n",
              "        (relu): RecursiveScriptModule(original_name=ReLU)\n",
              "      )\n",
              "    )\n",
              "    (layer3): RecursiveScriptModule(\n",
              "      original_name=Sequential\n",
              "      (0): RecursiveScriptModule(\n",
              "        original_name=BottleneckV1b\n",
              "        (conv1): RecursiveScriptModule(original_name=Conv2d)\n",
              "        (bn1): RecursiveScriptModule(original_name=BatchNorm2d)\n",
              "        (conv2): RecursiveScriptModule(original_name=Conv2d)\n",
              "        (bn2): RecursiveScriptModule(original_name=BatchNorm2d)\n",
              "        (conv3): RecursiveScriptModule(original_name=Conv2d)\n",
              "        (bn3): RecursiveScriptModule(original_name=BatchNorm2d)\n",
              "        (relu): RecursiveScriptModule(original_name=ReLU)\n",
              "        (downsample): RecursiveScriptModule(\n",
              "          original_name=Sequential\n",
              "          (0): RecursiveScriptModule(original_name=Conv2d)\n",
              "          (1): RecursiveScriptModule(original_name=BatchNorm2d)\n",
              "        )\n",
              "      )\n",
              "      (1): RecursiveScriptModule(\n",
              "        original_name=BottleneckV1b\n",
              "        (conv1): RecursiveScriptModule(original_name=Conv2d)\n",
              "        (bn1): RecursiveScriptModule(original_name=BatchNorm2d)\n",
              "        (conv2): RecursiveScriptModule(original_name=Conv2d)\n",
              "        (bn2): RecursiveScriptModule(original_name=BatchNorm2d)\n",
              "        (conv3): RecursiveScriptModule(original_name=Conv2d)\n",
              "        (bn3): RecursiveScriptModule(original_name=BatchNorm2d)\n",
              "        (relu): RecursiveScriptModule(original_name=ReLU)\n",
              "      )\n",
              "      (2): RecursiveScriptModule(\n",
              "        original_name=BottleneckV1b\n",
              "        (conv1): RecursiveScriptModule(original_name=Conv2d)\n",
              "        (bn1): RecursiveScriptModule(original_name=BatchNorm2d)\n",
              "        (conv2): RecursiveScriptModule(original_name=Conv2d)\n",
              "        (bn2): RecursiveScriptModule(original_name=BatchNorm2d)\n",
              "        (conv3): RecursiveScriptModule(original_name=Conv2d)\n",
              "        (bn3): RecursiveScriptModule(original_name=BatchNorm2d)\n",
              "        (relu): RecursiveScriptModule(original_name=ReLU)\n",
              "      )\n",
              "      (3): RecursiveScriptModule(\n",
              "        original_name=BottleneckV1b\n",
              "        (conv1): RecursiveScriptModule(original_name=Conv2d)\n",
              "        (bn1): RecursiveScriptModule(original_name=BatchNorm2d)\n",
              "        (conv2): RecursiveScriptModule(original_name=Conv2d)\n",
              "        (bn2): RecursiveScriptModule(original_name=BatchNorm2d)\n",
              "        (conv3): RecursiveScriptModule(original_name=Conv2d)\n",
              "        (bn3): RecursiveScriptModule(original_name=BatchNorm2d)\n",
              "        (relu): RecursiveScriptModule(original_name=ReLU)\n",
              "      )\n",
              "      (4): RecursiveScriptModule(\n",
              "        original_name=BottleneckV1b\n",
              "        (conv1): RecursiveScriptModule(original_name=Conv2d)\n",
              "        (bn1): RecursiveScriptModule(original_name=BatchNorm2d)\n",
              "        (conv2): RecursiveScriptModule(original_name=Conv2d)\n",
              "        (bn2): RecursiveScriptModule(original_name=BatchNorm2d)\n",
              "        (conv3): RecursiveScriptModule(original_name=Conv2d)\n",
              "        (bn3): RecursiveScriptModule(original_name=BatchNorm2d)\n",
              "        (relu): RecursiveScriptModule(original_name=ReLU)\n",
              "      )\n",
              "      (5): RecursiveScriptModule(\n",
              "        original_name=BottleneckV1b\n",
              "        (conv1): RecursiveScriptModule(original_name=Conv2d)\n",
              "        (bn1): RecursiveScriptModule(original_name=BatchNorm2d)\n",
              "        (conv2): RecursiveScriptModule(original_name=Conv2d)\n",
              "        (bn2): RecursiveScriptModule(original_name=BatchNorm2d)\n",
              "        (conv3): RecursiveScriptModule(original_name=Conv2d)\n",
              "        (bn3): RecursiveScriptModule(original_name=BatchNorm2d)\n",
              "        (relu): RecursiveScriptModule(original_name=ReLU)\n",
              "      )\n",
              "    )\n",
              "    (layer4): RecursiveScriptModule(\n",
              "      original_name=Sequential\n",
              "      (0): RecursiveScriptModule(\n",
              "        original_name=BottleneckV1b\n",
              "        (conv1): RecursiveScriptModule(original_name=Conv2d)\n",
              "        (bn1): RecursiveScriptModule(original_name=BatchNorm2d)\n",
              "        (conv2): RecursiveScriptModule(original_name=Conv2d)\n",
              "        (bn2): RecursiveScriptModule(original_name=BatchNorm2d)\n",
              "        (conv3): RecursiveScriptModule(original_name=Conv2d)\n",
              "        (bn3): RecursiveScriptModule(original_name=BatchNorm2d)\n",
              "        (relu): RecursiveScriptModule(original_name=ReLU)\n",
              "        (downsample): RecursiveScriptModule(\n",
              "          original_name=Sequential\n",
              "          (0): RecursiveScriptModule(original_name=Conv2d)\n",
              "          (1): RecursiveScriptModule(original_name=BatchNorm2d)\n",
              "        )\n",
              "      )\n",
              "      (1): RecursiveScriptModule(\n",
              "        original_name=BottleneckV1b\n",
              "        (conv1): RecursiveScriptModule(original_name=Conv2d)\n",
              "        (bn1): RecursiveScriptModule(original_name=BatchNorm2d)\n",
              "        (conv2): RecursiveScriptModule(original_name=Conv2d)\n",
              "        (bn2): RecursiveScriptModule(original_name=BatchNorm2d)\n",
              "        (conv3): RecursiveScriptModule(original_name=Conv2d)\n",
              "        (bn3): RecursiveScriptModule(original_name=BatchNorm2d)\n",
              "        (relu): RecursiveScriptModule(original_name=ReLU)\n",
              "      )\n",
              "      (2): RecursiveScriptModule(\n",
              "        original_name=BottleneckV1b\n",
              "        (conv1): RecursiveScriptModule(original_name=Conv2d)\n",
              "        (bn1): RecursiveScriptModule(original_name=BatchNorm2d)\n",
              "        (conv2): RecursiveScriptModule(original_name=Conv2d)\n",
              "        (bn2): RecursiveScriptModule(original_name=BatchNorm2d)\n",
              "        (conv3): RecursiveScriptModule(original_name=Conv2d)\n",
              "        (bn3): RecursiveScriptModule(original_name=BatchNorm2d)\n",
              "        (relu): RecursiveScriptModule(original_name=ReLU)\n",
              "      )\n",
              "    )\n",
              "    (avgpool): RecursiveScriptModule(original_name=AdaptiveAvgPool2d)\n",
              "    (fc): RecursiveScriptModule(original_name=Linear)\n",
              "  )\n",
              "  (head): RecursiveScriptModule(\n",
              "    original_name=_DeepLabHead\n",
              "    (aspp): RecursiveScriptModule(\n",
              "      original_name=_ASPP\n",
              "      (aspp0): RecursiveScriptModule(\n",
              "        original_name=Sequential\n",
              "        (conv): RecursiveScriptModule(original_name=Conv2d)\n",
              "        (bn): RecursiveScriptModule(original_name=BatchNorm2d)\n",
              "        (relu): RecursiveScriptModule(original_name=ReLU)\n",
              "      )\n",
              "      (aspp1): RecursiveScriptModule(\n",
              "        original_name=SeparableConv2d\n",
              "        (block): RecursiveScriptModule(\n",
              "          original_name=Sequential\n",
              "          (depthwise): RecursiveScriptModule(original_name=Conv2d)\n",
              "          (bn_depth): RecursiveScriptModule(original_name=BatchNorm2d)\n",
              "          (relu1): RecursiveScriptModule(original_name=ReLU)\n",
              "          (pointwise): RecursiveScriptModule(original_name=Conv2d)\n",
              "          (bn_point): RecursiveScriptModule(original_name=BatchNorm2d)\n",
              "          (relu2): RecursiveScriptModule(original_name=ReLU)\n",
              "        )\n",
              "      )\n",
              "      (aspp2): RecursiveScriptModule(\n",
              "        original_name=SeparableConv2d\n",
              "        (block): RecursiveScriptModule(\n",
              "          original_name=Sequential\n",
              "          (depthwise): RecursiveScriptModule(original_name=Conv2d)\n",
              "          (bn_depth): RecursiveScriptModule(original_name=BatchNorm2d)\n",
              "          (relu1): RecursiveScriptModule(original_name=ReLU)\n",
              "          (pointwise): RecursiveScriptModule(original_name=Conv2d)\n",
              "          (bn_point): RecursiveScriptModule(original_name=BatchNorm2d)\n",
              "          (relu2): RecursiveScriptModule(original_name=ReLU)\n",
              "        )\n",
              "      )\n",
              "      (aspp3): RecursiveScriptModule(\n",
              "        original_name=SeparableConv2d\n",
              "        (block): RecursiveScriptModule(\n",
              "          original_name=Sequential\n",
              "          (depthwise): RecursiveScriptModule(original_name=Conv2d)\n",
              "          (bn_depth): RecursiveScriptModule(original_name=BatchNorm2d)\n",
              "          (relu1): RecursiveScriptModule(original_name=ReLU)\n",
              "          (pointwise): RecursiveScriptModule(original_name=Conv2d)\n",
              "          (bn_point): RecursiveScriptModule(original_name=BatchNorm2d)\n",
              "          (relu2): RecursiveScriptModule(original_name=ReLU)\n",
              "        )\n",
              "      )\n",
              "      (image_pooling): RecursiveScriptModule(\n",
              "        original_name=Sequential\n",
              "        (gap): RecursiveScriptModule(original_name=AdaptiveAvgPool2d)\n",
              "        (conv): RecursiveScriptModule(original_name=Conv2d)\n",
              "        (bn): RecursiveScriptModule(original_name=BatchNorm2d)\n",
              "        (relu): RecursiveScriptModule(original_name=ReLU)\n",
              "      )\n",
              "      (conv): RecursiveScriptModule(original_name=Conv2d)\n",
              "      (bn): RecursiveScriptModule(original_name=BatchNorm2d)\n",
              "      (relu): RecursiveScriptModule(original_name=ReLU)\n",
              "      (dropout): RecursiveScriptModule(original_name=Dropout2d)\n",
              "    )\n",
              "    (c1_block): RecursiveScriptModule(\n",
              "      original_name=_ConvBNReLU\n",
              "      (conv): RecursiveScriptModule(original_name=Conv2d)\n",
              "      (bn): RecursiveScriptModule(original_name=BatchNorm2d)\n",
              "      (relu): RecursiveScriptModule(original_name=ReLU)\n",
              "    )\n",
              "    (block): RecursiveScriptModule(\n",
              "      original_name=Sequential\n",
              "      (0): RecursiveScriptModule(\n",
              "        original_name=SeparableConv2d\n",
              "        (block): RecursiveScriptModule(\n",
              "          original_name=Sequential\n",
              "          (depthwise): RecursiveScriptModule(original_name=Conv2d)\n",
              "          (bn_depth): RecursiveScriptModule(original_name=BatchNorm2d)\n",
              "          (relu1): RecursiveScriptModule(original_name=ReLU)\n",
              "          (pointwise): RecursiveScriptModule(original_name=Conv2d)\n",
              "          (bn_point): RecursiveScriptModule(original_name=BatchNorm2d)\n",
              "          (relu2): RecursiveScriptModule(original_name=ReLU)\n",
              "        )\n",
              "      )\n",
              "      (1): RecursiveScriptModule(\n",
              "        original_name=SeparableConv2d\n",
              "        (block): RecursiveScriptModule(\n",
              "          original_name=Sequential\n",
              "          (depthwise): RecursiveScriptModule(original_name=Conv2d)\n",
              "          (bn_depth): RecursiveScriptModule(original_name=BatchNorm2d)\n",
              "          (relu1): RecursiveScriptModule(original_name=ReLU)\n",
              "          (pointwise): RecursiveScriptModule(original_name=Conv2d)\n",
              "          (bn_point): RecursiveScriptModule(original_name=BatchNorm2d)\n",
              "          (relu2): RecursiveScriptModule(original_name=ReLU)\n",
              "        )\n",
              "      )\n",
              "      (2): RecursiveScriptModule(original_name=Conv2d)\n",
              "    )\n",
              "  )\n",
              ")"
            ]
          },
          "metadata": {
            "tags": []
          },
          "execution_count": 6
        }
      ]
    },
    {
      "cell_type": "code",
      "metadata": {
        "id": "RfjUepvRgvEO"
      },
      "source": [
        "for imPath in get_image_files('dataset/Images/test'):\n",
        "    img = cv2.imread(str(imPath))\n",
        "    img = Image.fromarray(img)\n",
        "    image = transforms.Resize((1000,754))(img)\n",
        "    tensor = transform_image(image=image)\n",
        "    model.to(device)\n",
        "    with torch.no_grad():\n",
        "        outputs = model(tensor)\n",
        "\n",
        "    outputs = torch.argmax(outputs,1)\n",
        "    mask = np.array(outputs.cpu())\n",
        "    mask=np.reshape(mask,(1000,754))\n",
        "    img = Image.fromarray(mask.astype('uint8'))\n",
        "    img.save('deeplabPreds/'+imPath.name)"
      ],
      "execution_count": null,
      "outputs": []
    },
    {
      "cell_type": "code",
      "metadata": {
        "id": "WVFEaHhsgvEO"
      },
      "source": [
        ""
      ],
      "execution_count": null,
      "outputs": []
    }
  ]
}