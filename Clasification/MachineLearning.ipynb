{
  "nbformat": 4,
  "nbformat_minor": 0,
  "metadata": {
    "colab": {
      "name": "MachineLearning.ipynb",
      "provenance": [],
      "authorship_tag": "ABX9TyPUrdYsAAJPCMQWKcwShp1w",
      "include_colab_link": true
    },
    "kernelspec": {
      "name": "python3",
      "display_name": "Python 3"
    },
    "language_info": {
      "name": "python"
    }
  },
  "cells": [
    {
      "cell_type": "markdown",
      "metadata": {
        "id": "view-in-github",
        "colab_type": "text"
      },
      "source": [
        "<a href=\"https://colab.research.google.com/github/mavillot/FUNSD-Information-Extraction/blob/main/Clasification/MachineLearning.ipynb\" target=\"_parent\"><img src=\"https://colab.research.google.com/assets/colab-badge.svg\" alt=\"Open In Colab\"/></a>"
      ]
    },
    {
      "cell_type": "markdown",
      "metadata": {
        "id": "uTQBbMWRQMgS"
      },
      "source": [
        "# Machine Leaning algorithms\n",
        "\n",
        "In this notebook we will be using 7 classical machine learning algorithms to achieve our text classification objective. It's obvious that we can't pass the algorithm different text blocks because it doesn't understand anything but numerical vectors. That's why we need to transfrom all those text blocks in a list of vectors with the same length.\n",
        "We are going to train a BERT model and get the output of the last layer of the Neural Network. So, we will have the text block as an entry of the NN and we will get a numerical vector as the output.\n",
        "\n",
        "Let's start preparing our numerical vector in order to apply the different machine learning algorithm."
      ]
    },
    {
      "cell_type": "markdown",
      "metadata": {
        "id": "71D0ZMf1OQwY"
      },
      "source": [
        "# Dataset prep\n",
        "\n",
        "In this section we will prepare the dataset. You can skip this part if you aren't interested in how we extract the numerical vectors.\n",
        "\n"
      ]
    },
    {
      "cell_type": "markdown",
      "metadata": {
        "id": "q0bdz9KcSh8a"
      },
      "source": [
        "### Libraries"
      ]
    },
    {
      "cell_type": "markdown",
      "metadata": {
        "id": "dgZR597hIE2G"
      },
      "source": [
        "Instalamos los paquetes necesarios para construir el modelo de clasificación de texto: "
      ]
    },
    {
      "cell_type": "code",
      "metadata": {
        "id": "28HYwtoMvRkJ"
      },
      "source": [
        "%%capture\n",
        "pip install transformers"
      ],
      "execution_count": null,
      "outputs": []
    },
    {
      "cell_type": "code",
      "metadata": {
        "id": "VOIqnysqtegj"
      },
      "source": [
        "import cv2\n",
        "import json\n",
        "import os\n",
        "import re\n",
        "import pandas as pd\n",
        "from pathlib import Path\n",
        "import glob\n",
        "import torch\n",
        "from transformers import AutoTokenizer,BertForSequenceClassification,AdamW, BertTokenizer,AutoModelForSequenceClassification,DistilBertForSequenceClassification, Trainer, TrainingArguments, DistilBertTokenizerFast\n",
        "from sklearn.model_selection import train_test_split"
      ],
      "execution_count": null,
      "outputs": []
    },
    {
      "cell_type": "markdown",
      "metadata": {
        "id": "O-juXZ_sIR94"
      },
      "source": [
        "### Download the dataset"
      ]
    },
    {
      "cell_type": "code",
      "metadata": {
        "id": "5sZiqEN1tArs"
      },
      "source": [
        "%%capture\n",
        "!wget https://guillaumejaume.github.io/FUNSD/dataset.zip -O dataset.zip\n",
        "!unzip dataset.zip"
      ],
      "execution_count": null,
      "outputs": []
    },
    {
      "cell_type": "markdown",
      "metadata": {
        "id": "WO0h2TCXS8k3"
      },
      "source": [
        "The dataset is already split in train and test set"
      ]
    },
    {
      "cell_type": "markdown",
      "metadata": {
        "id": "vIw_3ozMSosO"
      },
      "source": [
        "### Dataset Class\n",
        "We build a class called Dataset, we will implement functions to make it easier for us to handle the dataset."
      ]
    },
    {
      "cell_type": "code",
      "metadata": {
        "id": "VvqzyEUmjRSU"
      },
      "source": [
        "class Dataset():\n",
        "    def __init__(self, path_anot):\n",
        "        self.path_anot= path_anot\n",
        "\n",
        "    def __iter__(self):\n",
        "      with os.scandir(self.path_anot) as files:\n",
        "        for file in files:\n",
        "          yield file.name\n",
        "    def __len__(self):\n",
        "      i=0\n",
        "      for file in self:\n",
        "        i+=1\n",
        "      return i\n",
        "    def listTextLabel(self, o):\n",
        "      anot=json.loads(open(self.path_anot+'/'+o).read())\n",
        "      txt=[]\n",
        "      lbl=[]\n",
        "      for block in list(anot.values())[0]:\n",
        "        txt.append(block['text'])\n",
        "        lbl.append(block['label'])\n",
        "      return (txt,lbl)\n",
        "    def prep(self):\n",
        "      dic={'question':0, 'answer':1, 'header':2, 'other':3}\n",
        "      text=[]\n",
        "      labels=[]\n",
        "      for file in self:\n",
        "        txt,lbl=self.listTextLabel(file)\n",
        "        text=text+txt\n",
        "        labels=labels+lbl\n",
        "      return (text,[dic[x] for x in labels])"
      ],
      "execution_count": null,
      "outputs": []
    },
    {
      "cell_type": "markdown",
      "metadata": {
        "id": "_yfYzQ9bIZto"
      },
      "source": [
        "We prepare the dataset for the classification model"
      ]
    },
    {
      "cell_type": "code",
      "metadata": {
        "id": "4wiygm2wkOlO"
      },
      "source": [
        "dataset_train=Dataset('dataset/training_data/annotations')\n",
        "dataset_test=Dataset('dataset/testing_data/annotations')"
      ],
      "execution_count": null,
      "outputs": []
    },
    {
      "cell_type": "markdown",
      "metadata": {
        "id": "-nVSpxZQTHGv"
      },
      "source": [
        "Number of files in the training set:"
      ]
    },
    {
      "cell_type": "code",
      "metadata": {
        "colab": {
          "base_uri": "https://localhost:8080/"
        },
        "id": "Rslr_klovuhE",
        "outputId": "63b7acce-46ed-4466-800d-640053abe50c"
      },
      "source": [
        "len(dataset_train)"
      ],
      "execution_count": null,
      "outputs": [
        {
          "output_type": "execute_result",
          "data": {
            "text/plain": [
              "149"
            ]
          },
          "metadata": {
            "tags": []
          },
          "execution_count": 6
        }
      ]
    },
    {
      "cell_type": "markdown",
      "metadata": {
        "id": "95ZDqZcZTOYn"
      },
      "source": [
        "We obtain the text blocks and the labels of the different sets"
      ]
    },
    {
      "cell_type": "code",
      "metadata": {
        "id": "p4zs3Vy5tWzy"
      },
      "source": [
        "text_train, labels_train=dataset_train.prep()\n",
        "text_test, labels_test=dataset_test.prep()"
      ],
      "execution_count": null,
      "outputs": []
    },
    {
      "cell_type": "markdown",
      "metadata": {
        "id": "9ExaX4vHTWAY"
      },
      "source": [
        "Number of text blocks in the training set"
      ]
    },
    {
      "cell_type": "code",
      "metadata": {
        "colab": {
          "base_uri": "https://localhost:8080/"
        },
        "id": "ep5RrKtTIf00",
        "outputId": "26508f16-74bd-43ba-cc27-125d4f10078c"
      },
      "source": [
        "len(text_train)"
      ],
      "execution_count": null,
      "outputs": [
        {
          "output_type": "execute_result",
          "data": {
            "text/plain": [
              "7411"
            ]
          },
          "metadata": {
            "tags": []
          },
          "execution_count": 8
        }
      ]
    },
    {
      "cell_type": "markdown",
      "metadata": {
        "id": "RanmIo1iTbKZ"
      },
      "source": [
        "Number of text blocks in the test set"
      ]
    },
    {
      "cell_type": "code",
      "metadata": {
        "colab": {
          "base_uri": "https://localhost:8080/"
        },
        "id": "enFOh_rj9fF1",
        "outputId": "bfbf0356-a25f-485c-d916-1014620d6f9b"
      },
      "source": [
        "len(text_test)"
      ],
      "execution_count": null,
      "outputs": [
        {
          "output_type": "execute_result",
          "data": {
            "text/plain": [
              "2332"
            ]
          },
          "metadata": {
            "tags": []
          },
          "execution_count": 9
        }
      ]
    },
    {
      "cell_type": "markdown",
      "metadata": {
        "id": "ghR69vfRTe7I"
      },
      "source": [
        "We show a few labels. Notice that we have transformed them to numeric:"
      ]
    },
    {
      "cell_type": "code",
      "metadata": {
        "colab": {
          "base_uri": "https://localhost:8080/"
        },
        "id": "j2M7waDsJDR3",
        "outputId": "ef9cc56b-8666-4191-a9dc-31b4f26deb78"
      },
      "source": [
        "labels_train[:10]"
      ],
      "execution_count": null,
      "outputs": [
        {
          "output_type": "execute_result",
          "data": {
            "text/plain": [
              "[0, 0, 0, 1, 0, 0, 1, 0, 0, 3]"
            ]
          },
          "metadata": {
            "tags": []
          },
          "execution_count": 10
        }
      ]
    },
    {
      "cell_type": "markdown",
      "metadata": {
        "id": "osqx2sy6TlVJ"
      },
      "source": [
        "We split the training set in two:\n",
        "- Training set 80%\n",
        "- Validation set 20%"
      ]
    },
    {
      "cell_type": "code",
      "metadata": {
        "id": "dauKcE4PyLvW"
      },
      "source": [
        "train_texts, val_texts, train_labels, val_labels = train_test_split(text_train, labels_train, test_size=.2)"
      ],
      "execution_count": null,
      "outputs": []
    },
    {
      "cell_type": "markdown",
      "metadata": {
        "id": "ExKeLBgUVGes"
      },
      "source": [
        "### Tokenizer and the model"
      ]
    },
    {
      "cell_type": "markdown",
      "metadata": {
        "id": "oEMC2LEQTvXA"
      },
      "source": [
        "In order to enter the text in the classification model, it is necessary to code it, we do this through the tokenizer and download a pre-trained model."
      ]
    },
    {
      "cell_type": "code",
      "metadata": {
        "colab": {
          "base_uri": "https://localhost:8080/",
          "height": 269,
          "referenced_widgets": [
            "61c136d01f5d484fa25c98d39c32c7dd",
            "2cbf134f824442ae860c17f400efca85",
            "e5b8873506c546679c24ac17aef483da",
            "1b53d1de9a9f46cc9c9168f46bacf64c",
            "839c3affccce4509a5ec842f01e07452",
            "1f1606f01bdd4e8f8b55ff5e69f97e96",
            "1be810f6acd644b69373828e870b05a0",
            "44b8010f39aa4ccbbb44653c4fee3adb",
            "94d5d74e95bf4a588e99e9e4e0e17025",
            "7bc3c7b162104870a33711edf9a31b80",
            "4c55547b6ee24c9299605d4926c81b4e",
            "89c51b1075d64eceb34626e5f9a9fd2c",
            "534b95e6e6fb42c2b8c059a902d9d187",
            "ed5878893aef4547837218a35dbc9a53",
            "a928ff0b65704bdcbd7b1335f7f156b7",
            "93620750ba814586a084a91141b62c84",
            "0e18dd999a5c42a5be34440cf023faf1",
            "5526277470024efb9b0381cd89c6397c",
            "4db7df79b0464d25b50d891b44dcab89",
            "6c8e32b2be95470eab81f9c77ceffbea",
            "84d6d2440da0431cb40be7bd830bc108",
            "10c6f2fa9d48443ba39f2d28509a7cc0",
            "274787ab615646f68f02923ffe3ff55f",
            "c467697710e744aaba014f29d73ebe04"
          ]
        },
        "id": "jt3BGkvph04C",
        "outputId": "feb609d5-c201-46d3-e84c-26408c04f818"
      },
      "source": [
        "tokenizer = BertTokenizer.from_pretrained('bert-base-uncased')\n",
        "model = BertForSequenceClassification.from_pretrained('bert-base-uncased', num_labels=4)"
      ],
      "execution_count": null,
      "outputs": [
        {
          "output_type": "display_data",
          "data": {
            "application/vnd.jupyter.widget-view+json": {
              "model_id": "61c136d01f5d484fa25c98d39c32c7dd",
              "version_minor": 0,
              "version_major": 2
            },
            "text/plain": [
              "HBox(children=(FloatProgress(value=0.0, description='Downloading', max=231508.0, style=ProgressStyle(descripti…"
            ]
          },
          "metadata": {
            "tags": []
          }
        },
        {
          "output_type": "stream",
          "text": [
            "\n"
          ],
          "name": "stdout"
        },
        {
          "output_type": "display_data",
          "data": {
            "application/vnd.jupyter.widget-view+json": {
              "model_id": "94d5d74e95bf4a588e99e9e4e0e17025",
              "version_minor": 0,
              "version_major": 2
            },
            "text/plain": [
              "HBox(children=(FloatProgress(value=0.0, description='Downloading', max=433.0, style=ProgressStyle(description_…"
            ]
          },
          "metadata": {
            "tags": []
          }
        },
        {
          "output_type": "stream",
          "text": [
            "\n"
          ],
          "name": "stdout"
        },
        {
          "output_type": "display_data",
          "data": {
            "application/vnd.jupyter.widget-view+json": {
              "model_id": "0e18dd999a5c42a5be34440cf023faf1",
              "version_minor": 0,
              "version_major": 2
            },
            "text/plain": [
              "HBox(children=(FloatProgress(value=0.0, description='Downloading', max=440473133.0, style=ProgressStyle(descri…"
            ]
          },
          "metadata": {
            "tags": []
          }
        },
        {
          "output_type": "stream",
          "text": [
            "\n"
          ],
          "name": "stdout"
        },
        {
          "output_type": "stream",
          "text": [
            "Some weights of the model checkpoint at bert-base-uncased were not used when initializing BertForSequenceClassification: ['cls.predictions.bias', 'cls.predictions.transform.dense.weight', 'cls.predictions.transform.dense.bias', 'cls.predictions.decoder.weight', 'cls.seq_relationship.weight', 'cls.seq_relationship.bias', 'cls.predictions.transform.LayerNorm.weight', 'cls.predictions.transform.LayerNorm.bias']\n",
            "- This IS expected if you are initializing BertForSequenceClassification from the checkpoint of a model trained on another task or with another architecture (e.g. initializing a BertForSequenceClassification model from a BertForPreTraining model).\n",
            "- This IS NOT expected if you are initializing BertForSequenceClassification from the checkpoint of a model that you expect to be exactly identical (initializing a BertForSequenceClassification model from a BertForSequenceClassification model).\n",
            "Some weights of BertForSequenceClassification were not initialized from the model checkpoint at bert-base-uncased and are newly initialized: ['classifier.weight', 'classifier.bias']\n",
            "You should probably TRAIN this model on a down-stream task to be able to use it for predictions and inference.\n"
          ],
          "name": "stderr"
        }
      ]
    },
    {
      "cell_type": "markdown",
      "metadata": {
        "id": "-6RjDWRMUB0B"
      },
      "source": [
        "We transform all the texts of the different sets through the tokenizer."
      ]
    },
    {
      "cell_type": "code",
      "metadata": {
        "id": "AiUCUPKeBUWM"
      },
      "source": [
        "train_encodings = tokenizer(train_texts, truncation=True, padding=True)\n",
        "val_encodings = tokenizer(val_texts, truncation=True, padding=True)\n",
        "test_encodings = tokenizer(texto_test, truncation=True, padding=True)"
      ],
      "execution_count": null,
      "outputs": []
    },
    {
      "cell_type": "markdown",
      "metadata": {
        "id": "q1HiNq0ZUI5K"
      },
      "source": [
        "In order to pass these encodings to the model, it is necessary to build a dataset so that the model is able to manage the labels and encodings."
      ]
    },
    {
      "cell_type": "code",
      "metadata": {
        "id": "CgCBLp6fBZu7"
      },
      "source": [
        "class FUNDSDataset(torch.utils.data.Dataset):\n",
        "    def __init__(self, encodings, labels):\n",
        "        self.encodings = encodings\n",
        "        self.labels = torch.tensor(labels)\n",
        "\n",
        "    def __getitem__(self, idx):\n",
        "        item = {key: torch.tensor(val[idx]) for key, val in self.encodings.items()}\n",
        "        item['labels'] = torch.tensor(self.labels[idx])\n",
        "        return item\n",
        "\n",
        "    def __len__(self):\n",
        "        return len(self.labels)\n",
        "\n",
        "train_dataset = FUNDSDataset(train_encodings, train_labels)\n",
        "val_dataset = FUNDSDataset(val_encodings, val_labels)\n",
        "test_dataset = FUNDSDataset(test_encodings, etiquetas_test)"
      ],
      "execution_count": null,
      "outputs": []
    },
    {
      "cell_type": "markdown",
      "metadata": {
        "id": "Zi3piMNZUZok"
      },
      "source": [
        "We establish the metrics that we are going to use to train and evaluate the model"
      ]
    },
    {
      "cell_type": "code",
      "metadata": {
        "id": "xMb5o118iWjL"
      },
      "source": [
        "from sklearn.metrics import accuracy_score, precision_recall_fscore_support\n",
        "\n",
        "def compute_metrics(pred):\n",
        "    labels = pred.label_ids\n",
        "    preds = pred.predictions.argmax(-1)\n",
        "    precision, recall, f1, _ = precision_recall_fscore_support(labels, preds, average='macro')\n",
        "    acc = accuracy_score(labels, preds)\n",
        "    return {\n",
        "        'accuracy': acc,\n",
        "        'f1': f1,\n",
        "        'precision': precision,\n",
        "        'recall': recall\n",
        "    }"
      ],
      "execution_count": null,
      "outputs": []
    },
    {
      "cell_type": "markdown",
      "metadata": {
        "id": "prOZIgmCUiLx"
      },
      "source": [
        "Training arguments"
      ]
    },
    {
      "cell_type": "code",
      "metadata": {
        "id": "C4_8Kntx_qd8"
      },
      "source": [
        "args = TrainingArguments(\n",
        "    output_dir='./results',\n",
        "    evaluation_strategy = \"epoch\",\n",
        "    learning_rate=2e-5,\n",
        "    per_device_train_batch_size=16,\n",
        "    per_device_eval_batch_size=16,\n",
        "    num_train_epochs=5,\n",
        "    weight_decay=0.01,\n",
        "    load_best_model_at_end=True,\n",
        "    metric_for_best_model='accuracy',\n",
        ")"
      ],
      "execution_count": null,
      "outputs": []
    },
    {
      "cell_type": "markdown",
      "metadata": {
        "id": "NiRsL67FUlEj"
      },
      "source": [
        "The model"
      ]
    },
    {
      "cell_type": "code",
      "metadata": {
        "id": "p5m2SsDfBHdN"
      },
      "source": [
        "trainer = Trainer(\n",
        "    model,\n",
        "    args,\n",
        "    train_dataset=train_dataset,\n",
        "    eval_dataset=val_dataset,\n",
        "    tokenizer=tokenizer,\n",
        "    compute_metrics=compute_metrics,\n",
        ")"
      ],
      "execution_count": null,
      "outputs": []
    },
    {
      "cell_type": "markdown",
      "metadata": {
        "id": "0Nu_dlmLVRNG"
      },
      "source": [
        "### Training"
      ]
    },
    {
      "cell_type": "markdown",
      "metadata": {
        "id": "g0wg77mMUmW5"
      },
      "source": [
        "We train the model with our training set and validating with the validation set."
      ]
    },
    {
      "cell_type": "code",
      "metadata": {
        "colab": {
          "base_uri": "https://localhost:8080/",
          "height": 437
        },
        "id": "dVO_pkOcBdxx",
        "outputId": "d5d4f099-d4aa-470f-eaea-3d41030bf2d7"
      },
      "source": [
        "trainer.train()"
      ],
      "execution_count": null,
      "outputs": [
        {
          "output_type": "stream",
          "text": [
            "/usr/local/lib/python3.6/dist-packages/ipykernel_launcher.py:8: UserWarning: To copy construct from a tensor, it is recommended to use sourceTensor.clone().detach() or sourceTensor.clone().detach().requires_grad_(True), rather than torch.tensor(sourceTensor).\n",
            "  \n"
          ],
          "name": "stderr"
        },
        {
          "output_type": "display_data",
          "data": {
            "text/html": [
              "\n",
              "    <div>\n",
              "        <style>\n",
              "            /* Turns off some styling */\n",
              "            progress {\n",
              "                /* gets rid of default border in Firefox and Opera. */\n",
              "                border: none;\n",
              "                /* Needs to be in here for Safari polyfill so background images work as expected. */\n",
              "                background-size: auto;\n",
              "            }\n",
              "        </style>\n",
              "      \n",
              "      <progress value='1855' max='1855' style='width:300px; height:20px; vertical-align: middle;'></progress>\n",
              "      [1855/1855 08:29, Epoch 5/5]\n",
              "    </div>\n",
              "    <table border=\"1\" class=\"dataframe\">\n",
              "  <thead>\n",
              "    <tr style=\"text-align: left;\">\n",
              "      <th>Epoch</th>\n",
              "      <th>Training Loss</th>\n",
              "      <th>Validation Loss</th>\n",
              "      <th>Accuracy</th>\n",
              "      <th>F1</th>\n",
              "      <th>Precision</th>\n",
              "      <th>Recall</th>\n",
              "      <th>Runtime</th>\n",
              "      <th>Samples Per Second</th>\n",
              "    </tr>\n",
              "  </thead>\n",
              "  <tbody>\n",
              "    <tr>\n",
              "      <td>1</td>\n",
              "      <td>No log</td>\n",
              "      <td>0.592596</td>\n",
              "      <td>0.797033</td>\n",
              "      <td>0.589105</td>\n",
              "      <td>0.790758</td>\n",
              "      <td>0.569741</td>\n",
              "      <td>5.354000</td>\n",
              "      <td>276.990000</td>\n",
              "    </tr>\n",
              "    <tr>\n",
              "      <td>2</td>\n",
              "      <td>0.700900</td>\n",
              "      <td>0.565981</td>\n",
              "      <td>0.805125</td>\n",
              "      <td>0.672217</td>\n",
              "      <td>0.742650</td>\n",
              "      <td>0.644323</td>\n",
              "      <td>5.355700</td>\n",
              "      <td>276.902000</td>\n",
              "    </tr>\n",
              "    <tr>\n",
              "      <td>3</td>\n",
              "      <td>0.457200</td>\n",
              "      <td>0.597626</td>\n",
              "      <td>0.816588</td>\n",
              "      <td>0.706948</td>\n",
              "      <td>0.757256</td>\n",
              "      <td>0.682618</td>\n",
              "      <td>5.353600</td>\n",
              "      <td>277.011000</td>\n",
              "    </tr>\n",
              "    <tr>\n",
              "      <td>4</td>\n",
              "      <td>0.457200</td>\n",
              "      <td>0.623851</td>\n",
              "      <td>0.824680</td>\n",
              "      <td>0.743387</td>\n",
              "      <td>0.768385</td>\n",
              "      <td>0.726834</td>\n",
              "      <td>5.354700</td>\n",
              "      <td>276.955000</td>\n",
              "    </tr>\n",
              "    <tr>\n",
              "      <td>5</td>\n",
              "      <td>0.322200</td>\n",
              "      <td>0.650166</td>\n",
              "      <td>0.817937</td>\n",
              "      <td>0.732632</td>\n",
              "      <td>0.762581</td>\n",
              "      <td>0.714676</td>\n",
              "      <td>5.354300</td>\n",
              "      <td>276.972000</td>\n",
              "    </tr>\n",
              "  </tbody>\n",
              "</table><p>"
            ],
            "text/plain": [
              "<IPython.core.display.HTML object>"
            ]
          },
          "metadata": {
            "tags": []
          }
        },
        {
          "output_type": "stream",
          "text": [
            "/usr/local/lib/python3.6/dist-packages/ipykernel_launcher.py:8: UserWarning: To copy construct from a tensor, it is recommended to use sourceTensor.clone().detach() or sourceTensor.clone().detach().requires_grad_(True), rather than torch.tensor(sourceTensor).\n",
            "  \n",
            "/usr/local/lib/python3.6/dist-packages/ipykernel_launcher.py:8: UserWarning: To copy construct from a tensor, it is recommended to use sourceTensor.clone().detach() or sourceTensor.clone().detach().requires_grad_(True), rather than torch.tensor(sourceTensor).\n",
            "  \n",
            "/usr/local/lib/python3.6/dist-packages/ipykernel_launcher.py:8: UserWarning: To copy construct from a tensor, it is recommended to use sourceTensor.clone().detach() or sourceTensor.clone().detach().requires_grad_(True), rather than torch.tensor(sourceTensor).\n",
            "  \n",
            "/usr/local/lib/python3.6/dist-packages/ipykernel_launcher.py:8: UserWarning: To copy construct from a tensor, it is recommended to use sourceTensor.clone().detach() or sourceTensor.clone().detach().requires_grad_(True), rather than torch.tensor(sourceTensor).\n",
            "  \n"
          ],
          "name": "stderr"
        },
        {
          "output_type": "execute_result",
          "data": {
            "text/plain": [
              "TrainOutput(global_step=1855, training_loss=0.446664387582126, metrics={'train_runtime': 510.381, 'train_samples_per_second': 3.635, 'total_flos': 2686979866446720, 'epoch': 5.0})"
            ]
          },
          "metadata": {
            "tags": []
          },
          "execution_count": 18
        }
      ]
    },
    {
      "cell_type": "markdown",
      "metadata": {
        "id": "GjbXRmN-VUdr"
      },
      "source": [
        "We evaluate in the test set to see the accuracy that we obtain. Our goal at work will be to try to overcome this result. "
      ]
    },
    {
      "cell_type": "code",
      "metadata": {
        "colab": {
          "base_uri": "https://localhost:8080/",
          "height": 227
        },
        "id": "d2afP2KL-gTJ",
        "outputId": "80a0b2a6-7705-4cbe-84c7-af215e3de940"
      },
      "source": [
        "preds=trainer.predict(test_dataset)\n",
        "print(preds)"
      ],
      "execution_count": null,
      "outputs": [
        {
          "output_type": "stream",
          "text": [
            "/usr/local/lib/python3.6/dist-packages/ipykernel_launcher.py:8: UserWarning: To copy construct from a tensor, it is recommended to use sourceTensor.clone().detach() or sourceTensor.clone().detach().requires_grad_(True), rather than torch.tensor(sourceTensor).\n",
            "  \n"
          ],
          "name": "stderr"
        },
        {
          "output_type": "display_data",
          "data": {
            "text/html": [
              "\n",
              "    <div>\n",
              "        <style>\n",
              "            /* Turns off some styling */\n",
              "            progress {\n",
              "                /* gets rid of default border in Firefox and Opera. */\n",
              "                border: none;\n",
              "                /* Needs to be in here for Safari polyfill so background images work as expected. */\n",
              "                background-size: auto;\n",
              "            }\n",
              "        </style>\n",
              "      \n",
              "      <progress value='146' max='146' style='width:300px; height:20px; vertical-align: middle;'></progress>\n",
              "      [146/146 00:13]\n",
              "    </div>\n",
              "    "
            ],
            "text/plain": [
              "<IPython.core.display.HTML object>"
            ]
          },
          "metadata": {
            "tags": []
          }
        },
        {
          "output_type": "execute_result",
          "data": {
            "text/plain": [
              "PredictionOutput(predictions=array([[-0.36946732,  3.1318116 , -1.8239471 , -0.6128174 ],\n",
              "       [-0.33407512,  1.3950822 , -2.6558967 ,  2.2018979 ],\n",
              "       [ 0.08753696,  2.288856  , -2.6496446 ,  0.8094165 ],\n",
              "       ...,\n",
              "       [-2.8326008 ,  1.3234615 , -1.8957943 ,  3.078082  ],\n",
              "       [-1.0103228 ,  4.1213894 , -2.732635  , -0.08686901],\n",
              "       [ 1.1522063 , -0.6906149 , -2.3165646 ,  2.2966814 ]],\n",
              "      dtype=float32), label_ids=array([1, 1, 1, ..., 1, 1, 3]), metrics={'eval_loss': 0.5977388620376587, 'eval_accuracy': 0.8023156089193825, 'eval_f1': 0.695659933206171, 'eval_precision': 0.6892719210865181, 'eval_recall': 0.7049494513374441, 'eval_runtime': 13.3981, 'eval_samples_per_second': 174.054})"
            ]
          },
          "metadata": {
            "tags": []
          },
          "execution_count": 19
        }
      ]
    },
    {
      "cell_type": "markdown",
      "metadata": {
        "id": "5eAaPPgZWM-O"
      },
      "source": [
        "We generate our training set:"
      ]
    },
    {
      "cell_type": "code",
      "metadata": {
        "colab": {
          "base_uri": "https://localhost:8080/",
          "height": 91
        },
        "id": "ShFobclozfoc",
        "outputId": "cd7eb01d-4c3a-4f61-f237-e921a49f5d0c"
      },
      "source": [
        "X_train=trainer.predict(train_dataset)[0]\n",
        "y_train=train_dataset.labels"
      ],
      "execution_count": null,
      "outputs": [
        {
          "output_type": "stream",
          "text": [
            "/usr/local/lib/python3.6/dist-packages/ipykernel_launcher.py:8: UserWarning: To copy construct from a tensor, it is recommended to use sourceTensor.clone().detach() or sourceTensor.clone().detach().requires_grad_(True), rather than torch.tensor(sourceTensor).\n",
            "  \n"
          ],
          "name": "stderr"
        },
        {
          "output_type": "display_data",
          "data": {
            "text/html": [
              "\n",
              "    <div>\n",
              "        <style>\n",
              "            /* Turns off some styling */\n",
              "            progress {\n",
              "                /* gets rid of default border in Firefox and Opera. */\n",
              "                border: none;\n",
              "                /* Needs to be in here for Safari polyfill so background images work as expected. */\n",
              "                background-size: auto;\n",
              "            }\n",
              "        </style>\n",
              "      \n",
              "      <progress value='1113' max='371' style='width:300px; height:20px; vertical-align: middle;'></progress>\n",
              "      [371/371 02:42]\n",
              "    </div>\n",
              "    "
            ],
            "text/plain": [
              "<IPython.core.display.HTML object>"
            ]
          },
          "metadata": {
            "tags": []
          }
        }
      ]
    },
    {
      "cell_type": "markdown",
      "metadata": {
        "id": "ATf3y4cEWpip"
      },
      "source": [
        "We generate our validation set:"
      ]
    },
    {
      "cell_type": "code",
      "metadata": {
        "colab": {
          "base_uri": "https://localhost:8080/",
          "height": 91
        },
        "id": "lFLeaMIVzsr8",
        "outputId": "880f2d86-9038-4ac7-ad23-6e40f5c7fc64"
      },
      "source": [
        "X_val=trainer.predict(val_dataset)[0]\n",
        "y_val=val_dataset.labels"
      ],
      "execution_count": null,
      "outputs": [
        {
          "output_type": "stream",
          "text": [
            "/usr/local/lib/python3.6/dist-packages/ipykernel_launcher.py:8: UserWarning: To copy construct from a tensor, it is recommended to use sourceTensor.clone().detach() or sourceTensor.clone().detach().requires_grad_(True), rather than torch.tensor(sourceTensor).\n",
            "  \n"
          ],
          "name": "stderr"
        },
        {
          "output_type": "display_data",
          "data": {
            "text/html": [
              "\n",
              "    <div>\n",
              "        <style>\n",
              "            /* Turns off some styling */\n",
              "            progress {\n",
              "                /* gets rid of default border in Firefox and Opera. */\n",
              "                border: none;\n",
              "                /* Needs to be in here for Safari polyfill so background images work as expected. */\n",
              "                background-size: auto;\n",
              "            }\n",
              "        </style>\n",
              "      \n",
              "      <progress value='1206' max='371' style='width:300px; height:20px; vertical-align: middle;'></progress>\n",
              "      [371/371 03:13]\n",
              "    </div>\n",
              "    "
            ],
            "text/plain": [
              "<IPython.core.display.HTML object>"
            ]
          },
          "metadata": {
            "tags": []
          }
        }
      ]
    },
    {
      "cell_type": "markdown",
      "metadata": {
        "id": "JpSNJ-xKWslN"
      },
      "source": [
        "We generate our test set:"
      ]
    },
    {
      "cell_type": "code",
      "metadata": {
        "id": "XBGTcZB0czbL",
        "colab": {
          "base_uri": "https://localhost:8080/",
          "height": 91
        },
        "outputId": "0b595c4d-a5bf-4e09-9afe-d712a6784da0"
      },
      "source": [
        "X_test=trainer.predict(test_dataset)[0]\n",
        "y_test=test_dataset.labels"
      ],
      "execution_count": null,
      "outputs": [
        {
          "output_type": "stream",
          "text": [
            "/usr/local/lib/python3.6/dist-packages/ipykernel_launcher.py:8: UserWarning: To copy construct from a tensor, it is recommended to use sourceTensor.clone().detach() or sourceTensor.clone().detach().requires_grad_(True), rather than torch.tensor(sourceTensor).\n",
            "  \n"
          ],
          "name": "stderr"
        },
        {
          "output_type": "display_data",
          "data": {
            "text/html": [
              "\n",
              "    <div>\n",
              "        <style>\n",
              "            /* Turns off some styling */\n",
              "            progress {\n",
              "                /* gets rid of default border in Firefox and Opera. */\n",
              "                border: none;\n",
              "                /* Needs to be in here for Safari polyfill so background images work as expected. */\n",
              "                background-size: auto;\n",
              "            }\n",
              "        </style>\n",
              "      \n",
              "      <progress value='1352' max='371' style='width:300px; height:20px; vertical-align: middle;'></progress>\n",
              "      [371/371 03:29]\n",
              "    </div>\n",
              "    "
            ],
            "text/plain": [
              "<IPython.core.display.HTML object>"
            ]
          },
          "metadata": {
            "tags": []
          }
        }
      ]
    },
    {
      "cell_type": "markdown",
      "metadata": {
        "id": "GXMrtMIGYC-Q"
      },
      "source": [
        "### Storage"
      ]
    },
    {
      "cell_type": "markdown",
      "metadata": {
        "id": "tdo4Jkg_tZxH"
      },
      "source": [
        "We will store the different sets in Google Drive because it wouldn't be very smart to have to carry out this process every time we want to work with the dataset.\n",
        "\n",
        "Google drive"
      ]
    },
    {
      "cell_type": "code",
      "metadata": {
        "id": "N-KWfgQV4VZp",
        "colab": {
          "base_uri": "https://localhost:8080/"
        },
        "outputId": "0b7a55f3-0313-4fdc-f12c-225cfa269147"
      },
      "source": [
        "from google.colab import drive\n",
        "drive.mount('/content/drive')"
      ],
      "execution_count": null,
      "outputs": [
        {
          "output_type": "stream",
          "text": [
            "Mounted at /content/drive\n"
          ],
          "name": "stdout"
        }
      ]
    },
    {
      "cell_type": "markdown",
      "metadata": {
        "id": "-5hg1-6HXl59"
      },
      "source": [
        "We build the dataframe of the training set:"
      ]
    },
    {
      "cell_type": "code",
      "metadata": {
        "id": "XorCVzIB4wYs"
      },
      "source": [
        "df_train=pd.DataFrame(X_train)"
      ],
      "execution_count": null,
      "outputs": []
    },
    {
      "cell_type": "code",
      "metadata": {
        "id": "sfx4cZEi4779"
      },
      "source": [
        "df_train['target']=y_train"
      ],
      "execution_count": null,
      "outputs": []
    },
    {
      "cell_type": "code",
      "metadata": {
        "colab": {
          "base_uri": "https://localhost:8080/",
          "height": 419
        },
        "id": "csgToLD95Ia7",
        "outputId": "c5f53138-01f5-48c8-bfa9-b5bcb1770d33"
      },
      "source": [
        "df_train"
      ],
      "execution_count": null,
      "outputs": [
        {
          "output_type": "execute_result",
          "data": {
            "text/html": [
              "<div>\n",
              "<style scoped>\n",
              "    .dataframe tbody tr th:only-of-type {\n",
              "        vertical-align: middle;\n",
              "    }\n",
              "\n",
              "    .dataframe tbody tr th {\n",
              "        vertical-align: top;\n",
              "    }\n",
              "\n",
              "    .dataframe thead th {\n",
              "        text-align: right;\n",
              "    }\n",
              "</style>\n",
              "<table border=\"1\" class=\"dataframe\">\n",
              "  <thead>\n",
              "    <tr style=\"text-align: right;\">\n",
              "      <th></th>\n",
              "      <th>0</th>\n",
              "      <th>1</th>\n",
              "      <th>2</th>\n",
              "      <th>3</th>\n",
              "      <th>target</th>\n",
              "    </tr>\n",
              "  </thead>\n",
              "  <tbody>\n",
              "    <tr>\n",
              "      <th>0</th>\n",
              "      <td>-1.293631</td>\n",
              "      <td>2.748762</td>\n",
              "      <td>-2.130222</td>\n",
              "      <td>1.196148</td>\n",
              "      <td>1</td>\n",
              "    </tr>\n",
              "    <tr>\n",
              "      <th>1</th>\n",
              "      <td>4.647594</td>\n",
              "      <td>-1.084238</td>\n",
              "      <td>-0.898714</td>\n",
              "      <td>-1.535431</td>\n",
              "      <td>0</td>\n",
              "    </tr>\n",
              "    <tr>\n",
              "      <th>2</th>\n",
              "      <td>-1.659753</td>\n",
              "      <td>4.144322</td>\n",
              "      <td>-2.399093</td>\n",
              "      <td>0.195700</td>\n",
              "      <td>1</td>\n",
              "    </tr>\n",
              "    <tr>\n",
              "      <th>3</th>\n",
              "      <td>-1.398930</td>\n",
              "      <td>3.306299</td>\n",
              "      <td>-0.656916</td>\n",
              "      <td>-0.551083</td>\n",
              "      <td>1</td>\n",
              "    </tr>\n",
              "    <tr>\n",
              "      <th>4</th>\n",
              "      <td>-0.787929</td>\n",
              "      <td>4.022158</td>\n",
              "      <td>-2.428761</td>\n",
              "      <td>-0.496311</td>\n",
              "      <td>1</td>\n",
              "    </tr>\n",
              "    <tr>\n",
              "      <th>...</th>\n",
              "      <td>...</td>\n",
              "      <td>...</td>\n",
              "      <td>...</td>\n",
              "      <td>...</td>\n",
              "      <td>...</td>\n",
              "    </tr>\n",
              "    <tr>\n",
              "      <th>5923</th>\n",
              "      <td>-1.404118</td>\n",
              "      <td>3.882471</td>\n",
              "      <td>-1.619165</td>\n",
              "      <td>-0.556367</td>\n",
              "      <td>1</td>\n",
              "    </tr>\n",
              "    <tr>\n",
              "      <th>5924</th>\n",
              "      <td>4.509937</td>\n",
              "      <td>-2.190701</td>\n",
              "      <td>0.997496</td>\n",
              "      <td>-2.306309</td>\n",
              "      <td>0</td>\n",
              "    </tr>\n",
              "    <tr>\n",
              "      <th>5925</th>\n",
              "      <td>-0.435910</td>\n",
              "      <td>2.994444</td>\n",
              "      <td>-2.988686</td>\n",
              "      <td>0.569274</td>\n",
              "      <td>1</td>\n",
              "    </tr>\n",
              "    <tr>\n",
              "      <th>5926</th>\n",
              "      <td>-1.183845</td>\n",
              "      <td>4.287461</td>\n",
              "      <td>-2.268306</td>\n",
              "      <td>-0.580759</td>\n",
              "      <td>1</td>\n",
              "    </tr>\n",
              "    <tr>\n",
              "      <th>5927</th>\n",
              "      <td>-0.905734</td>\n",
              "      <td>4.119889</td>\n",
              "      <td>-2.483778</td>\n",
              "      <td>-0.514687</td>\n",
              "      <td>1</td>\n",
              "    </tr>\n",
              "  </tbody>\n",
              "</table>\n",
              "<p>5928 rows × 5 columns</p>\n",
              "</div>"
            ],
            "text/plain": [
              "             0         1         2         3  target\n",
              "0    -1.293631  2.748762 -2.130222  1.196148       1\n",
              "1     4.647594 -1.084238 -0.898714 -1.535431       0\n",
              "2    -1.659753  4.144322 -2.399093  0.195700       1\n",
              "3    -1.398930  3.306299 -0.656916 -0.551083       1\n",
              "4    -0.787929  4.022158 -2.428761 -0.496311       1\n",
              "...        ...       ...       ...       ...     ...\n",
              "5923 -1.404118  3.882471 -1.619165 -0.556367       1\n",
              "5924  4.509937 -2.190701  0.997496 -2.306309       0\n",
              "5925 -0.435910  2.994444 -2.988686  0.569274       1\n",
              "5926 -1.183845  4.287461 -2.268306 -0.580759       1\n",
              "5927 -0.905734  4.119889 -2.483778 -0.514687       1\n",
              "\n",
              "[5928 rows x 5 columns]"
            ]
          },
          "metadata": {
            "tags": []
          },
          "execution_count": 47
        }
      ]
    },
    {
      "cell_type": "markdown",
      "metadata": {
        "id": "TSnl-ddWXsIv"
      },
      "source": [
        "We store the training set in Google Drive"
      ]
    },
    {
      "cell_type": "code",
      "metadata": {
        "id": "LXUgdNN9_XnD"
      },
      "source": [
        "df_train.to_csv(r'drive/MyDrive/train.csv')"
      ],
      "execution_count": null,
      "outputs": []
    },
    {
      "cell_type": "markdown",
      "metadata": {
        "id": "WV1TLH1mXqug"
      },
      "source": [
        "We build the dataframe of the test set:"
      ]
    },
    {
      "cell_type": "code",
      "metadata": {
        "id": "zOdoQAZF5NmD"
      },
      "source": [
        "df_test=pd.DataFrame(X_test)"
      ],
      "execution_count": null,
      "outputs": []
    },
    {
      "cell_type": "code",
      "metadata": {
        "id": "NiIXQIfz5NmD"
      },
      "source": [
        "df_test['target']=y_test"
      ],
      "execution_count": null,
      "outputs": []
    },
    {
      "cell_type": "code",
      "metadata": {
        "colab": {
          "base_uri": "https://localhost:8080/",
          "height": 419
        },
        "id": "tCHmNw0o5NmD",
        "outputId": "a4a782c4-34d9-4a63-dc43-a01ac91df95b"
      },
      "source": [
        "df_test"
      ],
      "execution_count": null,
      "outputs": [
        {
          "output_type": "execute_result",
          "data": {
            "text/html": [
              "<div>\n",
              "<style scoped>\n",
              "    .dataframe tbody tr th:only-of-type {\n",
              "        vertical-align: middle;\n",
              "    }\n",
              "\n",
              "    .dataframe tbody tr th {\n",
              "        vertical-align: top;\n",
              "    }\n",
              "\n",
              "    .dataframe thead th {\n",
              "        text-align: right;\n",
              "    }\n",
              "</style>\n",
              "<table border=\"1\" class=\"dataframe\">\n",
              "  <thead>\n",
              "    <tr style=\"text-align: right;\">\n",
              "      <th></th>\n",
              "      <th>0</th>\n",
              "      <th>1</th>\n",
              "      <th>2</th>\n",
              "      <th>3</th>\n",
              "      <th>target</th>\n",
              "    </tr>\n",
              "  </thead>\n",
              "  <tbody>\n",
              "    <tr>\n",
              "      <th>0</th>\n",
              "      <td>4.904269</td>\n",
              "      <td>-1.825523</td>\n",
              "      <td>0.070935</td>\n",
              "      <td>-2.107171</td>\n",
              "      <td>0</td>\n",
              "    </tr>\n",
              "    <tr>\n",
              "      <th>1</th>\n",
              "      <td>4.758485</td>\n",
              "      <td>-1.601844</td>\n",
              "      <td>-0.192471</td>\n",
              "      <td>-1.943979</td>\n",
              "      <td>0</td>\n",
              "    </tr>\n",
              "    <tr>\n",
              "      <th>2</th>\n",
              "      <td>-1.388373</td>\n",
              "      <td>4.195541</td>\n",
              "      <td>-2.462697</td>\n",
              "      <td>-0.296913</td>\n",
              "      <td>1</td>\n",
              "    </tr>\n",
              "    <tr>\n",
              "      <th>3</th>\n",
              "      <td>-0.201236</td>\n",
              "      <td>2.542180</td>\n",
              "      <td>-2.954631</td>\n",
              "      <td>0.767193</td>\n",
              "      <td>1</td>\n",
              "    </tr>\n",
              "    <tr>\n",
              "      <th>4</th>\n",
              "      <td>-0.082365</td>\n",
              "      <td>2.109181</td>\n",
              "      <td>-2.628646</td>\n",
              "      <td>0.829260</td>\n",
              "      <td>1</td>\n",
              "    </tr>\n",
              "    <tr>\n",
              "      <th>...</th>\n",
              "      <td>...</td>\n",
              "      <td>...</td>\n",
              "      <td>...</td>\n",
              "      <td>...</td>\n",
              "      <td>...</td>\n",
              "    </tr>\n",
              "    <tr>\n",
              "      <th>2327</th>\n",
              "      <td>-1.852268</td>\n",
              "      <td>1.021926</td>\n",
              "      <td>-1.735861</td>\n",
              "      <td>2.302082</td>\n",
              "      <td>1</td>\n",
              "    </tr>\n",
              "    <tr>\n",
              "      <th>2328</th>\n",
              "      <td>-0.582042</td>\n",
              "      <td>-0.708455</td>\n",
              "      <td>-0.929963</td>\n",
              "      <td>2.461484</td>\n",
              "      <td>3</td>\n",
              "    </tr>\n",
              "    <tr>\n",
              "      <th>2329</th>\n",
              "      <td>-1.371834</td>\n",
              "      <td>-1.933305</td>\n",
              "      <td>0.028539</td>\n",
              "      <td>2.291581</td>\n",
              "      <td>3</td>\n",
              "    </tr>\n",
              "    <tr>\n",
              "      <th>2330</th>\n",
              "      <td>4.829815</td>\n",
              "      <td>-2.168799</td>\n",
              "      <td>0.366358</td>\n",
              "      <td>-2.005275</td>\n",
              "      <td>0</td>\n",
              "    </tr>\n",
              "    <tr>\n",
              "      <th>2331</th>\n",
              "      <td>3.590292</td>\n",
              "      <td>-2.182392</td>\n",
              "      <td>1.535908</td>\n",
              "      <td>-2.518527</td>\n",
              "      <td>0</td>\n",
              "    </tr>\n",
              "  </tbody>\n",
              "</table>\n",
              "<p>2332 rows × 5 columns</p>\n",
              "</div>"
            ],
            "text/plain": [
              "             0         1         2         3  target\n",
              "0     4.904269 -1.825523  0.070935 -2.107171       0\n",
              "1     4.758485 -1.601844 -0.192471 -1.943979       0\n",
              "2    -1.388373  4.195541 -2.462697 -0.296913       1\n",
              "3    -0.201236  2.542180 -2.954631  0.767193       1\n",
              "4    -0.082365  2.109181 -2.628646  0.829260       1\n",
              "...        ...       ...       ...       ...     ...\n",
              "2327 -1.852268  1.021926 -1.735861  2.302082       1\n",
              "2328 -0.582042 -0.708455 -0.929963  2.461484       3\n",
              "2329 -1.371834 -1.933305  0.028539  2.291581       3\n",
              "2330  4.829815 -2.168799  0.366358 -2.005275       0\n",
              "2331  3.590292 -2.182392  1.535908 -2.518527       0\n",
              "\n",
              "[2332 rows x 5 columns]"
            ]
          },
          "metadata": {
            "tags": []
          },
          "execution_count": 46
        }
      ]
    },
    {
      "cell_type": "markdown",
      "metadata": {
        "id": "nJRR5BnQX32Q"
      },
      "source": [
        "We store the training set in Google Drive"
      ]
    },
    {
      "cell_type": "code",
      "metadata": {
        "id": "tleZrGoW_-Kj"
      },
      "source": [
        "df_test.to_csv(r'drive/MyDrive/test.csv')"
      ],
      "execution_count": null,
      "outputs": []
    },
    {
      "cell_type": "markdown",
      "metadata": {
        "id": "2cTVcdrXX1yo"
      },
      "source": [
        "We build the dataframe of the validation set:"
      ]
    },
    {
      "cell_type": "code",
      "metadata": {
        "id": "bG_5dDr85Wnk"
      },
      "source": [
        "df_val=pd.DataFrame(X_val)"
      ],
      "execution_count": null,
      "outputs": []
    },
    {
      "cell_type": "code",
      "metadata": {
        "id": "2npiriHb5Wnk"
      },
      "source": [
        "df_val['target']=y_val"
      ],
      "execution_count": null,
      "outputs": []
    },
    {
      "cell_type": "code",
      "metadata": {
        "colab": {
          "base_uri": "https://localhost:8080/",
          "height": 419
        },
        "id": "lsqp2b2v5Wnl",
        "outputId": "b918c669-2ab1-43b2-8591-32c9a5f7a7f7"
      },
      "source": [
        "df_val"
      ],
      "execution_count": null,
      "outputs": [
        {
          "output_type": "execute_result",
          "data": {
            "text/html": [
              "<div>\n",
              "<style scoped>\n",
              "    .dataframe tbody tr th:only-of-type {\n",
              "        vertical-align: middle;\n",
              "    }\n",
              "\n",
              "    .dataframe tbody tr th {\n",
              "        vertical-align: top;\n",
              "    }\n",
              "\n",
              "    .dataframe thead th {\n",
              "        text-align: right;\n",
              "    }\n",
              "</style>\n",
              "<table border=\"1\" class=\"dataframe\">\n",
              "  <thead>\n",
              "    <tr style=\"text-align: right;\">\n",
              "      <th></th>\n",
              "      <th>0</th>\n",
              "      <th>1</th>\n",
              "      <th>2</th>\n",
              "      <th>3</th>\n",
              "      <th>target</th>\n",
              "    </tr>\n",
              "  </thead>\n",
              "  <tbody>\n",
              "    <tr>\n",
              "      <th>0</th>\n",
              "      <td>4.739733</td>\n",
              "      <td>-1.547232</td>\n",
              "      <td>-0.117512</td>\n",
              "      <td>-2.014709</td>\n",
              "      <td>0</td>\n",
              "    </tr>\n",
              "    <tr>\n",
              "      <th>1</th>\n",
              "      <td>-0.334840</td>\n",
              "      <td>-2.302449</td>\n",
              "      <td>3.385446</td>\n",
              "      <td>-0.712645</td>\n",
              "      <td>0</td>\n",
              "    </tr>\n",
              "    <tr>\n",
              "      <th>2</th>\n",
              "      <td>-0.357464</td>\n",
              "      <td>-1.602795</td>\n",
              "      <td>1.544989</td>\n",
              "      <td>0.624499</td>\n",
              "      <td>2</td>\n",
              "    </tr>\n",
              "    <tr>\n",
              "      <th>3</th>\n",
              "      <td>3.928335</td>\n",
              "      <td>-2.487808</td>\n",
              "      <td>1.136123</td>\n",
              "      <td>-2.230691</td>\n",
              "      <td>0</td>\n",
              "    </tr>\n",
              "    <tr>\n",
              "      <th>4</th>\n",
              "      <td>-2.505995</td>\n",
              "      <td>-0.854957</td>\n",
              "      <td>-0.648927</td>\n",
              "      <td>3.182791</td>\n",
              "      <td>3</td>\n",
              "    </tr>\n",
              "    <tr>\n",
              "      <th>...</th>\n",
              "      <td>...</td>\n",
              "      <td>...</td>\n",
              "      <td>...</td>\n",
              "      <td>...</td>\n",
              "      <td>...</td>\n",
              "    </tr>\n",
              "    <tr>\n",
              "      <th>1478</th>\n",
              "      <td>-0.201234</td>\n",
              "      <td>2.542181</td>\n",
              "      <td>-2.954631</td>\n",
              "      <td>0.767191</td>\n",
              "      <td>1</td>\n",
              "    </tr>\n",
              "    <tr>\n",
              "      <th>1479</th>\n",
              "      <td>-2.387594</td>\n",
              "      <td>-0.465571</td>\n",
              "      <td>-0.264148</td>\n",
              "      <td>2.848187</td>\n",
              "      <td>3</td>\n",
              "    </tr>\n",
              "    <tr>\n",
              "      <th>1480</th>\n",
              "      <td>-1.162039</td>\n",
              "      <td>2.858981</td>\n",
              "      <td>-0.119663</td>\n",
              "      <td>-1.075429</td>\n",
              "      <td>2</td>\n",
              "    </tr>\n",
              "    <tr>\n",
              "      <th>1481</th>\n",
              "      <td>-1.496462</td>\n",
              "      <td>3.910342</td>\n",
              "      <td>-2.682663</td>\n",
              "      <td>0.425741</td>\n",
              "      <td>3</td>\n",
              "    </tr>\n",
              "    <tr>\n",
              "      <th>1482</th>\n",
              "      <td>-1.189801</td>\n",
              "      <td>4.219219</td>\n",
              "      <td>-2.312668</td>\n",
              "      <td>-0.483982</td>\n",
              "      <td>1</td>\n",
              "    </tr>\n",
              "  </tbody>\n",
              "</table>\n",
              "<p>1483 rows × 5 columns</p>\n",
              "</div>"
            ],
            "text/plain": [
              "             0         1         2         3  target\n",
              "0     4.739733 -1.547232 -0.117512 -2.014709       0\n",
              "1    -0.334840 -2.302449  3.385446 -0.712645       0\n",
              "2    -0.357464 -1.602795  1.544989  0.624499       2\n",
              "3     3.928335 -2.487808  1.136123 -2.230691       0\n",
              "4    -2.505995 -0.854957 -0.648927  3.182791       3\n",
              "...        ...       ...       ...       ...     ...\n",
              "1478 -0.201234  2.542181 -2.954631  0.767191       1\n",
              "1479 -2.387594 -0.465571 -0.264148  2.848187       3\n",
              "1480 -1.162039  2.858981 -0.119663 -1.075429       2\n",
              "1481 -1.496462  3.910342 -2.682663  0.425741       3\n",
              "1482 -1.189801  4.219219 -2.312668 -0.483982       1\n",
              "\n",
              "[1483 rows x 5 columns]"
            ]
          },
          "metadata": {
            "tags": []
          },
          "execution_count": 48
        }
      ]
    },
    {
      "cell_type": "markdown",
      "metadata": {
        "id": "GZEa8Y41X9i4"
      },
      "source": [
        "We store the dataframe in Google Drive"
      ]
    },
    {
      "cell_type": "code",
      "metadata": {
        "id": "1D_-hdhqADyS"
      },
      "source": [
        "df_val.to_csv(r'drive/MyDrive/val.csv')"
      ],
      "execution_count": null,
      "outputs": []
    },
    {
      "cell_type": "markdown",
      "metadata": {
        "id": "DooPNu8oT1B-"
      },
      "source": [
        "# Algorithms\n",
        "We search for the best hyperparameters for our algorithms"
      ]
    },
    {
      "cell_type": "code",
      "metadata": {
        "id": "GT7TLFjTd5O2"
      },
      "source": [
        "%%capture\n",
        "!wget https://www.dropbox.com/s/f8rikgc29bhebp9/dataset.zip?dl=1 -O dataset.zip\n",
        "!unzip dataset"
      ],
      "execution_count": null,
      "outputs": []
    },
    {
      "cell_type": "markdown",
      "metadata": {
        "id": "a-XyyIXGBg0T"
      },
      "source": [
        "### Libraries"
      ]
    },
    {
      "cell_type": "code",
      "metadata": {
        "id": "0Q5NtO38eyNc"
      },
      "source": [
        "import cv2\n",
        "import json\n",
        "import os\n",
        "import re\n",
        "import matplotlib.pyplot as plt\n",
        "import numpy as np\n",
        "import pandas as pd\n",
        "from pathlib import Path\n",
        "import glob\n",
        "from sklearn.model_selection import train_test_split\n",
        "from sklearn.utils import resample\n",
        "from sklearn.preprocessing import StandardScaler\n",
        "from sklearn.linear_model import LogisticRegression\n",
        "from sklearn.metrics import accuracy_score\n",
        "import seaborn as sns; sns.set()\n",
        "from sklearn.metrics import classification_report\n",
        "from sklearn.metrics import confusion_matrix"
      ],
      "execution_count": 6,
      "outputs": []
    },
    {
      "cell_type": "markdown",
      "metadata": {
        "id": "hsMeUtMmnXT9"
      },
      "source": [
        "## Load the dataset"
      ]
    },
    {
      "cell_type": "code",
      "metadata": {
        "id": "CYT_eFMiB_ys"
      },
      "source": [
        "df_train=pd.read_csv('/content/data/train.csv',header=0,names=['var1', 'var2', 'var3', 'var4','target'])\n",
        "df_test=pd.read_csv('/content/data/test.csv',header=0,names=['var1', 'var2', 'var3', 'var4','target'])\n",
        "df_val=pd.read_csv('/content/data/val.csv',header=0,names=['var1', 'var2', 'var3', 'var4','target'])"
      ],
      "execution_count": 7,
      "outputs": []
    },
    {
      "cell_type": "code",
      "metadata": {
        "id": "PUiWya3_h8Rt"
      },
      "source": [
        "y_train = df_train.target\n",
        "X_train = df_train.drop('target', axis=1)\n",
        "\n",
        "y_val = df_val.target\n",
        "X_val = df_val.drop('target', axis=1)"
      ],
      "execution_count": 8,
      "outputs": []
    },
    {
      "cell_type": "markdown",
      "metadata": {
        "id": "cBCJ1Vcocagh"
      },
      "source": [
        "## kNN (K-Nearest Neighbors)"
      ]
    },
    {
      "cell_type": "code",
      "metadata": {
        "id": "IwW2mYj8m5vK"
      },
      "source": [
        "from sklearn.neighbors import KNeighborsClassifier"
      ],
      "execution_count": null,
      "outputs": []
    },
    {
      "cell_type": "markdown",
      "metadata": {
        "id": "YG7eLknIitVi"
      },
      "source": [
        "### Searching for the best hyperparameters: \n"
      ]
    },
    {
      "cell_type": "markdown",
      "metadata": {
        "id": "PA7eNvZcmN2q"
      },
      "source": [
        "#### **GRIDSEARCH:**"
      ]
    },
    {
      "cell_type": "code",
      "metadata": {
        "id": "_P1cyQe0fapU",
        "colab": {
          "base_uri": "https://localhost:8080/"
        },
        "outputId": "bfe7af5a-18a8-44e0-b44a-bb9fc086b11b"
      },
      "source": [
        "%%time\n",
        "from sklearn.model_selection import GridSearchCV\n",
        "\n",
        "param_grid = {\n",
        "    'n_neighbors': [i for i in range (1,32,2)],\n",
        "    'weights': ['uniform', 'distance'],\n",
        "    'metric':['euclidean', 'manhattan']\n",
        "    }  \n",
        "\n",
        "grid_search_knn = GridSearchCV(KNeighborsClassifier(), param_grid, cv=3, scoring='accuracy',\n",
        "                           refit= True, verbose=2, n_jobs=-1)\n",
        "grid_search_knn.fit(X_train, y_train)"
      ],
      "execution_count": null,
      "outputs": [
        {
          "output_type": "stream",
          "text": [
            "Fitting 3 folds for each of 64 candidates, totalling 192 fits\n"
          ],
          "name": "stdout"
        },
        {
          "output_type": "stream",
          "text": [
            "[Parallel(n_jobs=-1)]: Using backend LokyBackend with 2 concurrent workers.\n",
            "[Parallel(n_jobs=-1)]: Done 128 tasks      | elapsed:    6.0s\n"
          ],
          "name": "stderr"
        },
        {
          "output_type": "stream",
          "text": [
            "CPU times: user 384 ms, sys: 17.6 ms, total: 402 ms\n",
            "Wall time: 9.24 s\n"
          ],
          "name": "stdout"
        },
        {
          "output_type": "stream",
          "text": [
            "[Parallel(n_jobs=-1)]: Done 192 out of 192 | elapsed:    9.2s finished\n"
          ],
          "name": "stderr"
        }
      ]
    },
    {
      "cell_type": "code",
      "metadata": {
        "id": "vR0N9up1fapW",
        "colab": {
          "base_uri": "https://localhost:8080/"
        },
        "outputId": "7ecab170-9a45-4887-ebb9-671c5f773946"
      },
      "source": [
        "grid_search_knn.best_params_"
      ],
      "execution_count": null,
      "outputs": [
        {
          "output_type": "execute_result",
          "data": {
            "text/plain": [
              "{'metric': 'manhattan', 'n_neighbors': 23, 'weights': 'uniform'}"
            ]
          },
          "metadata": {
            "tags": []
          },
          "execution_count": 26
        }
      ]
    },
    {
      "cell_type": "code",
      "metadata": {
        "colab": {
          "base_uri": "https://localhost:8080/"
        },
        "id": "C62yI1tilDGS",
        "outputId": "30e319bf-8a05-4999-b2c2-10f6871f7f61"
      },
      "source": [
        "grid_search_knn.best_score_"
      ],
      "execution_count": null,
      "outputs": [
        {
          "output_type": "execute_result",
          "data": {
            "text/plain": [
              "0.9325236167341431"
            ]
          },
          "metadata": {
            "tags": []
          },
          "execution_count": 27
        }
      ]
    },
    {
      "cell_type": "code",
      "metadata": {
        "id": "qgNLf7BqlePa"
      },
      "source": [
        "knn=grid_search_knn.best_estimator_"
      ],
      "execution_count": null,
      "outputs": []
    },
    {
      "cell_type": "code",
      "metadata": {
        "colab": {
          "base_uri": "https://localhost:8080/"
        },
        "id": "4Ni_1msLlhaw",
        "outputId": "616f7579-be50-4784-fc5e-797ea5f10cce"
      },
      "source": [
        "print(f'> Conjunto de validación: {knn.score(X_val,y_val)}')"
      ],
      "execution_count": null,
      "outputs": [
        {
          "output_type": "stream",
          "text": [
            "> Conjunto de validación: 0.7963587322993931\n"
          ],
          "name": "stdout"
        }
      ]
    },
    {
      "cell_type": "markdown",
      "metadata": {
        "id": "whFNmppdoCtv"
      },
      "source": [
        "#### **RANDOM SEARCH**"
      ]
    },
    {
      "cell_type": "code",
      "metadata": {
        "id": "oh9hN78toBeI",
        "colab": {
          "base_uri": "https://localhost:8080/"
        },
        "outputId": "8f0a9ca7-e745-412b-d085-c094caa145ea"
      },
      "source": [
        "%%time\n",
        "\n",
        "from sklearn.model_selection import RandomizedSearchCV\n",
        "from scipy.stats import randint\n",
        "\n",
        "param_distribs = {\n",
        "        'n_neighbors': randint(low=1, high=301), #A uniform discrete random variable.\n",
        "        'weights': ['uniform', 'distance'],\n",
        "        'metric':['euclidean', 'manhattan']\n",
        "    }\n",
        "\n",
        "\n",
        "rnd_search_knn = RandomizedSearchCV(KNeighborsClassifier(), param_distribs,\n",
        "                                n_iter=10, cv=3, scoring='accuracy', random_state=42, verbose=2, n_jobs=-1)\n",
        "\n",
        "rnd_search_knn.fit(X_train, y_train)"
      ],
      "execution_count": null,
      "outputs": [
        {
          "output_type": "stream",
          "text": [
            "Fitting 3 folds for each of 10 candidates, totalling 30 fits\n"
          ],
          "name": "stdout"
        },
        {
          "output_type": "stream",
          "text": [
            "[Parallel(n_jobs=-1)]: Using backend LokyBackend with 2 concurrent workers.\n"
          ],
          "name": "stderr"
        },
        {
          "output_type": "stream",
          "text": [
            "CPU times: user 166 ms, sys: 34.7 ms, total: 201 ms\n",
            "Wall time: 4.81 s\n"
          ],
          "name": "stdout"
        },
        {
          "output_type": "stream",
          "text": [
            "[Parallel(n_jobs=-1)]: Done  30 out of  30 | elapsed:    4.8s finished\n"
          ],
          "name": "stderr"
        }
      ]
    },
    {
      "cell_type": "code",
      "metadata": {
        "colab": {
          "base_uri": "https://localhost:8080/"
        },
        "id": "XhEk0lm3o68S",
        "outputId": "8641e09e-0479-4e9a-8a95-ba3ad8efa352"
      },
      "source": [
        "rnd_search_knn.best_params_"
      ],
      "execution_count": null,
      "outputs": [
        {
          "output_type": "execute_result",
          "data": {
            "text/plain": [
              "{'metric': 'manhattan', 'n_neighbors': 22, 'weights': 'uniform'}"
            ]
          },
          "metadata": {
            "tags": []
          },
          "execution_count": 10
        }
      ]
    },
    {
      "cell_type": "code",
      "metadata": {
        "colab": {
          "base_uri": "https://localhost:8080/"
        },
        "id": "36PfdPpZo68T",
        "outputId": "bca2aef0-d440-40c3-e39d-a6c44a855067"
      },
      "source": [
        "rnd_search_knn.best_score_"
      ],
      "execution_count": null,
      "outputs": [
        {
          "output_type": "execute_result",
          "data": {
            "text/plain": [
              "0.9323549257759783"
            ]
          },
          "metadata": {
            "tags": []
          },
          "execution_count": 11
        }
      ]
    },
    {
      "cell_type": "code",
      "metadata": {
        "id": "MX_vtpvUo68T"
      },
      "source": [
        "knn=rnd_search_knn.best_estimator_"
      ],
      "execution_count": null,
      "outputs": []
    },
    {
      "cell_type": "code",
      "metadata": {
        "colab": {
          "base_uri": "https://localhost:8080/"
        },
        "id": "VfhL9L-wo68U",
        "outputId": "90fb7a46-7809-4be4-873c-d6462df9c993"
      },
      "source": [
        "print(f'> Conjunto de validación: {knn.score(X_val,y_val)}')"
      ],
      "execution_count": null,
      "outputs": [
        {
          "output_type": "stream",
          "text": [
            "> Conjunto de validación: 0.7983816587997303\n"
          ],
          "name": "stdout"
        }
      ]
    },
    {
      "cell_type": "markdown",
      "metadata": {
        "id": "SnxOmYOLmUK9"
      },
      "source": [
        "#### **Optimización Bayesiana:**"
      ]
    },
    {
      "cell_type": "code",
      "metadata": {
        "id": "lOaRMVnEQVXE"
      },
      "source": [
        "%%capture\n",
        "! pip install scikit-optimize"
      ],
      "execution_count": null,
      "outputs": []
    },
    {
      "cell_type": "code",
      "metadata": {
        "id": "mRC38f-aSMMm"
      },
      "source": [
        "from skopt import BayesSearchCV"
      ],
      "execution_count": null,
      "outputs": []
    },
    {
      "cell_type": "code",
      "metadata": {
        "id": "zDhokvKcSMn-",
        "colab": {
          "base_uri": "https://localhost:8080/"
        },
        "outputId": "45ad0f4c-73e6-4814-e00e-1fd46c02bf8d"
      },
      "source": [
        "%%time\n",
        "\n",
        "from skopt.space import Real, Categorical, Integer #Permite definir el tipo\n",
        "param_distribs = {  #permite indicar la distribución de los parámetros\n",
        "        'n_neighbors': Integer(1, 300, 'uniform'), #Permite Integer, Categorical o Real\n",
        "        'weights': ['uniform', 'distance'],\n",
        "        'metric':['euclidean', 'manhattan']\n",
        "    }\n",
        "\n",
        "\n",
        "bayes_search_knn = BayesSearchCV(\n",
        "    KNeighborsClassifier(),\n",
        "    param_distribs,\n",
        "    n_iter=10,\n",
        "    cv=3, scoring='accuracy', random_state=42,\n",
        "    n_jobs=-1,\n",
        "    optimizer_kwargs={'base_estimator': 'GP'} # 'GP': Gaussean Process,'RF': Random Forest regressor,'ET': Extra Trees regressor, 'GBRT': gradient boosted trees\n",
        "  )\n",
        "bayes_search_knn.fit(X_train, y_train)\n",
        "\n",
        "print(bayes_search_knn.best_params_)"
      ],
      "execution_count": null,
      "outputs": [
        {
          "output_type": "stream",
          "text": [
            "OrderedDict([('metric', 'manhattan'), ('n_neighbors', 52), ('weights', 'uniform')])\n",
            "CPU times: user 877 ms, sys: 443 ms, total: 1.32 s\n",
            "Wall time: 5.99 s\n"
          ],
          "name": "stdout"
        }
      ]
    },
    {
      "cell_type": "code",
      "metadata": {
        "colab": {
          "base_uri": "https://localhost:8080/"
        },
        "id": "iz8ZGWGVmULA",
        "outputId": "82189b2e-399b-4eb7-94a0-458d9e826c62"
      },
      "source": [
        "bayes_search_knn.best_params_"
      ],
      "execution_count": null,
      "outputs": [
        {
          "output_type": "execute_result",
          "data": {
            "text/plain": [
              "OrderedDict([('metric', 'manhattan'),\n",
              "             ('n_neighbors', 52),\n",
              "             ('weights', 'uniform')])"
            ]
          },
          "metadata": {
            "tags": []
          },
          "execution_count": 34
        }
      ]
    },
    {
      "cell_type": "code",
      "metadata": {
        "colab": {
          "base_uri": "https://localhost:8080/"
        },
        "id": "HJi9aDjumULA",
        "outputId": "b8fe28b9-e79a-4bd7-a155-3b601195436f"
      },
      "source": [
        "bayes_search_knn.best_score_"
      ],
      "execution_count": null,
      "outputs": [
        {
          "output_type": "execute_result",
          "data": {
            "text/plain": [
              "0.9321862348178138"
            ]
          },
          "metadata": {
            "tags": []
          },
          "execution_count": 35
        }
      ]
    },
    {
      "cell_type": "code",
      "metadata": {
        "id": "T2enaBapmULB"
      },
      "source": [
        "knn=bayes_search_knn.best_estimator_"
      ],
      "execution_count": null,
      "outputs": []
    },
    {
      "cell_type": "code",
      "metadata": {
        "colab": {
          "base_uri": "https://localhost:8080/"
        },
        "id": "FyTKBUuvmULC",
        "outputId": "26a75386-f905-4ed0-da64-dd84303af565"
      },
      "source": [
        "print(f'> Conjunto de validación: {knn.score(X_val,y_val)}')"
      ],
      "execution_count": null,
      "outputs": [
        {
          "output_type": "stream",
          "text": [
            "> Conjunto de validación: 0.799055967633176\n"
          ],
          "name": "stdout"
        }
      ]
    },
    {
      "cell_type": "markdown",
      "metadata": {
        "id": "77FgpTSNpnYk"
      },
      "source": [
        "#### **HYPERBAND:**"
      ]
    },
    {
      "cell_type": "code",
      "metadata": {
        "id": "N_W4AVDws-ru"
      },
      "source": [
        "%%capture\n",
        "!git clone https://github.com/thuijskens/scikit-hyperband.git\n",
        "%cd scikit-hyperband\n",
        "!python setup.py install"
      ],
      "execution_count": null,
      "outputs": []
    },
    {
      "cell_type": "code",
      "metadata": {
        "id": "jQifkrEks-rv"
      },
      "source": [
        "from hyperband import HyperbandSearchCV\n",
        "import warnings\n",
        "warnings.filterwarnings('ignore')"
      ],
      "execution_count": null,
      "outputs": []
    },
    {
      "cell_type": "code",
      "metadata": {
        "id": "hdKJV6AYs-rx"
      },
      "source": [
        "# Distributions or lists of parameters to try. Distributions must provide a rvs method for sampling (such as those from scipy.stats.distributions). If a list is given, it is sampled uniformly.\n",
        "param_grid = {  \n",
        "     'n_neighbors': [i for i in range (1,100,2)],\n",
        "     'weights': ['uniform', 'distance'],\n",
        "     'metric':['euclidean', 'manhattan']\n",
        "     }\n"
      ],
      "execution_count": null,
      "outputs": []
    },
    {
      "cell_type": "code",
      "metadata": {
        "id": "PIduUZCZs-ry",
        "colab": {
          "base_uri": "https://localhost:8080/"
        },
        "outputId": "664c006d-f027-487b-f616-344ca2b0e331"
      },
      "source": [
        "%%time\n",
        "\n",
        "Hyb_search_knn = HyperbandSearchCV(KNeighborsClassifier(),\n",
        "                           param_grid,\n",
        "                           resource_param='n_neighbors', #Recursos que se asignarán en cada estimacion. En Random Forest tipicamente el número de árboles\n",
        "                           verbose =1,\n",
        "                           max_iter=500, #Numero de árboles máximo en una iteración\n",
        "                           min_iter=30, #Numero de árboles mínimo en una iteración\n",
        "                           eta=3, #Reducción de recursos en cada iteración\n",
        "                           cv=3,\n",
        "                           scoring='accuracy',\n",
        "                           random_state = 42)\n",
        "\n",
        "Hyb_search_knn.fit(X_train, y_train)"
      ],
      "execution_count": null,
      "outputs": [
        {
          "output_type": "stream",
          "text": [
            "Starting bracket 1 (out of 3) of hyperband\n",
            "Starting successive halving iteration 1 out of 3. Fitting 9 configurations, with resource_param n_neighbors set to 55, and keeping the best 3 configurations.\n",
            "Fitting 3 folds for each of 9 candidates, totalling 27 fits\n"
          ],
          "name": "stdout"
        },
        {
          "output_type": "stream",
          "text": [
            "[Parallel(n_jobs=1)]: Using backend SequentialBackend with 1 concurrent workers.\n",
            "[Parallel(n_jobs=1)]: Done  27 out of  27 | elapsed:    1.9s finished\n",
            "[Parallel(n_jobs=1)]: Using backend SequentialBackend with 1 concurrent workers.\n"
          ],
          "name": "stderr"
        },
        {
          "output_type": "stream",
          "text": [
            "Starting successive halving iteration 2 out of 3. Fitting 3 configurations, with resource_param n_neighbors set to 166, and keeping the best 1 configurations.\n",
            "Fitting 3 folds for each of 3 candidates, totalling 9 fits\n"
          ],
          "name": "stdout"
        },
        {
          "output_type": "stream",
          "text": [
            "[Parallel(n_jobs=1)]: Done   9 out of   9 | elapsed:    1.3s finished\n",
            "[Parallel(n_jobs=1)]: Using backend SequentialBackend with 1 concurrent workers.\n"
          ],
          "name": "stderr"
        },
        {
          "output_type": "stream",
          "text": [
            "Starting successive halving iteration 3 out of 3. Fitting 1 configurations, with resource_param n_neighbors set to 500\n",
            "Fitting 3 folds for each of 1 candidates, totalling 3 fits\n"
          ],
          "name": "stdout"
        },
        {
          "output_type": "stream",
          "text": [
            "[Parallel(n_jobs=1)]: Done   3 out of   3 | elapsed:    0.9s finished\n",
            "[Parallel(n_jobs=1)]: Using backend SequentialBackend with 1 concurrent workers.\n"
          ],
          "name": "stderr"
        },
        {
          "output_type": "stream",
          "text": [
            "Starting bracket 2 (out of 3) of hyperband\n",
            "Starting successive halving iteration 1 out of 2. Fitting 3 configurations, with resource_param n_neighbors set to 166, and keeping the best 1 configurations.\n",
            "Fitting 3 folds for each of 3 candidates, totalling 9 fits\n"
          ],
          "name": "stdout"
        },
        {
          "output_type": "stream",
          "text": [
            "[Parallel(n_jobs=1)]: Done   9 out of   9 | elapsed:    1.1s finished\n",
            "[Parallel(n_jobs=1)]: Using backend SequentialBackend with 1 concurrent workers.\n"
          ],
          "name": "stderr"
        },
        {
          "output_type": "stream",
          "text": [
            "Starting successive halving iteration 2 out of 2. Fitting 1 configurations, with resource_param n_neighbors set to 500\n",
            "Fitting 3 folds for each of 1 candidates, totalling 3 fits\n"
          ],
          "name": "stdout"
        },
        {
          "output_type": "stream",
          "text": [
            "[Parallel(n_jobs=1)]: Done   3 out of   3 | elapsed:    0.9s finished\n",
            "[Parallel(n_jobs=1)]: Using backend SequentialBackend with 1 concurrent workers.\n"
          ],
          "name": "stderr"
        },
        {
          "output_type": "stream",
          "text": [
            "Starting bracket 3 (out of 3) of hyperband\n",
            "Starting successive halving iteration 1 out of 1. Fitting 3 configurations, with resource_param n_neighbors set to 500, and keeping the best 1 configurations.\n",
            "Fitting 3 folds for each of 3 candidates, totalling 9 fits\n",
            "CPU times: user 8.72 s, sys: 5.71 ms, total: 8.72 s\n",
            "Wall time: 8.75 s\n"
          ],
          "name": "stdout"
        },
        {
          "output_type": "stream",
          "text": [
            "[Parallel(n_jobs=1)]: Done   9 out of   9 | elapsed:    2.6s finished\n"
          ],
          "name": "stderr"
        }
      ]
    },
    {
      "cell_type": "code",
      "metadata": {
        "colab": {
          "base_uri": "https://localhost:8080/"
        },
        "id": "9-l9Yd9EqTXD",
        "outputId": "62f5ce98-8cef-457c-ed52-7f83a5bd2c3f"
      },
      "source": [
        "Hyb_search_knn.best_params_"
      ],
      "execution_count": null,
      "outputs": [
        {
          "output_type": "execute_result",
          "data": {
            "text/plain": [
              "{'metric': 'manhattan', 'n_neighbors': 55, 'weights': 'uniform'}"
            ]
          },
          "metadata": {
            "tags": []
          },
          "execution_count": 18
        }
      ]
    },
    {
      "cell_type": "code",
      "metadata": {
        "colab": {
          "base_uri": "https://localhost:8080/"
        },
        "id": "OGhKiM2NqTXE",
        "outputId": "a17ba0cc-0b34-4400-dafe-baf0fb411933"
      },
      "source": [
        "Hyb_search_knn.best_score_"
      ],
      "execution_count": null,
      "outputs": [
        {
          "output_type": "execute_result",
          "data": {
            "text/plain": [
              "0.9320175438596491"
            ]
          },
          "metadata": {
            "tags": []
          },
          "execution_count": 19
        }
      ]
    },
    {
      "cell_type": "code",
      "metadata": {
        "id": "8uyng2OqqTXF"
      },
      "source": [
        "knn=Hyb_search_knn.best_estimator_"
      ],
      "execution_count": null,
      "outputs": []
    },
    {
      "cell_type": "code",
      "metadata": {
        "colab": {
          "base_uri": "https://localhost:8080/"
        },
        "id": "91F_MQX3qTXF",
        "outputId": "04c93ab0-efeb-419f-ea79-45212bbee4ec"
      },
      "source": [
        "print(f'> Conjunto de validación: {knn.score(X_val,y_val)}')"
      ],
      "execution_count": null,
      "outputs": [
        {
          "output_type": "stream",
          "text": [
            "> Conjunto de validación: 0.8004045853000674\n"
          ],
          "name": "stdout"
        }
      ]
    },
    {
      "cell_type": "markdown",
      "metadata": {
        "id": "107Ts4-Uq9bS"
      },
      "source": [
        "### The best hyperparameters for the model: \n",
        "\n",
        "\n",
        "\n",
        "```\n",
        "> metric: manhattan\n",
        "> n_neighbors: 55\n",
        "> weights: uniform\n",
        "```\n",
        "\n"
      ]
    },
    {
      "cell_type": "markdown",
      "metadata": {
        "id": "pxkqN95AEw6m"
      },
      "source": [
        "#### Confusion matrix an other metrics: "
      ]
    },
    {
      "cell_type": "code",
      "metadata": {
        "colab": {
          "base_uri": "https://localhost:8080/"
        },
        "id": "uz-jtwlNKfJN",
        "outputId": "5e8c1eba-2e5e-4431-854b-cacd284c1ded"
      },
      "source": [
        "knn = KNeighborsClassifier(n_neighbors=55, metric='manhattan',weights='uniform')\n",
        "knn.fit(X_train, y_train)\n",
        "y_pred = knn.predict(X_val)\n",
        "print('Accuracy: ' + str(knn.score(X_val, y_val)))\n",
        "print('')\n",
        "print(classification_report(y_val,y_pred))"
      ],
      "execution_count": null,
      "outputs": [
        {
          "output_type": "stream",
          "text": [
            "Accuracy: 0.8010788941335132\n",
            "\n",
            "              precision    recall  f1-score   support\n",
            "\n",
            "           0       0.87      0.88      0.87       692\n",
            "           1       0.81      0.84      0.82       530\n",
            "           2       0.53      0.61      0.56        84\n",
            "           3       0.61      0.49      0.54       177\n",
            "\n",
            "    accuracy                           0.80      1483\n",
            "   macro avg       0.70      0.70      0.70      1483\n",
            "weighted avg       0.80      0.80      0.80      1483\n",
            "\n"
          ],
          "name": "stdout"
        }
      ]
    },
    {
      "cell_type": "code",
      "metadata": {
        "colab": {
          "base_uri": "https://localhost:8080/"
        },
        "id": "u1j9VI3ROHmr",
        "outputId": "79132378-1c8e-4764-a51c-6683e3f72f0e"
      },
      "source": [
        "mat = confusion_matrix(y_val, y_pred)\n",
        "sns.heatmap(mat.T, square=True, annot=True, fmt='d', cbar=False,\n",
        "            xticklabels=['0', '1', '2', '3'], yticklabels=['0', '1', '2', '3'])\n",
        "plt.xlabel('true label')\n",
        "plt.ylabel('predicted label');"
      ],
      "execution_count": null,
      "outputs": [
        {
          "output_type": "display_data",
          "data": {
            "image/png": "[encoded data removed]",
            "text/plain": [
              "<Figure size 432x288 with 1 Axes>"
            ]
          },
          "metadata": {
            "tags": []
          }
        }
      ]
    },
    {
      "cell_type": "markdown",
      "metadata": {
        "id": "jzkL6f8EJdgP"
      },
      "source": [
        "### Evaluation"
      ]
    },
    {
      "cell_type": "markdown",
      "metadata": {
        "id": "fWTgEBqoVCxo"
      },
      "source": [
        "#### k-fold Cross Validation"
      ]
    },
    {
      "cell_type": "code",
      "metadata": {
        "id": "sokxVn0NVrve"
      },
      "source": [
        "from sklearn.model_selection import KFold\n",
        "from sklearn.model_selection import cross_val_score\n",
        "from numpy import mean\n",
        "from numpy import std"
      ],
      "execution_count": null,
      "outputs": []
    },
    {
      "cell_type": "code",
      "metadata": {
        "id": "sVhGRWfLVwqP",
        "colab": {
          "base_uri": "https://localhost:8080/"
        },
        "outputId": "8d55691e-58bf-4f8c-b659-47d4b43fff63"
      },
      "source": [
        "# preparar el procedimiento de cross-validation \n",
        "cv = KFold(n_splits=5, random_state=1)\n",
        "# crear el modelo\n",
        "model = KNeighborsClassifier(n_neighbors=55, metric='manhattan',weights='uniform')\n",
        "model.fit(X_train, y_train)\n",
        "# evaluar el modelo\n",
        "scores = cross_val_score(model, X_val, y_val, scoring='accuracy', cv=cv, n_jobs=-1)\n",
        "# mostrar el resultado\n",
        "print('Accuracy: %.3f (%.3f)' % (mean(scores), std(scores)))"
      ],
      "execution_count": null,
      "outputs": [
        {
          "output_type": "stream",
          "text": [
            "Accuracy: 0.805 (0.017)\n"
          ],
          "name": "stdout"
        }
      ]
    },
    {
      "cell_type": "code",
      "metadata": {
        "colab": {
          "base_uri": "https://localhost:8080/"
        },
        "id": "N4lmQXO8FpcA",
        "outputId": "923676f4-2b7d-4999-e337-37c95100ebb9"
      },
      "source": [
        "# preparar el procedimiento de cross-validation \n",
        "cv = KFold(n_splits=5, random_state=1, shuffle=True)\n",
        "# crear el modelo\n",
        "model = KNeighborsClassifier(n_neighbors=55, metric='manhattan',weights='uniform')\n",
        "model.fit(X_train, y_train)\n",
        "# evaluar el modelo\n",
        "scores = cross_val_score(model, X_val, y_val, scoring='accuracy', cv=cv, n_jobs=-1)\n",
        "# mostrar el resultado\n",
        "print('Accuracy: %.3f (%.3f)' % (mean(scores), std(scores)))"
      ],
      "execution_count": null,
      "outputs": [
        {
          "output_type": "stream",
          "text": [
            "Accuracy: 0.803 (0.015)\n"
          ],
          "name": "stdout"
        }
      ]
    },
    {
      "cell_type": "markdown",
      "metadata": {
        "id": "p_jANirAh0FB"
      },
      "source": [
        "#### Repeticiones de k-fold Cross Validation"
      ]
    },
    {
      "cell_type": "code",
      "metadata": {
        "id": "gPJ7v73TiBOX"
      },
      "source": [
        "from sklearn.model_selection import RepeatedKFold"
      ],
      "execution_count": null,
      "outputs": []
    },
    {
      "cell_type": "code",
      "metadata": {
        "id": "QzxPIXAKizpF",
        "colab": {
          "base_uri": "https://localhost:8080/"
        },
        "outputId": "846bacc0-0abd-4f7a-f930-ab042678d863"
      },
      "source": [
        "# preparar el procedimiento de cross-validation \n",
        "cv = RepeatedKFold(n_splits=5, n_repeats=1, random_state=1)\n",
        "# crear el modelo\n",
        "model = KNeighborsClassifier(n_neighbors=55, metric='manhattan',weights='uniform')\n",
        "model.fit(X_train, y_train)\n",
        "# evaluar el modelo\n",
        "scores = cross_val_score(model, X_val, y_val, scoring='accuracy', cv=cv, n_jobs=-1)\n",
        "# mostrar el resultado\n",
        "print('Accuracy: %.3f (%.3f)' % (mean(scores), std(scores)))"
      ],
      "execution_count": null,
      "outputs": [
        {
          "output_type": "stream",
          "text": [
            "Accuracy: 0.803 (0.015)\n"
          ],
          "name": "stdout"
        }
      ]
    },
    {
      "cell_type": "markdown",
      "metadata": {
        "id": "wiYekNXIk26Z"
      },
      "source": [
        "#### Stratified k-fold Cross Validation"
      ]
    },
    {
      "cell_type": "code",
      "metadata": {
        "id": "23hsJt8CG_Uq"
      },
      "source": [
        "from sklearn.model_selection import StratifiedKFold"
      ],
      "execution_count": null,
      "outputs": []
    },
    {
      "cell_type": "code",
      "metadata": {
        "colab": {
          "base_uri": "https://localhost:8080/"
        },
        "id": "sCRi9AxGG_Ur",
        "outputId": "b77e1781-afe7-42f2-f864-93e49a616069"
      },
      "source": [
        "# preparar el procedimiento de cross-validation \n",
        "cv = StratifiedKFold(n_splits=16,random_state=1, shuffle=False)\n",
        "# crear el modelo\n",
        "model = KNeighborsClassifier(n_neighbors=55, metric='manhattan',weights='uniform')\n",
        "model.fit(X_train, y_train)\n",
        "# evaluar el modelo\n",
        "scores = cross_val_score(model, X_val, y_val, scoring='accuracy', cv=cv, n_jobs=-1)\n",
        "# mostrar el resultado\n",
        "print('Accuracy: %.3f (%.3f)' % (mean(scores), std(scores)))"
      ],
      "execution_count": null,
      "outputs": [
        {
          "output_type": "stream",
          "text": [
            "Accuracy: 0.805 (0.031)\n"
          ],
          "name": "stdout"
        }
      ]
    },
    {
      "cell_type": "markdown",
      "metadata": {
        "id": "RhCyN1CwoIe-"
      },
      "source": [
        "#### Shuffle Split"
      ]
    },
    {
      "cell_type": "code",
      "metadata": {
        "id": "YDYX9EkxJpej"
      },
      "source": [
        "from sklearn.model_selection import ShuffleSplit"
      ],
      "execution_count": null,
      "outputs": []
    },
    {
      "cell_type": "code",
      "metadata": {
        "id": "nk4Ffws4JqWC",
        "colab": {
          "base_uri": "https://localhost:8080/"
        },
        "outputId": "8f0e84c2-207b-4d1f-e066-d4b1fa9d69ba"
      },
      "source": [
        "# preparar el procedimiento de cross-validation \n",
        "cv = ShuffleSplit(n_splits=16,train_size=0.8,random_state=1)\n",
        "# crear el modelo\n",
        "model = KNeighborsClassifier(n_neighbors=55, metric='manhattan',weights='uniform')\n",
        "model.fit(X_train, y_train)\n",
        "# evaluar el modelo\n",
        "scores = cross_val_score(model, X_val, y_val, scoring='accuracy', cv=cv, n_jobs=-1)\n",
        "# mostrar el resultado\n",
        "print('Accuracy: %.3f (%.3f)' % (mean(scores), std(scores)))"
      ],
      "execution_count": null,
      "outputs": [
        {
          "output_type": "stream",
          "text": [
            "Accuracy: 0.805 (0.018)\n"
          ],
          "name": "stdout"
        }
      ]
    },
    {
      "cell_type": "markdown",
      "metadata": {
        "id": "zEHPTOQsuN3C"
      },
      "source": [
        "### Summary\n",
        "\n",
        "The best hyperparameters for the model:\n",
        "\n",
        "```\n",
        "> metric: manhattan\n",
        "> n_neighbors: 55\n",
        "> weights: uniform\n",
        "```\n",
        "\n",
        "The best evaluation:\n",
        "\n",
        "```\n",
        "Shuffle Split: \n",
        "  > n_splits = 16\n",
        "  > train_size=0.8\n",
        "```\n",
        "### We obtain an accuracy of: 80.5%\n"
      ]
    },
    {
      "cell_type": "markdown",
      "metadata": {
        "id": "lrcXEjBxmnlw"
      },
      "source": [
        "## Decision Tree"
      ]
    },
    {
      "cell_type": "code",
      "metadata": {
        "id": "40SXssIwmnl6"
      },
      "source": [
        "from sklearn.tree import DecisionTreeClassifier"
      ],
      "execution_count": null,
      "outputs": []
    },
    {
      "cell_type": "markdown",
      "metadata": {
        "id": "2p3b7iItmnl7"
      },
      "source": [
        "### Searching for the best hyperparameters: \n"
      ]
    },
    {
      "cell_type": "markdown",
      "metadata": {
        "id": "VEUi-sIQmnl7"
      },
      "source": [
        "#### **GRIDSEARCH:**"
      ]
    },
    {
      "cell_type": "code",
      "metadata": {
        "colab": {
          "base_uri": "https://localhost:8080/"
        },
        "id": "m-UyRZbSmnl7",
        "outputId": "224e17d3-008d-4f42-8627-7600afbd2cdf"
      },
      "source": [
        "%%time\n",
        "from sklearn.model_selection import GridSearchCV\n",
        "\n",
        "param_grid = {\n",
        "    'criterion': ['gini', 'entropy'],\n",
        "    'splitter': ['best', 'random'],\n",
        "    'max_depth':[i for i in range (1,15)]\n",
        "    }  \n",
        "\n",
        "grid_search_dtree = GridSearchCV(DecisionTreeClassifier(), param_grid, cv=3, scoring='accuracy',\n",
        "                           refit= True, verbose=2, n_jobs=-1)\n",
        "grid_search_dtree.fit(X_train, y_train)"
      ],
      "execution_count": null,
      "outputs": [
        {
          "output_type": "stream",
          "text": [
            "Fitting 3 folds for each of 56 candidates, totalling 168 fits\n"
          ],
          "name": "stdout"
        },
        {
          "output_type": "stream",
          "text": [
            "[Parallel(n_jobs=-1)]: Using backend LokyBackend with 2 concurrent workers.\n"
          ],
          "name": "stderr"
        },
        {
          "output_type": "stream",
          "text": [
            "CPU times: user 245 ms, sys: 15.1 ms, total: 260 ms\n",
            "Wall time: 1.69 s\n"
          ],
          "name": "stdout"
        },
        {
          "output_type": "stream",
          "text": [
            "[Parallel(n_jobs=-1)]: Done 168 out of 168 | elapsed:    1.7s finished\n"
          ],
          "name": "stderr"
        }
      ]
    },
    {
      "cell_type": "code",
      "metadata": {
        "colab": {
          "base_uri": "https://localhost:8080/"
        },
        "id": "b-6DfpIzmnl8",
        "outputId": "d829c4c8-c145-4629-d657-c4980259bf59"
      },
      "source": [
        "grid_search_dtree.best_params_"
      ],
      "execution_count": null,
      "outputs": [
        {
          "output_type": "execute_result",
          "data": {
            "text/plain": [
              "{'criterion': 'entropy', 'max_depth': 6, 'splitter': 'random'}"
            ]
          },
          "metadata": {
            "tags": []
          },
          "execution_count": 81
        }
      ]
    },
    {
      "cell_type": "code",
      "metadata": {
        "colab": {
          "base_uri": "https://localhost:8080/"
        },
        "id": "balDy5eImnl9",
        "outputId": "f6c50284-e04b-4905-e749-f088890a6484"
      },
      "source": [
        "grid_search_dtree.best_score_"
      ],
      "execution_count": null,
      "outputs": [
        {
          "output_type": "execute_result",
          "data": {
            "text/plain": [
              "0.927800269905533"
            ]
          },
          "metadata": {
            "tags": []
          },
          "execution_count": 82
        }
      ]
    },
    {
      "cell_type": "code",
      "metadata": {
        "id": "63YpsaGQmnl9"
      },
      "source": [
        "dtree=grid_search_dtree.best_estimator_"
      ],
      "execution_count": null,
      "outputs": []
    },
    {
      "cell_type": "code",
      "metadata": {
        "colab": {
          "base_uri": "https://localhost:8080/"
        },
        "id": "qjJ3KG3vmnl9",
        "outputId": "40345d63-022a-4d7e-9a85-ff7485c8ec3c"
      },
      "source": [
        "print(f'> Conjunto de validación: {dtree.score(X_val,y_val)}')"
      ],
      "execution_count": null,
      "outputs": [
        {
          "output_type": "stream",
          "text": [
            "> Conjunto de validación: 0.7943358057990559\n"
          ],
          "name": "stdout"
        }
      ]
    },
    {
      "cell_type": "markdown",
      "metadata": {
        "id": "nzMz6n7jmnl9"
      },
      "source": [
        "#### **RANDOM SEARCH**"
      ]
    },
    {
      "cell_type": "code",
      "metadata": {
        "colab": {
          "base_uri": "https://localhost:8080/"
        },
        "id": "vySyyYNbmnl-",
        "outputId": "bce147ce-078b-496c-9766-4042951e2f12"
      },
      "source": [
        "%%time\n",
        "from sklearn.model_selection import RandomizedSearchCV\n",
        "from scipy.stats import randint\n",
        "\n",
        "param_distribs = {\n",
        "        'criterion': ['gini', 'entropy'],\n",
        "        'splitter': ['best', 'random'],\n",
        "        'max_depth':randint(low=1, high=301)\n",
        "    }\n",
        "\n",
        "\n",
        "rnd_search_dtree = RandomizedSearchCV(DecisionTreeClassifier(), param_distribs,\n",
        "                                n_iter=10, cv=3, scoring='accuracy', random_state=42, verbose=2, n_jobs=-1)\n",
        "\n",
        "rnd_search_dtree.fit(X_train, y_train)"
      ],
      "execution_count": null,
      "outputs": [
        {
          "output_type": "stream",
          "text": [
            "Fitting 3 folds for each of 10 candidates, totalling 30 fits\n"
          ],
          "name": "stdout"
        },
        {
          "output_type": "stream",
          "text": [
            "[Parallel(n_jobs=-1)]: Using backend LokyBackend with 2 concurrent workers.\n"
          ],
          "name": "stderr"
        },
        {
          "output_type": "stream",
          "text": [
            "CPU times: user 127 ms, sys: 5.25 ms, total: 132 ms\n",
            "Wall time: 635 ms\n"
          ],
          "name": "stdout"
        },
        {
          "output_type": "stream",
          "text": [
            "[Parallel(n_jobs=-1)]: Done  30 out of  30 | elapsed:    0.6s finished\n"
          ],
          "name": "stderr"
        }
      ]
    },
    {
      "cell_type": "code",
      "metadata": {
        "colab": {
          "base_uri": "https://localhost:8080/"
        },
        "id": "ZxRImIswmnl-",
        "outputId": "2b91574f-826d-4efd-cb90-9c75094030da"
      },
      "source": [
        "rnd_search_dtree.best_params_"
      ],
      "execution_count": null,
      "outputs": [
        {
          "output_type": "execute_result",
          "data": {
            "text/plain": [
              "{'criterion': 'entropy', 'max_depth': 49, 'splitter': 'best'}"
            ]
          },
          "metadata": {
            "tags": []
          },
          "execution_count": 87
        }
      ]
    },
    {
      "cell_type": "code",
      "metadata": {
        "colab": {
          "base_uri": "https://localhost:8080/"
        },
        "id": "1Ry-SKBvmnl-",
        "outputId": "3741b4ae-5a07-4f23-b2b8-80aa3bc30327"
      },
      "source": [
        "rnd_search_dtree.best_score_"
      ],
      "execution_count": null,
      "outputs": [
        {
          "output_type": "execute_result",
          "data": {
            "text/plain": [
              "0.910425101214575"
            ]
          },
          "metadata": {
            "tags": []
          },
          "execution_count": 88
        }
      ]
    },
    {
      "cell_type": "code",
      "metadata": {
        "id": "RXEwK2mdmnl_"
      },
      "source": [
        "dtree=rnd_search_dtree.best_estimator_"
      ],
      "execution_count": null,
      "outputs": []
    },
    {
      "cell_type": "code",
      "metadata": {
        "colab": {
          "base_uri": "https://localhost:8080/"
        },
        "id": "Wr4kXROkmnl_",
        "outputId": "238fde4c-6234-4b03-ec83-2a003e7d9220"
      },
      "source": [
        "print(f'> Conjunto de validación: {dtree.score(X_val,y_val)}')"
      ],
      "execution_count": null,
      "outputs": [
        {
          "output_type": "stream",
          "text": [
            "> Conjunto de validación: 0.8105192178017532\n"
          ],
          "name": "stdout"
        }
      ]
    },
    {
      "cell_type": "markdown",
      "metadata": {
        "id": "g1Z3n__bmnl_"
      },
      "source": [
        "#### **Optimización Bayesiana:**"
      ]
    },
    {
      "cell_type": "code",
      "metadata": {
        "id": "A_ko41kvmnl_"
      },
      "source": [
        "%%capture\n",
        "! pip install scikit-optimize"
      ],
      "execution_count": null,
      "outputs": []
    },
    {
      "cell_type": "code",
      "metadata": {
        "id": "36pQTnGnmnl_"
      },
      "source": [
        "from skopt import BayesSearchCV"
      ],
      "execution_count": null,
      "outputs": []
    },
    {
      "cell_type": "code",
      "metadata": {
        "colab": {
          "base_uri": "https://localhost:8080/"
        },
        "id": "nS-iuztFmnmA",
        "outputId": "2a27729e-5c19-4e8a-f86c-28add18ad913"
      },
      "source": [
        "%%time\n",
        "\n",
        "from skopt.space import Real, Categorical, Integer #Permite definir el tipo\n",
        "param_distribs = {  #permite indicar la distribución de los parámetros\n",
        "        'criterion': ['gini', 'entropy'],\n",
        "        'splitter': ['best', 'random'],\n",
        "        'max_depth':Real(1, 301, 'uniform')\n",
        "    }\n",
        "\n",
        "\n",
        "bayes_search_dtree = BayesSearchCV(\n",
        "    DecisionTreeClassifier(),\n",
        "    param_distribs,\n",
        "    n_iter=10,\n",
        "    cv=3, scoring='accuracy', random_state=42,\n",
        "    n_jobs=-1,\n",
        "    optimizer_kwargs={'base_estimator': 'GP'} # 'GP': Gaussean Process,'RF': Random Forest regressor,'ET': Extra Trees regressor, 'GBRT': gradient boosted trees\n",
        "  )\n",
        "bayes_search_dtree.fit(X_train, y_train)\n",
        "\n",
        "print(bayes_search_dtree.best_params_)"
      ],
      "execution_count": null,
      "outputs": [
        {
          "output_type": "stream",
          "text": [
            "OrderedDict([('criterion', 'entropy'), ('max_depth', 276.6167565008131), ('splitter', 'best')])\n",
            "CPU times: user 931 ms, sys: 466 ms, total: 1.4 s\n",
            "Wall time: 1.24 s\n"
          ],
          "name": "stdout"
        }
      ]
    },
    {
      "cell_type": "code",
      "metadata": {
        "colab": {
          "base_uri": "https://localhost:8080/"
        },
        "id": "81CuTqkumnmA",
        "outputId": "9cee396c-8335-47cc-c279-8c52d5f5339c"
      },
      "source": [
        "bayes_search_dtree.best_params_"
      ],
      "execution_count": null,
      "outputs": [
        {
          "output_type": "execute_result",
          "data": {
            "text/plain": [
              "OrderedDict([('criterion', 'entropy'),\n",
              "             ('max_depth', 276.6167565008131),\n",
              "             ('splitter', 'best')])"
            ]
          },
          "metadata": {
            "tags": []
          },
          "execution_count": 92
        }
      ]
    },
    {
      "cell_type": "code",
      "metadata": {
        "colab": {
          "base_uri": "https://localhost:8080/"
        },
        "id": "b_Udc6H2mnmA",
        "outputId": "798900a2-5e5b-4ed5-a43a-3c3b8a825d70"
      },
      "source": [
        "bayes_search_dtree.best_score_"
      ],
      "execution_count": null,
      "outputs": [
        {
          "output_type": "execute_result",
          "data": {
            "text/plain": [
              "0.909919028340081"
            ]
          },
          "metadata": {
            "tags": []
          },
          "execution_count": 96
        }
      ]
    },
    {
      "cell_type": "code",
      "metadata": {
        "id": "1KgdKGngmnmA"
      },
      "source": [
        "dtree=bayes_search_dtree.best_estimator_"
      ],
      "execution_count": null,
      "outputs": []
    },
    {
      "cell_type": "code",
      "metadata": {
        "colab": {
          "base_uri": "https://localhost:8080/"
        },
        "id": "HjILPykkmnmB",
        "outputId": "c91472c8-db35-4d56-8831-8afafd38266d"
      },
      "source": [
        "print(f'> Conjunto de validación: {dtree.score(X_val,y_val)}')"
      ],
      "execution_count": null,
      "outputs": [
        {
          "output_type": "stream",
          "text": [
            "> Conjunto de validación: 0.8105192178017532\n"
          ],
          "name": "stdout"
        }
      ]
    },
    {
      "cell_type": "markdown",
      "metadata": {
        "id": "SeBN_znSmnmB"
      },
      "source": [
        "#### **HYPERBAND:**"
      ]
    },
    {
      "cell_type": "code",
      "metadata": {
        "id": "zPsKBKejmnmB"
      },
      "source": [
        "%%capture\n",
        "!git clone https://github.com/thuijskens/scikit-hyperband.git\n",
        "%cd scikit-hyperband\n",
        "!python setup.py install"
      ],
      "execution_count": null,
      "outputs": []
    },
    {
      "cell_type": "code",
      "metadata": {
        "id": "Mhua_wA4mnmB"
      },
      "source": [
        "from hyperband import HyperbandSearchCV\n",
        "import warnings\n",
        "warnings.filterwarnings('ignore')"
      ],
      "execution_count": null,
      "outputs": []
    },
    {
      "cell_type": "code",
      "metadata": {
        "id": "DlNOMYFQmnmB"
      },
      "source": [
        "# Distributions or lists of parameters to try. Distributions must provide a rvs method for sampling (such as those from scipy.stats.distributions). If a list is given, it is sampled uniformly.\n",
        "param_grid = {  \n",
        "     'criterion': ['gini', 'entropy'],\n",
        "     'splitter': ['best', 'random'],\n",
        "      'max_depth':randint(low=1, high=301)\n",
        "     }\n"
      ],
      "execution_count": null,
      "outputs": []
    },
    {
      "cell_type": "code",
      "metadata": {
        "colab": {
          "base_uri": "https://localhost:8080/"
        },
        "id": "Y9jYTmp4mnmC",
        "outputId": "74acac84-310e-4867-ffe3-f0af370fdbee"
      },
      "source": [
        "%%time\n",
        "Hyb_search_dtree = HyperbandSearchCV(DecisionTreeClassifier(),\n",
        "                           param_grid,\n",
        "                           resource_param='max_depth', \n",
        "                           verbose =1,\n",
        "                           max_iter=500, #Numero de árboles máximo en una iteración\n",
        "                           min_iter=30, #Numero de árboles mínimo en una iteración\n",
        "                           eta=3, #Reducción de recursos en cada iteración\n",
        "                           cv=3,\n",
        "                           scoring='accuracy',\n",
        "                           random_state = 42)\n",
        "\n",
        "Hyb_search_dtree.fit(X_train, y_train)"
      ],
      "execution_count": null,
      "outputs": [
        {
          "output_type": "stream",
          "text": [
            "Starting bracket 1 (out of 3) of hyperband\n",
            "Starting successive halving iteration 1 out of 3. Fitting 9 configurations, with resource_param max_depth set to 55, and keeping the best 3 configurations.\n",
            "Fitting 3 folds for each of 9 candidates, totalling 27 fits\n"
          ],
          "name": "stdout"
        },
        {
          "output_type": "stream",
          "text": [
            "[Parallel(n_jobs=1)]: Using backend SequentialBackend with 1 concurrent workers.\n",
            "[Parallel(n_jobs=1)]: Done  27 out of  27 | elapsed:    0.6s finished\n",
            "[Parallel(n_jobs=1)]: Using backend SequentialBackend with 1 concurrent workers.\n"
          ],
          "name": "stderr"
        },
        {
          "output_type": "stream",
          "text": [
            "Starting successive halving iteration 2 out of 3. Fitting 3 configurations, with resource_param max_depth set to 166, and keeping the best 1 configurations.\n",
            "Fitting 3 folds for each of 3 candidates, totalling 9 fits\n"
          ],
          "name": "stdout"
        },
        {
          "output_type": "stream",
          "text": [
            "[Parallel(n_jobs=1)]: Done   9 out of   9 | elapsed:    0.3s finished\n",
            "[Parallel(n_jobs=1)]: Using backend SequentialBackend with 1 concurrent workers.\n",
            "[Parallel(n_jobs=1)]: Done   3 out of   3 | elapsed:    0.1s finished\n",
            "[Parallel(n_jobs=1)]: Using backend SequentialBackend with 1 concurrent workers.\n"
          ],
          "name": "stderr"
        },
        {
          "output_type": "stream",
          "text": [
            "Starting successive halving iteration 3 out of 3. Fitting 1 configurations, with resource_param max_depth set to 500\n",
            "Fitting 3 folds for each of 1 candidates, totalling 3 fits\n",
            "Starting bracket 2 (out of 3) of hyperband\n",
            "Starting successive halving iteration 1 out of 2. Fitting 3 configurations, with resource_param max_depth set to 166, and keeping the best 1 configurations.\n",
            "Fitting 3 folds for each of 3 candidates, totalling 9 fits\n",
            "Starting successive halving iteration 2 out of 2. Fitting 1 configurations, with resource_param max_depth set to 500\n",
            "Fitting 3 folds for each of 1 candidates, totalling 3 fits\n",
            "Starting bracket 3 (out of 3) of hyperband\n",
            "Starting successive halving iteration 1 out of 1. Fitting 3 configurations, with resource_param max_depth set to 500, and keeping the best 1 configurations.\n",
            "Fitting 3 folds for each of 3 candidates, totalling 9 fits\n",
            "CPU times: user 1.26 s, sys: 2.62 ms, total: 1.26 s\n",
            "Wall time: 1.26 s\n"
          ],
          "name": "stdout"
        },
        {
          "output_type": "stream",
          "text": [
            "[Parallel(n_jobs=1)]: Done   9 out of   9 | elapsed:    0.1s finished\n",
            "[Parallel(n_jobs=1)]: Using backend SequentialBackend with 1 concurrent workers.\n",
            "[Parallel(n_jobs=1)]: Done   3 out of   3 | elapsed:    0.1s finished\n",
            "[Parallel(n_jobs=1)]: Using backend SequentialBackend with 1 concurrent workers.\n",
            "[Parallel(n_jobs=1)]: Done   9 out of   9 | elapsed:    0.0s finished\n"
          ],
          "name": "stderr"
        }
      ]
    },
    {
      "cell_type": "code",
      "metadata": {
        "colab": {
          "base_uri": "https://localhost:8080/"
        },
        "id": "T4-mzQmsmnmC",
        "outputId": "2d8b703e-1765-4489-822d-7d071280d1d9"
      },
      "source": [
        "Hyb_search_dtree.best_params_"
      ],
      "execution_count": null,
      "outputs": [
        {
          "output_type": "execute_result",
          "data": {
            "text/plain": [
              "{'criterion': 'entropy', 'max_depth': 55, 'splitter': 'best'}"
            ]
          },
          "metadata": {
            "tags": []
          },
          "execution_count": 104
        }
      ]
    },
    {
      "cell_type": "code",
      "metadata": {
        "colab": {
          "base_uri": "https://localhost:8080/"
        },
        "id": "IGkspSU5mnmC",
        "outputId": "57552509-26f2-4183-e857-da9c7ac6b3be"
      },
      "source": [
        "Hyb_search_dtree.best_score_"
      ],
      "execution_count": null,
      "outputs": [
        {
          "output_type": "execute_result",
          "data": {
            "text/plain": [
              "0.9109311740890689"
            ]
          },
          "metadata": {
            "tags": []
          },
          "execution_count": 105
        }
      ]
    },
    {
      "cell_type": "code",
      "metadata": {
        "id": "3rUdTHHemnmC"
      },
      "source": [
        "dtree=Hyb_search_dtree.best_estimator_"
      ],
      "execution_count": null,
      "outputs": []
    },
    {
      "cell_type": "code",
      "metadata": {
        "colab": {
          "base_uri": "https://localhost:8080/"
        },
        "id": "Fkr6SnoCmnmC",
        "outputId": "f7419e8a-2e27-40dd-a2c1-a760f565ca8d"
      },
      "source": [
        "print(f'> Conjunto de validación: {dtree.score(X_val,y_val)}')"
      ],
      "execution_count": null,
      "outputs": [
        {
          "output_type": "stream",
          "text": [
            "> Conjunto de validación: 0.8078219824679703\n"
          ],
          "name": "stdout"
        }
      ]
    },
    {
      "cell_type": "markdown",
      "metadata": {
        "id": "-pluYm4DmnmD"
      },
      "source": [
        "### The best hyperparameters for the model: \n",
        "\n",
        "```\n",
        "> criterion: entropy\n",
        "> splitter: best\n",
        "> max_depth: 49\n",
        "```\n",
        "\n"
      ]
    },
    {
      "cell_type": "markdown",
      "metadata": {
        "id": "D0KKxt35FfiI"
      },
      "source": [
        "#### Confusion matrix an other metrics: "
      ]
    },
    {
      "cell_type": "code",
      "metadata": {
        "colab": {
          "base_uri": "https://localhost:8080/"
        },
        "id": "HAe9tTk2R3MG",
        "outputId": "2b905e93-666d-4b6a-93c9-b3fd66ed290f"
      },
      "source": [
        "DT = DecisionTreeClassifier(criterion= 'entropy', max_depth= 49, splitter= 'best',random_state=45)\n",
        "DT.fit(X_train, y_train)\n",
        "y_pred = DT.predict(X_val)\n",
        "print('Accuracy: ' + str(DT.score(X_val, y_val)))\n",
        "print('')\n",
        "print(classification_report(y_val,y_pred))"
      ],
      "execution_count": null,
      "outputs": [
        {
          "output_type": "stream",
          "text": [
            "Accuracy: 0.811193526635199\n",
            "\n",
            "              precision    recall  f1-score   support\n",
            "\n",
            "           0       0.89      0.88      0.89       692\n",
            "           1       0.81      0.86      0.83       530\n",
            "           2       0.55      0.70      0.61        84\n",
            "           3       0.62      0.44      0.51       177\n",
            "\n",
            "    accuracy                           0.81      1483\n",
            "   macro avg       0.72      0.72      0.71      1483\n",
            "weighted avg       0.81      0.81      0.81      1483\n",
            "\n"
          ],
          "name": "stdout"
        }
      ]
    },
    {
      "cell_type": "code",
      "metadata": {
        "colab": {
          "base_uri": "https://localhost:8080/"
        },
        "id": "j7sZcMoWR3MK",
        "outputId": "241b1c46-f660-469e-9b1a-18bb4b866c44"
      },
      "source": [
        "mat = confusion_matrix(y_val, y_pred)\n",
        "sns.heatmap(mat.T, square=True, annot=True, fmt='d', cbar=False,\n",
        "            xticklabels=['0', '1', '2', '3'], yticklabels=['0', '1', '2', '3'])\n",
        "plt.xlabel('true label')\n",
        "plt.ylabel('predicted label');"
      ],
      "execution_count": null,
      "outputs": [
        {
          "output_type": "display_data",
          "data": {
            "image/png": "[encoded data removed]",
            "text/plain": [
              "<Figure size 432x288 with 1 Axes>"
            ]
          },
          "metadata": {
            "tags": []
          }
        }
      ]
    },
    {
      "cell_type": "markdown",
      "metadata": {
        "id": "RAAwZBwvKKGO"
      },
      "source": [
        "### Evaluation"
      ]
    },
    {
      "cell_type": "markdown",
      "metadata": {
        "id": "bHytyIgjmnmD"
      },
      "source": [
        "#### k-fold Cross Validation"
      ]
    },
    {
      "cell_type": "code",
      "metadata": {
        "id": "qOnHWA7_mnmD"
      },
      "source": [
        "from sklearn.model_selection import KFold\n",
        "from sklearn.model_selection import cross_val_score\n",
        "from numpy import mean\n",
        "from numpy import std"
      ],
      "execution_count": null,
      "outputs": []
    },
    {
      "cell_type": "code",
      "metadata": {
        "colab": {
          "base_uri": "https://localhost:8080/"
        },
        "id": "0hUoosCcmnmD",
        "outputId": "14d21d8b-165f-4658-c4c2-da105180af41"
      },
      "source": [
        "# preparar el procedimiento de cross-validation \n",
        "cv = KFold(n_splits=5)\n",
        "# crear el modelo\n",
        "model = DecisionTreeClassifier(criterion= 'entropy', max_depth= 49, splitter= 'best')\n",
        "model.fit(X_train, y_train)\n",
        "# evaluar el modelo\n",
        "scores = cross_val_score(model, X_val, y_val, scoring='accuracy', cv=cv, n_jobs=-1)\n",
        "# mostrar el resultado\n",
        "print('Accuracy: %.3f (%.3f)' % (mean(scores), std(scores)))"
      ],
      "execution_count": null,
      "outputs": [
        {
          "output_type": "stream",
          "text": [
            "Accuracy: 0.728 (0.023)\n"
          ],
          "name": "stdout"
        }
      ]
    },
    {
      "cell_type": "code",
      "metadata": {
        "colab": {
          "base_uri": "https://localhost:8080/"
        },
        "id": "h_HqU9YJmnmD",
        "outputId": "e6650703-f971-4174-b618-677178e79ed6"
      },
      "source": [
        "# preparar el procedimiento de cross-validation \n",
        "cv = KFold(n_splits=5, random_state=1, shuffle=True)\n",
        "# crear el modelo\n",
        "model = DecisionTreeClassifier(criterion= 'entropy', max_depth= 49, splitter= 'best')\n",
        "model.fit(X_train, y_train)\n",
        "# evaluar el modelo\n",
        "scores = cross_val_score(model, X_val, y_val, scoring='accuracy', cv=cv, n_jobs=-1)\n",
        "# mostrar el resultado\n",
        "print('Accuracy: %.3f (%.3f)' % (mean(scores), std(scores)))"
      ],
      "execution_count": null,
      "outputs": [
        {
          "output_type": "stream",
          "text": [
            "Accuracy: 0.728 (0.015)\n"
          ],
          "name": "stdout"
        }
      ]
    },
    {
      "cell_type": "markdown",
      "metadata": {
        "id": "ATS9dfGwmnmE"
      },
      "source": [
        "#### Repeticiones de k-fold Cross Validation"
      ]
    },
    {
      "cell_type": "code",
      "metadata": {
        "id": "fMwpcPHYmnmE"
      },
      "source": [
        "from sklearn.model_selection import RepeatedKFold"
      ],
      "execution_count": null,
      "outputs": []
    },
    {
      "cell_type": "code",
      "metadata": {
        "colab": {
          "base_uri": "https://localhost:8080/"
        },
        "id": "HAU5aWsmmnmE",
        "outputId": "ffccee03-9cd6-4ce0-dd4b-44104839318b"
      },
      "source": [
        "# preparar el procedimiento de cross-validation \n",
        "cv = RepeatedKFold(n_splits=5, n_repeats=1, random_state=1)\n",
        "# crear el modelo\n",
        "model = DecisionTreeClassifier(criterion= 'entropy', max_depth= 49, splitter= 'best')\n",
        "model.fit(X_train, y_train)\n",
        "# evaluar el modelo\n",
        "scores = cross_val_score(model, X_val, y_val, scoring='accuracy', cv=cv, n_jobs=-1)\n",
        "# mostrar el resultado\n",
        "print('Accuracy: %.3f (%.3f)' % (mean(scores), std(scores)))"
      ],
      "execution_count": null,
      "outputs": [
        {
          "output_type": "stream",
          "text": [
            "Accuracy: 0.735 (0.013)\n"
          ],
          "name": "stdout"
        }
      ]
    },
    {
      "cell_type": "markdown",
      "metadata": {
        "id": "98VO1NBJmnmE"
      },
      "source": [
        "#### Stratified k-fold Cross Validation"
      ]
    },
    {
      "cell_type": "code",
      "metadata": {
        "id": "LkR1w6cYmnmE"
      },
      "source": [
        "from sklearn.model_selection import StratifiedKFold"
      ],
      "execution_count": null,
      "outputs": []
    },
    {
      "cell_type": "code",
      "metadata": {
        "colab": {
          "base_uri": "https://localhost:8080/"
        },
        "id": "fAD8fjYOmnmE",
        "outputId": "98873e34-d257-47a8-ce56-757c34a61315"
      },
      "source": [
        "# preparar el procedimiento de cross-validation \n",
        "cv = StratifiedKFold(n_splits=16,random_state=1, shuffle=False)\n",
        "# crear el modelo\n",
        "model = DecisionTreeClassifier(criterion= 'entropy', max_depth= 49, splitter= 'best')\n",
        "model.fit(X_train, y_train)\n",
        "# evaluar el modelo\n",
        "scores = cross_val_score(model, X_val, y_val, scoring='accuracy', cv=cv, n_jobs=-1)\n",
        "# mostrar el resultado\n",
        "print('Accuracy: %.3f (%.3f)' % (mean(scores), std(scores)))"
      ],
      "execution_count": null,
      "outputs": [
        {
          "output_type": "stream",
          "text": [
            "Accuracy: 0.730 (0.041)\n"
          ],
          "name": "stdout"
        }
      ]
    },
    {
      "cell_type": "markdown",
      "metadata": {
        "id": "_wQOR0Y5mnmF"
      },
      "source": [
        "#### Shuffle Split"
      ]
    },
    {
      "cell_type": "code",
      "metadata": {
        "id": "HlMXi4WLmnmF"
      },
      "source": [
        "from sklearn.model_selection import ShuffleSplit"
      ],
      "execution_count": null,
      "outputs": []
    },
    {
      "cell_type": "code",
      "metadata": {
        "colab": {
          "base_uri": "https://localhost:8080/"
        },
        "id": "WKykviwtmnmG",
        "outputId": "0330f0be-1658-4828-cc6b-de564896ba6d"
      },
      "source": [
        "# preparar el procedimiento de cross-validation \n",
        "cv = ShuffleSplit(n_splits=16,train_size=0.8,random_state=1)\n",
        "# crear el modelo\n",
        "model = DecisionTreeClassifier(criterion= 'entropy', max_depth= 49, splitter= 'best')\n",
        "model.fit(X_train, y_train)\n",
        "# evaluar el modelo\n",
        "scores = cross_val_score(model, X_val, y_val, scoring='accuracy', cv=cv, n_jobs=-1)\n",
        "# mostrar el resultado\n",
        "print('Accuracy: %.3f (%.3f)' % (mean(scores), std(scores)))"
      ],
      "execution_count": null,
      "outputs": [
        {
          "output_type": "stream",
          "text": [
            "Accuracy: 0.717 (0.021)\n"
          ],
          "name": "stdout"
        }
      ]
    },
    {
      "cell_type": "markdown",
      "metadata": {
        "id": "MraTX5bBmnmG"
      },
      "source": [
        "### Summary\n",
        "The best hyperparameters for the model:\n",
        "\n",
        "```\n",
        "> criterion: entropy\n",
        "> splitter: best\n",
        "> max_depth: 49\n",
        "```\n",
        "\n",
        "The best evaluation:\n",
        "\n",
        "```\n",
        "  > n_splits = 5\n",
        "  > n_repeats=1\n",
        "```\n",
        "### We obtain an accuracy of: 73.5%\n"
      ]
    },
    {
      "cell_type": "markdown",
      "metadata": {
        "id": "gXH3eycZbRuZ"
      },
      "source": [
        "## SVM"
      ]
    },
    {
      "cell_type": "code",
      "metadata": {
        "id": "i_BUdBa2BGcU"
      },
      "source": [
        "from sklearn.svm import SVC"
      ],
      "execution_count": null,
      "outputs": []
    },
    {
      "cell_type": "markdown",
      "metadata": {
        "id": "9uFQChQDKdC0"
      },
      "source": [
        "### Searching for the best hyperparameters:"
      ]
    },
    {
      "cell_type": "markdown",
      "metadata": {
        "id": "xGCm6LovJN22"
      },
      "source": [
        "#### **Algorithms based on nature**"
      ]
    },
    {
      "cell_type": "code",
      "metadata": {
        "id": "uVFd6ndPX_0J"
      },
      "source": [
        "%%capture\n",
        "#! instalamos la librería sklearn_nature_inspired_algorithms\n",
        "! pip install sklearn_nature_inspired_algorithms==0.4.3"
      ],
      "execution_count": null,
      "outputs": []
    },
    {
      "cell_type": "code",
      "metadata": {
        "id": "anM7zxxJmO7q",
        "colab": {
          "base_uri": "https://localhost:8080/"
        },
        "outputId": "7d9198c5-842f-4768-dcea-867b82cc776b"
      },
      "source": [
        "from sklearn_nature_inspired_algorithms.model_selection.nature_inspired_search_cv import NatureInspiredSearchCV\n",
        "from sklearn_nature_inspired_algorithms.helpers import score_by_generation_lineplot"
      ],
      "execution_count": null,
      "outputs": [
        {
          "output_type": "stream",
          "text": [
            "/usr/local/lib/python3.6/dist-packages/statsmodels/tools/_testing.py:19: FutureWarning: pandas.util.testing is deprecated. Use the functions in the public API at pandas.testing instead.\n",
            "  import pandas.util.testing as tm\n"
          ],
          "name": "stderr"
        }
      ]
    },
    {
      "cell_type": "code",
      "metadata": {
        "id": "9XhyCao6l_Qd"
      },
      "source": [
        "from scipy.stats import loguniform,expon\n",
        "param_grid = {\n",
        "    'kernel':['linear'],\n",
        "     'C': [0.5 +i/2 for i in range (1,20,1)], \n",
        "     'gamma': [0.01, 0.1,0.5, 1.0],\n",
        "     'degree':[i for i in range (1,10)]\n",
        "    }   \n"
      ],
      "execution_count": null,
      "outputs": []
    },
    {
      "cell_type": "code",
      "metadata": {
        "id": "lm66xyO6mZWK",
        "colab": {
          "base_uri": "https://localhost:8080/"
        },
        "outputId": "989b9440-6ca5-41ed-bdac-5271ab7a8851"
      },
      "source": [
        "%%time\n",
        "\n",
        "nia_search_svm = NatureInspiredSearchCV(\n",
        "    SVC(),\n",
        "    param_grid,\n",
        "    cv=3,\n",
        "    verbose=1,\n",
        "    algorithm='ba', #Bat Algorithm\n",
        "    population_size=5,\n",
        "    max_stagnating_gen=5, \n",
        "    n_jobs=-1,\n",
        "    scoring=\"accuracy\",\n",
        "    random_state=42)\n",
        "\n",
        "nia_search_svm.fit(X_train, y_train)\n",
        "print(nia_search_svm)"
      ],
      "execution_count": null,
      "outputs": [
        {
          "output_type": "stream",
          "text": [
            "Fitting 3 folds for some of the 684 candidates, which might total in 2052 fits\n",
            "Fitting 3 folds for each of 1 candidates, totalling 3 fits\n"
          ],
          "name": "stdout"
        },
        {
          "output_type": "stream",
          "text": [
            "[Parallel(n_jobs=-1)]: Using backend LokyBackend with 2 concurrent workers.\n",
            "[Parallel(n_jobs=-1)]: Done   3 out of   3 | elapsed:    1.8s finished\n",
            "[Parallel(n_jobs=-1)]: Using backend LokyBackend with 2 concurrent workers.\n"
          ],
          "name": "stderr"
        },
        {
          "output_type": "stream",
          "text": [
            "Fitting 3 folds for each of 1 candidates, totalling 3 fits\n"
          ],
          "name": "stdout"
        },
        {
          "output_type": "stream",
          "text": [
            "[Parallel(n_jobs=-1)]: Done   3 out of   3 | elapsed:    0.4s finished\n",
            "[Parallel(n_jobs=-1)]: Using backend LokyBackend with 2 concurrent workers.\n"
          ],
          "name": "stderr"
        },
        {
          "output_type": "stream",
          "text": [
            "Fitting 3 folds for each of 1 candidates, totalling 3 fits\n"
          ],
          "name": "stdout"
        },
        {
          "output_type": "stream",
          "text": [
            "[Parallel(n_jobs=-1)]: Done   3 out of   3 | elapsed:    0.6s finished\n",
            "[Parallel(n_jobs=-1)]: Using backend LokyBackend with 2 concurrent workers.\n"
          ],
          "name": "stderr"
        },
        {
          "output_type": "stream",
          "text": [
            "Fitting 3 folds for each of 1 candidates, totalling 3 fits\n"
          ],
          "name": "stdout"
        },
        {
          "output_type": "stream",
          "text": [
            "[Parallel(n_jobs=-1)]: Done   3 out of   3 | elapsed:    0.4s finished\n",
            "[Parallel(n_jobs=-1)]: Using backend LokyBackend with 2 concurrent workers.\n"
          ],
          "name": "stderr"
        },
        {
          "output_type": "stream",
          "text": [
            "Fitting 3 folds for each of 1 candidates, totalling 3 fits\n"
          ],
          "name": "stdout"
        },
        {
          "output_type": "stream",
          "text": [
            "[Parallel(n_jobs=-1)]: Done   3 out of   3 | elapsed:    0.5s finished\n",
            "[Parallel(n_jobs=-1)]: Using backend LokyBackend with 2 concurrent workers.\n"
          ],
          "name": "stderr"
        },
        {
          "output_type": "stream",
          "text": [
            "Fitting 3 folds for each of 1 candidates, totalling 3 fits\n"
          ],
          "name": "stdout"
        },
        {
          "output_type": "stream",
          "text": [
            "[Parallel(n_jobs=-1)]: Done   3 out of   3 | elapsed:    0.3s finished\n",
            "[Parallel(n_jobs=-1)]: Using backend LokyBackend with 2 concurrent workers.\n"
          ],
          "name": "stderr"
        },
        {
          "output_type": "stream",
          "text": [
            "Fitting 3 folds for each of 1 candidates, totalling 3 fits\n"
          ],
          "name": "stdout"
        },
        {
          "output_type": "stream",
          "text": [
            "[Parallel(n_jobs=-1)]: Done   3 out of   3 | elapsed:    0.4s finished\n",
            "[Parallel(n_jobs=-1)]: Using backend LokyBackend with 2 concurrent workers.\n"
          ],
          "name": "stderr"
        },
        {
          "output_type": "stream",
          "text": [
            "Fitting 3 folds for each of 1 candidates, totalling 3 fits\n"
          ],
          "name": "stdout"
        },
        {
          "output_type": "stream",
          "text": [
            "[Parallel(n_jobs=-1)]: Done   3 out of   3 | elapsed:    0.6s finished\n",
            "[Parallel(n_jobs=-1)]: Using backend LokyBackend with 2 concurrent workers.\n"
          ],
          "name": "stderr"
        },
        {
          "output_type": "stream",
          "text": [
            "Fitting 3 folds for each of 1 candidates, totalling 3 fits\n"
          ],
          "name": "stdout"
        },
        {
          "output_type": "stream",
          "text": [
            "[Parallel(n_jobs=-1)]: Done   3 out of   3 | elapsed:    0.6s finished\n",
            "[Parallel(n_jobs=-1)]: Using backend LokyBackend with 2 concurrent workers.\n"
          ],
          "name": "stderr"
        },
        {
          "output_type": "stream",
          "text": [
            "Fitting 3 folds for each of 1 candidates, totalling 3 fits\n"
          ],
          "name": "stdout"
        },
        {
          "output_type": "stream",
          "text": [
            "[Parallel(n_jobs=-1)]: Done   3 out of   3 | elapsed:    0.3s finished\n",
            "[Parallel(n_jobs=-1)]: Using backend LokyBackend with 2 concurrent workers.\n"
          ],
          "name": "stderr"
        },
        {
          "output_type": "stream",
          "text": [
            "Fitting 3 folds for each of 1 candidates, totalling 3 fits\n"
          ],
          "name": "stdout"
        },
        {
          "output_type": "stream",
          "text": [
            "[Parallel(n_jobs=-1)]: Done   3 out of   3 | elapsed:    0.3s finished\n",
            "[Parallel(n_jobs=-1)]: Using backend LokyBackend with 2 concurrent workers.\n"
          ],
          "name": "stderr"
        },
        {
          "output_type": "stream",
          "text": [
            "Fitting 3 folds for each of 1 candidates, totalling 3 fits\n"
          ],
          "name": "stdout"
        },
        {
          "output_type": "stream",
          "text": [
            "[Parallel(n_jobs=-1)]: Done   3 out of   3 | elapsed:    0.5s finished\n",
            "[Parallel(n_jobs=-1)]: Using backend LokyBackend with 2 concurrent workers.\n"
          ],
          "name": "stderr"
        },
        {
          "output_type": "stream",
          "text": [
            "Fitting 3 folds for each of 1 candidates, totalling 3 fits\n"
          ],
          "name": "stdout"
        },
        {
          "output_type": "stream",
          "text": [
            "[Parallel(n_jobs=-1)]: Done   3 out of   3 | elapsed:    0.5s finished\n",
            "[Parallel(n_jobs=-1)]: Using backend LokyBackend with 2 concurrent workers.\n"
          ],
          "name": "stderr"
        },
        {
          "output_type": "stream",
          "text": [
            "Fitting 3 folds for each of 1 candidates, totalling 3 fits\n"
          ],
          "name": "stdout"
        },
        {
          "output_type": "stream",
          "text": [
            "[Parallel(n_jobs=-1)]: Done   3 out of   3 | elapsed:    0.4s finished\n",
            "[Parallel(n_jobs=-1)]: Using backend LokyBackend with 2 concurrent workers.\n"
          ],
          "name": "stderr"
        },
        {
          "output_type": "stream",
          "text": [
            "Fitting 3 folds for each of 1 candidates, totalling 3 fits\n"
          ],
          "name": "stdout"
        },
        {
          "output_type": "stream",
          "text": [
            "[Parallel(n_jobs=-1)]: Done   3 out of   3 | elapsed:    0.3s finished\n",
            "[Parallel(n_jobs=-1)]: Using backend LokyBackend with 2 concurrent workers.\n"
          ],
          "name": "stderr"
        },
        {
          "output_type": "stream",
          "text": [
            "Fitting 3 folds for each of 1 candidates, totalling 3 fits\n"
          ],
          "name": "stdout"
        },
        {
          "output_type": "stream",
          "text": [
            "[Parallel(n_jobs=-1)]: Done   3 out of   3 | elapsed:    0.4s finished\n",
            "[Parallel(n_jobs=-1)]: Using backend LokyBackend with 2 concurrent workers.\n"
          ],
          "name": "stderr"
        },
        {
          "output_type": "stream",
          "text": [
            "Fitting 3 folds for each of 1 candidates, totalling 3 fits\n"
          ],
          "name": "stdout"
        },
        {
          "output_type": "stream",
          "text": [
            "[Parallel(n_jobs=-1)]: Done   3 out of   3 | elapsed:    0.5s finished\n",
            "[Parallel(n_jobs=-1)]: Using backend LokyBackend with 2 concurrent workers.\n"
          ],
          "name": "stderr"
        },
        {
          "output_type": "stream",
          "text": [
            "Fitting 3 folds for each of 1 candidates, totalling 3 fits\n"
          ],
          "name": "stdout"
        },
        {
          "output_type": "stream",
          "text": [
            "[Parallel(n_jobs=-1)]: Done   3 out of   3 | elapsed:    0.5s finished\n",
            "[Parallel(n_jobs=-1)]: Using backend LokyBackend with 2 concurrent workers.\n"
          ],
          "name": "stderr"
        },
        {
          "output_type": "stream",
          "text": [
            "Fitting 3 folds for each of 1 candidates, totalling 3 fits\n"
          ],
          "name": "stdout"
        },
        {
          "output_type": "stream",
          "text": [
            "[Parallel(n_jobs=-1)]: Done   3 out of   3 | elapsed:    0.4s finished\n",
            "[Parallel(n_jobs=-1)]: Using backend LokyBackend with 2 concurrent workers.\n"
          ],
          "name": "stderr"
        },
        {
          "output_type": "stream",
          "text": [
            "Fitting 3 folds for each of 1 candidates, totalling 3 fits\n"
          ],
          "name": "stdout"
        },
        {
          "output_type": "stream",
          "text": [
            "[Parallel(n_jobs=-1)]: Done   3 out of   3 | elapsed:    0.5s finished\n",
            "[Parallel(n_jobs=-1)]: Using backend LokyBackend with 2 concurrent workers.\n"
          ],
          "name": "stderr"
        },
        {
          "output_type": "stream",
          "text": [
            "Fitting 3 folds for each of 1 candidates, totalling 3 fits\n"
          ],
          "name": "stdout"
        },
        {
          "output_type": "stream",
          "text": [
            "[Parallel(n_jobs=-1)]: Done   3 out of   3 | elapsed:    0.4s finished\n",
            "[Parallel(n_jobs=-1)]: Using backend LokyBackend with 2 concurrent workers.\n"
          ],
          "name": "stderr"
        },
        {
          "output_type": "stream",
          "text": [
            "Fitting 3 folds for each of 1 candidates, totalling 3 fits\n"
          ],
          "name": "stdout"
        },
        {
          "output_type": "stream",
          "text": [
            "[Parallel(n_jobs=-1)]: Done   3 out of   3 | elapsed:    0.3s finished\n",
            "[Parallel(n_jobs=-1)]: Using backend LokyBackend with 2 concurrent workers.\n"
          ],
          "name": "stderr"
        },
        {
          "output_type": "stream",
          "text": [
            "Fitting 3 folds for each of 1 candidates, totalling 3 fits\n"
          ],
          "name": "stdout"
        },
        {
          "output_type": "stream",
          "text": [
            "[Parallel(n_jobs=-1)]: Done   3 out of   3 | elapsed:    0.4s finished\n",
            "[Parallel(n_jobs=-1)]: Using backend LokyBackend with 2 concurrent workers.\n"
          ],
          "name": "stderr"
        },
        {
          "output_type": "stream",
          "text": [
            "Fitting 3 folds for each of 1 candidates, totalling 3 fits\n"
          ],
          "name": "stdout"
        },
        {
          "output_type": "stream",
          "text": [
            "[Parallel(n_jobs=-1)]: Done   3 out of   3 | elapsed:    0.6s finished\n",
            "[Parallel(n_jobs=-1)]: Using backend LokyBackend with 2 concurrent workers.\n"
          ],
          "name": "stderr"
        },
        {
          "output_type": "stream",
          "text": [
            "Fitting 3 folds for each of 1 candidates, totalling 3 fits\n"
          ],
          "name": "stdout"
        },
        {
          "output_type": "stream",
          "text": [
            "[Parallel(n_jobs=-1)]: Done   3 out of   3 | elapsed:    0.5s finished\n",
            "[Parallel(n_jobs=-1)]: Using backend LokyBackend with 2 concurrent workers.\n"
          ],
          "name": "stderr"
        },
        {
          "output_type": "stream",
          "text": [
            "Fitting 3 folds for each of 1 candidates, totalling 3 fits\n"
          ],
          "name": "stdout"
        },
        {
          "output_type": "stream",
          "text": [
            "[Parallel(n_jobs=-1)]: Done   3 out of   3 | elapsed:    0.3s finished\n",
            "[Parallel(n_jobs=-1)]: Using backend LokyBackend with 2 concurrent workers.\n"
          ],
          "name": "stderr"
        },
        {
          "output_type": "stream",
          "text": [
            "Fitting 3 folds for each of 1 candidates, totalling 3 fits\n"
          ],
          "name": "stdout"
        },
        {
          "output_type": "stream",
          "text": [
            "[Parallel(n_jobs=-1)]: Done   3 out of   3 | elapsed:    0.4s finished\n",
            "[Parallel(n_jobs=-1)]: Using backend LokyBackend with 2 concurrent workers.\n"
          ],
          "name": "stderr"
        },
        {
          "output_type": "stream",
          "text": [
            "Fitting 3 folds for each of 1 candidates, totalling 3 fits\n"
          ],
          "name": "stdout"
        },
        {
          "output_type": "stream",
          "text": [
            "[Parallel(n_jobs=-1)]: Done   3 out of   3 | elapsed:    0.5s finished\n",
            "[Parallel(n_jobs=-1)]: Using backend LokyBackend with 2 concurrent workers.\n"
          ],
          "name": "stderr"
        },
        {
          "output_type": "stream",
          "text": [
            "Fitting 3 folds for each of 1 candidates, totalling 3 fits\n"
          ],
          "name": "stdout"
        },
        {
          "output_type": "stream",
          "text": [
            "[Parallel(n_jobs=-1)]: Done   3 out of   3 | elapsed:    0.6s finished\n",
            "[Parallel(n_jobs=-1)]: Using backend LokyBackend with 2 concurrent workers.\n"
          ],
          "name": "stderr"
        },
        {
          "output_type": "stream",
          "text": [
            "Fitting 3 folds for each of 1 candidates, totalling 3 fits\n"
          ],
          "name": "stdout"
        },
        {
          "output_type": "stream",
          "text": [
            "[Parallel(n_jobs=-1)]: Done   3 out of   3 | elapsed:    0.4s finished\n",
            "[Parallel(n_jobs=-1)]: Using backend LokyBackend with 2 concurrent workers.\n"
          ],
          "name": "stderr"
        },
        {
          "output_type": "stream",
          "text": [
            "Fitting 3 folds for each of 1 candidates, totalling 3 fits\n"
          ],
          "name": "stdout"
        },
        {
          "output_type": "stream",
          "text": [
            "[Parallel(n_jobs=-1)]: Done   3 out of   3 | elapsed:    0.3s finished\n",
            "[Parallel(n_jobs=-1)]: Using backend LokyBackend with 2 concurrent workers.\n"
          ],
          "name": "stderr"
        },
        {
          "output_type": "stream",
          "text": [
            "Fitting 3 folds for each of 1 candidates, totalling 3 fits\n"
          ],
          "name": "stdout"
        },
        {
          "output_type": "stream",
          "text": [
            "[Parallel(n_jobs=-1)]: Done   3 out of   3 | elapsed:    0.5s finished\n",
            "[Parallel(n_jobs=-1)]: Using backend LokyBackend with 2 concurrent workers.\n"
          ],
          "name": "stderr"
        },
        {
          "output_type": "stream",
          "text": [
            "Fitting 3 folds for each of 1 candidates, totalling 3 fits\n"
          ],
          "name": "stdout"
        },
        {
          "output_type": "stream",
          "text": [
            "[Parallel(n_jobs=-1)]: Done   3 out of   3 | elapsed:    0.6s finished\n",
            "[Parallel(n_jobs=-1)]: Using backend LokyBackend with 2 concurrent workers.\n"
          ],
          "name": "stderr"
        },
        {
          "output_type": "stream",
          "text": [
            "Fitting 3 folds for each of 1 candidates, totalling 3 fits\n"
          ],
          "name": "stdout"
        },
        {
          "output_type": "stream",
          "text": [
            "[Parallel(n_jobs=-1)]: Done   3 out of   3 | elapsed:    0.3s finished\n",
            "[Parallel(n_jobs=-1)]: Using backend LokyBackend with 2 concurrent workers.\n"
          ],
          "name": "stderr"
        },
        {
          "output_type": "stream",
          "text": [
            "Fitting 3 folds for each of 1 candidates, totalling 3 fits\n"
          ],
          "name": "stdout"
        },
        {
          "output_type": "stream",
          "text": [
            "[Parallel(n_jobs=-1)]: Done   3 out of   3 | elapsed:    0.3s finished\n",
            "[Parallel(n_jobs=-1)]: Using backend LokyBackend with 2 concurrent workers.\n"
          ],
          "name": "stderr"
        },
        {
          "output_type": "stream",
          "text": [
            "Fitting 3 folds for each of 1 candidates, totalling 3 fits\n"
          ],
          "name": "stdout"
        },
        {
          "output_type": "stream",
          "text": [
            "[Parallel(n_jobs=-1)]: Done   3 out of   3 | elapsed:    0.6s finished\n",
            "[Parallel(n_jobs=-1)]: Using backend LokyBackend with 2 concurrent workers.\n"
          ],
          "name": "stderr"
        },
        {
          "output_type": "stream",
          "text": [
            "Fitting 3 folds for each of 1 candidates, totalling 3 fits\n"
          ],
          "name": "stdout"
        },
        {
          "output_type": "stream",
          "text": [
            "[Parallel(n_jobs=-1)]: Done   3 out of   3 | elapsed:    0.6s finished\n",
            "[Parallel(n_jobs=-1)]: Using backend LokyBackend with 2 concurrent workers.\n"
          ],
          "name": "stderr"
        },
        {
          "output_type": "stream",
          "text": [
            "Fitting 3 folds for each of 1 candidates, totalling 3 fits\n"
          ],
          "name": "stdout"
        },
        {
          "output_type": "stream",
          "text": [
            "[Parallel(n_jobs=-1)]: Done   3 out of   3 | elapsed:    0.3s finished\n",
            "[Parallel(n_jobs=-1)]: Using backend LokyBackend with 2 concurrent workers.\n"
          ],
          "name": "stderr"
        },
        {
          "output_type": "stream",
          "text": [
            "Fitting 3 folds for each of 1 candidates, totalling 3 fits\n"
          ],
          "name": "stdout"
        },
        {
          "output_type": "stream",
          "text": [
            "[Parallel(n_jobs=-1)]: Done   3 out of   3 | elapsed:    0.3s finished\n"
          ],
          "name": "stderr"
        },
        {
          "output_type": "stream",
          "text": [
            "NatureInspiredSearchCV(algorithm=None, cv=3, error_score=nan,\n",
            "                       estimator=SVC(C=1.0, break_ties=False, cache_size=200,\n",
            "                                     class_weight=None, coef0=0.0,\n",
            "                                     decision_function_shape='ovr', degree=3,\n",
            "                                     gamma='scale', kernel='rbf', max_iter=-1,\n",
            "                                     probability=False, random_state=None,\n",
            "                                     shrinking=True, tol=0.001, verbose=False),\n",
            "                       iid='deprecated', max_n_gen=None,\n",
            "                       max_stagnating_gen=None, n_jobs=-1, param_grid=None,\n",
            "                       population_size=None, pre_dispatch='2*n_jobs',\n",
            "                       random_state=None, refit=True, return_train_score=True,\n",
            "                       runs=None, scoring='accuracy', verbose=1)\n",
            "CPU times: user 1.07 s, sys: 85.1 ms, total: 1.16 s\n",
            "Wall time: 19.3 s\n"
          ],
          "name": "stdout"
        },
        {
          "output_type": "stream",
          "text": [
            "/usr/local/lib/python3.6/dist-packages/sklearn/base.py:197: FutureWarning: From version 0.24, get_params will raise an AttributeError if a parameter cannot be retrieved as an instance attribute. Previously it would return None.\n",
            "  FutureWarning)\n"
          ],
          "name": "stderr"
        }
      ]
    },
    {
      "cell_type": "code",
      "metadata": {
        "colab": {
          "base_uri": "https://localhost:8080/"
        },
        "id": "_KVarZ0zZCxk",
        "outputId": "d829b380-a2ae-4eae-82ed-5408caff8b8a"
      },
      "source": [
        "nia_search_svm.best_params_"
      ],
      "execution_count": null,
      "outputs": [
        {
          "output_type": "execute_result",
          "data": {
            "text/plain": [
              "{'C': 10.0, 'degree': 6, 'gamma': 0.5, 'kernel': 'linear'}"
            ]
          },
          "metadata": {
            "tags": []
          },
          "execution_count": 49
        }
      ]
    },
    {
      "cell_type": "code",
      "metadata": {
        "colab": {
          "base_uri": "https://localhost:8080/"
        },
        "id": "FsMAN2oxZCxm",
        "outputId": "70b53f71-85eb-4940-f390-670f470ae0d8"
      },
      "source": [
        "nia_search_svm.best_score_"
      ],
      "execution_count": null,
      "outputs": [
        {
          "output_type": "execute_result",
          "data": {
            "text/plain": [
              "0.9326923076923078"
            ]
          },
          "metadata": {
            "tags": []
          },
          "execution_count": 50
        }
      ]
    },
    {
      "cell_type": "code",
      "metadata": {
        "id": "6GngwM1PZCxn"
      },
      "source": [
        "svm=nia_search_svm.best_estimator_"
      ],
      "execution_count": null,
      "outputs": []
    },
    {
      "cell_type": "code",
      "metadata": {
        "colab": {
          "base_uri": "https://localhost:8080/"
        },
        "id": "JY4AlQ0tZCxo",
        "outputId": "dc2c4e15-57e4-4a10-a2f5-8606e0d28660"
      },
      "source": [
        "print(f'> Conjunto de validación: {svm.score(X_val,y_val)}')"
      ],
      "execution_count": null,
      "outputs": [
        {
          "output_type": "stream",
          "text": [
            "> Conjunto de validación: 0.8024275118004046\n"
          ],
          "name": "stdout"
        }
      ]
    },
    {
      "cell_type": "markdown",
      "metadata": {
        "id": "7ZoCsdKvZSVm"
      },
      "source": [
        "#### **RANDOM SEARCH**"
      ]
    },
    {
      "cell_type": "code",
      "metadata": {
        "colab": {
          "base_uri": "https://localhost:8080/"
        },
        "id": "vvGfA84NZSVp",
        "outputId": "65b0ceb4-725f-44c4-ae9f-740764b01604"
      },
      "source": [
        "%%time\n",
        "\n",
        "from sklearn.model_selection import RandomizedSearchCV\n",
        "from scipy.stats import loguniform,expon\n",
        "\n",
        "param_distribs = {\n",
        "    'kernel':['poly'],\n",
        "     'degree':loguniform(1, 10)\n",
        "    }  \n",
        "\n",
        "rnd_search_svc = RandomizedSearchCV(SVC(), param_distribs,\n",
        "                                n_iter=10, cv=3, scoring='accuracy', random_state=42, verbose=2, n_jobs=-1)\n",
        "\n",
        "rnd_search_svc.fit(X_train, y_train)"
      ],
      "execution_count": null,
      "outputs": [
        {
          "output_type": "stream",
          "text": [
            "Fitting 3 folds for each of 10 candidates, totalling 30 fits\n"
          ],
          "name": "stdout"
        },
        {
          "output_type": "stream",
          "text": [
            "[Parallel(n_jobs=-1)]: Using backend LokyBackend with 2 concurrent workers.\n"
          ],
          "name": "stderr"
        },
        {
          "output_type": "stream",
          "text": [
            "CPU times: user 254 ms, sys: 29.8 ms, total: 284 ms\n",
            "Wall time: 3.44 s\n"
          ],
          "name": "stdout"
        },
        {
          "output_type": "stream",
          "text": [
            "[Parallel(n_jobs=-1)]: Done  30 out of  30 | elapsed:    3.3s finished\n"
          ],
          "name": "stderr"
        }
      ]
    },
    {
      "cell_type": "code",
      "metadata": {
        "colab": {
          "base_uri": "https://localhost:8080/"
        },
        "id": "BP1_TaxFZSVq",
        "outputId": "5d03bdb4-fe31-4ece-98d4-2d13142dac62"
      },
      "source": [
        "rnd_search_svc.best_params_"
      ],
      "execution_count": null,
      "outputs": [
        {
          "output_type": "execute_result",
          "data": {
            "text/plain": [
              "{'degree': 1.432249371823025, 'kernel': 'poly'}"
            ]
          },
          "metadata": {
            "tags": []
          },
          "execution_count": 9
        }
      ]
    },
    {
      "cell_type": "code",
      "metadata": {
        "colab": {
          "base_uri": "https://localhost:8080/"
        },
        "id": "8wn7sLtNZSVr",
        "outputId": "d6eeee92-c3d9-4d01-ddfc-fc331873d25b"
      },
      "source": [
        "rnd_search_svc.best_score_"
      ],
      "execution_count": null,
      "outputs": [
        {
          "output_type": "execute_result",
          "data": {
            "text/plain": [
              "0.9323549257759783"
            ]
          },
          "metadata": {
            "tags": []
          },
          "execution_count": 10
        }
      ]
    },
    {
      "cell_type": "code",
      "metadata": {
        "id": "x0Bzrz8DZSVr"
      },
      "source": [
        "svc=rnd_search_svc.best_estimator_"
      ],
      "execution_count": null,
      "outputs": []
    },
    {
      "cell_type": "code",
      "metadata": {
        "colab": {
          "base_uri": "https://localhost:8080/"
        },
        "id": "6njKBP0sZSVs",
        "outputId": "f087c6b6-34cb-4356-bb05-6a6b3e90bc31"
      },
      "source": [
        "print(f'> Conjunto de validación: {svc.score(X_val,y_val)}')"
      ],
      "execution_count": null,
      "outputs": [
        {
          "output_type": "stream",
          "text": [
            "> Conjunto de validación: 0.803776129467296\n"
          ],
          "name": "stdout"
        }
      ]
    },
    {
      "cell_type": "markdown",
      "metadata": {
        "id": "5TMh2RPra1Gq"
      },
      "source": [
        "#### **HYPERBAND:**"
      ]
    },
    {
      "cell_type": "code",
      "metadata": {
        "id": "Mhrj-fcna1Gt"
      },
      "source": [
        "%%capture\n",
        "!git clone https://github.com/thuijskens/scikit-hyperband.git\n",
        "%cd scikit-hyperband\n",
        "!python setup.py install"
      ],
      "execution_count": null,
      "outputs": []
    },
    {
      "cell_type": "code",
      "metadata": {
        "id": "HJmwiCVka1Gu"
      },
      "source": [
        "from hyperband import HyperbandSearchCV\n",
        "import warnings\n",
        "warnings.filterwarnings('ignore')"
      ],
      "execution_count": null,
      "outputs": []
    },
    {
      "cell_type": "code",
      "metadata": {
        "id": "OFxbr7nIa1Gv"
      },
      "source": [
        "# Distributions or lists of parameters to try. Distributions must provide a rvs method for sampling (such as those from scipy.stats.distributions). If a list is given, it is sampled uniformly.\n",
        "param_grid = {\n",
        "    'kernel':['rbf'],\n",
        "     'C': loguniform(1, 20), \n",
        "     'gamma': expon(scale=1.0)\n",
        "    }  "
      ],
      "execution_count": null,
      "outputs": []
    },
    {
      "cell_type": "code",
      "metadata": {
        "colab": {
          "base_uri": "https://localhost:8080/"
        },
        "id": "xqOR1Hmba1Gv",
        "outputId": "c8a70ffa-189a-46fc-a5d3-ced96b581b2a"
      },
      "source": [
        "%%time\n",
        "Hyb_search_svc = HyperbandSearchCV(SVC(),\n",
        "                           param_grid,\n",
        "                           resource_param='C', #Recursos que se asignarán en cada estimacion. En Random Forest tipicamente el número de árboles\n",
        "                           verbose =1,\n",
        "                           max_iter=500, #Numero de árboles máximo en una iteración\n",
        "                           min_iter=30, #Numero de árboles mínimo en una iteración\n",
        "                           eta=3, #Reducción de recursos en cada iteración\n",
        "                           cv=3,\n",
        "                           scoring='accuracy',\n",
        "                           random_state = 42)\n",
        "\n",
        "Hyb_search_svc.fit(X_train, y_train)"
      ],
      "execution_count": null,
      "outputs": [
        {
          "output_type": "stream",
          "text": [
            "Starting bracket 1 (out of 3) of hyperband\n",
            "Starting successive halving iteration 1 out of 3. Fitting 9 configurations, with resource_param C set to 55, and keeping the best 3 configurations.\n",
            "Fitting 3 folds for each of 9 candidates, totalling 27 fits\n"
          ],
          "name": "stdout"
        },
        {
          "output_type": "stream",
          "text": [
            "[Parallel(n_jobs=1)]: Using backend SequentialBackend with 1 concurrent workers.\n",
            "[Parallel(n_jobs=1)]: Done  27 out of  27 | elapsed:    9.2s finished\n",
            "[Parallel(n_jobs=1)]: Using backend SequentialBackend with 1 concurrent workers.\n"
          ],
          "name": "stderr"
        },
        {
          "output_type": "stream",
          "text": [
            "Starting successive halving iteration 2 out of 3. Fitting 3 configurations, with resource_param C set to 166, and keeping the best 1 configurations.\n",
            "Fitting 3 folds for each of 3 candidates, totalling 9 fits\n"
          ],
          "name": "stdout"
        },
        {
          "output_type": "stream",
          "text": [
            "[Parallel(n_jobs=1)]: Done   9 out of   9 | elapsed:    3.5s finished\n",
            "[Parallel(n_jobs=1)]: Using backend SequentialBackend with 1 concurrent workers.\n"
          ],
          "name": "stderr"
        },
        {
          "output_type": "stream",
          "text": [
            "Starting successive halving iteration 3 out of 3. Fitting 1 configurations, with resource_param C set to 500\n",
            "Fitting 3 folds for each of 1 candidates, totalling 3 fits\n"
          ],
          "name": "stdout"
        },
        {
          "output_type": "stream",
          "text": [
            "[Parallel(n_jobs=1)]: Done   3 out of   3 | elapsed:    1.8s finished\n",
            "[Parallel(n_jobs=1)]: Using backend SequentialBackend with 1 concurrent workers.\n"
          ],
          "name": "stderr"
        },
        {
          "output_type": "stream",
          "text": [
            "Starting bracket 2 (out of 3) of hyperband\n",
            "Starting successive halving iteration 1 out of 2. Fitting 3 configurations, with resource_param C set to 166, and keeping the best 1 configurations.\n",
            "Fitting 3 folds for each of 3 candidates, totalling 9 fits\n"
          ],
          "name": "stdout"
        },
        {
          "output_type": "stream",
          "text": [
            "[Parallel(n_jobs=1)]: Done   9 out of   9 | elapsed:    3.6s finished\n",
            "[Parallel(n_jobs=1)]: Using backend SequentialBackend with 1 concurrent workers.\n"
          ],
          "name": "stderr"
        },
        {
          "output_type": "stream",
          "text": [
            "Starting successive halving iteration 2 out of 2. Fitting 1 configurations, with resource_param C set to 500\n",
            "Fitting 3 folds for each of 1 candidates, totalling 3 fits\n"
          ],
          "name": "stdout"
        },
        {
          "output_type": "stream",
          "text": [
            "[Parallel(n_jobs=1)]: Done   3 out of   3 | elapsed:    1.8s finished\n",
            "[Parallel(n_jobs=1)]: Using backend SequentialBackend with 1 concurrent workers.\n"
          ],
          "name": "stderr"
        },
        {
          "output_type": "stream",
          "text": [
            "Starting bracket 3 (out of 3) of hyperband\n",
            "Starting successive halving iteration 1 out of 1. Fitting 3 configurations, with resource_param C set to 500, and keeping the best 1 configurations.\n",
            "Fitting 3 folds for each of 3 candidates, totalling 9 fits\n"
          ],
          "name": "stdout"
        },
        {
          "output_type": "stream",
          "text": [
            "[Parallel(n_jobs=1)]: Done   9 out of   9 | elapsed:    4.8s finished\n"
          ],
          "name": "stderr"
        },
        {
          "output_type": "stream",
          "text": [
            "CPU times: user 25.9 s, sys: 36.8 ms, total: 25.9 s\n",
            "Wall time: 26 s\n"
          ],
          "name": "stdout"
        }
      ]
    },
    {
      "cell_type": "code",
      "metadata": {
        "colab": {
          "base_uri": "https://localhost:8080/"
        },
        "id": "IWG60QOLa1Gw",
        "outputId": "3c8fb2bf-e623-4b7f-a583-a7440316c445"
      },
      "source": [
        "Hyb_search_svc.best_params_"
      ],
      "execution_count": null,
      "outputs": [
        {
          "output_type": "execute_result",
          "data": {
            "text/plain": [
              "{'C': 500, 'gamma': 0.047563849756408545, 'kernel': 'rbf'}"
            ]
          },
          "metadata": {
            "tags": []
          },
          "execution_count": 23
        }
      ]
    },
    {
      "cell_type": "code",
      "metadata": {
        "colab": {
          "base_uri": "https://localhost:8080/"
        },
        "id": "na0nhCHTa1Gw",
        "outputId": "f475ddc2-0c5d-4123-cb1a-a6b7be4d163c"
      },
      "source": [
        "Hyb_search_svc.best_score_"
      ],
      "execution_count": null,
      "outputs": [
        {
          "output_type": "execute_result",
          "data": {
            "text/plain": [
              "0.9315114709851552"
            ]
          },
          "metadata": {
            "tags": []
          },
          "execution_count": 24
        }
      ]
    },
    {
      "cell_type": "code",
      "metadata": {
        "id": "53CVgy5La1Gx"
      },
      "source": [
        "svc=Hyb_search_svc.best_estimator_"
      ],
      "execution_count": null,
      "outputs": []
    },
    {
      "cell_type": "code",
      "metadata": {
        "colab": {
          "base_uri": "https://localhost:8080/"
        },
        "id": "RQFrjolXa1Gx",
        "outputId": "a4a9bbba-d45c-4140-d7ba-7850e284454b"
      },
      "source": [
        "print(f'> Conjunto de validación: {svc.score(X_val,y_val)}')"
      ],
      "execution_count": null,
      "outputs": [
        {
          "output_type": "stream",
          "text": [
            "> Conjunto de validación: 0.7997302764666218\n"
          ],
          "name": "stdout"
        }
      ]
    },
    {
      "cell_type": "markdown",
      "metadata": {
        "id": "DEd3Om5weQph"
      },
      "source": [
        "#### **Optimización Bayesiana:**"
      ]
    },
    {
      "cell_type": "code",
      "metadata": {
        "id": "ygvg9AezeQpk"
      },
      "source": [
        "%%capture\n",
        "! pip install scikit-optimize"
      ],
      "execution_count": null,
      "outputs": []
    },
    {
      "cell_type": "code",
      "metadata": {
        "id": "7_WYsAM3eQpk"
      },
      "source": [
        "from skopt import BayesSearchCV"
      ],
      "execution_count": null,
      "outputs": []
    },
    {
      "cell_type": "code",
      "metadata": {
        "colab": {
          "base_uri": "https://localhost:8080/"
        },
        "id": "ILOYsERPj7mi",
        "outputId": "44c385c0-264b-4e7c-c4f3-7d21da70a89f"
      },
      "source": [
        "%%time\n",
        "from skopt.space import Real, Categorical, Integer\n",
        "param_distribs = {\n",
        "        'kernel':  Categorical(['linear']),\n",
        "        'C': Real(1, 20, 'log-uniform'),\n",
        "        'gamma': Real(1e-6, 5, 'log-uniform'), \n",
        "    }\n",
        "\n",
        "bayes_search_svc = BayesSearchCV(\n",
        "    SVC(),\n",
        "    param_distribs,\n",
        "    n_iter=10,\n",
        "    cv=3, scoring='accuracy', random_state=42,\n",
        "    n_jobs=-1,\n",
        "    optimizer_kwargs={'base_estimator': 'GP'} # 'GP': Gaussean Process,'RF': Random Forest regressor,'ET': Extra Trees regressor, 'GBRT': gradient boosted trees\n",
        "  )\n",
        "bayes_search_svc.fit(X_train, y_train)\n"
      ],
      "execution_count": null,
      "outputs": [
        {
          "output_type": "stream",
          "text": [
            "CPU times: user 1 s, sys: 513 ms, total: 1.52 s\n",
            "Wall time: 5.54 s\n"
          ],
          "name": "stdout"
        }
      ]
    },
    {
      "cell_type": "code",
      "metadata": {
        "colab": {
          "base_uri": "https://localhost:8080/"
        },
        "id": "uxXSPPFuj7mj",
        "outputId": "7a1948cb-a744-44a3-bfb6-314fbbe8b724"
      },
      "source": [
        "bayes_search_svc.best_params_"
      ],
      "execution_count": null,
      "outputs": [
        {
          "output_type": "execute_result",
          "data": {
            "text/plain": [
              "OrderedDict([('C', 3.4163121995091106),\n",
              "             ('gamma', 0.07499165270761127),\n",
              "             ('kernel', 'linear')])"
            ]
          },
          "metadata": {
            "tags": []
          },
          "execution_count": 52
        }
      ]
    },
    {
      "cell_type": "code",
      "metadata": {
        "colab": {
          "base_uri": "https://localhost:8080/"
        },
        "id": "sHzLiLZQj7mj",
        "outputId": "3b650768-175c-4def-a804-efa2b5440f03"
      },
      "source": [
        "bayes_search_svc.best_score_"
      ],
      "execution_count": null,
      "outputs": [
        {
          "output_type": "execute_result",
          "data": {
            "text/plain": [
              "0.9326923076923077"
            ]
          },
          "metadata": {
            "tags": []
          },
          "execution_count": 53
        }
      ]
    },
    {
      "cell_type": "code",
      "metadata": {
        "id": "OPlY4jerj7mj"
      },
      "source": [
        "svc=bayes_search_svc.best_estimator_"
      ],
      "execution_count": null,
      "outputs": []
    },
    {
      "cell_type": "code",
      "metadata": {
        "colab": {
          "base_uri": "https://localhost:8080/"
        },
        "id": "722NDW2hj7mk",
        "outputId": "a696e99c-24ac-46b1-a3f5-54956e705b63"
      },
      "source": [
        "print(f'> Conjunto de validación: {svc.score(X_val,y_val)}')"
      ],
      "execution_count": null,
      "outputs": [
        {
          "output_type": "stream",
          "text": [
            "> Conjunto de validación: 0.8017532029669588\n"
          ],
          "name": "stdout"
        }
      ]
    },
    {
      "cell_type": "markdown",
      "metadata": {
        "id": "ailVweGIjuyZ"
      },
      "source": [
        "### The best hyperparameters for the model: \n",
        "\n",
        "```\n",
        "> kernel: linear\n",
        "> gamma: 0.5\n",
        "> C: 10\n",
        "```\n",
        "\n"
      ]
    },
    {
      "cell_type": "markdown",
      "metadata": {
        "id": "BLWWCe2XMz7g"
      },
      "source": [
        "#### Confusion matrix an other metrics: "
      ]
    },
    {
      "cell_type": "code",
      "metadata": {
        "colab": {
          "base_uri": "https://localhost:8080/"
        },
        "id": "N1dDxc1eSe5e",
        "outputId": "883e3376-6e16-49cf-fa7f-9441649888f4"
      },
      "source": [
        "svc = SVC(kernel= 'linear', gamma=0.5,C=10)\n",
        "svc.fit(X_train, y_train)\n",
        "y_pred = svc.predict(X_val)\n",
        "print('Accuracy: ' + str(svc.score(X_val, y_val)))\n",
        "print('')\n",
        "print(classification_report(y_val,y_pred))"
      ],
      "execution_count": null,
      "outputs": [
        {
          "output_type": "stream",
          "text": [
            "Accuracy: 0.8024275118004046\n",
            "\n",
            "              precision    recall  f1-score   support\n",
            "\n",
            "           0       0.88      0.87      0.88       692\n",
            "           1       0.80      0.85      0.83       530\n",
            "           2       0.53      0.65      0.59        84\n",
            "           3       0.61      0.46      0.52       177\n",
            "\n",
            "    accuracy                           0.80      1483\n",
            "   macro avg       0.71      0.71      0.70      1483\n",
            "weighted avg       0.80      0.80      0.80      1483\n",
            "\n"
          ],
          "name": "stdout"
        }
      ]
    },
    {
      "cell_type": "code",
      "metadata": {
        "colab": {
          "base_uri": "https://localhost:8080/",
          "height": 285
        },
        "id": "2ywtxQPpSjjZ",
        "outputId": "f3c930d5-aff3-46d5-e806-667fa6923cde"
      },
      "source": [
        "mat = confusion_matrix(y_val, y_pred)\n",
        "sns.heatmap(mat.T, square=True, annot=True, fmt='d', cbar=False,\n",
        "            xticklabels=['0', '1', '2', '3'], yticklabels=['0', '1', '2', '3'])\n",
        "plt.xlabel('true label')\n",
        "plt.ylabel('predicted label');"
      ],
      "execution_count": null,
      "outputs": [
        {
          "output_type": "display_data",
          "data": {
            "image/png": "[encoded data removed]",
            "text/plain": [
              "<Figure size 432x288 with 1 Axes>"
            ]
          },
          "metadata": {
            "tags": []
          }
        }
      ]
    },
    {
      "cell_type": "markdown",
      "metadata": {
        "id": "IaL4NClzKn7R"
      },
      "source": [
        "### Evaluation"
      ]
    },
    {
      "cell_type": "markdown",
      "metadata": {
        "id": "ZxmvjZycjuyc"
      },
      "source": [
        "#### k-fold Cross Validation"
      ]
    },
    {
      "cell_type": "code",
      "metadata": {
        "id": "vZdTierejuyd"
      },
      "source": [
        "from sklearn.model_selection import KFold\n",
        "from sklearn.model_selection import cross_val_score\n",
        "from numpy import mean\n",
        "from numpy import std"
      ],
      "execution_count": null,
      "outputs": []
    },
    {
      "cell_type": "code",
      "metadata": {
        "colab": {
          "base_uri": "https://localhost:8080/"
        },
        "id": "dH_0CN4mjuyd",
        "outputId": "f3c17985-b200-4355-986a-ec59a136d52e"
      },
      "source": [
        "# preparar el procedimiento de cross-validation \n",
        "cv = KFold(n_splits=5, random_state=1)\n",
        "# crear el modelo\n",
        "model = SVC(kernel= 'linear', gamma=0.5,C=10)\n",
        "model.fit(X_train, y_train)\n",
        "# evaluar el modelo\n",
        "scores = cross_val_score(model, X_val, y_val, scoring='accuracy', cv=cv, n_jobs=-1)\n",
        "# mostrar el resultado\n",
        "print('Accuracy: %.3f (%.3f)' % (mean(scores), std(scores)))"
      ],
      "execution_count": null,
      "outputs": [
        {
          "output_type": "stream",
          "text": [
            "Accuracy: 0.806 (0.022)\n"
          ],
          "name": "stdout"
        }
      ]
    },
    {
      "cell_type": "code",
      "metadata": {
        "colab": {
          "base_uri": "https://localhost:8080/"
        },
        "id": "J7n-x3ISjuye",
        "outputId": "97751799-e19c-46e3-873f-8ec217d04c1f"
      },
      "source": [
        "# preparar el procedimiento de cross-validation \n",
        "cv = KFold(n_splits=5, random_state=1, shuffle=True)\n",
        "# crear el modelo\n",
        "model = SVC(kernel= 'linear', gamma=0.5,C=10)\n",
        "model.fit(X_train, y_train)\n",
        "# evaluar el modelo\n",
        "scores = cross_val_score(model, X_val, y_val, scoring='accuracy', cv=cv, n_jobs=-1)\n",
        "# mostrar el resultado\n",
        "print('Accuracy: %.3f (%.3f)' % (mean(scores), std(scores)))"
      ],
      "execution_count": null,
      "outputs": [
        {
          "output_type": "stream",
          "text": [
            "Accuracy: 0.804 (0.015)\n"
          ],
          "name": "stdout"
        }
      ]
    },
    {
      "cell_type": "markdown",
      "metadata": {
        "id": "sxYjh36Tjuyf"
      },
      "source": [
        "#### Repeticiones de k-fold Cross Validation"
      ]
    },
    {
      "cell_type": "code",
      "metadata": {
        "id": "CKQhHk-7juyf"
      },
      "source": [
        "from sklearn.model_selection import RepeatedKFold"
      ],
      "execution_count": null,
      "outputs": []
    },
    {
      "cell_type": "code",
      "metadata": {
        "colab": {
          "base_uri": "https://localhost:8080/"
        },
        "id": "_TrbiQkLjuyf",
        "outputId": "32992f2c-dedc-4f4b-c2ba-bef912db740c"
      },
      "source": [
        "# preparar el procedimiento de cross-validation \n",
        "cv = RepeatedKFold(n_splits=5, n_repeats=1, random_state=1)\n",
        "# crear el modelo\n",
        "model = SVC(kernel= 'linear', gamma=0.5,C=10)\n",
        "model.fit(X_train, y_train)\n",
        "# evaluar el modelo\n",
        "scores = cross_val_score(model, X_val, y_val, scoring='accuracy', cv=cv, n_jobs=-1)\n",
        "# mostrar el resultado\n",
        "print('Accuracy: %.3f (%.3f)' % (mean(scores), std(scores)))"
      ],
      "execution_count": null,
      "outputs": [
        {
          "output_type": "stream",
          "text": [
            "Accuracy: 0.804 (0.015)\n"
          ],
          "name": "stdout"
        }
      ]
    },
    {
      "cell_type": "markdown",
      "metadata": {
        "id": "LcCr_NqJjuyg"
      },
      "source": [
        "#### Stratified k-fold Cross Validation"
      ]
    },
    {
      "cell_type": "code",
      "metadata": {
        "id": "ndpOCSdNjuyg"
      },
      "source": [
        "from sklearn.model_selection import StratifiedKFold"
      ],
      "execution_count": null,
      "outputs": []
    },
    {
      "cell_type": "code",
      "metadata": {
        "colab": {
          "base_uri": "https://localhost:8080/"
        },
        "id": "VNtBOieQjuyg",
        "outputId": "1de1806c-8cfc-404f-b5e5-bcb5a564f97c"
      },
      "source": [
        "# preparar el procedimiento de cross-validation \n",
        "cv = StratifiedKFold(n_splits=16,random_state=1, shuffle=False)\n",
        "# crear el modelo\n",
        "model = SVC(kernel= 'linear', gamma=0.5,C=10)\n",
        "model.fit(X_train, y_train)\n",
        "# evaluar el modelo\n",
        "scores = cross_val_score(model, X_val, y_val, scoring='accuracy', cv=cv, n_jobs=-1)\n",
        "# mostrar el resultado\n",
        "print('Accuracy: %.3f (%.3f)' % (mean(scores), std(scores)))"
      ],
      "execution_count": null,
      "outputs": [
        {
          "output_type": "stream",
          "text": [
            "Accuracy: 0.806 (0.031)\n"
          ],
          "name": "stdout"
        }
      ]
    },
    {
      "cell_type": "markdown",
      "metadata": {
        "id": "Ho8-BDKzjuyg"
      },
      "source": [
        "#### Shuffle Split"
      ]
    },
    {
      "cell_type": "code",
      "metadata": {
        "id": "LYEp3l4tjuyh"
      },
      "source": [
        "from sklearn.model_selection import ShuffleSplit"
      ],
      "execution_count": null,
      "outputs": []
    },
    {
      "cell_type": "code",
      "metadata": {
        "colab": {
          "base_uri": "https://localhost:8080/"
        },
        "id": "Nvj6x76cjuyh",
        "outputId": "1eeed5f0-47d0-49dd-f54c-e61a23855da4"
      },
      "source": [
        "# preparar el procedimiento de cross-validation \n",
        "cv = ShuffleSplit(n_splits=2,train_size=0.8,random_state=1)\n",
        "# crear el modelo\n",
        "model = SVC(kernel= 'linear', gamma=0.5,C=10)\n",
        "model.fit(X_train, y_train)\n",
        "# evaluar el modelo\n",
        "scores = cross_val_score(model, X_val, y_val, scoring='accuracy', cv=cv, n_jobs=-1)\n",
        "# mostrar el resultado\n",
        "print('Accuracy: %.3f (%.3f)' % (mean(scores), std(scores)))"
      ],
      "execution_count": null,
      "outputs": [
        {
          "output_type": "stream",
          "text": [
            "Accuracy: 0.808 (0.000)\n"
          ],
          "name": "stdout"
        }
      ]
    },
    {
      "cell_type": "markdown",
      "metadata": {
        "id": "JYL-KVdWjuyh"
      },
      "source": [
        "### Summary\n",
        "\n",
        "The best hyperparameters for the model:\n",
        "\n",
        "```\n",
        "> kernel: linear\n",
        "> gamma: 0.5\n",
        "> C: 10\n",
        "```\n",
        "\n",
        "The best evaluation:\n",
        "\n",
        "```\n",
        "Shuffle Split: \n",
        "  > n_splits = 16\n",
        "  > train_size=0.8\n",
        "```\n",
        "### We obtain an accuracy of: 80.8%\n"
      ]
    },
    {
      "cell_type": "markdown",
      "metadata": {
        "id": "umFBO8wtFjFi"
      },
      "source": [
        "##Gaussian Naive Bayes"
      ]
    },
    {
      "cell_type": "code",
      "metadata": {
        "id": "7nrwgVfHsRHv"
      },
      "source": [
        "from sklearn.naive_bayes import GaussianNB"
      ],
      "execution_count": null,
      "outputs": []
    },
    {
      "cell_type": "markdown",
      "metadata": {
        "id": "ObjRvMRXK5G1"
      },
      "source": [
        "### Searching for the best hyperparameters:"
      ]
    },
    {
      "cell_type": "markdown",
      "metadata": {
        "id": "y-ONf8ffsURl"
      },
      "source": [
        "#### **GRIDSEARCH:**"
      ]
    },
    {
      "cell_type": "code",
      "metadata": {
        "colab": {
          "base_uri": "https://localhost:8080/"
        },
        "id": "QbHYaS2CsURl",
        "outputId": "8727fd7c-29b4-4775-8600-3b5ce4167e26"
      },
      "source": [
        "%%time\n",
        "from sklearn.model_selection import GridSearchCV\n",
        "\n",
        "param_grid = {'var_smoothing': np.logspace(0,-9, num=100)}\n",
        "\n",
        "grid_search_NB= GridSearchCV(GaussianNB(), param_grid, cv=3, scoring='accuracy',\n",
        "                           refit= True, verbose=2, n_jobs=-1)\n",
        "grid_search_NB.fit(X_train, y_train)"
      ],
      "execution_count": null,
      "outputs": [
        {
          "output_type": "stream",
          "text": [
            "Fitting 3 folds for each of 100 candidates, totalling 300 fits\n"
          ],
          "name": "stdout"
        },
        {
          "output_type": "stream",
          "text": [
            "[Parallel(n_jobs=-1)]: Using backend LokyBackend with 2 concurrent workers.\n",
            "[Parallel(n_jobs=-1)]: Done 265 tasks      | elapsed:    2.5s\n"
          ],
          "name": "stderr"
        },
        {
          "output_type": "stream",
          "text": [
            "CPU times: user 473 ms, sys: 46.1 ms, total: 520 ms\n",
            "Wall time: 2.77 s\n"
          ],
          "name": "stdout"
        },
        {
          "output_type": "stream",
          "text": [
            "[Parallel(n_jobs=-1)]: Done 300 out of 300 | elapsed:    2.7s finished\n"
          ],
          "name": "stderr"
        }
      ]
    },
    {
      "cell_type": "code",
      "metadata": {
        "colab": {
          "base_uri": "https://localhost:8080/"
        },
        "id": "x1C86m_7sURm",
        "outputId": "8ed3d14e-911b-4512-c654-2d91fc74c24c"
      },
      "source": [
        "grid_search_NB.best_params_"
      ],
      "execution_count": null,
      "outputs": [
        {
          "output_type": "execute_result",
          "data": {
            "text/plain": [
              "{'var_smoothing': 0.1}"
            ]
          },
          "metadata": {
            "tags": []
          },
          "execution_count": 129
        }
      ]
    },
    {
      "cell_type": "code",
      "metadata": {
        "colab": {
          "base_uri": "https://localhost:8080/"
        },
        "id": "MX-G3fzIsURm",
        "outputId": "5bee3c82-a522-40e2-8118-500c29973a51"
      },
      "source": [
        "grid_search_NB.best_score_"
      ],
      "execution_count": null,
      "outputs": [
        {
          "output_type": "execute_result",
          "data": {
            "text/plain": [
              "0.9326923076923076"
            ]
          },
          "metadata": {
            "tags": []
          },
          "execution_count": 130
        }
      ]
    },
    {
      "cell_type": "code",
      "metadata": {
        "id": "zjEA72XtsURn"
      },
      "source": [
        "NB=grid_search_NB.best_estimator_"
      ],
      "execution_count": null,
      "outputs": []
    },
    {
      "cell_type": "code",
      "metadata": {
        "colab": {
          "base_uri": "https://localhost:8080/"
        },
        "id": "MQjZkb1GsURn",
        "outputId": "5e04beb6-254a-4ae5-ae4f-d66d06c9e439"
      },
      "source": [
        "print(f'> Conjunto de validación: {NB.score(X_val,y_val)}')"
      ],
      "execution_count": null,
      "outputs": [
        {
          "output_type": "stream",
          "text": [
            "> Conjunto de validación: 0.8010788941335132\n"
          ],
          "name": "stdout"
        }
      ]
    },
    {
      "cell_type": "markdown",
      "metadata": {
        "id": "k9GFiY08M6IL"
      },
      "source": [
        "### Confusion matrics and other metrics: "
      ]
    },
    {
      "cell_type": "code",
      "metadata": {
        "colab": {
          "base_uri": "https://localhost:8080/"
        },
        "id": "WhxkKOdSS5-F",
        "outputId": "3de98489-4926-4ae9-ceff-7e06be6ca2fa"
      },
      "source": [
        "GNB = GaussianNB(var_smoothing= 0.1)\n",
        "GNB.fit(X_train, y_train)\n",
        "y_pred = GNB.predict(X_val)\n",
        "print('Accuracy: ' + str(GNB.score(X_val, y_val)))\n",
        "print('')\n",
        "print(classification_report(y_val,y_pred))"
      ],
      "execution_count": null,
      "outputs": [
        {
          "output_type": "stream",
          "text": [
            "Accuracy: 0.8010788941335132\n",
            "\n",
            "              precision    recall  f1-score   support\n",
            "\n",
            "           0       0.88      0.87      0.87       692\n",
            "           1       0.79      0.86      0.83       530\n",
            "           2       0.51      0.62      0.56        84\n",
            "           3       0.63      0.45      0.53       177\n",
            "\n",
            "    accuracy                           0.80      1483\n",
            "   macro avg       0.71      0.70      0.70      1483\n",
            "weighted avg       0.80      0.80      0.80      1483\n",
            "\n"
          ],
          "name": "stdout"
        }
      ]
    },
    {
      "cell_type": "code",
      "metadata": {
        "colab": {
          "base_uri": "https://localhost:8080/",
          "height": 285
        },
        "id": "qxhI0sL3S5-G",
        "outputId": "8e528dd8-3b3b-40d6-beb4-081c6d0502b4"
      },
      "source": [
        "mat = confusion_matrix(y_val, y_pred)\n",
        "sns.heatmap(mat.T, square=True, annot=True, fmt='d', cbar=False,\n",
        "            xticklabels=['0', '1', '2', '3'], yticklabels=['0', '1', '2', '3'])\n",
        "plt.xlabel('true label')\n",
        "plt.ylabel('predicted label');"
      ],
      "execution_count": null,
      "outputs": [
        {
          "output_type": "display_data",
          "data": {
            "image/png": "[encoded data removed]",
            "text/plain": [
              "<Figure size 432x288 with 1 Axes>"
            ]
          },
          "metadata": {
            "tags": []
          }
        }
      ]
    },
    {
      "cell_type": "markdown",
      "metadata": {
        "id": "v5DEE3GkLH2E"
      },
      "source": [
        "### Evaluation"
      ]
    },
    {
      "cell_type": "markdown",
      "metadata": {
        "id": "5zOIzZVps-8E"
      },
      "source": [
        "####k-fold Cross Validation"
      ]
    },
    {
      "cell_type": "code",
      "metadata": {
        "id": "--VM-Qtvs-8O"
      },
      "source": [
        "from sklearn.model_selection import KFold\n",
        "from sklearn.model_selection import cross_val_score\n",
        "from numpy import mean\n",
        "from numpy import std"
      ],
      "execution_count": null,
      "outputs": []
    },
    {
      "cell_type": "code",
      "metadata": {
        "colab": {
          "base_uri": "https://localhost:8080/"
        },
        "id": "mVnJtjEvs-8P",
        "outputId": "82a1330a-59e1-4bff-aee5-b8065a4cd383"
      },
      "source": [
        "# preparar el procedimiento de cross-validation \n",
        "cv = KFold(n_splits=5, random_state=1)\n",
        "# crear el modelo\n",
        "model = GaussianNB(var_smoothing= 0.1)\n",
        "model.fit(X_train, y_train)\n",
        "# evaluar el modelo\n",
        "scores = cross_val_score(model, X_val, y_val, scoring='accuracy', cv=cv, n_jobs=-1)\n",
        "# mostrar el resultado\n",
        "print('Accuracy: %.3f (%.3f)' % (mean(scores), std(scores)))"
      ],
      "execution_count": null,
      "outputs": [
        {
          "output_type": "stream",
          "text": [
            "Accuracy: 0.802 (0.018)\n"
          ],
          "name": "stdout"
        }
      ]
    },
    {
      "cell_type": "code",
      "metadata": {
        "colab": {
          "base_uri": "https://localhost:8080/"
        },
        "id": "Gp3gAu1Cs-8P",
        "outputId": "7f155c84-72ec-49f7-e5db-ce387f8c00ca"
      },
      "source": [
        "# preparar el procedimiento de cross-validation \n",
        "cv = KFold(n_splits=5, random_state=1, shuffle=True)\n",
        "# crear el modelo\n",
        "model = GaussianNB(var_smoothing= 0.1)\n",
        "model.fit(X_train, y_train)\n",
        "# evaluar el modelo\n",
        "scores = cross_val_score(model, X_val, y_val, scoring='accuracy', cv=cv, n_jobs=-1)\n",
        "# mostrar el resultado\n",
        "print('Accuracy: %.3f (%.3f)' % (mean(scores), std(scores)))"
      ],
      "execution_count": null,
      "outputs": [
        {
          "output_type": "stream",
          "text": [
            "Accuracy: 0.805 (0.016)\n"
          ],
          "name": "stdout"
        }
      ]
    },
    {
      "cell_type": "markdown",
      "metadata": {
        "id": "CLVGbNBvs-8Q"
      },
      "source": [
        "#### Repeticiones de k-fold Cross Validation"
      ]
    },
    {
      "cell_type": "code",
      "metadata": {
        "id": "6jFIWlDys-8Q"
      },
      "source": [
        "from sklearn.model_selection import RepeatedKFold"
      ],
      "execution_count": null,
      "outputs": []
    },
    {
      "cell_type": "code",
      "metadata": {
        "colab": {
          "base_uri": "https://localhost:8080/"
        },
        "id": "zIjGBkuKs-8Q",
        "outputId": "d4ec8e7e-4a35-4820-ec95-d8bc0d3aa806"
      },
      "source": [
        "# preparar el procedimiento de cross-validation \n",
        "cv = RepeatedKFold(n_splits=5, n_repeats=1, random_state=1)\n",
        "# crear el modelo\n",
        "model = GaussianNB(var_smoothing= 0.1)\n",
        "model.fit(X_train, y_train)\n",
        "# evaluar el modelo\n",
        "scores = cross_val_score(model, X_val, y_val, scoring='accuracy', cv=cv, n_jobs=-1)\n",
        "# mostrar el resultado\n",
        "print('Accuracy: %.3f (%.3f)' % (mean(scores), std(scores)))"
      ],
      "execution_count": null,
      "outputs": [
        {
          "output_type": "stream",
          "text": [
            "Accuracy: 0.805 (0.016)\n"
          ],
          "name": "stdout"
        }
      ]
    },
    {
      "cell_type": "markdown",
      "metadata": {
        "id": "DUoIIoOms-8Q"
      },
      "source": [
        "#### Stratified k-fold Cross Validation"
      ]
    },
    {
      "cell_type": "code",
      "metadata": {
        "id": "4ar9e3fPs-8R"
      },
      "source": [
        "from sklearn.model_selection import StratifiedKFold"
      ],
      "execution_count": null,
      "outputs": []
    },
    {
      "cell_type": "code",
      "metadata": {
        "colab": {
          "base_uri": "https://localhost:8080/"
        },
        "id": "Phhmfsmis-8R",
        "outputId": "c1878efb-f44c-4bca-c079-50df0f32841e"
      },
      "source": [
        "# preparar el procedimiento de cross-validation \n",
        "cv = StratifiedKFold(n_splits=16,random_state=1, shuffle=False)\n",
        "# crear el modelo\n",
        "model = GaussianNB(var_smoothing= 0.1)\n",
        "model.fit(X_train, y_train)\n",
        "# evaluar el modelo\n",
        "scores = cross_val_score(model, X_val, y_val, scoring='accuracy', cv=cv, n_jobs=-1)\n",
        "# mostrar el resultado\n",
        "print('Accuracy: %.3f (%.3f)' % (mean(scores), std(scores)))"
      ],
      "execution_count": null,
      "outputs": [
        {
          "output_type": "stream",
          "text": [
            "Accuracy: 0.803 (0.033)\n"
          ],
          "name": "stdout"
        }
      ]
    },
    {
      "cell_type": "markdown",
      "metadata": {
        "id": "R_8xT8h_s-8R"
      },
      "source": [
        "#### Shuffle Split"
      ]
    },
    {
      "cell_type": "code",
      "metadata": {
        "id": "IBL6wwIBs-8S"
      },
      "source": [
        "from sklearn.model_selection import ShuffleSplit"
      ],
      "execution_count": null,
      "outputs": []
    },
    {
      "cell_type": "code",
      "metadata": {
        "colab": {
          "base_uri": "https://localhost:8080/"
        },
        "id": "SwVFj8ycuxOl",
        "outputId": "c1a9c97e-2b2c-44b1-861c-885c0d099c9b"
      },
      "source": [
        "# preparar el procedimiento de cross-validation \n",
        "cv = ShuffleSplit(n_splits=1,train_size=0.8,random_state=1)\n",
        "# crear el modelo\n",
        "model = GaussianNB(var_smoothing= 0.1)\n",
        "model.fit(X_train, y_train)\n",
        "# evaluar el modelo\n",
        "scores = cross_val_score(model, X_val, y_val, scoring='accuracy', cv=cv, n_jobs=-1)\n",
        "# mostrar el resultado\n",
        "print('Accuracy: %.3f (%.3f)' % (mean(scores), std(scores)))"
      ],
      "execution_count": null,
      "outputs": [
        {
          "output_type": "stream",
          "text": [
            "Accuracy: 0.811 (0.000)\n"
          ],
          "name": "stdout"
        }
      ]
    },
    {
      "cell_type": "code",
      "metadata": {
        "colab": {
          "base_uri": "https://localhost:8080/"
        },
        "id": "l1s9vZv8s-8S",
        "outputId": "00477aa6-0bcd-4a73-dcab-24ba2b6d18bd"
      },
      "source": [
        "# preparar el procedimiento de cross-validation \n",
        "cv = ShuffleSplit(n_splits=37,train_size=0.8,random_state=1)\n",
        "# crear el modelo\n",
        "model = GaussianNB(var_smoothing= 0.1)\n",
        "model.fit(X_train, y_train)\n",
        "# evaluar el modelo\n",
        "scores = cross_val_score(model, X_val, y_val, scoring='accuracy', cv=cv, n_jobs=-1)\n",
        "# mostrar el resultado\n",
        "print('Accuracy: %.3f (%.3f)' % (mean(scores), std(scores)))"
      ],
      "execution_count": null,
      "outputs": [
        {
          "output_type": "stream",
          "text": [
            "Accuracy: 0.806 (0.021)\n"
          ],
          "name": "stdout"
        }
      ]
    },
    {
      "cell_type": "markdown",
      "metadata": {
        "id": "P7PRUTzguXKz"
      },
      "source": [
        "### Summary\n",
        "\n",
        "The best hyperparameters for the model:\n",
        "\n",
        "```\n",
        "> var_smoothing= 0.1\n",
        "```\n",
        "\n",
        "### And the best evaluation:\n",
        "\n",
        "```\n",
        "Shuffle Split: \n",
        "  > n_splits = 1\n",
        "  > train_size=0.8\n",
        "```\n",
        "### We obtain an accuracy of: 81.1%\n"
      ]
    },
    {
      "cell_type": "markdown",
      "metadata": {
        "id": "ebYg5T_aOfJH"
      },
      "source": [
        "## Random Forest Classifier"
      ]
    },
    {
      "cell_type": "code",
      "metadata": {
        "id": "FnNG088wOpc7"
      },
      "source": [
        "from sklearn.ensemble import RandomForestClassifier"
      ],
      "execution_count": null,
      "outputs": []
    },
    {
      "cell_type": "markdown",
      "metadata": {
        "id": "KJQIurPVOpc8"
      },
      "source": [
        "### Searching for the best hyperparameters: \n"
      ]
    },
    {
      "cell_type": "markdown",
      "metadata": {
        "id": "XpNOHis9Opc8"
      },
      "source": [
        "#### **GRIDSEARCH:**"
      ]
    },
    {
      "cell_type": "code",
      "metadata": {
        "colab": {
          "base_uri": "https://localhost:8080/"
        },
        "id": "PzmF8ysQOpc8",
        "outputId": "1475c471-19fd-475d-c938-becba583b3d9"
      },
      "source": [
        "%%time\n",
        "from sklearn.model_selection import GridSearchCV\n",
        "\n",
        "param_grid = {\n",
        "    'n_estimators': [10,50,100,150,200],\n",
        "    'criterion': ['gini', 'entropy'],\n",
        "    'max_depth':[5,10,None],\n",
        "    'max_features' : [5,10,'auto']\n",
        "    }  \n",
        "\n",
        "grid_search_RF = GridSearchCV(RandomForestClassifier(), param_grid, cv=3, scoring='accuracy',\n",
        "                           refit= True, verbose=2, n_jobs=-1)\n",
        "grid_search_RF.fit(X_train, y_train)"
      ],
      "execution_count": null,
      "outputs": [
        {
          "output_type": "stream",
          "text": [
            "Fitting 3 folds for each of 90 candidates, totalling 270 fits\n"
          ],
          "name": "stdout"
        },
        {
          "output_type": "stream",
          "text": [
            "[Parallel(n_jobs=-1)]: Using backend LokyBackend with 2 concurrent workers.\n",
            "[Parallel(n_jobs=-1)]: Done  50 tasks      | elapsed:    8.5s\n",
            "[Parallel(n_jobs=-1)]: Done 214 tasks      | elapsed:   40.2s\n",
            "[Parallel(n_jobs=-1)]: Done 270 out of 270 | elapsed:  1.1min finished\n"
          ],
          "name": "stderr"
        },
        {
          "output_type": "stream",
          "text": [
            "CPU times: user 2.58 s, sys: 107 ms, total: 2.69 s\n",
            "Wall time: 1min 6s\n"
          ],
          "name": "stdout"
        }
      ]
    },
    {
      "cell_type": "code",
      "metadata": {
        "colab": {
          "base_uri": "https://localhost:8080/"
        },
        "id": "kFRlcSoAOpc9",
        "outputId": "c3bf3d6c-bc0d-4746-8f50-d6c2e8455984"
      },
      "source": [
        "grid_search_RF.best_params_"
      ],
      "execution_count": null,
      "outputs": [
        {
          "output_type": "execute_result",
          "data": {
            "text/plain": [
              "{'criterion': 'gini',\n",
              " 'max_depth': 5,\n",
              " 'max_features': 'auto',\n",
              " 'n_estimators': 200}"
            ]
          },
          "metadata": {
            "tags": []
          },
          "execution_count": 8
        }
      ]
    },
    {
      "cell_type": "code",
      "metadata": {
        "colab": {
          "base_uri": "https://localhost:8080/"
        },
        "id": "FTHKNEicOpc-",
        "outputId": "bfb79bdd-65f7-4329-ed34-25bfeff3788f"
      },
      "source": [
        "grid_search_RF.best_score_"
      ],
      "execution_count": null,
      "outputs": [
        {
          "output_type": "execute_result",
          "data": {
            "text/plain": [
              "0.9310053981106613"
            ]
          },
          "metadata": {
            "tags": []
          },
          "execution_count": 9
        }
      ]
    },
    {
      "cell_type": "code",
      "metadata": {
        "id": "dinilu3zOpc-"
      },
      "source": [
        "RF=grid_search_RF.best_estimator_"
      ],
      "execution_count": null,
      "outputs": []
    },
    {
      "cell_type": "code",
      "metadata": {
        "colab": {
          "base_uri": "https://localhost:8080/"
        },
        "id": "pDRcu9WxOpc-",
        "outputId": "cab93de4-e3d9-4492-ccd6-3684304648b2"
      },
      "source": [
        "print(f'> Conjunto de validación: {RF.score(X_val,y_val)}')"
      ],
      "execution_count": null,
      "outputs": [
        {
          "output_type": "stream",
          "text": [
            "> Conjunto de validación: 0.799055967633176\n"
          ],
          "name": "stdout"
        }
      ]
    },
    {
      "cell_type": "markdown",
      "metadata": {
        "id": "EUccy9gyOpc-"
      },
      "source": [
        "#### **RANDOM SEARCH**"
      ]
    },
    {
      "cell_type": "code",
      "metadata": {
        "colab": {
          "base_uri": "https://localhost:8080/"
        },
        "id": "qXDHZDvaOpc_",
        "outputId": "b2dd2771-20e1-4096-c914-9458fcb36596"
      },
      "source": [
        "%%time\n",
        "\n",
        "from sklearn.model_selection import RandomizedSearchCV\n",
        "from scipy.stats import randint\n",
        "\n",
        "param_distribs = {\n",
        "    'n_estimators': [10,25,50,75,100,125,150,175,200],\n",
        "    'criterion': ['gini', 'entropy'],\n",
        "    'max_depth':[5,10,15,None],\n",
        "    'max_features' : [5,10,15,'auto']\n",
        "    }  \n",
        "\n",
        "\n",
        "rnd_search_RF = RandomizedSearchCV(RandomForestClassifier(), param_distribs,\n",
        "                                n_iter=10, cv=3, scoring='accuracy', random_state=42, verbose=2, n_jobs=-1)\n",
        "\n",
        "rnd_search_RF.fit(X_train, y_train)"
      ],
      "execution_count": null,
      "outputs": [
        {
          "output_type": "stream",
          "text": [
            "Fitting 3 folds for each of 10 candidates, totalling 30 fits\n"
          ],
          "name": "stdout"
        },
        {
          "output_type": "stream",
          "text": [
            "[Parallel(n_jobs=-1)]: Using backend LokyBackend with 2 concurrent workers.\n",
            "[Parallel(n_jobs=-1)]: Done  30 out of  30 | elapsed:    1.5s finished\n"
          ],
          "name": "stderr"
        },
        {
          "output_type": "stream",
          "text": [
            "CPU times: user 387 ms, sys: 10 ms, total: 397 ms\n",
            "Wall time: 1.77 s\n"
          ],
          "name": "stdout"
        }
      ]
    },
    {
      "cell_type": "code",
      "metadata": {
        "colab": {
          "base_uri": "https://localhost:8080/"
        },
        "id": "sTshaxGuOpc_",
        "outputId": "da49896f-49fc-4fb0-ded2-0bafd2938e08"
      },
      "source": [
        "rnd_search_RF.best_params_"
      ],
      "execution_count": null,
      "outputs": [
        {
          "output_type": "execute_result",
          "data": {
            "text/plain": [
              "{'criterion': 'entropy',\n",
              " 'max_depth': 5,\n",
              " 'max_features': 'auto',\n",
              " 'n_estimators': 25}"
            ]
          },
          "metadata": {
            "tags": []
          },
          "execution_count": 14
        }
      ]
    },
    {
      "cell_type": "code",
      "metadata": {
        "colab": {
          "base_uri": "https://localhost:8080/"
        },
        "id": "g3t4mLv2Opc_",
        "outputId": "929df230-8369-4e42-a402-37ee7316bdaf"
      },
      "source": [
        "rnd_search_RF.best_score_"
      ],
      "execution_count": null,
      "outputs": [
        {
          "output_type": "execute_result",
          "data": {
            "text/plain": [
              "0.9304993252361674"
            ]
          },
          "metadata": {
            "tags": []
          },
          "execution_count": 15
        }
      ]
    },
    {
      "cell_type": "code",
      "metadata": {
        "id": "eXdr04EHOpdA"
      },
      "source": [
        "RF=rnd_search_RF.best_estimator_"
      ],
      "execution_count": null,
      "outputs": []
    },
    {
      "cell_type": "code",
      "metadata": {
        "colab": {
          "base_uri": "https://localhost:8080/"
        },
        "id": "efbm6CArOpdA",
        "outputId": "caa1d58c-efec-41f3-beea-e579754b6591"
      },
      "source": [
        "print(f'> Conjunto de validación: {RF.score(X_val,y_val)}')"
      ],
      "execution_count": null,
      "outputs": [
        {
          "output_type": "stream",
          "text": [
            "> Conjunto de validación: 0.8017532029669588\n"
          ],
          "name": "stdout"
        }
      ]
    },
    {
      "cell_type": "markdown",
      "metadata": {
        "id": "dpTyP5XpOpdA"
      },
      "source": [
        "#### **Optimización Bayesiana:**"
      ]
    },
    {
      "cell_type": "code",
      "metadata": {
        "id": "rFvM_tpYOpdA"
      },
      "source": [
        "%%capture\n",
        "! pip install scikit-optimize"
      ],
      "execution_count": null,
      "outputs": []
    },
    {
      "cell_type": "code",
      "metadata": {
        "id": "PfWiSmMZOpdB"
      },
      "source": [
        "from skopt import BayesSearchCV"
      ],
      "execution_count": null,
      "outputs": []
    },
    {
      "cell_type": "code",
      "metadata": {
        "colab": {
          "base_uri": "https://localhost:8080/"
        },
        "id": "ODkaEL67OpdB",
        "outputId": "1cc61221-1f98-4086-e878-7fe2bd325b0a"
      },
      "source": [
        "%%time\n",
        "\n",
        "from skopt.space import Real, Categorical, Integer #Permite definir el tipo\n",
        "\n",
        "param_distribs = {\n",
        "    'n_estimators': Integer(1, 300, 'log_uniform'),\n",
        "    'criterion': ['gini', 'entropy'],\n",
        "    'max_depth':[5,10,15,20]\n",
        "    } \n",
        "\n",
        "bayes_search_RF = BayesSearchCV(\n",
        "    RandomForestClassifier(),\n",
        "    param_distribs,\n",
        "    n_iter=10,\n",
        "    cv=3, scoring='accuracy', random_state=42,\n",
        "    n_jobs=-1,\n",
        "    optimizer_kwargs={'base_estimator': 'GP'} # 'GP': Gaussean Process,'RF': Random Forest regressor,'ET': Extra Trees regressor, 'GBRT': gradient boosted trees\n",
        "  )\n",
        "bayes_search_RF.fit(X_train, y_train)\n",
        "\n",
        "print(bayes_search_RF.best_params_)"
      ],
      "execution_count": null,
      "outputs": [
        {
          "output_type": "stream",
          "text": [
            "OrderedDict([('criterion', 'gini'), ('max_depth', 10), ('n_estimators', 180)])\n",
            "CPU times: user 2.59 s, sys: 539 ms, total: 3.13 s\n",
            "Wall time: 35.3 s\n"
          ],
          "name": "stdout"
        }
      ]
    },
    {
      "cell_type": "code",
      "metadata": {
        "colab": {
          "base_uri": "https://localhost:8080/"
        },
        "id": "myj0hdUEOpdB",
        "outputId": "78e8d878-6cbe-4707-997c-b0219da655c8"
      },
      "source": [
        "bayes_search_RF.best_params_"
      ],
      "execution_count": null,
      "outputs": [
        {
          "output_type": "execute_result",
          "data": {
            "text/plain": [
              "OrderedDict([('criterion', 'gini'), ('max_depth', 10), ('n_estimators', 180)])"
            ]
          },
          "metadata": {
            "tags": []
          },
          "execution_count": 28
        }
      ]
    },
    {
      "cell_type": "code",
      "metadata": {
        "colab": {
          "base_uri": "https://localhost:8080/"
        },
        "id": "jbbwzOrpOpdD",
        "outputId": "bcbcf468-b0f3-411b-e0ce-a75679d592cf"
      },
      "source": [
        "bayes_search_RF.best_score_"
      ],
      "execution_count": null,
      "outputs": [
        {
          "output_type": "execute_result",
          "data": {
            "text/plain": [
              "0.9230769230769231"
            ]
          },
          "metadata": {
            "tags": []
          },
          "execution_count": 29
        }
      ]
    },
    {
      "cell_type": "code",
      "metadata": {
        "id": "2ibZcc1NOpdD"
      },
      "source": [
        "RF=bayes_search_RF.best_estimator_"
      ],
      "execution_count": null,
      "outputs": []
    },
    {
      "cell_type": "code",
      "metadata": {
        "colab": {
          "base_uri": "https://localhost:8080/"
        },
        "id": "-9043dQnOpdD",
        "outputId": "9b7dbfd4-96ec-494c-f449-b079a7385e7b"
      },
      "source": [
        "print(f'> Conjunto de validación: {RF.score(X_val,y_val)}')"
      ],
      "execution_count": null,
      "outputs": [
        {
          "output_type": "stream",
          "text": [
            "> Conjunto de validación: 0.7977073499662846\n"
          ],
          "name": "stdout"
        }
      ]
    },
    {
      "cell_type": "markdown",
      "metadata": {
        "id": "JMmlO2Q3OpdE"
      },
      "source": [
        "#### **HYPERBAND:**"
      ]
    },
    {
      "cell_type": "code",
      "metadata": {
        "id": "39xq-dq0OpdE"
      },
      "source": [
        "%%capture\n",
        "!git clone https://github.com/thuijskens/scikit-hyperband.git\n",
        "%cd scikit-hyperband\n",
        "!python setup.py install"
      ],
      "execution_count": null,
      "outputs": []
    },
    {
      "cell_type": "code",
      "metadata": {
        "id": "2BOe2KBkOpdE"
      },
      "source": [
        "from hyperband import HyperbandSearchCV\n",
        "import warnings\n",
        "warnings.filterwarnings('ignore')"
      ],
      "execution_count": null,
      "outputs": []
    },
    {
      "cell_type": "code",
      "metadata": {
        "id": "P2rfvNcCOpdE"
      },
      "source": [
        "# Distributions or lists of parameters to try. Distributions must provide a rvs method for sampling (such as those from scipy.stats.distributions). If a list is given, it is sampled uniformly.\n",
        "param_grid = {\n",
        "    'n_estimators': [10,25,50,75,100,125,150,175,200],\n",
        "    'criterion': ['gini', 'entropy'],\n",
        "    'max_depth':[5,10,15,None]\n",
        "    }  \n"
      ],
      "execution_count": null,
      "outputs": []
    },
    {
      "cell_type": "code",
      "metadata": {
        "colab": {
          "base_uri": "https://localhost:8080/"
        },
        "id": "3NAnQLqVOpdE",
        "outputId": "881f3903-9a5f-4496-dcc5-635d32642786"
      },
      "source": [
        "%%time\n",
        "\n",
        "Hyb_search_RF = HyperbandSearchCV(RandomForestClassifier(),\n",
        "                           param_grid,\n",
        "                           resource_param='n_estimators', #Recursos que se asignarán en cada estimacion. En Random Forest tipicamente el número de árboles\n",
        "                           verbose =1,\n",
        "                           max_iter=500, #Numero de árboles máximo en una iteración\n",
        "                           min_iter=30, #Numero de árboles mínimo en una iteración\n",
        "                           eta=3, #Reducción de recursos en cada iteración\n",
        "                           cv=3,\n",
        "                           scoring='accuracy',\n",
        "                           random_state = 42)\n",
        "\n",
        "Hyb_search_RF.fit(X_train, y_train)"
      ],
      "execution_count": null,
      "outputs": [
        {
          "output_type": "stream",
          "text": [
            "Starting bracket 1 (out of 3) of hyperband\n",
            "Starting successive halving iteration 1 out of 3. Fitting 9 configurations, with resource_param n_estimators set to 55, and keeping the best 3 configurations.\n",
            "Fitting 3 folds for each of 9 candidates, totalling 27 fits\n"
          ],
          "name": "stdout"
        },
        {
          "output_type": "stream",
          "text": [
            "[Parallel(n_jobs=1)]: Using backend SequentialBackend with 1 concurrent workers.\n",
            "[Parallel(n_jobs=1)]: Done  27 out of  27 | elapsed:   10.8s finished\n",
            "[Parallel(n_jobs=1)]: Using backend SequentialBackend with 1 concurrent workers.\n"
          ],
          "name": "stderr"
        },
        {
          "output_type": "stream",
          "text": [
            "Starting successive halving iteration 2 out of 3. Fitting 3 configurations, with resource_param n_estimators set to 166, and keeping the best 1 configurations.\n",
            "Fitting 3 folds for each of 3 candidates, totalling 9 fits\n"
          ],
          "name": "stdout"
        },
        {
          "output_type": "stream",
          "text": [
            "[Parallel(n_jobs=1)]: Done   9 out of   9 | elapsed:   10.0s finished\n",
            "[Parallel(n_jobs=1)]: Using backend SequentialBackend with 1 concurrent workers.\n"
          ],
          "name": "stderr"
        },
        {
          "output_type": "stream",
          "text": [
            "Starting successive halving iteration 3 out of 3. Fitting 1 configurations, with resource_param n_estimators set to 500\n",
            "Fitting 3 folds for each of 1 candidates, totalling 3 fits\n"
          ],
          "name": "stdout"
        },
        {
          "output_type": "stream",
          "text": [
            "[Parallel(n_jobs=1)]: Done   3 out of   3 | elapsed:    7.2s finished\n",
            "[Parallel(n_jobs=1)]: Using backend SequentialBackend with 1 concurrent workers.\n"
          ],
          "name": "stderr"
        },
        {
          "output_type": "stream",
          "text": [
            "Starting bracket 2 (out of 3) of hyperband\n",
            "Starting successive halving iteration 1 out of 2. Fitting 3 configurations, with resource_param n_estimators set to 166, and keeping the best 1 configurations.\n",
            "Fitting 3 folds for each of 3 candidates, totalling 9 fits\n"
          ],
          "name": "stdout"
        },
        {
          "output_type": "stream",
          "text": [
            "[Parallel(n_jobs=1)]: Done   9 out of   9 | elapsed:   10.0s finished\n",
            "[Parallel(n_jobs=1)]: Using backend SequentialBackend with 1 concurrent workers.\n"
          ],
          "name": "stderr"
        },
        {
          "output_type": "stream",
          "text": [
            "Starting successive halving iteration 2 out of 2. Fitting 1 configurations, with resource_param n_estimators set to 500\n",
            "Fitting 3 folds for each of 1 candidates, totalling 3 fits\n"
          ],
          "name": "stdout"
        },
        {
          "output_type": "stream",
          "text": [
            "[Parallel(n_jobs=1)]: Done   3 out of   3 | elapsed:    7.1s finished\n",
            "[Parallel(n_jobs=1)]: Using backend SequentialBackend with 1 concurrent workers.\n"
          ],
          "name": "stderr"
        },
        {
          "output_type": "stream",
          "text": [
            "Starting bracket 3 (out of 3) of hyperband\n",
            "Starting successive halving iteration 1 out of 1. Fitting 3 configurations, with resource_param n_estimators set to 500, and keeping the best 1 configurations.\n",
            "Fitting 3 folds for each of 3 candidates, totalling 9 fits\n"
          ],
          "name": "stdout"
        },
        {
          "output_type": "stream",
          "text": [
            "[Parallel(n_jobs=1)]: Done   9 out of   9 | elapsed:   36.8s finished\n"
          ],
          "name": "stderr"
        },
        {
          "output_type": "stream",
          "text": [
            "CPU times: user 1min 22s, sys: 142 ms, total: 1min 22s\n",
            "Wall time: 1min 22s\n"
          ],
          "name": "stdout"
        }
      ]
    },
    {
      "cell_type": "code",
      "metadata": {
        "colab": {
          "base_uri": "https://localhost:8080/"
        },
        "id": "A9_afMGsOpdF",
        "outputId": "76b312cc-c650-4edc-c4e5-471aa410c0c1"
      },
      "source": [
        "Hyb_search_RF.best_params_"
      ],
      "execution_count": null,
      "outputs": [
        {
          "output_type": "execute_result",
          "data": {
            "text/plain": [
              "{'criterion': 'gini', 'max_depth': 5, 'n_estimators': 166}"
            ]
          },
          "metadata": {
            "tags": []
          },
          "execution_count": 37
        }
      ]
    },
    {
      "cell_type": "code",
      "metadata": {
        "colab": {
          "base_uri": "https://localhost:8080/"
        },
        "id": "DKjkZ_G4OpdF",
        "outputId": "d0e1d4f8-fba5-426d-ff3f-2061a2c9f602"
      },
      "source": [
        "Hyb_search_RF.best_score_"
      ],
      "execution_count": null,
      "outputs": [
        {
          "output_type": "execute_result",
          "data": {
            "text/plain": [
              "0.9313427800269906"
            ]
          },
          "metadata": {
            "tags": []
          },
          "execution_count": 38
        }
      ]
    },
    {
      "cell_type": "code",
      "metadata": {
        "id": "kRRoQkXFOpdF"
      },
      "source": [
        "RF=Hyb_search_RF.best_estimator_"
      ],
      "execution_count": null,
      "outputs": []
    },
    {
      "cell_type": "code",
      "metadata": {
        "colab": {
          "base_uri": "https://localhost:8080/"
        },
        "id": "kPTRMVWGOpdF",
        "outputId": "a4aaa343-b808-4f29-dfa3-93fa2e654ce2"
      },
      "source": [
        "print(f'> Conjunto de validación: {RF.score(X_val,y_val)}')"
      ],
      "execution_count": null,
      "outputs": [
        {
          "output_type": "stream",
          "text": [
            "> Conjunto de validación: 0.799055967633176\n"
          ],
          "name": "stdout"
        }
      ]
    },
    {
      "cell_type": "markdown",
      "metadata": {
        "id": "ims6tbIBOpdF"
      },
      "source": [
        "### The best hyperparameters for the model: \n",
        "\n",
        "\n",
        "\n",
        "```\n",
        "> criterion: entropy\n",
        "> max_depth: 5\n",
        "> max_features: 'auto'\n",
        "> n_estimators: 25\n",
        "```"
      ]
    },
    {
      "cell_type": "markdown",
      "metadata": {
        "id": "RVGRxA7fNH7H"
      },
      "source": [
        "#### Confusion matrics and other metrics: "
      ]
    },
    {
      "cell_type": "code",
      "metadata": {
        "colab": {
          "base_uri": "https://localhost:8080/"
        },
        "id": "1JzGWv1vTnqo",
        "outputId": "d670b5eb-05a2-4f17-aa4b-aaa6f9b8d291"
      },
      "source": [
        "RF = RandomForestClassifier(criterion='entropy',max_depth=5,max_features='auto',n_estimators=25)\n",
        "RF.fit(X_train, y_train)\n",
        "y_pred = RF.predict(X_val)\n",
        "print('Accuracy: ' + str(RF.score(X_val, y_val)))\n",
        "print('')\n",
        "print(classification_report(y_val,y_pred))"
      ],
      "execution_count": null,
      "outputs": [
        {
          "output_type": "stream",
          "text": [
            "Accuracy: 0.7977073499662846\n",
            "\n",
            "              precision    recall  f1-score   support\n",
            "\n",
            "           0       0.89      0.86      0.87       692\n",
            "           1       0.80      0.85      0.83       530\n",
            "           2       0.52      0.64      0.57        84\n",
            "           3       0.56      0.45      0.50       177\n",
            "\n",
            "    accuracy                           0.80      1483\n",
            "   macro avg       0.69      0.70      0.69      1483\n",
            "weighted avg       0.80      0.80      0.80      1483\n",
            "\n"
          ],
          "name": "stdout"
        }
      ]
    },
    {
      "cell_type": "markdown",
      "metadata": {
        "id": "9WvuTF1dqGTn"
      },
      "source": [
        "Empeoramos un poco los resultados en la clase 2"
      ]
    },
    {
      "cell_type": "code",
      "metadata": {
        "colab": {
          "base_uri": "https://localhost:8080/",
          "height": 285
        },
        "id": "qRFggSByTre0",
        "outputId": "9be2aef1-a9a0-4a86-e211-50a64eb1f786"
      },
      "source": [
        "mat = confusion_matrix(y_val, y_pred)\n",
        "sns.heatmap(mat.T, square=True, annot=True, fmt='d', cbar=False,\n",
        "            xticklabels=['0', '1', '2', '3'], yticklabels=['0', '1', '2', '3'])\n",
        "plt.xlabel('true label')\n",
        "plt.ylabel('predicted label');"
      ],
      "execution_count": null,
      "outputs": [
        {
          "output_type": "display_data",
          "data": {
            "image/png": "[encoded data removed]",
            "text/plain": [
              "<Figure size 432x288 with 1 Axes>"
            ]
          },
          "metadata": {
            "tags": []
          }
        }
      ]
    },
    {
      "cell_type": "markdown",
      "metadata": {
        "id": "XEAn3WX2LT5a"
      },
      "source": [
        "### Evaluation"
      ]
    },
    {
      "cell_type": "markdown",
      "metadata": {
        "id": "SecBTVPmOpdG"
      },
      "source": [
        "#### k-fold Cross Validation"
      ]
    },
    {
      "cell_type": "code",
      "metadata": {
        "id": "SSLLvITSOpdG"
      },
      "source": [
        "from sklearn.model_selection import KFold\n",
        "from sklearn.model_selection import cross_val_score\n",
        "from numpy import mean\n",
        "from numpy import std"
      ],
      "execution_count": null,
      "outputs": []
    },
    {
      "cell_type": "code",
      "metadata": {
        "colab": {
          "base_uri": "https://localhost:8080/"
        },
        "id": "avvLvzQrOpdG",
        "outputId": "7c49ad35-8456-45d0-82c6-7e5bf54b6dff"
      },
      "source": [
        "# preparar el procedimiento de cross-validation \n",
        "cv = KFold(n_splits=5, random_state=1)\n",
        "# crear el modelo\n",
        "model = RandomForestClassifier(criterion='entropy',max_depth=5,max_features='auto',n_estimators=25)\n",
        "model.fit(X_train, y_train)\n",
        "# evaluar el modelo\n",
        "scores = cross_val_score(model, X_val, y_val, scoring='accuracy', cv=cv, n_jobs=-1)\n",
        "# mostrar el resultado\n",
        "print('Accuracy: %.3f (%.3f)' % (mean(scores), std(scores)))"
      ],
      "execution_count": null,
      "outputs": [
        {
          "output_type": "stream",
          "text": [
            "Accuracy: 0.806 (0.020)\n"
          ],
          "name": "stdout"
        }
      ]
    },
    {
      "cell_type": "code",
      "metadata": {
        "colab": {
          "base_uri": "https://localhost:8080/"
        },
        "id": "6R3X6jm9OpdG",
        "outputId": "a633212f-ee5a-4dc8-edc8-7e338ae4b3a1"
      },
      "source": [
        "# preparar el procedimiento de cross-validation \n",
        "cv = KFold(n_splits=5, random_state=1, shuffle=True)\n",
        "# crear el modelo\n",
        "model = RandomForestClassifier(criterion='entropy',max_depth=5,max_features='auto',n_estimators=25)\n",
        "model.fit(X_train, y_train)\n",
        "# evaluar el modelo\n",
        "scores = cross_val_score(model, X_val, y_val, scoring='accuracy', cv=cv, n_jobs=-1)\n",
        "# mostrar el resultado\n",
        "print('Accuracy: %.3f (%.3f)' % (mean(scores), std(scores)))"
      ],
      "execution_count": null,
      "outputs": [
        {
          "output_type": "stream",
          "text": [
            "Accuracy: 0.798 (0.014)\n"
          ],
          "name": "stdout"
        }
      ]
    },
    {
      "cell_type": "markdown",
      "metadata": {
        "id": "4flWnhHGOpdG"
      },
      "source": [
        "#### Repeticiones de k-fold Cross Validation"
      ]
    },
    {
      "cell_type": "code",
      "metadata": {
        "id": "UPlpXqFzOpdH"
      },
      "source": [
        "from sklearn.model_selection import RepeatedKFold"
      ],
      "execution_count": null,
      "outputs": []
    },
    {
      "cell_type": "code",
      "metadata": {
        "colab": {
          "base_uri": "https://localhost:8080/"
        },
        "id": "kjGdefK-OpdH",
        "outputId": "327fd6b0-41ac-40cb-f584-c593649e6b7b"
      },
      "source": [
        "# preparar el procedimiento de cross-validation \n",
        "cv = RepeatedKFold(n_splits=5, n_repeats=1, random_state=1)\n",
        "# crear el modelo\n",
        "model = RandomForestClassifier(criterion='entropy',max_depth=5,max_features='auto',n_estimators=25)\n",
        "model.fit(X_train, y_train)\n",
        "# evaluar el modelo\n",
        "scores = cross_val_score(model, X_val, y_val, scoring='accuracy', cv=cv, n_jobs=-1)\n",
        "# mostrar el resultado\n",
        "print('Accuracy: %.3f (%.3f)' % (mean(scores), std(scores)))"
      ],
      "execution_count": null,
      "outputs": [
        {
          "output_type": "stream",
          "text": [
            "Accuracy: 0.799 (0.018)\n"
          ],
          "name": "stdout"
        }
      ]
    },
    {
      "cell_type": "markdown",
      "metadata": {
        "id": "FKLbA0edOpdH"
      },
      "source": [
        "#### Stratified k-fold Cross Validation"
      ]
    },
    {
      "cell_type": "code",
      "metadata": {
        "id": "E2gg1yFlOpdH"
      },
      "source": [
        "from sklearn.model_selection import StratifiedKFold"
      ],
      "execution_count": null,
      "outputs": []
    },
    {
      "cell_type": "code",
      "metadata": {
        "colab": {
          "base_uri": "https://localhost:8080/"
        },
        "id": "EJC3LWanOpdH",
        "outputId": "43984dec-82d3-43cc-edbd-0c9451919a73"
      },
      "source": [
        "# preparar el procedimiento de cross-validation \n",
        "cv = StratifiedKFold(n_splits=16,random_state=1, shuffle=False)\n",
        "# crear el modelo\n",
        "model = RandomForestClassifier(criterion='entropy',max_depth=5,max_features='auto',n_estimators=25)\n",
        "model.fit(X_train, y_train)\n",
        "# evaluar el modelo\n",
        "scores = cross_val_score(model, X_val, y_val, scoring='accuracy', cv=cv, n_jobs=-1)\n",
        "# mostrar el resultado\n",
        "print('Accuracy: %.3f (%.3f)' % (mean(scores), std(scores)))"
      ],
      "execution_count": null,
      "outputs": [
        {
          "output_type": "stream",
          "text": [
            "Accuracy: 0.806 (0.036)\n"
          ],
          "name": "stdout"
        }
      ]
    },
    {
      "cell_type": "markdown",
      "metadata": {
        "id": "0yn8-rW7OpdI"
      },
      "source": [
        "#### Shuffle Split"
      ]
    },
    {
      "cell_type": "code",
      "metadata": {
        "id": "SaC2jiEHOpdI"
      },
      "source": [
        "from sklearn.model_selection import ShuffleSplit"
      ],
      "execution_count": null,
      "outputs": []
    },
    {
      "cell_type": "code",
      "metadata": {
        "colab": {
          "base_uri": "https://localhost:8080/"
        },
        "id": "z0VPwofBOpdJ",
        "outputId": "2053f551-59bf-49ac-b948-4dd851411e2d"
      },
      "source": [
        "# preparar el procedimiento de cross-validation \n",
        "cv = ShuffleSplit(n_splits=16,train_size=0.8,random_state=1)\n",
        "# crear el modelo\n",
        "model = RandomForestClassifier(criterion='entropy',max_depth=5,max_features='auto',n_estimators=25)\n",
        "model.fit(X_train, y_train)\n",
        "# evaluar el modelo\n",
        "scores = cross_val_score(model, X_val, y_val, scoring='accuracy', cv=cv, n_jobs=-1)\n",
        "# mostrar el resultado\n",
        "print('Accuracy: %.3f (%.3f)' % (mean(scores), std(scores)))"
      ],
      "execution_count": null,
      "outputs": [
        {
          "output_type": "stream",
          "text": [
            "Accuracy: 0.802 (0.017)\n"
          ],
          "name": "stdout"
        }
      ]
    },
    {
      "cell_type": "markdown",
      "metadata": {
        "id": "ysGTWXq-OpdJ"
      },
      "source": [
        "### Summary\n",
        "The best hyperparameters for the model:\n",
        "\n",
        "```\n",
        "> criterion: entropy\n",
        "> max_depth: 5\n",
        "> max_features: 'auto'\n",
        "> n_estimators: 25\n",
        "```\n",
        "\n",
        "### And the best evaluation:\n",
        "\n",
        "```\n",
        "KFold:\n",
        "  > n_splits=5\n",
        "```\n",
        "### We obtain an accuracy of: 80.6%\n"
      ]
    },
    {
      "cell_type": "markdown",
      "metadata": {
        "id": "fkEjPDvNVukB"
      },
      "source": [
        "## Neural Networks"
      ]
    },
    {
      "cell_type": "code",
      "metadata": {
        "id": "1ALz-CxZVwgw"
      },
      "source": [
        "from sklearn.neural_network import MLPClassifier"
      ],
      "execution_count": null,
      "outputs": []
    },
    {
      "cell_type": "markdown",
      "metadata": {
        "id": "XNmvP1LQX9a0"
      },
      "source": [
        "### Searching for the best hyperparameters: \n"
      ]
    },
    {
      "cell_type": "markdown",
      "metadata": {
        "id": "JLnhDA31X9a0"
      },
      "source": [
        "#### **GRIDSEARCH:**"
      ]
    },
    {
      "cell_type": "code",
      "metadata": {
        "colab": {
          "base_uri": "https://localhost:8080/"
        },
        "id": "_GU1M5YOX9a1",
        "outputId": "2471f2e4-1028-485c-e9aa-3e10e3e15343"
      },
      "source": [
        "%%time\n",
        "from sklearn.model_selection import GridSearchCV\n",
        "\n",
        "param_grid = {\n",
        "    'hidden_layer_sizes': [(100,),(125,),(150,),(100,50,),(150,75,),(150,100,50)],\n",
        "    'activation': ['relu','logistic'],\n",
        "    'solver':['sgd','adam'],\n",
        "    'alpha' : [0.0001,0.001,0.05,0.01,0.1,0.5],\n",
        "    'momentum' : [0.85,0.9,0.95,0.99],\n",
        "    'max_iter': [200,500,1000]\n",
        "    }  \n",
        "\n",
        "grid_search_MLP = GridSearchCV(MLPClassifier(), param_grid, cv=3, scoring='accuracy',\n",
        "                           refit= True, verbose=2, n_jobs=-1)\n",
        "grid_search_MLP.fit(X_train, y_train)"
      ],
      "execution_count": null,
      "outputs": [
        {
          "output_type": "stream",
          "text": [
            "Fitting 3 folds for each of 1728 candidates, totalling 5184 fits\n"
          ],
          "name": "stdout"
        },
        {
          "output_type": "stream",
          "text": [
            "[Parallel(n_jobs=-1)]: Using backend LokyBackend with 2 concurrent workers.\n",
            "[Parallel(n_jobs=-1)]: Done  37 tasks      | elapsed:   31.9s\n",
            "[Parallel(n_jobs=-1)]: Done 158 tasks      | elapsed:  2.4min\n",
            "[Parallel(n_jobs=-1)]: Done 361 tasks      | elapsed:  7.1min\n",
            "[Parallel(n_jobs=-1)]: Done 644 tasks      | elapsed: 14.3min\n",
            "[Parallel(n_jobs=-1)]: Done 1009 tasks      | elapsed: 23.8min\n",
            "[Parallel(n_jobs=-1)]: Done 1454 tasks      | elapsed: 33.8min\n",
            "[Parallel(n_jobs=-1)]: Done 1981 tasks      | elapsed: 44.5min\n",
            "[Parallel(n_jobs=-1)]: Done 2588 tasks      | elapsed: 62.4min\n",
            "[Parallel(n_jobs=-1)]: Done 3277 tasks      | elapsed: 81.3min\n",
            "[Parallel(n_jobs=-1)]: Done 4046 tasks      | elapsed: 105.2min\n",
            "[Parallel(n_jobs=-1)]: Done 4897 tasks      | elapsed: 131.0min\n",
            "[Parallel(n_jobs=-1)]: Done 5184 out of 5184 | elapsed: 141.2min finished\n"
          ],
          "name": "stderr"
        },
        {
          "output_type": "stream",
          "text": [
            "CPU times: user 57.6 s, sys: 17.3 s, total: 1min 14s\n",
            "Wall time: 2h 21min 30s\n"
          ],
          "name": "stdout"
        }
      ]
    },
    {
      "cell_type": "code",
      "metadata": {
        "colab": {
          "base_uri": "https://localhost:8080/"
        },
        "id": "eLR560RaX9a1",
        "outputId": "da6e9980-7cb8-446a-f5e5-2160062231eb"
      },
      "source": [
        "grid_search_MLP.best_params_"
      ],
      "execution_count": null,
      "outputs": [
        {
          "output_type": "execute_result",
          "data": {
            "text/plain": [
              "{'activation': 'logistic',\n",
              " 'alpha': 0.05,\n",
              " 'hidden_layer_sizes': (150, 100, 50),\n",
              " 'max_iter': 1000,\n",
              " 'momentum': 0.95,\n",
              " 'solver': 'adam'}"
            ]
          },
          "metadata": {
            "tags": []
          },
          "execution_count": 61
        }
      ]
    },
    {
      "cell_type": "code",
      "metadata": {
        "colab": {
          "base_uri": "https://localhost:8080/"
        },
        "id": "m3CVOcGmX9a2",
        "outputId": "79fdbeae-9295-49af-dca7-f6fd8289f1be"
      },
      "source": [
        "grid_search_MLP.best_score_"
      ],
      "execution_count": null,
      "outputs": [
        {
          "output_type": "execute_result",
          "data": {
            "text/plain": [
              "0.9342105263157895"
            ]
          },
          "metadata": {
            "tags": []
          },
          "execution_count": 58
        }
      ]
    },
    {
      "cell_type": "code",
      "metadata": {
        "id": "gpDu6UBPX9a2"
      },
      "source": [
        "MLP=grid_search_MLP.best_estimator_"
      ],
      "execution_count": null,
      "outputs": []
    },
    {
      "cell_type": "code",
      "metadata": {
        "colab": {
          "base_uri": "https://localhost:8080/"
        },
        "id": "_irvCuOSX9a3",
        "outputId": "f43a1551-7d1c-4969-e8cf-0cc022ddb55b"
      },
      "source": [
        "print(f'> Conjunto de validación: {MLP.score(X_val,y_val)}')"
      ],
      "execution_count": null,
      "outputs": [
        {
          "output_type": "stream",
          "text": [
            "> Conjunto de validación: 0.7997302764666218\n"
          ],
          "name": "stdout"
        }
      ]
    },
    {
      "cell_type": "markdown",
      "metadata": {
        "id": "JGFa2an2X9a3"
      },
      "source": [
        "#### **RANDOM SEARCH**"
      ]
    },
    {
      "cell_type": "code",
      "metadata": {
        "colab": {
          "base_uri": "https://localhost:8080/"
        },
        "id": "iXjYvh1pX9a4",
        "outputId": "d9834683-8e48-4071-df38-3f54522ed83b"
      },
      "source": [
        "%%time\n",
        "\n",
        "from sklearn.model_selection import RandomizedSearchCV\n",
        "from scipy.stats import randint\n",
        "\n",
        "param_distribs = {\n",
        "    'hidden_layer_sizes': [(100,),(125,),(150,),(100,50,),(150,75,),(150,100,50)],\n",
        "    'activation': ['relu','logistic'],\n",
        "    'solver':['sgd','adam'],\n",
        "    'alpha' : [0.001,0.05,0.01,0.1],\n",
        "    'momentum' : [0.95,0.99],\n",
        "    'max_iter': [1000]\n",
        "    }  \n",
        "\n",
        "\n",
        "rnd_search_MLP = RandomizedSearchCV(MLPClassifier(), param_distribs,\n",
        "                                n_iter=10, cv=3, scoring='accuracy', random_state=42, verbose=2, n_jobs=-1)\n",
        "\n",
        "rnd_search_MLP.fit(X_train, y_train)"
      ],
      "execution_count": null,
      "outputs": [
        {
          "output_type": "stream",
          "text": [
            "Fitting 3 folds for each of 10 candidates, totalling 30 fits\n"
          ],
          "name": "stdout"
        },
        {
          "output_type": "stream",
          "text": [
            "[Parallel(n_jobs=-1)]: Using backend LokyBackend with 2 concurrent workers.\n",
            "[Parallel(n_jobs=-1)]: Done  30 out of  30 | elapsed:  1.3min finished\n"
          ],
          "name": "stderr"
        },
        {
          "output_type": "stream",
          "text": [
            "CPU times: user 3.63 s, sys: 11.7 ms, total: 3.64 s\n",
            "Wall time: 1min 18s\n"
          ],
          "name": "stdout"
        }
      ]
    },
    {
      "cell_type": "code",
      "metadata": {
        "colab": {
          "base_uri": "https://localhost:8080/"
        },
        "id": "pNnmQS1WX9a5",
        "outputId": "ead1c8d1-c47a-4eaf-a862-15517808fbb6"
      },
      "source": [
        "rnd_search_MLP.best_params_"
      ],
      "execution_count": null,
      "outputs": [
        {
          "output_type": "execute_result",
          "data": {
            "text/plain": [
              "{'activation': 'relu',\n",
              " 'alpha': 0.001,\n",
              " 'hidden_layer_sizes': (150,),\n",
              " 'max_iter': 1000,\n",
              " 'momentum': 0.95,\n",
              " 'solver': 'adam'}"
            ]
          },
          "metadata": {
            "tags": []
          },
          "execution_count": 63
        }
      ]
    },
    {
      "cell_type": "code",
      "metadata": {
        "colab": {
          "base_uri": "https://localhost:8080/"
        },
        "id": "0BgWYn7HX9a5",
        "outputId": "bc5ce4ed-9f70-47ae-85dc-a1bb4a1c3e6c"
      },
      "source": [
        "rnd_search_MLP.best_score_"
      ],
      "execution_count": null,
      "outputs": [
        {
          "output_type": "execute_result",
          "data": {
            "text/plain": [
              "0.9330296896086371"
            ]
          },
          "metadata": {
            "tags": []
          },
          "execution_count": 64
        }
      ]
    },
    {
      "cell_type": "code",
      "metadata": {
        "id": "XVUXk6ZJX9a6"
      },
      "source": [
        "MLP=rnd_search_MLP.best_estimator_"
      ],
      "execution_count": null,
      "outputs": []
    },
    {
      "cell_type": "code",
      "metadata": {
        "colab": {
          "base_uri": "https://localhost:8080/"
        },
        "id": "buIKY1FlX9a6",
        "outputId": "53a9de12-ab73-4472-ed3e-bb2adfee3f91"
      },
      "source": [
        "print(f'> Conjunto de validación: {MLP.score(X_val,y_val)}')"
      ],
      "execution_count": null,
      "outputs": [
        {
          "output_type": "stream",
          "text": [
            "> Conjunto de validación: 0.8010788941335132\n"
          ],
          "name": "stdout"
        }
      ]
    },
    {
      "cell_type": "markdown",
      "metadata": {
        "id": "RpO2GdP9X9a6"
      },
      "source": [
        "#### **Optimización Bayesiana:**"
      ]
    },
    {
      "cell_type": "code",
      "metadata": {
        "id": "_fCevyzVX9a6"
      },
      "source": [
        "%%capture\n",
        "! pip install scikit-optimize"
      ],
      "execution_count": null,
      "outputs": []
    },
    {
      "cell_type": "code",
      "metadata": {
        "id": "d3m3e51eX9a7"
      },
      "source": [
        "from skopt import BayesSearchCV"
      ],
      "execution_count": null,
      "outputs": []
    },
    {
      "cell_type": "code",
      "metadata": {
        "colab": {
          "base_uri": "https://localhost:8080/"
        },
        "id": "Pa2fG_yGX9a7",
        "outputId": "a83e75f3-55e8-42a5-8d10-8e21aa30d4de"
      },
      "source": [
        "%%time\n",
        "\n",
        "from skopt.space import Real, Categorical, Integer #Permite definir el tipo\n",
        "\n",
        "param_distribs = {'activation': ['relu','logistic'],\n",
        "    'solver':['adam'],\n",
        "    'alpha' : [0.001,0.05,0.01,0.1],\n",
        "    'momentum' : [0.95,0.99],\n",
        "    'max_iter': [1000]\n",
        "    } \n",
        "\n",
        "bayes_search_MLP = BayesSearchCV(\n",
        "    MLPClassifier(),\n",
        "    param_distribs,\n",
        "    n_iter=10,\n",
        "    cv=3, scoring='accuracy', random_state=42,\n",
        "    n_jobs=-1,\n",
        "    optimizer_kwargs={'base_estimator': 'GP'} # 'GP': Gaussean Process,'RF': Random Forest regressor,'ET': Extra Trees regressor, 'GBRT': gradient boosted trees\n",
        "  )\n",
        "bayes_search_MLP.fit(X_train, y_train)\n",
        "\n",
        "print(bayes_search_MLP.best_params_)"
      ],
      "execution_count": null,
      "outputs": [
        {
          "output_type": "stream",
          "text": [
            "OrderedDict([('activation', 'relu'), ('alpha', 0.1), ('max_iter', 1000), ('momentum', 0.983506257482421), ('solver', 'adam')])\n",
            "CPU times: user 3.18 s, sys: 540 ms, total: 3.72 s\n",
            "Wall time: 54.2 s\n"
          ],
          "name": "stdout"
        }
      ]
    },
    {
      "cell_type": "code",
      "metadata": {
        "colab": {
          "base_uri": "https://localhost:8080/"
        },
        "id": "UM-fyx00X9a7",
        "outputId": "fb7f8fc7-2d5c-4b07-8a86-0e70dfe2244a"
      },
      "source": [
        "bayes_search_MLP.best_params_"
      ],
      "execution_count": null,
      "outputs": [
        {
          "output_type": "execute_result",
          "data": {
            "text/plain": [
              "OrderedDict([('activation', 'relu'),\n",
              "             ('alpha', 0.1),\n",
              "             ('max_iter', 1000),\n",
              "             ('momentum', 0.983506257482421),\n",
              "             ('solver', 'adam')])"
            ]
          },
          "metadata": {
            "tags": []
          },
          "execution_count": 74
        }
      ]
    },
    {
      "cell_type": "code",
      "metadata": {
        "colab": {
          "base_uri": "https://localhost:8080/"
        },
        "id": "-IY3C1NtX9a8",
        "outputId": "fd0c04c7-7b71-477f-e848-7b56a9b83ada"
      },
      "source": [
        "bayes_search_MLP.best_score_"
      ],
      "execution_count": null,
      "outputs": [
        {
          "output_type": "execute_result",
          "data": {
            "text/plain": [
              "0.9337044534412956"
            ]
          },
          "metadata": {
            "tags": []
          },
          "execution_count": 75
        }
      ]
    },
    {
      "cell_type": "code",
      "metadata": {
        "id": "UDcCqfMtX9a8"
      },
      "source": [
        "MLP=bayes_search_MLP.best_estimator_"
      ],
      "execution_count": null,
      "outputs": []
    },
    {
      "cell_type": "code",
      "metadata": {
        "colab": {
          "base_uri": "https://localhost:8080/"
        },
        "id": "OZYlDA6oX9a8",
        "outputId": "940f8e10-5432-4613-a7b6-28c4d106fd7e"
      },
      "source": [
        "print(f'> Conjunto de validación: {MLP.score(X_val,y_val)}')"
      ],
      "execution_count": null,
      "outputs": [
        {
          "output_type": "stream",
          "text": [
            "> Conjunto de validación: 0.8031018206338503\n"
          ],
          "name": "stdout"
        }
      ]
    },
    {
      "cell_type": "markdown",
      "metadata": {
        "id": "12mhKJsNX9a8"
      },
      "source": [
        "#### **HYPERBAND:**"
      ]
    },
    {
      "cell_type": "code",
      "metadata": {
        "id": "5w6PCbi-X9a9"
      },
      "source": [
        "%%capture\n",
        "!git clone https://github.com/thuijskens/scikit-hyperband.git\n",
        "%cd scikit-hyperband\n",
        "!python setup.py install"
      ],
      "execution_count": null,
      "outputs": []
    },
    {
      "cell_type": "code",
      "metadata": {
        "id": "fb9ZHRaZX9a9"
      },
      "source": [
        "from hyperband import HyperbandSearchCV\n",
        "import warnings\n",
        "warnings.filterwarnings('ignore')"
      ],
      "execution_count": null,
      "outputs": []
    },
    {
      "cell_type": "code",
      "metadata": {
        "id": "9K5KW1OAX9a9"
      },
      "source": [
        "# Distributions or lists of parameters to try. Distributions must provide a rvs method for sampling (such as those from scipy.stats.distributions). If a list is given, it is sampled uniformly.\n",
        "param_grid = {\n",
        "    'hidden_layer_sizes': [(100,),(125,),(150,),(100,50,),(150,75,),(150,100,50)],\n",
        "    'activation': ['relu','logistic'],\n",
        "    'solver':['adam'],\n",
        "    'alpha' : [0.001,0.05,0.01,0.1],\n",
        "    'momentum' : [0.95,0.99],\n",
        "    'max_iter': [1000]\n",
        "    }  "
      ],
      "execution_count": null,
      "outputs": []
    },
    {
      "cell_type": "code",
      "metadata": {
        "colab": {
          "base_uri": "https://localhost:8080/"
        },
        "id": "446k36fdX9a9",
        "outputId": "a1f56ddf-7600-46cf-df00-674a4f16e7a9"
      },
      "source": [
        "%%time\n",
        "\n",
        "Hyb_search_MLP = HyperbandSearchCV(MLPClassifier(),\n",
        "                           param_grid,\n",
        "                           resource_param='alpha', #Recursos que se asignarán en cada estimacion. En Random Forest tipicamente el número de árboles\n",
        "                           verbose =1,\n",
        "                           max_iter=500, #Numero de árboles máximo en una iteración\n",
        "                           min_iter=30, #Numero de árboles mínimo en una iteración\n",
        "                           eta=3, #Reducción de recursos en cada iteración\n",
        "                           cv=3,\n",
        "                           scoring='accuracy',\n",
        "                           random_state = 42)\n",
        "\n",
        "Hyb_search_MLP.fit(X_train, y_train)"
      ],
      "execution_count": null,
      "outputs": [
        {
          "output_type": "stream",
          "text": [
            "Starting bracket 1 (out of 3) of hyperband\n",
            "Starting successive halving iteration 1 out of 3. Fitting 9 configurations, with resource_param alpha set to 55, and keeping the best 3 configurations.\n",
            "Fitting 3 folds for each of 9 candidates, totalling 27 fits\n"
          ],
          "name": "stdout"
        },
        {
          "output_type": "stream",
          "text": [
            "[Parallel(n_jobs=1)]: Using backend SequentialBackend with 1 concurrent workers.\n",
            "[Parallel(n_jobs=1)]: Done  27 out of  27 | elapsed:  2.8min finished\n",
            "[Parallel(n_jobs=1)]: Using backend SequentialBackend with 1 concurrent workers.\n"
          ],
          "name": "stderr"
        },
        {
          "output_type": "stream",
          "text": [
            "Starting successive halving iteration 2 out of 3. Fitting 3 configurations, with resource_param alpha set to 166, and keeping the best 1 configurations.\n",
            "Fitting 3 folds for each of 3 candidates, totalling 9 fits\n"
          ],
          "name": "stdout"
        },
        {
          "output_type": "stream",
          "text": [
            "[Parallel(n_jobs=1)]: Done   9 out of   9 | elapsed:   31.8s finished\n",
            "[Parallel(n_jobs=1)]: Using backend SequentialBackend with 1 concurrent workers.\n"
          ],
          "name": "stderr"
        },
        {
          "output_type": "stream",
          "text": [
            "Starting successive halving iteration 3 out of 3. Fitting 1 configurations, with resource_param alpha set to 500\n",
            "Fitting 3 folds for each of 1 candidates, totalling 3 fits\n"
          ],
          "name": "stdout"
        },
        {
          "output_type": "stream",
          "text": [
            "[Parallel(n_jobs=1)]: Done   3 out of   3 | elapsed:    5.1s finished\n",
            "[Parallel(n_jobs=1)]: Using backend SequentialBackend with 1 concurrent workers.\n"
          ],
          "name": "stderr"
        },
        {
          "output_type": "stream",
          "text": [
            "Starting bracket 2 (out of 3) of hyperband\n",
            "Starting successive halving iteration 1 out of 2. Fitting 3 configurations, with resource_param alpha set to 166, and keeping the best 1 configurations.\n",
            "Fitting 3 folds for each of 3 candidates, totalling 9 fits\n"
          ],
          "name": "stdout"
        },
        {
          "output_type": "stream",
          "text": [
            "[Parallel(n_jobs=1)]: Done   9 out of   9 | elapsed:   40.0s finished\n",
            "[Parallel(n_jobs=1)]: Using backend SequentialBackend with 1 concurrent workers.\n"
          ],
          "name": "stderr"
        },
        {
          "output_type": "stream",
          "text": [
            "Starting successive halving iteration 2 out of 2. Fitting 1 configurations, with resource_param alpha set to 500\n",
            "Fitting 3 folds for each of 1 candidates, totalling 3 fits\n"
          ],
          "name": "stdout"
        },
        {
          "output_type": "stream",
          "text": [
            "[Parallel(n_jobs=1)]: Done   3 out of   3 | elapsed:    5.0s finished\n",
            "[Parallel(n_jobs=1)]: Using backend SequentialBackend with 1 concurrent workers.\n"
          ],
          "name": "stderr"
        },
        {
          "output_type": "stream",
          "text": [
            "Starting bracket 3 (out of 3) of hyperband\n",
            "Starting successive halving iteration 1 out of 1. Fitting 3 configurations, with resource_param alpha set to 500, and keeping the best 1 configurations.\n",
            "Fitting 3 folds for each of 3 candidates, totalling 9 fits\n"
          ],
          "name": "stdout"
        },
        {
          "output_type": "stream",
          "text": [
            "[Parallel(n_jobs=1)]: Done   9 out of   9 | elapsed:   40.9s finished\n"
          ],
          "name": "stderr"
        },
        {
          "output_type": "stream",
          "text": [
            "CPU times: user 5min 42s, sys: 2min 51s, total: 8min 34s\n",
            "Wall time: 4min 50s\n"
          ],
          "name": "stdout"
        }
      ]
    },
    {
      "cell_type": "code",
      "metadata": {
        "colab": {
          "base_uri": "https://localhost:8080/"
        },
        "id": "juAMRsCEX9a-",
        "outputId": "492d561e-6e53-4b93-9a7b-b8ed78259297"
      },
      "source": [
        "Hyb_search_MLP.best_params_"
      ],
      "execution_count": null,
      "outputs": [
        {
          "output_type": "execute_result",
          "data": {
            "text/plain": [
              "{'activation': 'relu',\n",
              " 'alpha': 55,\n",
              " 'hidden_layer_sizes': (100,),\n",
              " 'max_iter': 1000,\n",
              " 'momentum': 0.95,\n",
              " 'solver': 'adam'}"
            ]
          },
          "metadata": {
            "tags": []
          },
          "execution_count": 86
        }
      ]
    },
    {
      "cell_type": "code",
      "metadata": {
        "colab": {
          "base_uri": "https://localhost:8080/"
        },
        "id": "lFvqqJQTX9a-",
        "outputId": "6dced947-4737-4cde-a253-609902a5b954"
      },
      "source": [
        "Hyb_search_MLP.best_score_"
      ],
      "execution_count": null,
      "outputs": [
        {
          "output_type": "execute_result",
          "data": {
            "text/plain": [
              "0.8827597840755735"
            ]
          },
          "metadata": {
            "tags": []
          },
          "execution_count": 87
        }
      ]
    },
    {
      "cell_type": "code",
      "metadata": {
        "id": "ff6lU1wOX9a-"
      },
      "source": [
        "MLP=Hyb_search_MLP.best_estimator_"
      ],
      "execution_count": null,
      "outputs": []
    },
    {
      "cell_type": "code",
      "metadata": {
        "colab": {
          "base_uri": "https://localhost:8080/"
        },
        "id": "q7ni_OzwX9a_",
        "outputId": "d2277bea-f2cb-408a-94f8-dc7cacb2176f"
      },
      "source": [
        "print(f'> Conjunto de validación: {MLP.score(X_val,y_val)}')"
      ],
      "execution_count": null,
      "outputs": [
        {
          "output_type": "stream",
          "text": [
            "> Conjunto de validación: 0.7916385704652731\n"
          ],
          "name": "stdout"
        }
      ]
    },
    {
      "cell_type": "markdown",
      "metadata": {
        "id": "KvDnoRu4X9bA"
      },
      "source": [
        "### The best hyperparameters for the model: \n",
        "```\n",
        "> activation: 'relu'\n",
        "> alpha: 0.1\n",
        "> max_iter: 1000\n",
        "> momentum: 0.983506257482421\n",
        "> solver: 'adam'\n",
        "```"
      ]
    },
    {
      "cell_type": "markdown",
      "metadata": {
        "id": "hd83iB17NhUf"
      },
      "source": [
        "#### Confusion matriz and other metrics: "
      ]
    },
    {
      "cell_type": "code",
      "metadata": {
        "colab": {
          "base_uri": "https://localhost:8080/"
        },
        "id": "TiGuJ1s2T1jS",
        "outputId": "0bac5980-1c1e-4005-dc65-c5c77dd21647"
      },
      "source": [
        "MLP = MLPClassifier(activation='relu',alpha=0.1,max_iter=1000,momentum=0.983506257482421,solver='adam')\n",
        "MLP.fit(X_train, y_train)\n",
        "y_pred = MLP.predict(X_val)\n",
        "print('Accuracy: ' + str(MLP.score(X_val, y_val)))\n",
        "print('')\n",
        "print(classification_report(y_val,y_pred))"
      ],
      "execution_count": null,
      "outputs": [
        {
          "output_type": "stream",
          "text": [
            "Accuracy: 0.8024275118004046\n",
            "\n",
            "              precision    recall  f1-score   support\n",
            "\n",
            "           0       0.88      0.87      0.87       692\n",
            "           1       0.82      0.84      0.83       530\n",
            "           2       0.52      0.63      0.57        84\n",
            "           3       0.59      0.51      0.55       177\n",
            "\n",
            "    accuracy                           0.80      1483\n",
            "   macro avg       0.70      0.71      0.71      1483\n",
            "weighted avg       0.80      0.80      0.80      1483\n",
            "\n"
          ],
          "name": "stdout"
        }
      ]
    },
    {
      "cell_type": "code",
      "metadata": {
        "colab": {
          "base_uri": "https://localhost:8080/",
          "height": 285
        },
        "id": "qoqxPmdLT9yE",
        "outputId": "4602f412-9e82-4ea3-89fc-214ee7db6bd3"
      },
      "source": [
        "mat = confusion_matrix(y_val, y_pred)\n",
        "sns.heatmap(mat.T, square=True, annot=True, fmt='d', cbar=False,\n",
        "            xticklabels=['0', '1', '2', '3'], yticklabels=['0', '1', '2', '3'])\n",
        "plt.xlabel('true label')\n",
        "plt.ylabel('predicted label');"
      ],
      "execution_count": null,
      "outputs": [
        {
          "output_type": "display_data",
          "data": {
            "image/png": "[encoded data removed]",
            "text/plain": [
              "<Figure size 432x288 with 1 Axes>"
            ]
          },
          "metadata": {
            "tags": []
          }
        }
      ]
    },
    {
      "cell_type": "markdown",
      "metadata": {
        "id": "3g9in88gLmND"
      },
      "source": [
        "### Evaluation"
      ]
    },
    {
      "cell_type": "markdown",
      "metadata": {
        "id": "q3BB46zNX9bA"
      },
      "source": [
        "####k-fold Cross Validation"
      ]
    },
    {
      "cell_type": "code",
      "metadata": {
        "id": "7_kUub6JX9bA"
      },
      "source": [
        "from sklearn.model_selection import KFold\n",
        "from sklearn.model_selection import cross_val_score\n",
        "from numpy import mean\n",
        "from numpy import std"
      ],
      "execution_count": null,
      "outputs": []
    },
    {
      "cell_type": "code",
      "metadata": {
        "colab": {
          "base_uri": "https://localhost:8080/"
        },
        "id": "Tn1m3HmqX9bA",
        "outputId": "ac721be0-636d-4668-ca0c-fa478be0eeb8"
      },
      "source": [
        "# preparar el procedimiento de cross-validation \n",
        "cv = KFold(n_splits=5, random_state=1)\n",
        "# crear el modelo\n",
        "### El mejor modelo lo obtenemos con los hiperparámetros: \n",
        "model = MLPClassifier(activation='relu',alpha=0.1,max_iter=1000,momentum=0.983506257482421,solver='adam')\n",
        "model.fit(X_train, y_train)\n",
        "# evaluar el modelo\n",
        "scores = cross_val_score(model, X_val, y_val, scoring='accuracy', cv=cv, n_jobs=-1)\n",
        "# mostrar el resultado\n",
        "print('Accuracy: %.3f (%.3f)' % (mean(scores), std(scores)))"
      ],
      "execution_count": null,
      "outputs": [
        {
          "output_type": "stream",
          "text": [
            "Accuracy: 0.800 (0.016)\n"
          ],
          "name": "stdout"
        }
      ]
    },
    {
      "cell_type": "code",
      "metadata": {
        "colab": {
          "base_uri": "https://localhost:8080/"
        },
        "id": "onpA3t5sX9bB",
        "outputId": "0eb33fe1-861b-4e19-f19c-6c7aa91a88eb"
      },
      "source": [
        "# preparar el procedimiento de cross-validation \n",
        "cv = KFold(n_splits=5, random_state=1, shuffle=True)\n",
        "# crear el modelo\n",
        "model = MLPClassifier(activation='relu',alpha=0.1,max_iter=1000,momentum=0.983506257482421,solver='adam')\n",
        "model.fit(X_train, y_train)\n",
        "# evaluar el modelo\n",
        "scores = cross_val_score(model, X_val, y_val, scoring='accuracy', cv=cv, n_jobs=-1)\n",
        "# mostrar el resultado\n",
        "print('Accuracy: %.3f (%.3f)' % (mean(scores), std(scores)))"
      ],
      "execution_count": null,
      "outputs": [
        {
          "output_type": "stream",
          "text": [
            "Accuracy: 0.803 (0.017)\n"
          ],
          "name": "stdout"
        }
      ]
    },
    {
      "cell_type": "markdown",
      "metadata": {
        "id": "9FPAcReOX9bB"
      },
      "source": [
        "#### Repeticiones de k-fold Cross Validation"
      ]
    },
    {
      "cell_type": "code",
      "metadata": {
        "id": "uS1yj8ePX9bB"
      },
      "source": [
        "from sklearn.model_selection import RepeatedKFold"
      ],
      "execution_count": null,
      "outputs": []
    },
    {
      "cell_type": "code",
      "metadata": {
        "colab": {
          "base_uri": "https://localhost:8080/"
        },
        "id": "hFlx-snyX9bB",
        "outputId": "31707787-0b86-4908-ad90-f914c919523f"
      },
      "source": [
        "# preparar el procedimiento de cross-validation \n",
        "cv = RepeatedKFold(n_splits=5, n_repeats=1, random_state=1)\n",
        "# crear el modelo\n",
        "model = MLPClassifier(activation='relu',alpha=0.1,max_iter=1000,momentum=0.983506257482421,solver='adam')\n",
        "model.fit(X_train, y_train)\n",
        "# evaluar el modelo\n",
        "scores = cross_val_score(model, X_val, y_val, scoring='accuracy', cv=cv, n_jobs=-1)\n",
        "# mostrar el resultado\n",
        "print('Accuracy: %.3f (%.3f)' % (mean(scores), std(scores)))"
      ],
      "execution_count": null,
      "outputs": [
        {
          "output_type": "stream",
          "text": [
            "Accuracy: 0.804 (0.018)\n"
          ],
          "name": "stdout"
        }
      ]
    },
    {
      "cell_type": "markdown",
      "metadata": {
        "id": "DJvmQuInX9bB"
      },
      "source": [
        "#### Stratified k-fold Cross Validation"
      ]
    },
    {
      "cell_type": "code",
      "metadata": {
        "id": "Et1vsVfuX9bC"
      },
      "source": [
        "from sklearn.model_selection import StratifiedKFold"
      ],
      "execution_count": null,
      "outputs": []
    },
    {
      "cell_type": "code",
      "metadata": {
        "colab": {
          "base_uri": "https://localhost:8080/"
        },
        "id": "jR_COe_EX9bC",
        "outputId": "71fa9f89-408f-4eb8-f8d1-28142b1d7343"
      },
      "source": [
        "# preparar el procedimiento de cross-validation \n",
        "cv = StratifiedKFold(n_splits=16,random_state=1, shuffle=False)\n",
        "# crear el modelo\n",
        "model = MLPClassifier(activation='relu',alpha=0.1,max_iter=1000,momentum=0.983506257482421,solver='adam')\n",
        "model.fit(X_train, y_train)\n",
        "# evaluar el modelo\n",
        "scores = cross_val_score(model, X_val, y_val, scoring='accuracy', cv=cv, n_jobs=-1)\n",
        "# mostrar el resultado\n",
        "print('Accuracy: %.3f (%.3f)' % (mean(scores), std(scores)))"
      ],
      "execution_count": null,
      "outputs": [
        {
          "output_type": "stream",
          "text": [
            "Accuracy: 0.802 (0.036)\n"
          ],
          "name": "stdout"
        }
      ]
    },
    {
      "cell_type": "markdown",
      "metadata": {
        "id": "OJru3CSlX9bC"
      },
      "source": [
        "#### Shuffle Split"
      ]
    },
    {
      "cell_type": "code",
      "metadata": {
        "id": "4NfV1CpFX9bC"
      },
      "source": [
        "from sklearn.model_selection import ShuffleSplit"
      ],
      "execution_count": null,
      "outputs": []
    },
    {
      "cell_type": "code",
      "metadata": {
        "colab": {
          "base_uri": "https://localhost:8080/"
        },
        "id": "Q6KlWQukX9bC",
        "outputId": "bf8856e7-2107-4ffb-a796-759c060f8f3a"
      },
      "source": [
        "# preparar el procedimiento de cross-validation \n",
        "cv = ShuffleSplit(n_splits=16,train_size=0.8,random_state=1)\n",
        "# crear el modelo\n",
        "model = MLPClassifier(activation='relu',alpha=0.1,max_iter=1000,momentum=0.983506257482421,solver='adam')\n",
        "model.fit(X_train, y_train)\n",
        "# evaluar el modelo\n",
        "scores = cross_val_score(model, X_val, y_val, scoring='accuracy', cv=cv, n_jobs=-1)\n",
        "# mostrar el resultado\n",
        "print('Accuracy: %.3f (%.3f)' % (mean(scores), std(scores)))"
      ],
      "execution_count": null,
      "outputs": [
        {
          "output_type": "stream",
          "text": [
            "Accuracy: 0.797 (0.017)\n"
          ],
          "name": "stdout"
        }
      ]
    },
    {
      "cell_type": "markdown",
      "metadata": {
        "id": "8R7t60ZAX9bD"
      },
      "source": [
        "### Summary\n",
        "The best hyperparameters for the model:\n",
        "\n",
        "```\n",
        "> activation: 'relu'\n",
        "> alpha: 0.1\n",
        "> max_iter: 1000\n",
        "> momentum: 0.983506257482421\n",
        "> solver: 'adam'\n",
        "```\n",
        "\n",
        "### And the best evaluation:\n",
        "\n",
        "```\n",
        "RepeatedKFold:\n",
        "  > n_splits=5\n",
        "  > n_repeats=1\n",
        "```\n",
        "### We obtain an accuracy of: 80.4%\n"
      ]
    },
    {
      "cell_type": "markdown",
      "metadata": {
        "id": "3Gos9y8NV8dY"
      },
      "source": [
        "## Logistic regression"
      ]
    },
    {
      "cell_type": "code",
      "metadata": {
        "id": "5GjPYvRTWD0c"
      },
      "source": [
        "from sklearn.linear_model import LogisticRegression"
      ],
      "execution_count": null,
      "outputs": []
    },
    {
      "cell_type": "markdown",
      "metadata": {
        "id": "0QKKyrC8WD0d"
      },
      "source": [
        "### Searching for the best hyperparameters: \n"
      ]
    },
    {
      "cell_type": "markdown",
      "metadata": {
        "id": "F3TcLApLWD0d"
      },
      "source": [
        "#### **GRIDSEARCH:**"
      ]
    },
    {
      "cell_type": "code",
      "metadata": {
        "colab": {
          "base_uri": "https://localhost:8080/"
        },
        "id": "Vh7Q22sNWD0e",
        "outputId": "eb234b60-c30b-4b0b-90c6-b3901e6e37cf"
      },
      "source": [
        "%%time\n",
        "from sklearn.model_selection import GridSearchCV\n",
        "\n",
        "param_grid = {\n",
        "    'penalty': ['l1','l2','elasticnet','none'],\n",
        "    'C': [0.1,0.5,1,2],\n",
        "    'solver' : ['newton-cg', 'lbfgs', 'liblinear', 'sag', 'saga']\n",
        "    }  \n",
        "\n",
        "grid_search_LR = GridSearchCV(LogisticRegression(), param_grid, cv=3, scoring='accuracy',\n",
        "                           refit= True, verbose=2, n_jobs=-1)\n",
        "grid_search_LR.fit(X_train, y_train)"
      ],
      "execution_count": null,
      "outputs": [
        {
          "output_type": "stream",
          "text": [
            "Fitting 3 folds for each of 80 candidates, totalling 240 fits\n"
          ],
          "name": "stdout"
        },
        {
          "output_type": "stream",
          "text": [
            "[Parallel(n_jobs=-1)]: Using backend LokyBackend with 2 concurrent workers.\n",
            "[Parallel(n_jobs=-1)]: Done  70 tasks      | elapsed:    3.6s\n"
          ],
          "name": "stderr"
        },
        {
          "output_type": "stream",
          "text": [
            "CPU times: user 771 ms, sys: 60.2 ms, total: 831 ms\n",
            "Wall time: 11.2 s\n"
          ],
          "name": "stdout"
        },
        {
          "output_type": "stream",
          "text": [
            "[Parallel(n_jobs=-1)]: Done 240 out of 240 | elapsed:   11.0s finished\n"
          ],
          "name": "stderr"
        }
      ]
    },
    {
      "cell_type": "code",
      "metadata": {
        "colab": {
          "base_uri": "https://localhost:8080/"
        },
        "id": "wOnpcJZHWD0f",
        "outputId": "f4f3bc1c-d26f-4f67-b38e-800b398d5c1f"
      },
      "source": [
        "grid_search_LR.best_params_"
      ],
      "execution_count": null,
      "outputs": [
        {
          "output_type": "execute_result",
          "data": {
            "text/plain": [
              "{'C': 0.5, 'penalty': 'l2', 'solver': 'newton-cg'}"
            ]
          },
          "metadata": {
            "tags": []
          },
          "execution_count": 102
        }
      ]
    },
    {
      "cell_type": "code",
      "metadata": {
        "colab": {
          "base_uri": "https://localhost:8080/"
        },
        "id": "qSGp0JqmWD0g",
        "outputId": "e4a70fab-e064-44e1-faa6-183175e9b82f"
      },
      "source": [
        "grid_search_LR.best_score_"
      ],
      "execution_count": null,
      "outputs": [
        {
          "output_type": "execute_result",
          "data": {
            "text/plain": [
              "0.9330296896086369"
            ]
          },
          "metadata": {
            "tags": []
          },
          "execution_count": 103
        }
      ]
    },
    {
      "cell_type": "code",
      "metadata": {
        "id": "YRU54fr4WD0g"
      },
      "source": [
        "LR=grid_search_LR.best_estimator_"
      ],
      "execution_count": null,
      "outputs": []
    },
    {
      "cell_type": "code",
      "metadata": {
        "colab": {
          "base_uri": "https://localhost:8080/"
        },
        "id": "iSg8AXAmWD0g",
        "outputId": "b7ba7c56-bcca-4f54-cc2c-f5d1ae30b8b5"
      },
      "source": [
        "print(f'> Conjunto de validación: {LR.score(X_val,y_val)}')"
      ],
      "execution_count": null,
      "outputs": [
        {
          "output_type": "stream",
          "text": [
            "> Conjunto de validación: 0.8031018206338503\n"
          ],
          "name": "stdout"
        }
      ]
    },
    {
      "cell_type": "markdown",
      "metadata": {
        "id": "ti6HgMB2WD0h"
      },
      "source": [
        "#### **RANDOM SEARCH**"
      ]
    },
    {
      "cell_type": "code",
      "metadata": {
        "colab": {
          "base_uri": "https://localhost:8080/"
        },
        "id": "BmIIxQRfWD0h",
        "outputId": "0a7f6a0d-1f7d-4091-ce5d-a52b3749631e"
      },
      "source": [
        "%%time\n",
        "\n",
        "from sklearn.model_selection import RandomizedSearchCV\n",
        "from scipy.stats import randint\n",
        "\n",
        "param_distribs = {\n",
        "    'penalty': ['l1','l2','elasticnet','none'],\n",
        "    'C': [0.1,0.5,1,2],\n",
        "    'solver' : ['newton-cg', 'lbfgs', 'liblinear', 'sag', 'saga']\n",
        "    }  \n",
        "\n",
        "\n",
        "rnd_search_LR = RandomizedSearchCV(LogisticRegression(), param_distribs,\n",
        "                                n_iter=10, cv=3, scoring='accuracy', random_state=42, verbose=2, n_jobs=-1)\n",
        "\n",
        "rnd_search_LR.fit(X_train, y_train)"
      ],
      "execution_count": null,
      "outputs": [
        {
          "output_type": "stream",
          "text": [
            "Fitting 3 folds for each of 10 candidates, totalling 30 fits\n"
          ],
          "name": "stdout"
        },
        {
          "output_type": "stream",
          "text": [
            "[Parallel(n_jobs=-1)]: Using backend LokyBackend with 2 concurrent workers.\n"
          ],
          "name": "stderr"
        },
        {
          "output_type": "stream",
          "text": [
            "CPU times: user 159 ms, sys: 3.69 ms, total: 162 ms\n",
            "Wall time: 660 ms\n"
          ],
          "name": "stdout"
        },
        {
          "output_type": "stream",
          "text": [
            "[Parallel(n_jobs=-1)]: Done  30 out of  30 | elapsed:    0.6s finished\n"
          ],
          "name": "stderr"
        }
      ]
    },
    {
      "cell_type": "code",
      "metadata": {
        "colab": {
          "base_uri": "https://localhost:8080/"
        },
        "id": "vtI3dYVfWD0i",
        "outputId": "96378446-5feb-44d9-bfd5-67aa935ae2d5"
      },
      "source": [
        "rnd_search_LR.best_params_"
      ],
      "execution_count": null,
      "outputs": [
        {
          "output_type": "execute_result",
          "data": {
            "text/plain": [
              "{'C': 0.5, 'penalty': 'l2', 'solver': 'sag'}"
            ]
          },
          "metadata": {
            "tags": []
          },
          "execution_count": 107
        }
      ]
    },
    {
      "cell_type": "code",
      "metadata": {
        "colab": {
          "base_uri": "https://localhost:8080/"
        },
        "id": "lffYzie2WD0j",
        "outputId": "006b471f-2cee-4459-886f-94620681e7b9"
      },
      "source": [
        "rnd_search_LR.best_score_"
      ],
      "execution_count": null,
      "outputs": [
        {
          "output_type": "execute_result",
          "data": {
            "text/plain": [
              "0.9330296896086369"
            ]
          },
          "metadata": {
            "tags": []
          },
          "execution_count": 108
        }
      ]
    },
    {
      "cell_type": "code",
      "metadata": {
        "id": "a3bdr7YZWD0j"
      },
      "source": [
        "LR=rnd_search_LR.best_estimator_"
      ],
      "execution_count": null,
      "outputs": []
    },
    {
      "cell_type": "code",
      "metadata": {
        "colab": {
          "base_uri": "https://localhost:8080/"
        },
        "id": "E2OMUojKWD0j",
        "outputId": "51335bfc-329b-4d8e-e86b-95c4bfbcfb95"
      },
      "source": [
        "print(f'> Conjunto de validación: {LR.score(X_val,y_val)}')"
      ],
      "execution_count": null,
      "outputs": [
        {
          "output_type": "stream",
          "text": [
            "> Conjunto de validación: 0.8031018206338503\n"
          ],
          "name": "stdout"
        }
      ]
    },
    {
      "cell_type": "markdown",
      "metadata": {
        "id": "f1ivjT41WD0j"
      },
      "source": [
        "#### **Optimización Bayesiana:**"
      ]
    },
    {
      "cell_type": "code",
      "metadata": {
        "id": "C4NBiiVeWD0k"
      },
      "source": [
        "%%capture\n",
        "! pip install scikit-optimize"
      ],
      "execution_count": null,
      "outputs": []
    },
    {
      "cell_type": "code",
      "metadata": {
        "id": "i553gDpBWD0k"
      },
      "source": [
        "from skopt import BayesSearchCV"
      ],
      "execution_count": null,
      "outputs": []
    },
    {
      "cell_type": "code",
      "metadata": {
        "colab": {
          "base_uri": "https://localhost:8080/"
        },
        "id": "Z24SFW5xWD0k",
        "outputId": "e958e5da-9fe3-4d29-e030-5b83c034bf92"
      },
      "source": [
        "%%time\n",
        "\n",
        "from skopt.space import Real, Categorical, Integer #Permite definir el tipo\n",
        "param_distribs = {\n",
        "    'penalty': ['l1','l2'],\n",
        "    'C': [0.1,0.5,1,2],\n",
        "    'solver' : ['lbfgs', 'liblinear','saga']\n",
        "    }  \n",
        "\n",
        "\n",
        "bayes_search_LR = BayesSearchCV(\n",
        "    LogisticRegression(),\n",
        "    param_distribs,\n",
        "    n_iter=10,\n",
        "    cv=3, scoring='accuracy', random_state=42,\n",
        "    n_jobs=-1,\n",
        "    optimizer_kwargs={'base_estimator': 'GP'} # 'GP': Gaussean Process,'RF': Random Forest regressor,'ET': Extra Trees regressor, 'GBRT': gradient boosted trees\n",
        "  )\n",
        "bayes_search_LR.fit(X_train, y_train)\n",
        "\n",
        "print(bayes_search_LR.best_params_)"
      ],
      "execution_count": null,
      "outputs": [
        {
          "output_type": "stream",
          "text": [
            "OrderedDict([('C', 0.5), ('penalty', 'l2'), ('solver', 'saga')])\n",
            "CPU times: user 1.04 s, sys: 517 ms, total: 1.55 s\n",
            "Wall time: 3.77 s\n"
          ],
          "name": "stdout"
        }
      ]
    },
    {
      "cell_type": "code",
      "metadata": {
        "colab": {
          "base_uri": "https://localhost:8080/"
        },
        "id": "EDbKQRDTWD0k",
        "outputId": "88457d24-9c9e-4dee-daf8-a6d7ad740f44"
      },
      "source": [
        "bayes_search_LR.best_params_"
      ],
      "execution_count": null,
      "outputs": [
        {
          "output_type": "execute_result",
          "data": {
            "text/plain": [
              "OrderedDict([('C', 0.5), ('penalty', 'l2'), ('solver', 'saga')])"
            ]
          },
          "metadata": {
            "tags": []
          },
          "execution_count": 120
        }
      ]
    },
    {
      "cell_type": "code",
      "metadata": {
        "colab": {
          "base_uri": "https://localhost:8080/"
        },
        "id": "-s8F4HjCWD0k",
        "outputId": "69da7de5-3316-4d28-bcfe-ca352e067e63"
      },
      "source": [
        "bayes_search_LR.best_score_"
      ],
      "execution_count": null,
      "outputs": [
        {
          "output_type": "execute_result",
          "data": {
            "text/plain": [
              "0.933029689608637"
            ]
          },
          "metadata": {
            "tags": []
          },
          "execution_count": 121
        }
      ]
    },
    {
      "cell_type": "code",
      "metadata": {
        "id": "yjQ1rDRaWD0l"
      },
      "source": [
        "LR=bayes_search_LR.best_estimator_"
      ],
      "execution_count": null,
      "outputs": []
    },
    {
      "cell_type": "code",
      "metadata": {
        "colab": {
          "base_uri": "https://localhost:8080/"
        },
        "id": "J_eO6V_7WD0l",
        "outputId": "00f740bc-50f2-468e-b3b3-b33beb555705"
      },
      "source": [
        "print(f'> Conjunto de validación: {LR.score(X_val,y_val)}')"
      ],
      "execution_count": null,
      "outputs": [
        {
          "output_type": "stream",
          "text": [
            "> Conjunto de validación: 0.8031018206338503\n"
          ],
          "name": "stdout"
        }
      ]
    },
    {
      "cell_type": "markdown",
      "metadata": {
        "id": "daBMp_UpWD0l"
      },
      "source": [
        "#### **HYPERBAND:**"
      ]
    },
    {
      "cell_type": "code",
      "metadata": {
        "id": "qjxI7Qf5WD0l"
      },
      "source": [
        "%%capture\n",
        "!git clone https://github.com/thuijskens/scikit-hyperband.git\n",
        "%cd scikit-hyperband\n",
        "!python setup.py install"
      ],
      "execution_count": null,
      "outputs": []
    },
    {
      "cell_type": "code",
      "metadata": {
        "id": "yULwIERGWD0m"
      },
      "source": [
        "from hyperband import HyperbandSearchCV\n",
        "import warnings\n",
        "warnings.filterwarnings('ignore')"
      ],
      "execution_count": null,
      "outputs": []
    },
    {
      "cell_type": "code",
      "metadata": {
        "id": "BEguFIZHWD0m"
      },
      "source": [
        "# Distributions or lists of parameters to try. Distributions must provide a rvs method for sampling (such as those from scipy.stats.distributions). If a list is given, it is sampled uniformly.\n",
        "param_grid = {\n",
        "    'C': [0.1,0.5,1,2],\n",
        "    'solver' : ['lbfgs', 'liblinear','saga']\n",
        "    }  \n"
      ],
      "execution_count": null,
      "outputs": []
    },
    {
      "cell_type": "code",
      "metadata": {
        "colab": {
          "base_uri": "https://localhost:8080/"
        },
        "id": "Dx-2BYwpWD0m",
        "outputId": "fda5605c-3cff-432e-8da1-5fa20e0509f3"
      },
      "source": [
        "%%time\n",
        "\n",
        "Hyb_search_LR = HyperbandSearchCV(LogisticRegression(),\n",
        "                           param_grid,\n",
        "                           resource_param='C', #Recursos que se asignarán en cada estimacion. En Random Forest tipicamente el número de árboles\n",
        "                           verbose =1,\n",
        "                           max_iter=500, #Numero de árboles máximo en una iteración\n",
        "                           min_iter=30, #Numero de árboles mínimo en una iteración\n",
        "                           eta=3, #Reducción de recursos en cada iteración\n",
        "                           cv=3,\n",
        "                           scoring='accuracy',\n",
        "                           random_state = 42)\n",
        "\n",
        "Hyb_search_LR.fit(X_train, y_train)"
      ],
      "execution_count": null,
      "outputs": [
        {
          "output_type": "stream",
          "text": [
            "Starting bracket 1 (out of 3) of hyperband\n",
            "Starting successive halving iteration 1 out of 3. Fitting 9 configurations, with resource_param C set to 55, and keeping the best 3 configurations.\n",
            "Fitting 3 folds for each of 9 candidates, totalling 27 fits\n"
          ],
          "name": "stdout"
        },
        {
          "output_type": "stream",
          "text": [
            "[Parallel(n_jobs=1)]: Using backend SequentialBackend with 1 concurrent workers.\n",
            "[Parallel(n_jobs=1)]: Done  27 out of  27 | elapsed:    2.1s finished\n",
            "[Parallel(n_jobs=1)]: Using backend SequentialBackend with 1 concurrent workers.\n"
          ],
          "name": "stderr"
        },
        {
          "output_type": "stream",
          "text": [
            "Starting successive halving iteration 2 out of 3. Fitting 3 configurations, with resource_param C set to 166, and keeping the best 1 configurations.\n",
            "Fitting 3 folds for each of 3 candidates, totalling 9 fits\n"
          ],
          "name": "stdout"
        },
        {
          "output_type": "stream",
          "text": [
            "[Parallel(n_jobs=1)]: Done   9 out of   9 | elapsed:    1.2s finished\n",
            "[Parallel(n_jobs=1)]: Using backend SequentialBackend with 1 concurrent workers.\n"
          ],
          "name": "stderr"
        },
        {
          "output_type": "stream",
          "text": [
            "Starting successive halving iteration 3 out of 3. Fitting 1 configurations, with resource_param C set to 500\n",
            "Fitting 3 folds for each of 1 candidates, totalling 3 fits\n"
          ],
          "name": "stdout"
        },
        {
          "output_type": "stream",
          "text": [
            "[Parallel(n_jobs=1)]: Done   3 out of   3 | elapsed:    0.5s finished\n",
            "[Parallel(n_jobs=1)]: Using backend SequentialBackend with 1 concurrent workers.\n"
          ],
          "name": "stderr"
        },
        {
          "output_type": "stream",
          "text": [
            "Starting bracket 2 (out of 3) of hyperband\n",
            "Starting successive halving iteration 1 out of 2. Fitting 3 configurations, with resource_param C set to 166, and keeping the best 1 configurations.\n",
            "Fitting 3 folds for each of 3 candidates, totalling 9 fits\n"
          ],
          "name": "stdout"
        },
        {
          "output_type": "stream",
          "text": [
            "[Parallel(n_jobs=1)]: Done   9 out of   9 | elapsed:    1.0s finished\n",
            "[Parallel(n_jobs=1)]: Using backend SequentialBackend with 1 concurrent workers.\n"
          ],
          "name": "stderr"
        },
        {
          "output_type": "stream",
          "text": [
            "Starting successive halving iteration 2 out of 2. Fitting 1 configurations, with resource_param C set to 500\n",
            "Fitting 3 folds for each of 1 candidates, totalling 3 fits\n"
          ],
          "name": "stdout"
        },
        {
          "output_type": "stream",
          "text": [
            "[Parallel(n_jobs=1)]: Done   3 out of   3 | elapsed:    0.5s finished\n",
            "[Parallel(n_jobs=1)]: Using backend SequentialBackend with 1 concurrent workers.\n"
          ],
          "name": "stderr"
        },
        {
          "output_type": "stream",
          "text": [
            "Starting bracket 3 (out of 3) of hyperband\n",
            "Starting successive halving iteration 1 out of 1. Fitting 3 configurations, with resource_param C set to 500, and keeping the best 1 configurations.\n",
            "Fitting 3 folds for each of 3 candidates, totalling 9 fits\n"
          ],
          "name": "stdout"
        },
        {
          "output_type": "stream",
          "text": [
            "[Parallel(n_jobs=1)]: Done   9 out of   9 | elapsed:    0.2s finished\n"
          ],
          "name": "stderr"
        },
        {
          "output_type": "stream",
          "text": [
            "CPU times: user 5.6 s, sys: 12.3 ms, total: 5.62 s\n",
            "Wall time: 5.63 s\n"
          ],
          "name": "stdout"
        }
      ]
    },
    {
      "cell_type": "code",
      "metadata": {
        "colab": {
          "base_uri": "https://localhost:8080/"
        },
        "id": "Sfu7VZ_UWD0m",
        "outputId": "4804cd73-e07a-40cc-d082-889007f54782"
      },
      "source": [
        "Hyb_search_LR.best_params_"
      ],
      "execution_count": null,
      "outputs": [
        {
          "output_type": "execute_result",
          "data": {
            "text/plain": [
              "{'C': 55, 'solver': 'lbfgs'}"
            ]
          },
          "metadata": {
            "tags": []
          },
          "execution_count": 133
        }
      ]
    },
    {
      "cell_type": "code",
      "metadata": {
        "colab": {
          "base_uri": "https://localhost:8080/"
        },
        "id": "4HrHBW3-WD0m",
        "outputId": "c949f725-bec7-4f32-f239-b15bd668263d"
      },
      "source": [
        "Hyb_search_LR.best_score_"
      ],
      "execution_count": null,
      "outputs": [
        {
          "output_type": "execute_result",
          "data": {
            "text/plain": [
              "0.9328609986504723"
            ]
          },
          "metadata": {
            "tags": []
          },
          "execution_count": 134
        }
      ]
    },
    {
      "cell_type": "code",
      "metadata": {
        "id": "2eEoJqVcWD0n"
      },
      "source": [
        "LR=Hyb_search_LR.best_estimator_"
      ],
      "execution_count": null,
      "outputs": []
    },
    {
      "cell_type": "code",
      "metadata": {
        "colab": {
          "base_uri": "https://localhost:8080/"
        },
        "id": "Cue6O9RCWD0n",
        "outputId": "33897afa-4a1a-4c0d-b59e-e3d860e03b26"
      },
      "source": [
        "print(f'> Conjunto de validación: {LR.score(X_val,y_val)}')"
      ],
      "execution_count": null,
      "outputs": [
        {
          "output_type": "stream",
          "text": [
            "> Conjunto de validación: 0.8010788941335132\n"
          ],
          "name": "stdout"
        }
      ]
    },
    {
      "cell_type": "markdown",
      "metadata": {
        "id": "x1hF6IVnWD0n"
      },
      "source": [
        "### The best hyperparameters for the model: \n",
        "\n",
        "```\n",
        "> C: 0.5\n",
        "> penalty: 'l2'\n",
        "> solver: 'newton-cg'\n",
        "```\n",
        "\n"
      ]
    },
    {
      "cell_type": "markdown",
      "metadata": {
        "id": "qZ_4JDk0NoKW"
      },
      "source": [
        "### Confusion matriz and other metrics: "
      ]
    },
    {
      "cell_type": "code",
      "metadata": {
        "id": "g0fQRD-iaAON",
        "colab": {
          "base_uri": "https://localhost:8080/"
        },
        "outputId": "14d89b83-f702-493b-c3a3-70e3c8ea6a6d"
      },
      "source": [
        "LR = LogisticRegression(C=0.5,penalty='l2',solver='newton-cg')\n",
        "LR.fit(X_train, y_train)\n",
        "y_pred = LR.predict(X_val)\n",
        "print('Accuracy: ' + str(LR.score(X_val, y_val)))\n",
        "print('')\n",
        "print(classification_report(y_val,y_pred))"
      ],
      "execution_count": null,
      "outputs": [
        {
          "output_type": "stream",
          "text": [
            "Accuracy: 0.8031018206338503\n",
            "\n",
            "              precision    recall  f1-score   support\n",
            "\n",
            "           0       0.88      0.87      0.87       692\n",
            "           1       0.82      0.84      0.83       530\n",
            "           2       0.53      0.64      0.58        84\n",
            "           3       0.59      0.51      0.55       177\n",
            "\n",
            "    accuracy                           0.80      1483\n",
            "   macro avg       0.71      0.72      0.71      1483\n",
            "weighted avg       0.80      0.80      0.80      1483\n",
            "\n"
          ],
          "name": "stdout"
        }
      ]
    },
    {
      "cell_type": "code",
      "metadata": {
        "id": "1MNTXs8caMtH",
        "colab": {
          "base_uri": "https://localhost:8080/",
          "height": 285
        },
        "outputId": "078d5998-23a1-417c-8baa-68e6a77d760d"
      },
      "source": [
        "mat = confusion_matrix(y_val, y_pred)\n",
        "sns.heatmap(mat.T, square=True, annot=True, fmt='d', cbar=False,\n",
        "            xticklabels=['0', '1', '2', '3'], yticklabels=['0', '1', '2', '3'])\n",
        "plt.xlabel('true label')\n",
        "plt.ylabel('predicted label');"
      ],
      "execution_count": null,
      "outputs": [
        {
          "output_type": "display_data",
          "data": {
            "image/png": "[encoded data removed]",
            "text/plain": [
              "<Figure size 432x288 with 1 Axes>"
            ]
          },
          "metadata": {
            "tags": []
          }
        }
      ]
    },
    {
      "cell_type": "markdown",
      "metadata": {
        "id": "xnHZZLlUL9PF"
      },
      "source": [
        "### Evaluation"
      ]
    },
    {
      "cell_type": "markdown",
      "metadata": {
        "id": "Wrjlr8VpWD0n"
      },
      "source": [
        "####k-fold Cross Validation"
      ]
    },
    {
      "cell_type": "code",
      "metadata": {
        "id": "E8mI2tP5WD0n"
      },
      "source": [
        "from sklearn.model_selection import KFold\n",
        "from sklearn.model_selection import cross_val_score\n",
        "from numpy import mean\n",
        "from numpy import std"
      ],
      "execution_count": null,
      "outputs": []
    },
    {
      "cell_type": "code",
      "metadata": {
        "colab": {
          "base_uri": "https://localhost:8080/"
        },
        "id": "qN8nWgi5WD0o",
        "outputId": "4033a3ef-4a5d-4a5a-bbec-478d455e37ba"
      },
      "source": [
        "# preparar el procedimiento de cross-validation \n",
        "cv = KFold(n_splits=5, random_state=1)\n",
        "# crear el modelo\n",
        "model = LogisticRegression(C=0.5,penalty='l2',solver='newton-cg')\n",
        "model.fit(X_train, y_train)\n",
        "# evaluar el modelo\n",
        "scores = cross_val_score(model, X_val, y_val, scoring='accuracy', cv=cv, n_jobs=-1)\n",
        "# mostrar el resultado\n",
        "print('Accuracy: %.3f (%.3f)' % (mean(scores), std(scores)))"
      ],
      "execution_count": null,
      "outputs": [
        {
          "output_type": "stream",
          "text": [
            "Accuracy: 0.804 (0.020)\n"
          ],
          "name": "stdout"
        }
      ]
    },
    {
      "cell_type": "markdown",
      "metadata": {
        "id": "8OkLhMniWD0o"
      },
      "source": [
        "#### Repeticiones de k-fold Cross Validation"
      ]
    },
    {
      "cell_type": "code",
      "metadata": {
        "id": "kCQGTeVcWD0o"
      },
      "source": [
        "from sklearn.model_selection import RepeatedKFold"
      ],
      "execution_count": null,
      "outputs": []
    },
    {
      "cell_type": "code",
      "metadata": {
        "colab": {
          "base_uri": "https://localhost:8080/"
        },
        "id": "SHb74ojTWD0o",
        "outputId": "d0bbbe51-5fb3-4aa4-9f2b-406c10d3ef40"
      },
      "source": [
        "# preparar el procedimiento de cross-validation \n",
        "cv = RepeatedKFold(n_splits=5, n_repeats=1, random_state=1)\n",
        "# crear el modelo\n",
        "model = LogisticRegression(C=0.5,penalty='l2',solver='newton-cg')\n",
        "model.fit(X_train, y_train)\n",
        "# evaluar el modelo\n",
        "scores = cross_val_score(model, X_val, y_val, scoring='accuracy', cv=cv, n_jobs=-1)\n",
        "# mostrar el resultado\n",
        "print('Accuracy: %.3f (%.3f)' % (mean(scores), std(scores)))"
      ],
      "execution_count": null,
      "outputs": [
        {
          "output_type": "stream",
          "text": [
            "Accuracy: 0.801 (0.018)\n"
          ],
          "name": "stdout"
        }
      ]
    },
    {
      "cell_type": "markdown",
      "metadata": {
        "id": "VGjjy8GcWD0p"
      },
      "source": [
        "#### Stratified k-fold Cross Validation"
      ]
    },
    {
      "cell_type": "code",
      "metadata": {
        "id": "j2berzn5WD0p"
      },
      "source": [
        "from sklearn.model_selection import StratifiedKFold"
      ],
      "execution_count": null,
      "outputs": []
    },
    {
      "cell_type": "code",
      "metadata": {
        "colab": {
          "base_uri": "https://localhost:8080/"
        },
        "id": "Uq1mkFhhWD0p",
        "outputId": "4d69f470-1115-4485-c907-852d19763120"
      },
      "source": [
        "# preparar el procedimiento de cross-validation \n",
        "cv = StratifiedKFold(n_splits=16,random_state=1, shuffle=False)\n",
        "# crear el modelo\n",
        "model = LogisticRegression(C=0.5,penalty='l2',solver='newton-cg')\n",
        "model.fit(X_train, y_train)\n",
        "# evaluar el modelo\n",
        "scores = cross_val_score(model, X_val, y_val, scoring='accuracy', cv=cv, n_jobs=-1)\n",
        "# mostrar el resultado\n",
        "print('Accuracy: %.3f (%.3f)' % (mean(scores), std(scores)))"
      ],
      "execution_count": null,
      "outputs": [
        {
          "output_type": "stream",
          "text": [
            "Accuracy: 0.805 (0.038)\n"
          ],
          "name": "stdout"
        }
      ]
    },
    {
      "cell_type": "markdown",
      "metadata": {
        "id": "PdZBHe0KWD0p"
      },
      "source": [
        "#### Shuffle Split"
      ]
    },
    {
      "cell_type": "code",
      "metadata": {
        "id": "TxOeqcrPWD0q"
      },
      "source": [
        "from sklearn.model_selection import ShuffleSplit"
      ],
      "execution_count": null,
      "outputs": []
    },
    {
      "cell_type": "code",
      "metadata": {
        "colab": {
          "base_uri": "https://localhost:8080/"
        },
        "id": "UIpb7_W8WD0q",
        "outputId": "ae41317b-6586-46b2-9b49-afaaaf25b48f"
      },
      "source": [
        "# preparar el procedimiento de cross-validation \n",
        "cv = ShuffleSplit(n_splits=16,train_size=0.8,random_state=1)\n",
        "# crear el modelo\n",
        "model = LogisticRegression(C=0.5,penalty='l2',solver='newton-cg')\n",
        "model.fit(X_train, y_train)\n",
        "# evaluar el modelo\n",
        "scores = cross_val_score(model, X_val, y_val, scoring='accuracy', cv=cv, n_jobs=-1)\n",
        "# mostrar el resultado\n",
        "print('Accuracy: %.3f (%.3f)' % (mean(scores), std(scores)))"
      ],
      "execution_count": null,
      "outputs": [
        {
          "output_type": "stream",
          "text": [
            "Accuracy: 0.804 (0.016)\n"
          ],
          "name": "stdout"
        }
      ]
    },
    {
      "cell_type": "markdown",
      "metadata": {
        "id": "n4CSwcZ0WD0r"
      },
      "source": [
        "### Summary\n",
        "\n",
        "The best hyperparameters for the model:\n",
        "\n",
        "```\n",
        "> C: 0.5\n",
        "> penalty: 'l2'\n",
        "> solver: 'newton-cg'\n",
        "```\n",
        "\n",
        "### And the best evaluation:\n",
        "\n",
        "```\n",
        "StratifiedKFold:\n",
        "  > n_splits = 16\n",
        "  > shuffle=False\n",
        "```\n",
        "### We obtain an accuracy of: 80.5%\n"
      ]
    },
    {
      "cell_type": "markdown",
      "metadata": {
        "id": "2pjo8nmZmt8f"
      },
      "source": [
        "# Evaluation in the test set\n",
        "\n",
        "Once we have found the best hyperparameters for our machine learning algorithms we are going to evaluate all of them in out test set."
      ]
    },
    {
      "cell_type": "markdown",
      "metadata": {
        "id": "gv1UAPgdnqFx"
      },
      "source": [
        "## kNN (K-Nearest Neighbors)"
      ]
    },
    {
      "cell_type": "code",
      "metadata": {
        "id": "Q_nnUfx1nqFz"
      },
      "source": [
        "from sklearn.neighbors import KNeighborsClassifier"
      ],
      "execution_count": null,
      "outputs": []
    },
    {
      "cell_type": "code",
      "metadata": {
        "id": "HdT6oGD9qLY1"
      },
      "source": [
        "knn = KNeighborsClassifier(n_neighbors=55, metric='manhattan',weights='uniform')\n",
        "knn.fit(X, y)\n",
        "y_pred = knn.predict(X_test)"
      ],
      "execution_count": null,
      "outputs": []
    },
    {
      "cell_type": "code",
      "metadata": {
        "id": "ulWvNc6ArJK-"
      },
      "source": [
        "precision, recall, f1, _ = precision_recall_fscore_support(y_test, y_pred, average='weighted')\n",
        "acc = accuracy_score(y_test, y_pred)"
      ],
      "execution_count": null,
      "outputs": []
    },
    {
      "cell_type": "code",
      "metadata": {
        "colab": {
          "base_uri": "https://localhost:8080/"
        },
        "id": "h2Sg7khPtAsd",
        "outputId": "30aa9f5b-72cd-4e18-ad98-f2d0f5543f81"
      },
      "source": [
        "print('Accuracy: '+str(acc))\n",
        "print('Precision: '+str(precision))\n",
        "print('Recall: '+str(recall))\n",
        "print('f1: '+str(f1))"
      ],
      "execution_count": null,
      "outputs": [
        {
          "output_type": "stream",
          "text": [
            "Accuracy: 0.8048885077186964\n",
            "Precision: 0.8092884168046697\n",
            "Recall: 0.8048885077186964\n",
            "f1: 0.8069154244032011\n"
          ],
          "name": "stdout"
        }
      ]
    },
    {
      "cell_type": "markdown",
      "metadata": {
        "id": "u7g-XYt3nqF2"
      },
      "source": [
        "## Decision Tree"
      ]
    },
    {
      "cell_type": "code",
      "metadata": {
        "id": "1k_wVuAsnqF4"
      },
      "source": [
        "from sklearn.tree import DecisionTreeClassifier"
      ],
      "execution_count": null,
      "outputs": []
    },
    {
      "cell_type": "code",
      "metadata": {
        "id": "JoKpYd4oqVUT"
      },
      "source": [
        "DT = DecisionTreeClassifier(criterion= 'entropy', max_depth= 49, splitter= 'best',random_state=45)\n",
        "DT.fit(X, y)\n",
        "y_pred = DT.predict(X_test)"
      ],
      "execution_count": null,
      "outputs": []
    },
    {
      "cell_type": "code",
      "metadata": {
        "id": "G3qhOeUjtYNn"
      },
      "source": [
        "precision, recall, f1, _ = precision_recall_fscore_support(y_test, y_pred, average='weighted')\n",
        "acc = accuracy_score(y_test, y_pred)"
      ],
      "execution_count": null,
      "outputs": []
    },
    {
      "cell_type": "code",
      "metadata": {
        "colab": {
          "base_uri": "https://localhost:8080/"
        },
        "id": "0yDnk92LtYNq",
        "outputId": "46ec9179-872e-4acf-c89e-8437e7bd718d"
      },
      "source": [
        "print('Accuracy: '+str(acc))\n",
        "print('Precision: '+str(precision))\n",
        "print('Recall: '+str(recall))\n",
        "print('f1: '+str(f1))"
      ],
      "execution_count": null,
      "outputs": [
        {
          "output_type": "stream",
          "text": [
            "Accuracy: 0.7890222984562607\n",
            "Precision: 0.7927548592349569\n",
            "Recall: 0.7890222984562607\n",
            "f1: 0.7902654494269831\n"
          ],
          "name": "stdout"
        }
      ]
    },
    {
      "cell_type": "markdown",
      "metadata": {
        "id": "U8-oKaPjnqF6"
      },
      "source": [
        "## SVM"
      ]
    },
    {
      "cell_type": "code",
      "metadata": {
        "id": "xrOMt8LNnqF6"
      },
      "source": [
        "from sklearn.svm import SVC"
      ],
      "execution_count": null,
      "outputs": []
    },
    {
      "cell_type": "code",
      "metadata": {
        "id": "6QemBBWoqasz"
      },
      "source": [
        "svc = SVC(kernel= 'linear', gamma=0.5,C=10)\n",
        "svc.fit(X, y)\n",
        "y_pred = svc.predict(X_test)"
      ],
      "execution_count": null,
      "outputs": []
    },
    {
      "cell_type": "code",
      "metadata": {
        "id": "dJhS7eL2tgkY"
      },
      "source": [
        "precision, recall, f1, _ = precision_recall_fscore_support(y_test, y_pred, average='weighted')\n",
        "acc = accuracy_score(y_test, y_pred)"
      ],
      "execution_count": null,
      "outputs": []
    },
    {
      "cell_type": "code",
      "metadata": {
        "colab": {
          "base_uri": "https://localhost:8080/"
        },
        "id": "pD32CSLVtgkZ",
        "outputId": "72892ba7-001d-402d-ea37-7385fd0dd33f"
      },
      "source": [
        "print('Accuracy: '+str(acc))\n",
        "print('Precision: '+str(precision))\n",
        "print('Recall: '+str(recall))\n",
        "print('f1: '+str(f1))"
      ],
      "execution_count": null,
      "outputs": [
        {
          "output_type": "stream",
          "text": [
            "Accuracy: 0.7980274442538593\n",
            "Precision: 0.7983919507308341\n",
            "Recall: 0.7980274442538593\n",
            "f1: 0.7969631613184834\n"
          ],
          "name": "stdout"
        }
      ]
    },
    {
      "cell_type": "markdown",
      "metadata": {
        "id": "u47PO6cPnqF9"
      },
      "source": [
        "##Gaussian Naive Bayes"
      ]
    },
    {
      "cell_type": "code",
      "metadata": {
        "id": "eCfFQJiqnqF9"
      },
      "source": [
        "from sklearn.naive_bayes import GaussianNB"
      ],
      "execution_count": null,
      "outputs": []
    },
    {
      "cell_type": "code",
      "metadata": {
        "id": "a9OnNnfoqf-n"
      },
      "source": [
        "GNB = GaussianNB(var_smoothing= 0.1)\n",
        "GNB.fit(X, y)\n",
        "y_pred = GNB.predict(X_test)"
      ],
      "execution_count": null,
      "outputs": []
    },
    {
      "cell_type": "code",
      "metadata": {
        "id": "JIWmLF_0thGH"
      },
      "source": [
        "precision, recall, f1, _ = precision_recall_fscore_support(y_test, y_pred, average='weighted')\n",
        "acc = accuracy_score(y_test, y_pred)"
      ],
      "execution_count": null,
      "outputs": []
    },
    {
      "cell_type": "code",
      "metadata": {
        "colab": {
          "base_uri": "https://localhost:8080/"
        },
        "id": "qMUK7PY1thGJ",
        "outputId": "5aed932a-631e-41e7-f93e-d1ac90a3778e"
      },
      "source": [
        "print('Accuracy: '+str(acc))\n",
        "print('Precision: '+str(precision))\n",
        "print('Recall: '+str(recall))\n",
        "print('f1: '+str(f1))"
      ],
      "execution_count": null,
      "outputs": [
        {
          "output_type": "stream",
          "text": [
            "Accuracy: 0.7911663807890223\n",
            "Precision: 0.7932336852153681\n",
            "Recall: 0.7911663807890223\n",
            "f1: 0.7908867870097536\n"
          ],
          "name": "stdout"
        }
      ]
    },
    {
      "cell_type": "markdown",
      "metadata": {
        "id": "FNs4qWcAnqF-"
      },
      "source": [
        "## Random Forest Classifier"
      ]
    },
    {
      "cell_type": "code",
      "metadata": {
        "id": "WsASmMiqnqF_"
      },
      "source": [
        "from sklearn.ensemble import RandomForestClassifier"
      ],
      "execution_count": null,
      "outputs": []
    },
    {
      "cell_type": "code",
      "metadata": {
        "id": "yhzgX7L-qqxU"
      },
      "source": [
        "RF = RandomForestClassifier(criterion='entropy',max_depth=5,max_features='auto',n_estimators=25)\n",
        "RF.fit(X, y)\n",
        "y_pred = RF.predict(X_test)"
      ],
      "execution_count": null,
      "outputs": []
    },
    {
      "cell_type": "code",
      "metadata": {
        "id": "EQQowYWdthrI"
      },
      "source": [
        "precision, recall, f1, _ = precision_recall_fscore_support(y_test, y_pred, average='weighted')\n",
        "acc = accuracy_score(y_test, y_pred)"
      ],
      "execution_count": null,
      "outputs": []
    },
    {
      "cell_type": "code",
      "metadata": {
        "colab": {
          "base_uri": "https://localhost:8080/"
        },
        "id": "lW1DPLhkthrJ",
        "outputId": "1f2f6dcb-6b6b-4973-a081-d548e196d566"
      },
      "source": [
        "print('Accuracy: '+str(acc))\n",
        "print('Precision: '+str(precision))\n",
        "print('Recall: '+str(recall))\n",
        "print('f1: '+str(f1))"
      ],
      "execution_count": null,
      "outputs": [
        {
          "output_type": "stream",
          "text": [
            "Accuracy: 0.7945969125214408\n",
            "Precision: 0.7977068560368823\n",
            "Recall: 0.7945969125214408\n",
            "f1: 0.7947005657504398\n"
          ],
          "name": "stdout"
        }
      ]
    },
    {
      "cell_type": "markdown",
      "metadata": {
        "id": "h33c9BIDnqGA"
      },
      "source": [
        "## Neural Networks"
      ]
    },
    {
      "cell_type": "code",
      "metadata": {
        "id": "WqYE1fwinqGA"
      },
      "source": [
        "from sklearn.neural_network import MLPClassifier"
      ],
      "execution_count": null,
      "outputs": []
    },
    {
      "cell_type": "code",
      "metadata": {
        "id": "sO3Cs9g3qxwc"
      },
      "source": [
        "MLP = MLPClassifier(activation='relu',alpha=0.1,max_iter=1000,momentum=0.983506257482421,solver='adam')\n",
        "MLP.fit(X, y)\n",
        "y_pred = MLP.predict(X_test)"
      ],
      "execution_count": null,
      "outputs": []
    },
    {
      "cell_type": "code",
      "metadata": {
        "id": "UWml_bX4tiUG"
      },
      "source": [
        "precision, recall, f1, _ = precision_recall_fscore_support(y_test, y_pred, average='weighted')\n",
        "acc = accuracy_score(y_test, y_pred)"
      ],
      "execution_count": null,
      "outputs": []
    },
    {
      "cell_type": "code",
      "metadata": {
        "colab": {
          "base_uri": "https://localhost:8080/"
        },
        "id": "Je47II4CtiUH",
        "outputId": "995d34b5-0a58-4928-95cc-c2eb208350a6"
      },
      "source": [
        "print('Accuracy: '+str(acc))\n",
        "print('Precision: '+str(precision))\n",
        "print('Recall: '+str(recall))\n",
        "print('f1: '+str(f1))"
      ],
      "execution_count": null,
      "outputs": [
        {
          "output_type": "stream",
          "text": [
            "Accuracy: 0.8061749571183533\n",
            "Precision: 0.812623719181221\n",
            "Recall: 0.8061749571183533\n",
            "f1: 0.8091133604931949\n"
          ],
          "name": "stdout"
        }
      ]
    },
    {
      "cell_type": "markdown",
      "metadata": {
        "id": "vvzonakqnqGB"
      },
      "source": [
        "## Logistic Regression"
      ]
    },
    {
      "cell_type": "code",
      "metadata": {
        "id": "5EISY8iDnqGB"
      },
      "source": [
        "from sklearn.linear_model import LogisticRegression"
      ],
      "execution_count": null,
      "outputs": []
    },
    {
      "cell_type": "code",
      "metadata": {
        "id": "zZq-6YrUq3jd"
      },
      "source": [
        "LR = LogisticRegression(C=0.5,penalty='l2',solver='newton-cg')\n",
        "LR.fit(X, y)\n",
        "y_pred = LR.predict(X_test)"
      ],
      "execution_count": null,
      "outputs": []
    },
    {
      "cell_type": "code",
      "metadata": {
        "id": "TaGEnUdBti44"
      },
      "source": [
        "precision, recall, f1, _ = precision_recall_fscore_support(y_test, y_pred, average='weighted')\n",
        "acc = accuracy_score(y_test, y_pred)"
      ],
      "execution_count": null,
      "outputs": []
    },
    {
      "cell_type": "code",
      "metadata": {
        "colab": {
          "base_uri": "https://localhost:8080/"
        },
        "id": "8SGMYe3Yti44",
        "outputId": "81754628-ccb5-46b5-8a29-3cee3a77cb37"
      },
      "source": [
        "print('Accuracy: '+str(acc))\n",
        "print('Precision: '+str(precision))\n",
        "print('Recall: '+str(recall))\n",
        "print('f1: '+str(f1))"
      ],
      "execution_count": null,
      "outputs": [
        {
          "output_type": "stream",
          "text": [
            "Accuracy: 0.8074614065180102\n",
            "Precision: 0.813568178924025\n",
            "Recall: 0.8074614065180102\n",
            "f1: 0.8102570399580536\n"
          ],
          "name": "stdout"
        }
      ]
    }
  ]
}