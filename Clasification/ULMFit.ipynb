{
  "nbformat": 4,
  "nbformat_minor": 0,
  "metadata": {
    "colab": {
      "name": "ULMFit.ipynb",
      "provenance": [],
      "toc_visible": true,
      "authorship_tag": "ABX9TyMmFwRYuGkM6YRFVDLF1Zxz",
      "include_colab_link": true
    },
    "kernelspec": {
      "name": "python3",
      "display_name": "Python 3"
    },
    "language_info": {
      "name": "python"
    }
  },
  "cells": [
    {
      "cell_type": "markdown",
      "metadata": {
        "id": "view-in-github",
        "colab_type": "text"
      },
      "source": [
        "<a href=\"https://colab.research.google.com/github/mavillot/FUNSD-Information-Extraction/blob/main/Clasification/ULMFit.ipynb\" target=\"_parent\"><img src=\"https://colab.research.google.com/assets/colab-badge.svg\" alt=\"Open In Colab\"/></a>"
      ]
    },
    {
      "cell_type": "markdown",
      "metadata": {
        "id": "PJ-PQxFY5dcc"
      },
      "source": [
        "# ULMFit\n",
        "\n",
        "In this Notebook we will train a ULMFit transformer-based language model in order to accomplish our text classification task.\n",
        "\n",
        "\n",
        "The first thing we do is to import all the libraries we will be using."
      ]
    },
    {
      "cell_type": "markdown",
      "metadata": {
        "id": "bHo0PcWf6J-j"
      },
      "source": [
        "## Libraries"
      ]
    },
    {
      "cell_type": "code",
      "metadata": {
        "id": "UvFT-NckjIte"
      },
      "source": [
        "import cv2\n",
        "import json\n",
        "import os\n",
        "import re\n",
        "import pandas as pd\n",
        "from pathlib import Path\n",
        "import glob"
      ],
      "execution_count": 1,
      "outputs": []
    },
    {
      "cell_type": "markdown",
      "metadata": {
        "id": "t4XFATXOXh1Z"
      },
      "source": [
        "## Dataset\n",
        "\n",
        "We download the dataset"
      ]
    },
    {
      "cell_type": "code",
      "metadata": {
        "id": "rq-80xfQcvpd"
      },
      "source": [
        "%%capture\n",
        "!wget https://guillaumejaume.github.io/FUNSD/dataset.zip -O dataset.zip\n",
        "!unzip dataset.zip"
      ],
      "execution_count": 2,
      "outputs": []
    },
    {
      "cell_type": "markdown",
      "metadata": {
        "id": "Q8cwN8Z-6yaD"
      },
      "source": [
        "We build a Dataset class for an easy management of the dataset."
      ]
    },
    {
      "cell_type": "code",
      "metadata": {
        "id": "VvqzyEUmjRSU"
      },
      "source": [
        "class Dataset():\n",
        "    def __init__(self, path_anot):\n",
        "        self.path_anot= path_anot\n",
        "\n",
        "    def __iter__(self):\n",
        "      with os.scandir(self.path_anot) as files:\n",
        "        for file in files:\n",
        "          yield file.name\n",
        "    def __len__(self):\n",
        "      i=0\n",
        "      with os.scandir(self.path_anot) as files:\n",
        "        for file in files:\n",
        "          i+=1\n",
        "      return i\n",
        "      "
      ],
      "execution_count": 3,
      "outputs": []
    },
    {
      "cell_type": "markdown",
      "metadata": {
        "id": "ZNQfs-5n61JG"
      },
      "source": [
        "Thanks to our Dataset class we will be able to easily divide our dataset in a train and test set."
      ]
    },
    {
      "cell_type": "code",
      "metadata": {
        "id": "4wiygm2wkOlO"
      },
      "source": [
        "dataset_train=Dataset('dataset/training_data/annotations')\n",
        "dataset_test=Dataset('dataset/testing_data/annotations')"
      ],
      "execution_count": 4,
      "outputs": []
    },
    {
      "cell_type": "code",
      "metadata": {
        "colab": {
          "base_uri": "https://localhost:8080/"
        },
        "id": "he7hQ5MNkhME",
        "outputId": "8f4ffd88-4d29-4258-9ba5-48e7710fc5fc"
      },
      "source": [
        "len(dataset_train)"
      ],
      "execution_count": 5,
      "outputs": [
        {
          "output_type": "execute_result",
          "data": {
            "text/plain": [
              "149"
            ]
          },
          "metadata": {
            "tags": []
          },
          "execution_count": 5
        }
      ]
    },
    {
      "cell_type": "code",
      "metadata": {
        "colab": {
          "base_uri": "https://localhost:8080/"
        },
        "id": "__hCxorF_-oq",
        "outputId": "5a6b2cca-df6b-4a4c-f221-045b38ef27c3"
      },
      "source": [
        "len(dataset_test)"
      ],
      "execution_count": 6,
      "outputs": [
        {
          "output_type": "execute_result",
          "data": {
            "text/plain": [
              "50"
            ]
          },
          "metadata": {
            "tags": []
          },
          "execution_count": 6
        }
      ]
    },
    {
      "cell_type": "markdown",
      "metadata": {
        "id": "ZIRIKFa6k04M"
      },
      "source": [
        "As we can see, there is 149 sentences or text blocks in our train set and 50 in our test set.\n",
        "\n",
        "\n",
        "Now we need to create two lists: one with the labels of each text block and another one with each text block. In order to accomplish this we will need an auxiliary function. This function will return the list of labels and text blocks of a given path.\n",
        "\n"
      ]
    },
    {
      "cell_type": "code",
      "metadata": {
        "id": "Wz1IaWsamLkM"
      },
      "source": [
        "def listTextLabel(path):\n",
        "  anot=json.loads(open(path).read())\n",
        "  txt=[]\n",
        "  lbl=[]\n",
        "  for block in list(anot.values())[0]:\n",
        "    txt.append(block['text'])\n",
        "    lbl.append(block['label'])\n",
        "  return (txt,lbl)"
      ],
      "execution_count": 7,
      "outputs": []
    },
    {
      "cell_type": "markdown",
      "metadata": {
        "id": "SldmaXFV8NzW"
      },
      "source": [
        "The next function return the list of all the text blocks and labels of a given Dataset object."
      ]
    },
    {
      "cell_type": "code",
      "metadata": {
        "id": "GY4mJQk0nbSH"
      },
      "source": [
        "def data_train(dataset):\n",
        "  text=[]\n",
        "  label=[]\n",
        "  for file in dataset:\n",
        "    path=dataset.path_anot +'/'+ file\n",
        "    txt,lbl=listTextLabel(path)\n",
        "    text=text+txt\n",
        "    label=label+lbl\n",
        "  return (text,label)"
      ],
      "execution_count": 8,
      "outputs": []
    },
    {
      "cell_type": "code",
      "metadata": {
        "id": "5flpm1irn_2H"
      },
      "source": [
        "text_train, label_train=data_train(dataset_train)\n",
        "text_test, label_test=data_train(dataset_test)"
      ],
      "execution_count": 9,
      "outputs": []
    },
    {
      "cell_type": "markdown",
      "metadata": {
        "id": "ZUof4l2pEeF0"
      },
      "source": [
        "Preparamos las carpetas"
      ]
    },
    {
      "cell_type": "code",
      "metadata": {
        "id": "YmzrSuntrLgl"
      },
      "source": [
        "folder = 'prepared_dataset'\n",
        "path = Path('prepared_dataset')\n",
        "dest = path\n",
        "dest.mkdir(parents=True,exist_ok=True)"
      ],
      "execution_count": 15,
      "outputs": []
    },
    {
      "cell_type": "code",
      "metadata": {
        "id": "2YI9HZMhD3iE"
      },
      "source": [
        "folder=['train','test','header', 'other','question','answer']\n",
        "Text=[text_train,text_test]\n",
        "Labels=[label_train, label_test]\n",
        "\n",
        "#Creamos los directorios: \n",
        "for i in range (0,2):\n",
        " dest=path/folder[i]\n",
        " dest.mkdir(parents=True,exist_ok=True)\n",
        " for j in range(2,6):\n",
        "   dest1=dest/folder[j]\n",
        "   dest1.mkdir(parents=True,exist_ok=True)\n",
        "\n",
        "#Creamos los ficheros\n",
        "for i in range (2):\n",
        "  dest=path/folder[i]\n",
        "  lbl=Labels[i]\n",
        "  j=0\n",
        "  for k in range(len(lbl)):\n",
        "    dest1=dest/lbl[k]\n",
        "    filename=str(j)+'.txt'\n",
        "    file = open(dest1/filename, \"w\")\n",
        "    file.write(Text[i][k])\n",
        "    file. close()\n",
        "    j+=1"
      ],
      "execution_count": 17,
      "outputs": []
    },
    {
      "cell_type": "code",
      "metadata": {
        "colab": {
          "base_uri": "https://localhost:8080/"
        },
        "id": "_AnKyUGvLKg9",
        "outputId": "b00656ef-1936-4ba3-8641-74cf4a91cc14"
      },
      "source": [
        " for i in range (0,2):\n",
        "   dest=path/folder[i]\n",
        "   n=0\n",
        "   for j in range(2,6):\n",
        "      n1= len(glob.glob('prepared_dataset/'+folder[i]+'/'+folder[j]+'/*.txt'))\n",
        "      n= n + n1\n",
        "      print('Number of ' + folder[j] +' in the '+ folder[i]+ ' set: '  + \n",
        "            str(n1))\n",
        "   print('Total number in the '+ folder[i]+ ' set:'+ str(n)+ '\\n')   "
      ],
      "execution_count": 18,
      "outputs": [
        {
          "output_type": "stream",
          "text": [
            "Number of header in the train set: 441\n",
            "Number of other in the train set: 902\n",
            "Number of question in the train set: 3266\n",
            "Number of answer in the train set: 2802\n",
            "Total number in the train set:7411\n",
            "\n",
            "Number of header in the test set: 122\n",
            "Number of other in the test set: 312\n",
            "Number of question in the test set: 1077\n",
            "Number of answer in the test set: 821\n",
            "Total number in the test set:2332\n",
            "\n"
          ],
          "name": "stdout"
        }
      ]
    },
    {
      "cell_type": "markdown",
      "metadata": {
        "id": "-RzY48inzXL-"
      },
      "source": [
        "Once we have all our dataset prepared, we are ready to build our text classifier. We are going to follow a process called [ULMFit](https://arxiv.org/abs/1801.06146) that consist of 3 steps:"
      ]
    },
    {
      "cell_type": "markdown",
      "metadata": {
        "id": "AOhxDPLSzXL_"
      },
      "source": [
        "<img alt=\"Diagram of the ULMFiT process\" width=\"700\" caption=\"The ULMFiT process\" id=\"ulmfit_process\" src=\"https://github.com/joheras/fastbook/blob/master/images/att_00027.png?raw=1\">"
      ]
    },
    {
      "cell_type": "markdown",
      "metadata": {
        "id": "nm2AHqMmzXMB"
      },
      "source": [
        "The first thing of all is that we need a **language model** trained with a dataset big enough, in our case the Wikipedia. This model serves to know the fundamentals of the language with which we are working. However, when building a classification model, it is convenient that the model understands the style used to write these texts. This style can be more informal or more technical than the content on Wikipedia. In the case of the IMDb dataset, it will contain a large number of names of directors, actors, and also the writing style is more informal than the texts that appear in Wikipedia. Therefore, from the Wikipedia language model we will train a **language model for IMDb**, and from that language model we will build our **classifier**.\n",
        "\n",
        "\n",
        "Fortunately, the FastAI library already provides a language model for Wikipedia (building these types of models can take days), so we can focus on the other two steps."
      ]
    },
    {
      "cell_type": "markdown",
      "metadata": {
        "id": "q5py5V1nXen8"
      },
      "source": [
        "# 1.Language model\n",
        "\n",
        "Before we create our language model for the IMDB dataset (or any other dataset), we need to process it. This process will consist of 4 steps:\n",
        "\n",
        "1. **Tokenization**: convert the text into a list of words (or characters or n-grams depending on the level of granularity you want to obtain).\n",
        "\n",
        "2. **Numericalization**: build a list of all the words that appear in the dataset (the vocabulary), and convert each word into a number by looking at the index it occupies in the vocabulary. This representation is an alternative to the one-hot encoding that we saw in class.\n",
        "\n",
        "3. **Organize the dataset**: to train a model we must define which will be our inputs and which will be our outputs. For this type of models the input is one word of the text, and the output is the next word of the text. Therefore, our \"X\" will be the text sequence from the first word to the penultimate, and the \"Y\" will be the text sequence from the second word to the last.\n",
        "\n",
        "4. **Build the language model**: for this we will use a recurring network."
      ]
    },
    {
      "cell_type": "code",
      "metadata": {
        "id": "VqvTFwKFEy2L"
      },
      "source": [
        "%%capture\n",
        "!pip install fastai2"
      ],
      "execution_count": 19,
      "outputs": []
    },
    {
      "cell_type": "code",
      "metadata": {
        "id": "UruPr7K5RDJi"
      },
      "source": [
        "%%capture\n",
        "! [ -e /content ] && pip install -Uqq fastai  "
      ],
      "execution_count": 20,
      "outputs": []
    },
    {
      "cell_type": "code",
      "metadata": {
        "id": "xCQNa5PuK7nl"
      },
      "source": [
        "from fastai.text.all import *"
      ],
      "execution_count": 21,
      "outputs": []
    },
    {
      "cell_type": "markdown",
      "metadata": {
        "id": "HYfFbylRQfAT"
      },
      "source": [
        "## 1. Tokenization\n",
        "\n",
        "Convert the text into a list of words"
      ]
    },
    {
      "cell_type": "code",
      "metadata": {
        "id": "T2rp0qJNK7lE"
      },
      "source": [
        "files = get_text_files(path, folders = ['train', 'test'])"
      ],
      "execution_count": 22,
      "outputs": []
    },
    {
      "cell_type": "code",
      "metadata": {
        "colab": {
          "base_uri": "https://localhost:8080/",
          "height": 35
        },
        "id": "CzCVqhoTK7iV",
        "outputId": "2585c856-3b4e-423a-e28e-1effa5091fcc"
      },
      "source": [
        "txt = files[1].open().read(); \n",
        "txt"
      ],
      "execution_count": 23,
      "outputs": [
        {
          "output_type": "execute_result",
          "data": {
            "application/vnd.google.colaboratory.intrinsic+json": {
              "type": "string"
            },
            "text/plain": [
              "'Suggested Solutions (s) :'"
            ]
          },
          "metadata": {
            "tags": []
          },
          "execution_count": 23
        }
      ]
    },
    {
      "cell_type": "code",
      "metadata": {
        "id": "gUAg8O62K7fw"
      },
      "source": [
        "wt = WordTokenizer()\n",
        "tkn = Tokenizer(wt)"
      ],
      "execution_count": 24,
      "outputs": []
    },
    {
      "cell_type": "code",
      "metadata": {
        "colab": {
          "base_uri": "https://localhost:8080/"
        },
        "id": "Y0K53IhuK7dG",
        "outputId": "ee58333f-3158-4c34-89a8-f761a4b2b8d3"
      },
      "source": [
        "first(wt([txt]))"
      ],
      "execution_count": 25,
      "outputs": [
        {
          "output_type": "execute_result",
          "data": {
            "text/plain": [
              "(#6) ['Suggested','Solutions','(','s',')',':']"
            ]
          },
          "metadata": {
            "tags": []
          },
          "execution_count": 25
        }
      ]
    },
    {
      "cell_type": "code",
      "metadata": {
        "colab": {
          "base_uri": "https://localhost:8080/",
          "height": 35
        },
        "id": "2_ucCDCiK7ac",
        "outputId": "9dd1d904-85bd-4358-d242-f663958093f4"
      },
      "source": [
        "coll_repr(tkn(txt),10)"
      ],
      "execution_count": 26,
      "outputs": [
        {
          "output_type": "execute_result",
          "data": {
            "application/vnd.google.colaboratory.intrinsic+json": {
              "type": "string"
            },
            "text/plain": [
              "\"(#9) ['xxbos','xxmaj','suggested','xxmaj','solutions','(','s',')',':']\""
            ]
          },
          "metadata": {
            "tags": []
          },
          "execution_count": 26
        }
      ]
    },
    {
      "cell_type": "markdown",
      "metadata": {
        "id": "xVZO9lwRRnkA"
      },
      "source": [
        "## 2. Numericalization\n",
        "\n",
        "\n",
        "The numericalization consists of assigning each token an identifier. To do this, you have to:\n",
        "\n",
        "- Create a list with all the tokens (the vocabulary)\n",
        "- Replace each token with its position in the vocabulary.\n",
        "\n",
        "In the FastAI library this is done using the `Numericalize` class. To carry out the first step we must build our vocabulary (using the first 200 sentences of our dataset)."
      ]
    },
    {
      "cell_type": "code",
      "metadata": {
        "id": "1NLjY0gqRk0I"
      },
      "source": [
        "txts = L(o.open().read() for o in files[:2000])\n",
        "toks200 = txts[:200].map(tkn)\n",
        "num = Numericalize()\n",
        "num.setup(toks200)"
      ],
      "execution_count": 27,
      "outputs": []
    },
    {
      "cell_type": "markdown",
      "metadata": {
        "id": "2R-S-23GEGBG"
      },
      "source": [
        "We can see the first 20 elements of our vocabulary as follows."
      ]
    },
    {
      "cell_type": "code",
      "metadata": {
        "colab": {
          "base_uri": "https://localhost:8080/",
          "height": 52
        },
        "id": "bYLvT9xgRkxP",
        "outputId": "18844b0c-7f55-4970-fbb9-6b063cffd2d5"
      },
      "source": [
        "coll_repr(num.vocab,20)"
      ],
      "execution_count": 28,
      "outputs": [
        {
          "output_type": "execute_result",
          "data": {
            "application/vnd.google.colaboratory.intrinsic+json": {
              "type": "string"
            },
            "text/plain": [
              "\"(#48) ['xxunk','xxpad','xxbos','xxeos','xxfld','xxrep','xxwrep','xxup','xxmaj',':',')','.','(','date','of','☐','no','/','-','by'...]\""
            ]
          },
          "metadata": {
            "tags": []
          },
          "execution_count": 28
        }
      ]
    },
    {
      "cell_type": "code",
      "metadata": {
        "id": "0Bzm2FZHDgQL",
        "colab": {
          "base_uri": "https://localhost:8080/"
        },
        "outputId": "6dec54e6-5b11-4c91-f036-0d02ccac5214"
      },
      "source": [
        "toks = tkn(txt)\n",
        "print(coll_repr(tkn(txt), 31))\n",
        "nums = num(toks)[:20]\n",
        "nums"
      ],
      "execution_count": 29,
      "outputs": [
        {
          "output_type": "stream",
          "text": [
            "(#9) ['xxbos','xxmaj','suggested','xxmaj','solutions','(','s',')',':']\n"
          ],
          "name": "stdout"
        },
        {
          "output_type": "execute_result",
          "data": {
            "text/plain": [
              "TensorText([ 2,  8,  0,  8,  0, 12, 26, 10,  9])"
            ]
          },
          "metadata": {
            "tags": []
          },
          "execution_count": 29
        }
      ]
    },
    {
      "cell_type": "markdown",
      "metadata": {
        "id": "2YENvJiKETrA"
      },
      "source": [
        "We also have the inverse operation that converts numbers to words."
      ]
    },
    {
      "cell_type": "code",
      "metadata": {
        "id": "spTJQnnoDFQV",
        "colab": {
          "base_uri": "https://localhost:8080/",
          "height": 35
        },
        "outputId": "92bd604e-3d81-4edb-e514-2a9f50c9181e"
      },
      "source": [
        "' '.join(num.vocab[o] for o in nums)"
      ],
      "execution_count": 30,
      "outputs": [
        {
          "output_type": "execute_result",
          "data": {
            "application/vnd.google.colaboratory.intrinsic+json": {
              "type": "string"
            },
            "text/plain": [
              "'xxbos xxmaj xxunk xxmaj xxunk ( s ) :'"
            ]
          },
          "metadata": {
            "tags": []
          },
          "execution_count": 30
        }
      ]
    },
    {
      "cell_type": "markdown",
      "metadata": {
        "id": "2HkmFJLvKuxL"
      },
      "source": [
        "## 3. Organize the dataset"
      ]
    },
    {
      "cell_type": "markdown",
      "metadata": {
        "id": "CgbSxibWKlFf"
      },
      "source": [
        "As we have mentioned previously, the \"X\" of our dataset will be the sequence of words (transformed to numbers) from the first to the penultimate word of the dataset, and the \"Y\" is the sequence of words from the second to the last. This is carried out through an object of the LMDataLoader class that receives as a parameter the tokens of our dataset converted to numbers."
      ]
    },
    {
      "cell_type": "code",
      "metadata": {
        "id": "Oo7E5FD_SJP0"
      },
      "source": [
        "nums200 = toks200.map(num)\n",
        "dl = LMDataLoader(nums200)"
      ],
      "execution_count": 31,
      "outputs": []
    },
    {
      "cell_type": "markdown",
      "metadata": {
        "id": "0joqqA0mDrcI"
      },
      "source": [
        "In addition, the object that we have just built breaks the text into blocks of size 64 that will be used to train the language model."
      ]
    },
    {
      "cell_type": "code",
      "metadata": {
        "id": "62KMontgSUMi",
        "colab": {
          "base_uri": "https://localhost:8080/"
        },
        "outputId": "f5e3cc0f-59a5-4f28-bfca-3c6a0912c081"
      },
      "source": [
        "x,y = first(dl)\n",
        "x.shape,y.shape"
      ],
      "execution_count": 32,
      "outputs": [
        {
          "output_type": "execute_result",
          "data": {
            "text/plain": [
              "(torch.Size([64, 18]), torch.Size([64, 18]))"
            ]
          },
          "metadata": {
            "tags": []
          },
          "execution_count": 32
        }
      ]
    },
    {
      "cell_type": "markdown",
      "metadata": {
        "id": "T6RN0xY8DxCN"
      },
      "source": [
        "We can see that block \"X\" contains a sequence of size 64, and block \"Y\" contains a sequence shifted by a token."
      ]
    },
    {
      "cell_type": "code",
      "metadata": {
        "id": "RY0jwnQdSbW0",
        "colab": {
          "base_uri": "https://localhost:8080/"
        },
        "outputId": "a073d63b-24c8-4a0b-9d47-2055a4aef888"
      },
      "source": [
        "print(' '.join(num.vocab[o] for o in x[0][:20]))\n",
        "print(' '.join(num.vocab[o] for o in y[0][:20]))"
      ],
      "execution_count": 33,
      "outputs": [
        {
          "output_type": "stream",
          "text": [
            "xxbos xxup xxunk xxup xxunk xxup xxunk xxbos xxmaj xxunk xxmaj xxunk ( s ) : xxbos xxmaj\n",
            "xxup xxunk xxup xxunk xxup xxunk xxbos xxmaj xxunk xxmaj xxunk ( s ) : xxbos xxmaj xxunk\n"
          ],
          "name": "stdout"
        }
      ]
    },
    {
      "cell_type": "markdown",
      "metadata": {
        "id": "8skm-C8nTxYW"
      },
      "source": [
        "## 4. Build the language model\n",
        " To create a language model in FastAI we have to:\n",
        "\n",
        "1.   Load the data\n",
        "2.   Fine tuning the model"
      ]
    },
    {
      "cell_type": "markdown",
      "metadata": {
        "id": "Iwslma3lUWmP"
      },
      "source": [
        "### 1.Load the data\n",
        "\n",
        "To load the data we use the `DataBlock` class as follows."
      ]
    },
    {
      "cell_type": "code",
      "metadata": {
        "id": "7Y95316wUFo2",
        "colab": {
          "base_uri": "https://localhost:8080/",
          "height": 0
        },
        "outputId": "f2b65ad4-549e-466d-ddd6-158c3d00316e"
      },
      "source": [
        "get_imdb = partial(get_text_files, folders=['train', 'test'])\n",
        "\n",
        "dls_lm = DataBlock(\n",
        "    blocks=TextBlock.from_folder(path, is_lm=True),\n",
        "    get_items=get_imdb, splitter=RandomSplitter(0.1)\n",
        ").dataloaders(path, path=path, bs=128, seq_len=80)"
      ],
      "execution_count": 34,
      "outputs": [
        {
          "output_type": "display_data",
          "data": {
            "text/html": [
              ""
            ],
            "text/plain": [
              "<IPython.core.display.HTML object>"
            ]
          },
          "metadata": {
            "tags": []
          }
        }
      ]
    },
    {
      "cell_type": "code",
      "metadata": {
        "id": "7Ta4DdCQUa4W",
        "colab": {
          "base_uri": "https://localhost:8080/",
          "height": 0
        },
        "outputId": "9ead8537-ebb1-4cc2-e084-b2f85f6d5f02"
      },
      "source": [
        "dls_lm.show_batch(max_n=2)"
      ],
      "execution_count": 35,
      "outputs": [
        {
          "output_type": "display_data",
          "data": {
            "text/html": [
              "<table border=\"1\" class=\"dataframe\">\n",
              "  <thead>\n",
              "    <tr style=\"text-align: right;\">\n",
              "      <th></th>\n",
              "      <th>text</th>\n",
              "      <th>text_</th>\n",
              "    </tr>\n",
              "  </thead>\n",
              "  <tbody>\n",
              "    <tr>\n",
              "      <th>0</th>\n",
              "      <td>xxbos ☐ xxup signage xxbos 10 ) xxbos xxup in xxup xxunk xxup xxunk i have xxunk my hand and xxunk the day and year xxunk . xxbos xxmaj certified xxmaj mail xxbos xxunk xxunk xxbos xxup dir . xxup of xxup xxunk xxup sciences xxup health xxup services xxup compound xxup prep ( tox ) xxup scientific xxup res xxup tox xxbos xxmaj xxunk xxmaj cork xxbos xxup t. xxup d. xxmaj xxunk xxbos xxup true xxbos xxbos (</td>\n",
              "      <td>☐ xxup signage xxbos 10 ) xxbos xxup in xxup xxunk xxup xxunk i have xxunk my hand and xxunk the day and year xxunk . xxbos xxmaj certified xxmaj mail xxbos xxunk xxunk xxbos xxup dir . xxup of xxup xxunk xxup sciences xxup health xxup services xxup compound xxup prep ( tox ) xxup scientific xxup res xxup tox xxbos xxmaj xxunk xxmaj cork xxbos xxup t. xxup d. xxmaj xxunk xxbos xxup true xxbos xxbos ( report</td>\n",
              "    </tr>\n",
              "    <tr>\n",
              "      <th>1</th>\n",
              "      <td>xxmaj xxunk xxbos xxup date xxbos 100 . 00 % xxbos xxup sponsor 's xxup name : xxbos xxup merchandising xxup manager xxbos xxmaj page 1 of 3 xxmaj pages xxbos xxup recommendation : xxbos xxup quantity xxbos 32 xxbos xxup brand xxup name : xxbos xxup date xxbos xxunk g / 100 xxbos * jobber / xxmaj membership xxbos xxmaj adjustment xxbos xxmaj xxunk xxbos xxmaj brand(s ) xxbos xxup xxunk ☐ xxbos $ 212 , 475 + 10</td>\n",
              "      <td>xxunk xxbos xxup date xxbos 100 . 00 % xxbos xxup sponsor 's xxup name : xxbos xxup merchandising xxup manager xxbos xxmaj page 1 of 3 xxmaj pages xxbos xxup recommendation : xxbos xxup quantity xxbos 32 xxbos xxup brand xxup name : xxbos xxup date xxbos xxunk g / 100 xxbos * jobber / xxmaj membership xxbos xxmaj adjustment xxbos xxmaj xxunk xxbos xxmaj brand(s ) xxbos xxup xxunk ☐ xxbos $ 212 , 475 + 10 %</td>\n",
              "    </tr>\n",
              "  </tbody>\n",
              "</table>"
            ],
            "text/plain": [
              "<IPython.core.display.HTML object>"
            ]
          },
          "metadata": {
            "tags": []
          }
        }
      ]
    },
    {
      "cell_type": "markdown",
      "metadata": {
        "id": "cgNKGDgKUxHa"
      },
      "source": [
        "# 2. Fine tuning the language model"
      ]
    },
    {
      "cell_type": "code",
      "metadata": {
        "id": "UsrCz1SjKFBG"
      },
      "source": [
        "learn = language_model_learner(\n",
        "    dls_lm, AWD_LSTM, drop_mult=0.3, \n",
        "    metrics=[accuracy,Perplexity()]).to_fp16()"
      ],
      "execution_count": null,
      "outputs": []
    },
    {
      "cell_type": "code",
      "metadata": {
        "colab": {
          "base_uri": "https://localhost:8080/",
          "height": 80
        },
        "id": "KH4kumH0KFBI",
        "outputId": "c424985a-ad77-4bff-da32-815762a2a91f"
      },
      "source": [
        "learn.fit_one_cycle(1, 2e-2)"
      ],
      "execution_count": null,
      "outputs": [
        {
          "output_type": "display_data",
          "data": {
            "text/html": [
              "<table border=\"1\" class=\"dataframe\">\n",
              "  <thead>\n",
              "    <tr style=\"text-align: left;\">\n",
              "      <th>epoch</th>\n",
              "      <th>train_loss</th>\n",
              "      <th>valid_loss</th>\n",
              "      <th>accuracy</th>\n",
              "      <th>perplexity</th>\n",
              "      <th>time</th>\n",
              "    </tr>\n",
              "  </thead>\n",
              "  <tbody>\n",
              "    <tr>\n",
              "      <td>0</td>\n",
              "      <td>5.015824</td>\n",
              "      <td>4.172293</td>\n",
              "      <td>0.272536</td>\n",
              "      <td>64.863998</td>\n",
              "      <td>00:04</td>\n",
              "    </tr>\n",
              "  </tbody>\n",
              "</table>"
            ],
            "text/plain": [
              "<IPython.core.display.HTML object>"
            ]
          },
          "metadata": {
            "tags": []
          }
        }
      ]
    },
    {
      "cell_type": "code",
      "metadata": {
        "colab": {
          "base_uri": "https://localhost:8080/",
          "height": 300
        },
        "id": "GqZzgzU9KFBK",
        "outputId": "cec3179b-5939-4623-d0c1-08d6738b2302"
      },
      "source": [
        "learn.unfreeze()\n",
        "learn.lr_find()"
      ],
      "execution_count": null,
      "outputs": [
        {
          "output_type": "display_data",
          "data": {
            "text/html": [
              ""
            ],
            "text/plain": [
              "<IPython.core.display.HTML object>"
            ]
          },
          "metadata": {
            "tags": []
          }
        },
        {
          "output_type": "execute_result",
          "data": {
            "text/plain": [
              "SuggestedLRs(lr_min=0.003981071710586548, lr_steep=0.015848932787775993)"
            ]
          },
          "metadata": {
            "tags": []
          },
          "execution_count": 115
        },
        {
          "output_type": "display_data",
          "data": {
            "image/png": "[encoded data removed]",
            "text/plain": [
              "<Figure size 432x288 with 1 Axes>"
            ]
          },
          "metadata": {
            "tags": [],
            "needs_background": "light"
          }
        }
      ]
    },
    {
      "cell_type": "code",
      "metadata": {
        "colab": {
          "base_uri": "https://localhost:8080/",
          "height": 514
        },
        "id": "gipy3uzyKFBK",
        "outputId": "dcb5e940-8cf5-4bf2-9184-db4e74577722"
      },
      "source": [
        "learn.fit_one_cycle(15, 1e-3)"
      ],
      "execution_count": null,
      "outputs": [
        {
          "output_type": "display_data",
          "data": {
            "text/html": [
              "<table border=\"1\" class=\"dataframe\">\n",
              "  <thead>\n",
              "    <tr style=\"text-align: left;\">\n",
              "      <th>epoch</th>\n",
              "      <th>train_loss</th>\n",
              "      <th>valid_loss</th>\n",
              "      <th>accuracy</th>\n",
              "      <th>perplexity</th>\n",
              "      <th>time</th>\n",
              "    </tr>\n",
              "  </thead>\n",
              "  <tbody>\n",
              "    <tr>\n",
              "      <td>0</td>\n",
              "      <td>4.171875</td>\n",
              "      <td>3.835563</td>\n",
              "      <td>0.311599</td>\n",
              "      <td>46.319508</td>\n",
              "      <td>00:04</td>\n",
              "    </tr>\n",
              "    <tr>\n",
              "      <td>1</td>\n",
              "      <td>3.894583</td>\n",
              "      <td>3.488459</td>\n",
              "      <td>0.364784</td>\n",
              "      <td>32.735466</td>\n",
              "      <td>00:04</td>\n",
              "    </tr>\n",
              "    <tr>\n",
              "      <td>2</td>\n",
              "      <td>3.759853</td>\n",
              "      <td>3.456904</td>\n",
              "      <td>0.360126</td>\n",
              "      <td>31.718636</td>\n",
              "      <td>00:04</td>\n",
              "    </tr>\n",
              "    <tr>\n",
              "      <td>3</td>\n",
              "      <td>3.637913</td>\n",
              "      <td>3.214082</td>\n",
              "      <td>0.397837</td>\n",
              "      <td>24.880453</td>\n",
              "      <td>00:04</td>\n",
              "    </tr>\n",
              "    <tr>\n",
              "      <td>4</td>\n",
              "      <td>3.500756</td>\n",
              "      <td>3.112519</td>\n",
              "      <td>0.405950</td>\n",
              "      <td>22.477600</td>\n",
              "      <td>00:04</td>\n",
              "    </tr>\n",
              "    <tr>\n",
              "      <td>5</td>\n",
              "      <td>3.383809</td>\n",
              "      <td>3.049775</td>\n",
              "      <td>0.411358</td>\n",
              "      <td>21.110596</td>\n",
              "      <td>00:04</td>\n",
              "    </tr>\n",
              "    <tr>\n",
              "      <td>6</td>\n",
              "      <td>3.278821</td>\n",
              "      <td>2.995491</td>\n",
              "      <td>0.425481</td>\n",
              "      <td>19.995171</td>\n",
              "      <td>00:04</td>\n",
              "    </tr>\n",
              "    <tr>\n",
              "      <td>7</td>\n",
              "      <td>3.183629</td>\n",
              "      <td>2.957515</td>\n",
              "      <td>0.432993</td>\n",
              "      <td>19.250086</td>\n",
              "      <td>00:04</td>\n",
              "    </tr>\n",
              "    <tr>\n",
              "      <td>8</td>\n",
              "      <td>3.098630</td>\n",
              "      <td>2.937519</td>\n",
              "      <td>0.434495</td>\n",
              "      <td>18.868971</td>\n",
              "      <td>00:04</td>\n",
              "    </tr>\n",
              "    <tr>\n",
              "      <td>9</td>\n",
              "      <td>3.019623</td>\n",
              "      <td>2.911450</td>\n",
              "      <td>0.438101</td>\n",
              "      <td>18.383434</td>\n",
              "      <td>00:04</td>\n",
              "    </tr>\n",
              "    <tr>\n",
              "      <td>10</td>\n",
              "      <td>2.949313</td>\n",
              "      <td>2.900632</td>\n",
              "      <td>0.441707</td>\n",
              "      <td>18.185642</td>\n",
              "      <td>00:04</td>\n",
              "    </tr>\n",
              "    <tr>\n",
              "      <td>11</td>\n",
              "      <td>2.885898</td>\n",
              "      <td>2.892634</td>\n",
              "      <td>0.442608</td>\n",
              "      <td>18.040760</td>\n",
              "      <td>00:04</td>\n",
              "    </tr>\n",
              "    <tr>\n",
              "      <td>12</td>\n",
              "      <td>2.830297</td>\n",
              "      <td>2.890014</td>\n",
              "      <td>0.443059</td>\n",
              "      <td>17.993568</td>\n",
              "      <td>00:04</td>\n",
              "    </tr>\n",
              "    <tr>\n",
              "      <td>13</td>\n",
              "      <td>2.781309</td>\n",
              "      <td>2.888090</td>\n",
              "      <td>0.441557</td>\n",
              "      <td>17.958982</td>\n",
              "      <td>00:04</td>\n",
              "    </tr>\n",
              "    <tr>\n",
              "      <td>14</td>\n",
              "      <td>2.740261</td>\n",
              "      <td>2.887292</td>\n",
              "      <td>0.442157</td>\n",
              "      <td>17.944656</td>\n",
              "      <td>00:04</td>\n",
              "    </tr>\n",
              "  </tbody>\n",
              "</table>"
            ],
            "text/plain": [
              "<IPython.core.display.HTML object>"
            ]
          },
          "metadata": {
            "tags": []
          }
        }
      ]
    },
    {
      "cell_type": "code",
      "metadata": {
        "id": "dZq8XqIVXnfY"
      },
      "source": [
        "learn.save_encoder('finetuned')"
      ],
      "execution_count": null,
      "outputs": []
    },
    {
      "cell_type": "markdown",
      "metadata": {
        "id": "ra6Z6rn3YJQY"
      },
      "source": [
        "# 3. Classifier\n",
        "\n",
        "The process for creating a text classifier is very similar to what we have followed to create a language model.\n",
        "\n",
        "First we have to load the data. We do this in the following way.\n",
        "\n",
        "\n"
      ]
    },
    {
      "cell_type": "code",
      "metadata": {
        "id": "IIRZr_2fYRWi"
      },
      "source": [
        "dls_clas = DataBlock(\n",
        "    blocks=(TextBlock.from_folder(path, vocab=dls_lm.vocab),CategoryBlock),\n",
        "    get_y = parent_label,\n",
        "    get_items=partial(get_text_files, folders=['train', 'test']),\n",
        "    splitter=GrandparentSplitter(valid_name='test')\n",
        ").dataloaders(path, path=path, bs=128, seq_len=72)"
      ],
      "execution_count": null,
      "outputs": []
    },
    {
      "cell_type": "markdown",
      "metadata": {
        "id": "0n0GwlqyHl3E"
      },
      "source": [
        "We can see one of the batches that is generated with the previous `DataBlock` as follows."
      ]
    },
    {
      "cell_type": "code",
      "metadata": {
        "id": "xasr_XuVYlHZ",
        "colab": {
          "base_uri": "https://localhost:8080/",
          "height": 431
        },
        "outputId": "4c971a42-fcdc-46a5-a2c6-53ebd73a280c"
      },
      "source": [
        "dls_clas.show_batch(max_n=3)"
      ],
      "execution_count": null,
      "outputs": [
        {
          "output_type": "display_data",
          "data": {
            "text/html": [
              "<table border=\"1\" class=\"dataframe\">\n",
              "  <thead>\n",
              "    <tr style=\"text-align: right;\">\n",
              "      <th></th>\n",
              "      <th>text</th>\n",
              "      <th>category</th>\n",
              "    </tr>\n",
              "  </thead>\n",
              "  <tbody>\n",
              "    <tr>\n",
              "      <th>0</th>\n",
              "      <td>xxbos xxup this xxup facsimile xxup transmission xxup is xxup intended xxup only xxup for xxup the xxup addressee xxup shown xxup below . xxup it xxup may xxup contain xxup information xxup that xxup is xxup privileged , xxup confidential xxup or xxup other xxup xxunk xxup protected xxup from xxup disclosure . xxup any xxup review , xxup dissemination xxup or xxup use xxup of xxup this xxup transmission xxup or xxup its xxup xxunk xxup by xxup persons xxup other xxup than xxup the xxup addressee xxup is xxup strictly xxup prohibited . xxup of xxup you xxup have xxup received xxup this xxup transmission xxup in xxup error , xxup please xxup notify xxup immediately xxup by xxup xxunk xxup and xxup mail xxup the xxup original xxup to xxup us xxup at xxup the xxup above xxup address .</td>\n",
              "      <td>other</td>\n",
              "    </tr>\n",
              "    <tr>\n",
              "      <th>1</th>\n",
              "      <td>xxbos xxmaj the xxmaj cigarette xxmaj test xxmaj station ( xxunk ) xxunk xxunk of the xxunk xxunk xxunk that xxup r&amp;d currently xxunk to xxunk cigarette weight , pressure drop , ventilation , and xxunk into one xxunk xxunk . xxmaj the xxup xxunk has the additional xxunk of cigarette xxunk in xxunk with the xxup xxunk . xxmaj with this added , xxunk xxup r&amp;d will be xxunk to xxunk the xxmaj firmness xxmaj xxunk that xxunk cigarette firmness in addition to other xxunk that are xxunk above . xxmaj the xxmaj firmness xxmaj xxunk is no xxunk xxunk and parts are xxunk difficult to obtain . xxmaj xxunk , purchase of this xxunk would provide xxunk xxunk as the xxmaj macon xxmaj plant and xxunk xxunk xxunk between laboratories .</td>\n",
              "      <td>answer</td>\n",
              "    </tr>\n",
              "    <tr>\n",
              "      <th>2</th>\n",
              "      <td>xxbos xxmaj this is your authorization to provide the \" xxunk : xxmaj the xxmaj effect of xxmaj inhalation of xxmaj reference and xxmaj test ( xxunk and xxup xxunk ) xxmaj cigarette xxmaj smoke on xxmaj two xxmaj xxunk xxmaj xxunk in xxmaj mice : xxmaj chromosome xxmaj xxunk and xxmaj xxunk xxmaj xxunk xxmaj xxunk \" test for a fixed price of $ xxunk xxmaj tests will be performed in accordance with the xxmaj december 21 , 1981 formal agreement between xxmaj xxunk xxmaj associates and xxmaj lorillard . xxmaj all work is to be coordinated with our xxmaj dr . xxmaj xxunk xxmaj minnemeyer ( 919 ) 373 - xxunk</td>\n",
              "      <td>answer</td>\n",
              "    </tr>\n",
              "  </tbody>\n",
              "</table>"
            ],
            "text/plain": [
              "<IPython.core.display.HTML object>"
            ]
          },
          "metadata": {
            "tags": []
          }
        }
      ]
    },
    {
      "cell_type": "markdown",
      "metadata": {
        "id": "nWrJamBNHr8r"
      },
      "source": [
        "\n",
        "Now we move on to building our `Learner` in a similar way as we did previously."
      ]
    },
    {
      "cell_type": "code",
      "metadata": {
        "id": "2I3KGnoyYrSD"
      },
      "source": [
        "learn = text_classifier_learner(dls_clas, AWD_LSTM, drop_mult=0.5, \n",
        "                                metrics=accuracy).to_fp16()"
      ],
      "execution_count": null,
      "outputs": []
    },
    {
      "cell_type": "markdown",
      "metadata": {
        "id": "_QQ1rAubINBp"
      },
      "source": [
        "Before starting to train it, we must load the *encoder* that we saved previously."
      ]
    },
    {
      "cell_type": "code",
      "metadata": {
        "id": "ho1Ip_qtYuXi"
      },
      "source": [
        "learn = learn.load_encoder('finetuned')"
      ],
      "execution_count": null,
      "outputs": []
    },
    {
      "cell_type": "markdown",
      "metadata": {
        "id": "xxQ7CVsiIz8t"
      },
      "source": [
        "We look for the best learning rate"
      ]
    },
    {
      "cell_type": "code",
      "metadata": {
        "id": "VmZIYmnQ0CT7",
        "colab": {
          "base_uri": "https://localhost:8080/",
          "height": 300
        },
        "outputId": "f96c7f69-c5ab-4a1a-e51b-66c71ba6f27b"
      },
      "source": [
        "learn.lr_find()"
      ],
      "execution_count": null,
      "outputs": [
        {
          "output_type": "display_data",
          "data": {
            "text/html": [
              ""
            ],
            "text/plain": [
              "<IPython.core.display.HTML object>"
            ]
          },
          "metadata": {
            "tags": []
          }
        },
        {
          "output_type": "execute_result",
          "data": {
            "text/plain": [
              "SuggestedLRs(lr_min=0.04365158379077912, lr_steep=0.0014454397605732083)"
            ]
          },
          "metadata": {
            "tags": []
          },
          "execution_count": 123
        },
        {
          "output_type": "display_data",
          "data": {
            "image/png": "[encoded data removed]",
            "text/plain": [
              "<Figure size 432x288 with 1 Axes>"
            ]
          },
          "metadata": {
            "tags": [],
            "needs_background": "light"
          }
        }
      ]
    },
    {
      "cell_type": "markdown",
      "metadata": {
        "id": "H3jQtM4xIuab"
      },
      "source": [
        "Now we can train our classifier. We start by training only the last layer."
      ]
    },
    {
      "cell_type": "code",
      "metadata": {
        "id": "udgn-zQ2YyVU",
        "colab": {
          "base_uri": "https://localhost:8080/",
          "height": 80
        },
        "outputId": "d9ed9bb8-d8dc-4c52-d716-d533d8176595"
      },
      "source": [
        "learn.fit_one_cycle(1, 1e-2)"
      ],
      "execution_count": null,
      "outputs": [
        {
          "output_type": "display_data",
          "data": {
            "text/html": [
              "<table border=\"1\" class=\"dataframe\">\n",
              "  <thead>\n",
              "    <tr style=\"text-align: left;\">\n",
              "      <th>epoch</th>\n",
              "      <th>train_loss</th>\n",
              "      <th>valid_loss</th>\n",
              "      <th>accuracy</th>\n",
              "      <th>time</th>\n",
              "    </tr>\n",
              "  </thead>\n",
              "  <tbody>\n",
              "    <tr>\n",
              "      <td>0</td>\n",
              "      <td>1.032125</td>\n",
              "      <td>0.815963</td>\n",
              "      <td>0.704545</td>\n",
              "      <td>00:09</td>\n",
              "    </tr>\n",
              "  </tbody>\n",
              "</table>"
            ],
            "text/plain": [
              "<IPython.core.display.HTML object>"
            ]
          },
          "metadata": {
            "tags": []
          }
        }
      ]
    },
    {
      "cell_type": "markdown",
      "metadata": {
        "id": "_5jFyNJ7I6pk"
      },
      "source": [
        "Now we unfreeze two layers and look for the best learning rate."
      ]
    },
    {
      "cell_type": "code",
      "metadata": {
        "id": "fTP7NRVB2ArL",
        "colab": {
          "base_uri": "https://localhost:8080/",
          "height": 300
        },
        "outputId": "16280929-0058-4b10-ce6a-db40df0f0ada"
      },
      "source": [
        "learn.freeze_to(-2)\n",
        "learn.lr_find()"
      ],
      "execution_count": null,
      "outputs": [
        {
          "output_type": "display_data",
          "data": {
            "text/html": [
              ""
            ],
            "text/plain": [
              "<IPython.core.display.HTML object>"
            ]
          },
          "metadata": {
            "tags": []
          }
        },
        {
          "output_type": "execute_result",
          "data": {
            "text/plain": [
              "SuggestedLRs(lr_min=2.2908675418875645e-07, lr_steep=1.5848931980144698e-06)"
            ]
          },
          "metadata": {
            "tags": []
          },
          "execution_count": 125
        },
        {
          "output_type": "display_data",
          "data": {
            "image/png": "[encoded data removed]",
            "text/plain": [
              "<Figure size 432x288 with 1 Axes>"
            ]
          },
          "metadata": {
            "tags": [],
            "needs_background": "light"
          }
        }
      ]
    },
    {
      "cell_type": "markdown",
      "metadata": {
        "id": "-6mx7d6WJcY8"
      },
      "source": [
        "We train the model"
      ]
    },
    {
      "cell_type": "code",
      "metadata": {
        "id": "h0F44tBJZNlL",
        "colab": {
          "base_uri": "https://localhost:8080/",
          "height": 80
        },
        "outputId": "eb7a8682-73a8-41b7-ca04-6fe692695f7a"
      },
      "source": [
        "learn.fit_one_cycle(1,1.1e-4)"
      ],
      "execution_count": null,
      "outputs": [
        {
          "output_type": "display_data",
          "data": {
            "text/html": [
              "<table border=\"1\" class=\"dataframe\">\n",
              "  <thead>\n",
              "    <tr style=\"text-align: left;\">\n",
              "      <th>epoch</th>\n",
              "      <th>train_loss</th>\n",
              "      <th>valid_loss</th>\n",
              "      <th>accuracy</th>\n",
              "      <th>time</th>\n",
              "    </tr>\n",
              "  </thead>\n",
              "  <tbody>\n",
              "    <tr>\n",
              "      <td>0</td>\n",
              "      <td>0.919190</td>\n",
              "      <td>0.818250</td>\n",
              "      <td>0.695969</td>\n",
              "      <td>00:09</td>\n",
              "    </tr>\n",
              "  </tbody>\n",
              "</table>"
            ],
            "text/plain": [
              "<IPython.core.display.HTML object>"
            ]
          },
          "metadata": {
            "tags": []
          }
        }
      ]
    },
    {
      "cell_type": "markdown",
      "metadata": {
        "id": "2mhNi-0EJW8c"
      },
      "source": [
        "We can unfreeze a little more and keep training."
      ]
    },
    {
      "cell_type": "code",
      "metadata": {
        "id": "Q8tJqPxh3yD_",
        "colab": {
          "base_uri": "https://localhost:8080/",
          "height": 300
        },
        "outputId": "eabad389-322d-4299-f6e4-35819a3e7b06"
      },
      "source": [
        "learn.freeze_to(-3)\n",
        "learn.lr_find()"
      ],
      "execution_count": null,
      "outputs": [
        {
          "output_type": "display_data",
          "data": {
            "text/html": [
              ""
            ],
            "text/plain": [
              "<IPython.core.display.HTML object>"
            ]
          },
          "metadata": {
            "tags": []
          }
        },
        {
          "output_type": "execute_result",
          "data": {
            "text/plain": [
              "SuggestedLRs(lr_min=0.00012022644514217973, lr_steep=4.786300905834651e-06)"
            ]
          },
          "metadata": {
            "tags": []
          },
          "execution_count": 127
        },
        {
          "output_type": "display_data",
          "data": {
            "image/png": "[encoded data removed]",
            "text/plain": [
              "<Figure size 432x288 with 1 Axes>"
            ]
          },
          "metadata": {
            "tags": [],
            "needs_background": "light"
          }
        }
      ]
    },
    {
      "cell_type": "code",
      "metadata": {
        "id": "MoYCYiF7ZYEr",
        "colab": {
          "base_uri": "https://localhost:8080/",
          "height": 111
        },
        "outputId": "491eaccc-44c8-440b-cd52-216933813529"
      },
      "source": [
        "learn.fit_one_cycle(2, 1e-3)"
      ],
      "execution_count": null,
      "outputs": [
        {
          "output_type": "display_data",
          "data": {
            "text/html": [
              "<table border=\"1\" class=\"dataframe\">\n",
              "  <thead>\n",
              "    <tr style=\"text-align: left;\">\n",
              "      <th>epoch</th>\n",
              "      <th>train_loss</th>\n",
              "      <th>valid_loss</th>\n",
              "      <th>accuracy</th>\n",
              "      <th>time</th>\n",
              "    </tr>\n",
              "  </thead>\n",
              "  <tbody>\n",
              "    <tr>\n",
              "      <td>0</td>\n",
              "      <td>0.885750</td>\n",
              "      <td>0.741213</td>\n",
              "      <td>0.708405</td>\n",
              "      <td>00:09</td>\n",
              "    </tr>\n",
              "    <tr>\n",
              "      <td>1</td>\n",
              "      <td>0.789678</td>\n",
              "      <td>0.676745</td>\n",
              "      <td>0.743568</td>\n",
              "      <td>00:09</td>\n",
              "    </tr>\n",
              "  </tbody>\n",
              "</table>"
            ],
            "text/plain": [
              "<IPython.core.display.HTML object>"
            ]
          },
          "metadata": {
            "tags": []
          }
        }
      ]
    },
    {
      "cell_type": "code",
      "metadata": {
        "id": "CKPuKgg74grg",
        "colab": {
          "base_uri": "https://localhost:8080/",
          "height": 300
        },
        "outputId": "a94ac2d6-bcfd-47aa-ce70-330f40b85b03"
      },
      "source": [
        "learn.unfreeze()\n",
        "learn.lr_find()"
      ],
      "execution_count": null,
      "outputs": [
        {
          "output_type": "display_data",
          "data": {
            "text/html": [
              ""
            ],
            "text/plain": [
              "<IPython.core.display.HTML object>"
            ]
          },
          "metadata": {
            "tags": []
          }
        },
        {
          "output_type": "execute_result",
          "data": {
            "text/plain": [
              "SuggestedLRs(lr_min=1.318256749982538e-07, lr_steep=7.585775847473997e-07)"
            ]
          },
          "metadata": {
            "tags": []
          },
          "execution_count": 129
        },
        {
          "output_type": "display_data",
          "data": {
            "image/png": "[encoded data removed]",
            "text/plain": [
              "<Figure size 432x288 with 1 Axes>"
            ]
          },
          "metadata": {
            "tags": [],
            "needs_background": "light"
          }
        }
      ]
    },
    {
      "cell_type": "code",
      "metadata": {
        "colab": {
          "base_uri": "https://localhost:8080/",
          "height": 204
        },
        "id": "79HZi3hKbPLL",
        "outputId": "39f3a1de-1940-4bf5-96d6-78484eb919a1"
      },
      "source": [
        "learn.fit_one_cycle(5, 1e-4)"
      ],
      "execution_count": null,
      "outputs": [
        {
          "output_type": "display_data",
          "data": {
            "text/html": [
              "<table border=\"1\" class=\"dataframe\">\n",
              "  <thead>\n",
              "    <tr style=\"text-align: left;\">\n",
              "      <th>epoch</th>\n",
              "      <th>train_loss</th>\n",
              "      <th>valid_loss</th>\n",
              "      <th>accuracy</th>\n",
              "      <th>time</th>\n",
              "    </tr>\n",
              "  </thead>\n",
              "  <tbody>\n",
              "    <tr>\n",
              "      <td>0</td>\n",
              "      <td>0.719450</td>\n",
              "      <td>0.667304</td>\n",
              "      <td>0.750000</td>\n",
              "      <td>00:09</td>\n",
              "    </tr>\n",
              "    <tr>\n",
              "      <td>1</td>\n",
              "      <td>0.710317</td>\n",
              "      <td>0.638344</td>\n",
              "      <td>0.742710</td>\n",
              "      <td>00:09</td>\n",
              "    </tr>\n",
              "    <tr>\n",
              "      <td>2</td>\n",
              "      <td>0.696274</td>\n",
              "      <td>0.645830</td>\n",
              "      <td>0.746141</td>\n",
              "      <td>00:09</td>\n",
              "    </tr>\n",
              "    <tr>\n",
              "      <td>3</td>\n",
              "      <td>0.680779</td>\n",
              "      <td>0.636887</td>\n",
              "      <td>0.748285</td>\n",
              "      <td>00:09</td>\n",
              "    </tr>\n",
              "    <tr>\n",
              "      <td>4</td>\n",
              "      <td>0.665798</td>\n",
              "      <td>0.649298</td>\n",
              "      <td>0.744854</td>\n",
              "      <td>00:09</td>\n",
              "    </tr>\n",
              "  </tbody>\n",
              "</table>"
            ],
            "text/plain": [
              "<IPython.core.display.HTML object>"
            ]
          },
          "metadata": {
            "tags": []
          }
        }
      ]
    },
    {
      "cell_type": "code",
      "metadata": {
        "colab": {
          "base_uri": "https://localhost:8080/",
          "height": 300
        },
        "id": "lM2V7rzL1_s2",
        "outputId": "4a996fba-3154-4896-9d6f-3c567fd429f1"
      },
      "source": [
        "learn.unfreeze()\n",
        "learn.lr_find()"
      ],
      "execution_count": null,
      "outputs": [
        {
          "output_type": "display_data",
          "data": {
            "text/html": [
              ""
            ],
            "text/plain": [
              "<IPython.core.display.HTML object>"
            ]
          },
          "metadata": {
            "tags": []
          }
        },
        {
          "output_type": "execute_result",
          "data": {
            "text/plain": [
              "SuggestedLRs(lr_min=7.585775847473997e-08, lr_steep=6.309573450380412e-07)"
            ]
          },
          "metadata": {
            "tags": []
          },
          "execution_count": 131
        },
        {
          "output_type": "display_data",
          "data": {
            "image/png": "[encoded data removed]",
            "text/plain": [
              "<Figure size 432x288 with 1 Axes>"
            ]
          },
          "metadata": {
            "tags": [],
            "needs_background": "light"
          }
        }
      ]
    },
    {
      "cell_type": "code",
      "metadata": {
        "colab": {
          "base_uri": "https://localhost:8080/",
          "height": 204
        },
        "id": "QyX7mhJe1_s9",
        "outputId": "05726211-70e2-4cc5-eb96-72530b64b183"
      },
      "source": [
        "learn.fit_one_cycle(5, 1e-4)"
      ],
      "execution_count": null,
      "outputs": [
        {
          "output_type": "display_data",
          "data": {
            "text/html": [
              "<table border=\"1\" class=\"dataframe\">\n",
              "  <thead>\n",
              "    <tr style=\"text-align: left;\">\n",
              "      <th>epoch</th>\n",
              "      <th>train_loss</th>\n",
              "      <th>valid_loss</th>\n",
              "      <th>accuracy</th>\n",
              "      <th>time</th>\n",
              "    </tr>\n",
              "  </thead>\n",
              "  <tbody>\n",
              "    <tr>\n",
              "      <td>0</td>\n",
              "      <td>0.666547</td>\n",
              "      <td>0.638832</td>\n",
              "      <td>0.741424</td>\n",
              "      <td>00:09</td>\n",
              "    </tr>\n",
              "    <tr>\n",
              "      <td>1</td>\n",
              "      <td>0.662995</td>\n",
              "      <td>0.639506</td>\n",
              "      <td>0.740995</td>\n",
              "      <td>00:09</td>\n",
              "    </tr>\n",
              "    <tr>\n",
              "      <td>2</td>\n",
              "      <td>0.641625</td>\n",
              "      <td>0.644090</td>\n",
              "      <td>0.740137</td>\n",
              "      <td>00:09</td>\n",
              "    </tr>\n",
              "    <tr>\n",
              "      <td>3</td>\n",
              "      <td>0.627933</td>\n",
              "      <td>0.631821</td>\n",
              "      <td>0.746141</td>\n",
              "      <td>00:09</td>\n",
              "    </tr>\n",
              "    <tr>\n",
              "      <td>4</td>\n",
              "      <td>0.611537</td>\n",
              "      <td>0.651725</td>\n",
              "      <td>0.749142</td>\n",
              "      <td>00:09</td>\n",
              "    </tr>\n",
              "  </tbody>\n",
              "</table>"
            ],
            "text/plain": [
              "<IPython.core.display.HTML object>"
            ]
          },
          "metadata": {
            "tags": []
          }
        }
      ]
    },
    {
      "cell_type": "code",
      "metadata": {
        "colab": {
          "base_uri": "https://localhost:8080/",
          "height": 300
        },
        "id": "-HMaUsTd2TCE",
        "outputId": "b023a0eb-9590-492b-ba00-a6765c62f05f"
      },
      "source": [
        "learn.unfreeze()\n",
        "learn.lr_find()"
      ],
      "execution_count": null,
      "outputs": [
        {
          "output_type": "display_data",
          "data": {
            "text/html": [
              ""
            ],
            "text/plain": [
              "<IPython.core.display.HTML object>"
            ]
          },
          "metadata": {
            "tags": []
          }
        },
        {
          "output_type": "execute_result",
          "data": {
            "text/plain": [
              "SuggestedLRs(lr_min=6.918309736647643e-07, lr_steep=6.309573450380412e-07)"
            ]
          },
          "metadata": {
            "tags": []
          },
          "execution_count": 133
        },
        {
          "output_type": "display_data",
          "data": {
            "image/png": "[encoded data removed]",
            "text/plain": [
              "<Figure size 432x288 with 1 Axes>"
            ]
          },
          "metadata": {
            "tags": [],
            "needs_background": "light"
          }
        }
      ]
    },
    {
      "cell_type": "code",
      "metadata": {
        "colab": {
          "base_uri": "https://localhost:8080/",
          "height": 204
        },
        "id": "LqiZaLJV2TCF",
        "outputId": "bf0afcab-1ce8-4350-bf40-7adcf33637f2"
      },
      "source": [
        "learn.fit_one_cycle(5, 1e-4)"
      ],
      "execution_count": null,
      "outputs": [
        {
          "output_type": "display_data",
          "data": {
            "text/html": [
              "<table border=\"1\" class=\"dataframe\">\n",
              "  <thead>\n",
              "    <tr style=\"text-align: left;\">\n",
              "      <th>epoch</th>\n",
              "      <th>train_loss</th>\n",
              "      <th>valid_loss</th>\n",
              "      <th>accuracy</th>\n",
              "      <th>time</th>\n",
              "    </tr>\n",
              "  </thead>\n",
              "  <tbody>\n",
              "    <tr>\n",
              "      <td>0</td>\n",
              "      <td>0.607697</td>\n",
              "      <td>0.664750</td>\n",
              "      <td>0.748285</td>\n",
              "      <td>00:09</td>\n",
              "    </tr>\n",
              "    <tr>\n",
              "      <td>1</td>\n",
              "      <td>0.610866</td>\n",
              "      <td>0.644024</td>\n",
              "      <td>0.749571</td>\n",
              "      <td>00:09</td>\n",
              "    </tr>\n",
              "    <tr>\n",
              "      <td>2</td>\n",
              "      <td>0.607385</td>\n",
              "      <td>0.647009</td>\n",
              "      <td>0.753859</td>\n",
              "      <td>00:09</td>\n",
              "    </tr>\n",
              "    <tr>\n",
              "      <td>3</td>\n",
              "      <td>0.576887</td>\n",
              "      <td>0.614648</td>\n",
              "      <td>0.764151</td>\n",
              "      <td>00:09</td>\n",
              "    </tr>\n",
              "    <tr>\n",
              "      <td>4</td>\n",
              "      <td>0.570757</td>\n",
              "      <td>0.642364</td>\n",
              "      <td>0.761149</td>\n",
              "      <td>00:09</td>\n",
              "    </tr>\n",
              "  </tbody>\n",
              "</table>"
            ],
            "text/plain": [
              "<IPython.core.display.HTML object>"
            ]
          },
          "metadata": {
            "tags": []
          }
        }
      ]
    },
    {
      "cell_type": "code",
      "metadata": {
        "colab": {
          "base_uri": "https://localhost:8080/",
          "height": 304
        },
        "id": "XOX_mw0OS1VR",
        "outputId": "c265657f-ad84-4565-9bde-c45f6acd4382"
      },
      "source": [
        "learn.unfreeze()\n",
        "learn.lr_find()"
      ],
      "execution_count": null,
      "outputs": [
        {
          "output_type": "display_data",
          "data": {
            "text/html": [
              ""
            ],
            "text/plain": [
              "<IPython.core.display.HTML object>"
            ]
          },
          "metadata": {
            "tags": []
          }
        },
        {
          "output_type": "execute_result",
          "data": {
            "text/plain": [
              "SuggestedLRs(lr_min=1.3182566908653825e-05, lr_steep=1.9054607491852948e-06)"
            ]
          },
          "metadata": {
            "tags": []
          },
          "execution_count": 135
        },
        {
          "output_type": "display_data",
          "data": {
            "image/png": "[encoded data removed]",
            "text/plain": [
              "<Figure size 432x288 with 1 Axes>"
            ]
          },
          "metadata": {
            "tags": [],
            "needs_background": "light"
          }
        }
      ]
    },
    {
      "cell_type": "code",
      "metadata": {
        "colab": {
          "base_uri": "https://localhost:8080/",
          "height": 204
        },
        "id": "sZxPtQkuS1VZ",
        "outputId": "85ba38ef-a8aa-4b14-a566-b21bf8a432c3"
      },
      "source": [
        "learn.fit_one_cycle(5, 1e-4)"
      ],
      "execution_count": null,
      "outputs": [
        {
          "output_type": "display_data",
          "data": {
            "text/html": [
              "<table border=\"1\" class=\"dataframe\">\n",
              "  <thead>\n",
              "    <tr style=\"text-align: left;\">\n",
              "      <th>epoch</th>\n",
              "      <th>train_loss</th>\n",
              "      <th>valid_loss</th>\n",
              "      <th>accuracy</th>\n",
              "      <th>time</th>\n",
              "    </tr>\n",
              "  </thead>\n",
              "  <tbody>\n",
              "    <tr>\n",
              "      <td>0</td>\n",
              "      <td>0.544223</td>\n",
              "      <td>0.656002</td>\n",
              "      <td>0.757290</td>\n",
              "      <td>00:09</td>\n",
              "    </tr>\n",
              "    <tr>\n",
              "      <td>1</td>\n",
              "      <td>0.538840</td>\n",
              "      <td>0.625375</td>\n",
              "      <td>0.749571</td>\n",
              "      <td>00:09</td>\n",
              "    </tr>\n",
              "    <tr>\n",
              "      <td>2</td>\n",
              "      <td>0.551392</td>\n",
              "      <td>0.654698</td>\n",
              "      <td>0.753431</td>\n",
              "      <td>00:09</td>\n",
              "    </tr>\n",
              "    <tr>\n",
              "      <td>3</td>\n",
              "      <td>0.528662</td>\n",
              "      <td>0.642721</td>\n",
              "      <td>0.757719</td>\n",
              "      <td>00:09</td>\n",
              "    </tr>\n",
              "    <tr>\n",
              "      <td>4</td>\n",
              "      <td>0.526063</td>\n",
              "      <td>0.655072</td>\n",
              "      <td>0.756432</td>\n",
              "      <td>00:09</td>\n",
              "    </tr>\n",
              "  </tbody>\n",
              "</table>"
            ],
            "text/plain": [
              "<IPython.core.display.HTML object>"
            ]
          },
          "metadata": {
            "tags": []
          }
        }
      ]
    },
    {
      "cell_type": "markdown",
      "metadata": {
        "id": "0FQbTBCPJkVs"
      },
      "source": [
        "# Results"
      ]
    },
    {
      "cell_type": "code",
      "metadata": {
        "id": "Fbd7kqBer6Cc"
      },
      "source": [
        "from fastai import *\n",
        "from fastai.text import *\n",
        "from sklearn.metrics import accuracy_score,precision_score,recall_score,f1_score"
      ],
      "execution_count": null,
      "outputs": []
    },
    {
      "cell_type": "markdown",
      "metadata": {
        "id": "eN-TlLFTJoI9"
      },
      "source": [
        "We get the predictions and the ground truth"
      ]
    },
    {
      "cell_type": "code",
      "metadata": {
        "id": "5OuXRCrGTcZu"
      },
      "source": [
        "pred,gtruth=learn.get_preds()\n",
        "pred=np.argmax(pred,axis=1)"
      ],
      "execution_count": null,
      "outputs": []
    },
    {
      "cell_type": "markdown",
      "metadata": {
        "id": "U5AO32lDJuyk"
      },
      "source": [
        "**Accuracy:** "
      ]
    },
    {
      "cell_type": "code",
      "metadata": {
        "colab": {
          "base_uri": "https://localhost:8080/"
        },
        "id": "Gt97DKPkTz7r",
        "outputId": "3a3a3c7c-333e-4e2b-ce97-128dbfc38194"
      },
      "source": [
        "accuracy_score(pred,gtruth)"
      ],
      "execution_count": null,
      "outputs": [
        {
          "output_type": "execute_result",
          "data": {
            "text/plain": [
              "0.7564322469982847"
            ]
          },
          "metadata": {
            "tags": []
          },
          "execution_count": 151
        }
      ]
    },
    {
      "cell_type": "markdown",
      "metadata": {
        "id": "_UakBLseJxHO"
      },
      "source": [
        "**Precision:**"
      ]
    },
    {
      "cell_type": "code",
      "metadata": {
        "colab": {
          "base_uri": "https://localhost:8080/"
        },
        "id": "qzGC8uLHT6qx",
        "outputId": "6dbadd04-6c33-4f67-f867-118aae445747"
      },
      "source": [
        "precision_score(pred,gtruth, average='weighted')"
      ],
      "execution_count": null,
      "outputs": [
        {
          "output_type": "execute_result",
          "data": {
            "text/plain": [
              "0.7697468115625257"
            ]
          },
          "metadata": {
            "tags": []
          },
          "execution_count": 153
        }
      ]
    },
    {
      "cell_type": "markdown",
      "metadata": {
        "id": "W-O0LamPJzbz"
      },
      "source": [
        "**Recall**"
      ]
    },
    {
      "cell_type": "code",
      "metadata": {
        "colab": {
          "base_uri": "https://localhost:8080/"
        },
        "id": "csNfeuyNT7Ic",
        "outputId": "42fbe470-50b3-45c5-a55a-54f1058ef935"
      },
      "source": [
        "recall_score(pred,gtruth, average='weighted')"
      ],
      "execution_count": null,
      "outputs": [
        {
          "output_type": "execute_result",
          "data": {
            "text/plain": [
              "0.7564322469982847"
            ]
          },
          "metadata": {
            "tags": []
          },
          "execution_count": 154
        }
      ]
    },
    {
      "cell_type": "markdown",
      "metadata": {
        "id": "gTRhLQvYJ1GY"
      },
      "source": [
        "**F1-Score:**"
      ]
    },
    {
      "cell_type": "code",
      "metadata": {
        "colab": {
          "base_uri": "https://localhost:8080/"
        },
        "id": "V-tLEmQPT7l4",
        "outputId": "05b210fd-7461-401e-eee9-c73c9f769e85"
      },
      "source": [
        "f1_score(pred,gtruth, average='weighted')"
      ],
      "execution_count": null,
      "outputs": [
        {
          "output_type": "execute_result",
          "data": {
            "text/plain": [
              "0.7610866145176408"
            ]
          },
          "metadata": {
            "tags": []
          },
          "execution_count": 155
        }
      ]
    }
  ]
}